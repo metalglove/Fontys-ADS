{
 "metadata": {
  "language_info": {
   "codemirror_mode": {
    "name": "ipython",
    "version": 3
   },
   "file_extension": ".py",
   "mimetype": "text/x-python",
   "name": "python",
   "nbconvert_exporter": "python",
   "pygments_lexer": "ipython3",
   "version": "3.7.9-final"
  },
  "orig_nbformat": 2,
  "kernelspec": {
   "name": "python_defaultSpec_1600068231563",
   "display_name": "Python 3.7.9 64-bit"
  }
 },
 "nbformat": 4,
 "nbformat_minor": 2,
 "cells": [
  {
   "source": [
    "# ANN - Exercise\n",
    "Construct, train and test an artificial neural network using a dataset of your own choice. Try different settings for two or more hyperparameters and investigate the effect on learning. Hand in a Jupyter notebook which contains your python code and in which you describe your approach and results. Also reflect on the knowledge and skills you acquired on artificial neural networks."
   ],
   "cell_type": "markdown",
   "metadata": {}
  },
  {
   "cell_type": "code",
   "execution_count": 1,
   "metadata": {
    "tags": []
   },
   "outputs": [],
   "source": [
    "# Manually setting the root directory to be Fontys\n",
    "import os\n",
    "import sys\n",
    "root_path = os.path.split(os.getcwd())[0]\n",
    "assert root_path.endswith(\"Fontys\"), \"The root path does not end with Fontys: \" + root_path \n",
    "sys.path.insert(0, root_path)"
   ]
  },
  {
   "source": [
    "## Preparing & Cleaning the data\n",
    "The dataset I have chosen is the Loan eligibility dataset from kaggle (https://www.kaggle.com/vikasukani/loan-eligible-dataset).<br/>\n",
    "I plan to predict whether someone is eligible for a loan."
   ],
   "cell_type": "markdown",
   "metadata": {}
  },
  {
   "cell_type": "code",
   "execution_count": 2,
   "metadata": {},
   "outputs": [
    {
     "output_type": "execute_result",
     "data": {
      "text/plain": "      Loan_ID  Gender Married Dependents     Education Self_Employed  \\\n0    LP001002    Male      No          0      Graduate            No   \n1    LP001003    Male     Yes          1      Graduate            No   \n2    LP001005    Male     Yes          0      Graduate           Yes   \n3    LP001006    Male     Yes          0  Not Graduate            No   \n4    LP001008    Male      No          0      Graduate            No   \n..        ...     ...     ...        ...           ...           ...   \n609  LP002978  Female      No          0      Graduate            No   \n610  LP002979    Male     Yes         3+      Graduate            No   \n611  LP002983    Male     Yes          1      Graduate            No   \n612  LP002984    Male     Yes          2      Graduate            No   \n613  LP002990  Female      No          0      Graduate           Yes   \n\n     ApplicantIncome  CoapplicantIncome  LoanAmount  Loan_Amount_Term  \\\n0               5849                0.0         NaN             360.0   \n1               4583             1508.0       128.0             360.0   \n2               3000                0.0        66.0             360.0   \n3               2583             2358.0       120.0             360.0   \n4               6000                0.0       141.0             360.0   \n..               ...                ...         ...               ...   \n609             2900                0.0        71.0             360.0   \n610             4106                0.0        40.0             180.0   \n611             8072              240.0       253.0             360.0   \n612             7583                0.0       187.0             360.0   \n613             4583                0.0       133.0             360.0   \n\n     Credit_History Property_Area Loan_Status  \n0               1.0         Urban           Y  \n1               1.0         Rural           N  \n2               1.0         Urban           Y  \n3               1.0         Urban           Y  \n4               1.0         Urban           Y  \n..              ...           ...         ...  \n609             1.0         Rural           Y  \n610             1.0         Rural           Y  \n611             1.0         Urban           Y  \n612             1.0         Urban           Y  \n613             0.0     Semiurban           N  \n\n[614 rows x 13 columns]",
      "text/html": "<div>\n<style scoped>\n    .dataframe tbody tr th:only-of-type {\n        vertical-align: middle;\n    }\n\n    .dataframe tbody tr th {\n        vertical-align: top;\n    }\n\n    .dataframe thead th {\n        text-align: right;\n    }\n</style>\n<table border=\"1\" class=\"dataframe\">\n  <thead>\n    <tr style=\"text-align: right;\">\n      <th></th>\n      <th>Loan_ID</th>\n      <th>Gender</th>\n      <th>Married</th>\n      <th>Dependents</th>\n      <th>Education</th>\n      <th>Self_Employed</th>\n      <th>ApplicantIncome</th>\n      <th>CoapplicantIncome</th>\n      <th>LoanAmount</th>\n      <th>Loan_Amount_Term</th>\n      <th>Credit_History</th>\n      <th>Property_Area</th>\n      <th>Loan_Status</th>\n    </tr>\n  </thead>\n  <tbody>\n    <tr>\n      <th>0</th>\n      <td>LP001002</td>\n      <td>Male</td>\n      <td>No</td>\n      <td>0</td>\n      <td>Graduate</td>\n      <td>No</td>\n      <td>5849</td>\n      <td>0.0</td>\n      <td>NaN</td>\n      <td>360.0</td>\n      <td>1.0</td>\n      <td>Urban</td>\n      <td>Y</td>\n    </tr>\n    <tr>\n      <th>1</th>\n      <td>LP001003</td>\n      <td>Male</td>\n      <td>Yes</td>\n      <td>1</td>\n      <td>Graduate</td>\n      <td>No</td>\n      <td>4583</td>\n      <td>1508.0</td>\n      <td>128.0</td>\n      <td>360.0</td>\n      <td>1.0</td>\n      <td>Rural</td>\n      <td>N</td>\n    </tr>\n    <tr>\n      <th>2</th>\n      <td>LP001005</td>\n      <td>Male</td>\n      <td>Yes</td>\n      <td>0</td>\n      <td>Graduate</td>\n      <td>Yes</td>\n      <td>3000</td>\n      <td>0.0</td>\n      <td>66.0</td>\n      <td>360.0</td>\n      <td>1.0</td>\n      <td>Urban</td>\n      <td>Y</td>\n    </tr>\n    <tr>\n      <th>3</th>\n      <td>LP001006</td>\n      <td>Male</td>\n      <td>Yes</td>\n      <td>0</td>\n      <td>Not Graduate</td>\n      <td>No</td>\n      <td>2583</td>\n      <td>2358.0</td>\n      <td>120.0</td>\n      <td>360.0</td>\n      <td>1.0</td>\n      <td>Urban</td>\n      <td>Y</td>\n    </tr>\n    <tr>\n      <th>4</th>\n      <td>LP001008</td>\n      <td>Male</td>\n      <td>No</td>\n      <td>0</td>\n      <td>Graduate</td>\n      <td>No</td>\n      <td>6000</td>\n      <td>0.0</td>\n      <td>141.0</td>\n      <td>360.0</td>\n      <td>1.0</td>\n      <td>Urban</td>\n      <td>Y</td>\n    </tr>\n    <tr>\n      <th>...</th>\n      <td>...</td>\n      <td>...</td>\n      <td>...</td>\n      <td>...</td>\n      <td>...</td>\n      <td>...</td>\n      <td>...</td>\n      <td>...</td>\n      <td>...</td>\n      <td>...</td>\n      <td>...</td>\n      <td>...</td>\n      <td>...</td>\n    </tr>\n    <tr>\n      <th>609</th>\n      <td>LP002978</td>\n      <td>Female</td>\n      <td>No</td>\n      <td>0</td>\n      <td>Graduate</td>\n      <td>No</td>\n      <td>2900</td>\n      <td>0.0</td>\n      <td>71.0</td>\n      <td>360.0</td>\n      <td>1.0</td>\n      <td>Rural</td>\n      <td>Y</td>\n    </tr>\n    <tr>\n      <th>610</th>\n      <td>LP002979</td>\n      <td>Male</td>\n      <td>Yes</td>\n      <td>3+</td>\n      <td>Graduate</td>\n      <td>No</td>\n      <td>4106</td>\n      <td>0.0</td>\n      <td>40.0</td>\n      <td>180.0</td>\n      <td>1.0</td>\n      <td>Rural</td>\n      <td>Y</td>\n    </tr>\n    <tr>\n      <th>611</th>\n      <td>LP002983</td>\n      <td>Male</td>\n      <td>Yes</td>\n      <td>1</td>\n      <td>Graduate</td>\n      <td>No</td>\n      <td>8072</td>\n      <td>240.0</td>\n      <td>253.0</td>\n      <td>360.0</td>\n      <td>1.0</td>\n      <td>Urban</td>\n      <td>Y</td>\n    </tr>\n    <tr>\n      <th>612</th>\n      <td>LP002984</td>\n      <td>Male</td>\n      <td>Yes</td>\n      <td>2</td>\n      <td>Graduate</td>\n      <td>No</td>\n      <td>7583</td>\n      <td>0.0</td>\n      <td>187.0</td>\n      <td>360.0</td>\n      <td>1.0</td>\n      <td>Urban</td>\n      <td>Y</td>\n    </tr>\n    <tr>\n      <th>613</th>\n      <td>LP002990</td>\n      <td>Female</td>\n      <td>No</td>\n      <td>0</td>\n      <td>Graduate</td>\n      <td>Yes</td>\n      <td>4583</td>\n      <td>0.0</td>\n      <td>133.0</td>\n      <td>360.0</td>\n      <td>0.0</td>\n      <td>Semiurban</td>\n      <td>N</td>\n    </tr>\n  </tbody>\n</table>\n<p>614 rows × 13 columns</p>\n</div>"
     },
     "metadata": {},
     "execution_count": 2
    }
   ],
   "source": [
    "import pandas as pd\n",
    "import numpy as np\n",
    "\n",
    "# the loan_dataset_path.\n",
    "loan_dataset_path = \"dataset/loan-train.csv\"\n",
    "\n",
    "# reads the dataset from csv.\n",
    "df = pd.read_csv(loan_dataset_path)\n",
    "\n",
    "# displays the dataset.\n",
    "df"
   ]
  },
  {
   "source": [
    "By looking at the type of the columns, it can be seen that many columns still need to be cleaned up. </br>\n",
    "The Loan_ID column can be discarded since it only describes the loan as an unique identifier."
   ],
   "cell_type": "markdown",
   "metadata": {}
  },
  {
   "cell_type": "code",
   "execution_count": 3,
   "metadata": {},
   "outputs": [
    {
     "output_type": "execute_result",
     "data": {
      "text/plain": "Gender                object\nMarried               object\nDependents            object\nEducation             object\nSelf_Employed         object\nApplicantIncome        int64\nCoapplicantIncome    float64\nLoanAmount           float64\nLoan_Amount_Term     float64\nCredit_History       float64\nProperty_Area         object\nLoan_Status           object\ndtype: object"
     },
     "metadata": {},
     "execution_count": 3
    }
   ],
   "source": [
    "# drops the Loan_ID column from the dataframe.\n",
    "df.drop(columns=['Loan_ID'], inplace=True)\n",
    "\n",
    "# prints the datatypes for each column.\n",
    "df.dtypes"
   ]
  },
  {
   "cell_type": "code",
   "execution_count": 4,
   "metadata": {
    "tags": []
   },
   "outputs": [
    {
     "output_type": "stream",
     "name": "stdout",
     "text": "Property_Area ['Urban' 'Rural' 'Semiurban']\nMarried ['No' 'Yes' nan]\nDependents ['0' '1' '2' '3+' nan]\nEducation ['Graduate' 'Not Graduate']\nGender ['Male' 'Female' nan]\nSelf_Employed ['No' 'Yes' nan]\nLoan_Status ['Y' 'N']\n"
    }
   ],
   "source": [
    "def one_hot_encode(df, column_name, drop_first=False):\n",
    "    # gets the unique values of the column.\n",
    "    uniques = df[column_name].unique()\n",
    "\n",
    "    # prints the unique values.\n",
    "    print(column_name, uniques)\n",
    "\n",
    "    # checks whether there is a NaN value in the uniques.\n",
    "    dummy_na = pd.isna(uniques).any()\n",
    "\n",
    "    # perform one-hot encoding. (drop_first for dummy encoding)\n",
    "    pa_dummies = pd.get_dummies(df[column_name], prefix=column_name, dummy_na=dummy_na, drop_first=drop_first)\n",
    "\n",
    "    # adds the one-hot encoded columns to the original dataframe.\n",
    "    df = pd.concat([df, pa_dummies], axis=1)\n",
    "\n",
    "    # drops the original column.\n",
    "    return df.drop([column_name], axis=1)\n",
    "\n",
    "\n",
    "# perform one-hot encoding on categorical columns.\n",
    "df = one_hot_encode(df, 'Property_Area')\n",
    "df = one_hot_encode(df, 'Married')\n",
    "df = one_hot_encode(df, 'Dependents')\n",
    "df = one_hot_encode(df, 'Education')\n",
    "df = one_hot_encode(df, 'Gender')\n",
    "df = one_hot_encode(df, 'Self_Employed')\n",
    "\n",
    "# performs dummy encoding by dropping the other column.\n",
    "# this is done to create a single predictable value.\n",
    "df = one_hot_encode(df, 'Loan_Status', drop_first=True)"
   ]
  },
  {
   "source": [
    "After creating all the categorical columns by one-hot encoding. </br> \n",
    "The last thing that needs to be done is to check whether the other values contain NaN values."
   ],
   "cell_type": "markdown",
   "metadata": {}
  },
  {
   "cell_type": "code",
   "execution_count": 5,
   "metadata": {},
   "outputs": [
    {
     "output_type": "execute_result",
     "data": {
      "text/plain": "ApplicantIncome             0\nCoapplicantIncome           0\nLoanAmount                 22\nLoan_Amount_Term           14\nCredit_History             50\nProperty_Area_Rural         0\nProperty_Area_Semiurban     0\nProperty_Area_Urban         0\nMarried_No                  0\nMarried_Yes                 0\nMarried_nan                 0\nDependents_0                0\nDependents_1                0\nDependents_2                0\nDependents_3+               0\nDependents_nan              0\nEducation_Graduate          0\nEducation_Not Graduate      0\nGender_Female               0\nGender_Male                 0\nGender_nan                  0\nSelf_Employed_No            0\nSelf_Employed_Yes           0\nSelf_Employed_nan           0\nLoan_Status_Y               0\ndtype: int64"
     },
     "metadata": {},
     "execution_count": 5
    }
   ],
   "source": [
    "df.isnull().sum()"
   ]
  },
  {
   "source": [
    "For now, let's just pad the missing data and see what the results are like. </br>\n",
    "If the predictions are really bad, this step could be tried with more attention to the datapoints that have missing data."
   ],
   "cell_type": "markdown",
   "metadata": {}
  },
  {
   "cell_type": "code",
   "execution_count": 6,
   "metadata": {
    "tags": []
   },
   "outputs": [
    {
     "output_type": "stream",
     "name": "stdout",
     "text": "ApplicantIncome            False\nCoapplicantIncome          False\nLoanAmount                 False\nLoan_Amount_Term           False\nCredit_History             False\nProperty_Area_Rural        False\nProperty_Area_Semiurban    False\nProperty_Area_Urban        False\nMarried_No                 False\nMarried_Yes                False\nMarried_nan                False\nDependents_0               False\nDependents_1               False\nDependents_2               False\nDependents_3+              False\nDependents_nan             False\nEducation_Graduate         False\nEducation_Not Graduate     False\nGender_Female              False\nGender_Male                False\nGender_nan                 False\nSelf_Employed_No           False\nSelf_Employed_Yes          False\nSelf_Employed_nan          False\nLoan_Status_Y              False\ndtype: bool\n"
    }
   ],
   "source": [
    "# interpolates the missing data by padding them with existing values.\n",
    "df['Loan_Amount_Term'].interpolate('pad', inplace=True)\n",
    "df['LoanAmount'].interpolate('pad', inplace=True)\n",
    "df['Credit_History'].interpolate('pad', inplace=True)\n",
    "\n",
    "# for some reason 1 record does not get padded, this way it will forcefully get padded.\n",
    "df['LoanAmount'].interpolate('bfill', inplace=True)\n",
    "\n",
    "# let's check if there are any NaN values left.S\n",
    "print(df.isnull().any())"
   ]
  },
  {
   "cell_type": "code",
   "execution_count": 7,
   "metadata": {},
   "outputs": [],
   "source": [
    "# ensures that all values are computable by tensorflow. \n",
    "df['ApplicantIncome'] = df['ApplicantIncome'].astype(np.float64)"
   ]
  },
  {
   "cell_type": "code",
   "execution_count": 8,
   "metadata": {},
   "outputs": [],
   "source": [
    "# initialize gpu\n",
    "import tensorflow as tf\n",
    "# physical_devices = tf.config.experimental.list_physical_devices('GPU')\n",
    "# tf.config.experimental.set_memory_growth(physical_devices[0], True)"
   ]
  },
  {
   "cell_type": "code",
   "execution_count": 9,
   "metadata": {},
   "outputs": [],
   "source": [
    "import os\n",
    "from datasets.base_dataset import DatasetBase\n",
    "\n",
    "# the loan dataset class.\n",
    "class LoanDataset(DatasetBase):\n",
    "    def __init__(self, df, batch_size, train_percentage, validation_percentage, test_percentage):\n",
    "        # sets the batch size\n",
    "        self.batch_size = batch_size\n",
    "        \n",
    "        features = tf.cast(df.loc[:, df.columns != 'Loan_Status_Y'].values, tf.float32)\n",
    "        labels = tf.cast(df.loc[:, 'Loan_Status_Y'].values, tf.bool)\n",
    "\n",
    "        # sets the data.\n",
    "        self.data = tf.data.Dataset.from_tensor_slices((features, labels))\n",
    "\n",
    "        # set the feature length.\n",
    "        self.feature_length = len(df.columns) - 1\n",
    "        \n",
    "        # shuffles the dataset\n",
    "        self.shuffle(256)\n",
    "\n",
    "        # splits the data into train, validation, and test datasets.\n",
    "        self.split_data_to_train_val_test(self.data, train_percentage, validation_percentage, test_percentage)\n",
    "\n",
    "        \n"
   ]
  },
  {
   "cell_type": "code",
   "execution_count": 10,
   "metadata": {
    "tags": []
   },
   "outputs": [
    {
     "output_type": "stream",
     "name": "stdout",
     "text": "train: 86 validation: 24 test: 12\n"
    }
   ],
   "source": [
    "batch_size = 5\n",
    "train_percentage = 0.7\n",
    "validation_percentage = 0.2\n",
    "test_percentage = 0.1\n",
    "loanDataset = LoanDataset(df, batch_size, train_percentage, validation_percentage, test_percentage)"
   ]
  },
  {
   "source": [
    "## Creating the ANN model"
   ],
   "cell_type": "markdown",
   "metadata": {}
  },
  {
   "cell_type": "code",
   "execution_count": 11,
   "metadata": {},
   "outputs": [],
   "source": [
    "from models.base_model import ModelBase\n",
    "from tensorflow.keras import Model, Sequential\n",
    "from tensorflow.keras.layers import Input, Dropout, Dense\n",
    "\n",
    "class ANNModel(ModelBase):\n",
    "    def __init__(self, feature_length, gpu_initialized=False, training=False, limit=5000):\n",
    "        super().__init__(gpu_initialized, training, limit)\n",
    "\n",
    "        # sets the feature length for input.\n",
    "        self.feature_length = feature_length\n",
    "\n",
    "    def predict(self, X):\n",
    "        # create predictable array, since predicting only works on an array.\n",
    "        predictable_array = np.expand_dims(X, axis=0)\n",
    "\n",
    "        # perform prediction and take the first and only prediction out of the predictions array.\n",
    "        prediction = self.model.predict(X, verbose=1)[0]\n",
    "        \n",
    "        return prediction\n",
    "\n",
    "    def fit(self, training, callbacks, epochs, validation, validation_steps, steps_per_epoch):\n",
    "        self.model.fit(\n",
    "            training,\n",
    "            callbacks=callbacks,\n",
    "            epochs=epochs,\n",
    "            validation_data=validation,\n",
    "            validation_steps=validation_steps,\n",
    "            steps_per_epoch=steps_per_epoch)\n",
    "\n",
    "    def compile(self, optimizer='adam', loss='mse', metrics=['mse'], loss_weights=[1.0], show_summary=False):\n",
    "        inputs = Input((self.feature_length,))\n",
    "\n",
    "        dense1 = Dense(1024, activation='relu', kernel_initializer='glorot_uniform')(inputs)\n",
    "        if self.training:\n",
    "            dense1 = Dropout(0.2)(dense1)\n",
    "        dense2 = Dense(2048, activation='relu', kernel_initializer='glorot_uniform')(dense1)\n",
    "        if self.training:\n",
    "            dense2 = Dropout(0.2)(dense2)\n",
    "        dense3 = Dense(2048, activation='relu', kernel_initializer='glorot_uniform')(dense2)\n",
    "        if self.training:\n",
    "            dense3 = Dropout(0.3)(dense3)\n",
    "        dense4 = Dense(2048, activation='relu', kernel_initializer='glorot_uniform')(dense3)\n",
    "        if self.training:\n",
    "            dense4 = Dropout(0.2)(dense4)\n",
    "        dense5 = Dense(512, activation='relu', kernel_initializer='glorot_uniform')(dense4)\n",
    "        if self.training:\n",
    "            dense5 = Dropout(0.2)(dense5)\n",
    "        outputs = Dense(1, activation='sigmoid', kernel_initializer='glorot_uniform')(dense5)\n",
    "\n",
    "        # construct the model by stitching the inputs and outputs\n",
    "        self.model = Model(inputs=inputs, outputs=outputs, name='ANNModel')\n",
    "\n",
    "\n",
    "        # self.model = Sequential()\n",
    "        # self.model.add(Dense(256, activation='relu', batch_input_shape=(None, self.feature_length,)))\n",
    "        # self.model.add(Dense(256, activation='relu'))\n",
    "        # self.model.add(Dense(256, activation='relu'))\n",
    "        # self.model.add(Dense(1, activation='sigmoid'))\n",
    "\n",
    "        # compile the model\n",
    "        self.model.compile(optimizer=optimizer, loss=loss, metrics=metrics, loss_weights=loss_weights)\n",
    "\n",
    "        if show_summary:\n",
    "            self.model.summary()"
   ]
  },
  {
   "cell_type": "code",
   "execution_count": 12,
   "metadata": {},
   "outputs": [],
   "source": [
    "model = ANNModel(loanDataset.feature_length, training=True, gpu_initialized=True)"
   ]
  },
  {
   "cell_type": "code",
   "execution_count": 13,
   "metadata": {
    "tags": []
   },
   "outputs": [
    {
     "output_type": "stream",
     "name": "stdout",
     "text": "(5, 24)\n(5,)\n"
    }
   ],
   "source": [
    "for x, y in loanDataset.train_ds.take(1):\n",
    "    print(x.shape)\n",
    "    print(y.shape)"
   ]
  },
  {
   "cell_type": "code",
   "execution_count": 14,
   "metadata": {
    "tags": [
     "outputPrepend"
    ]
   },
   "outputs": [
    {
     "output_type": "stream",
     "name": "stdout",
     "text": "pt\n86/86 [==============================] - 1s 6ms/step - loss: 0.6814 - mae: 0.6814 - accuracy: 0.3186 - val_loss: 0.6667 - val_mae: 0.6667 - val_accuracy: 0.3333\nEpoch 26/500\n85/86 [============================>.] - ETA: 0s - loss: 0.6800 - mae: 0.6800 - accuracy: 0.3200\nEpoch 00026: saving model to checkpoints/ANNModel/20200914-100831.ckpt\n86/86 [==============================] - 0s 6ms/step - loss: 0.6814 - mae: 0.6814 - accuracy: 0.3186 - val_loss: 0.6833 - val_mae: 0.6833 - val_accuracy: 0.3167\nEpoch 27/500\n71/86 [=======================>......] - ETA: 0s - loss: 0.6901 - mae: 0.6901 - accuracy: 0.3099\nEpoch 00027: saving model to checkpoints/ANNModel/20200914-100831.ckpt\n86/86 [==============================] - 0s 5ms/step - loss: 0.6814 - mae: 0.6814 - accuracy: 0.3186 - val_loss: 0.6500 - val_mae: 0.6500 - val_accuracy: 0.3500\nEpoch 28/500\n71/86 [=======================>......] - ETA: 0s - loss: 0.6901 - mae: 0.6901 - accuracy: 0.3099\nEpoch 00028: saving model to checkpoints/ANNModel/20200914-100831.ckpt\n86/86 [==============================] - 0s 6ms/step - loss: 0.6814 - mae: 0.6814 - accuracy: 0.3186 - val_loss: 0.6583 - val_mae: 0.6583 - val_accuracy: 0.3417\nEpoch 29/500\n72/86 [========================>.....] - ETA: 0s - loss: 0.6889 - mae: 0.6889 - accuracy: 0.3111\nEpoch 00029: saving model to checkpoints/ANNModel/20200914-100831.ckpt\n86/86 [==============================] - 0s 6ms/step - loss: 0.6814 - mae: 0.6814 - accuracy: 0.3186 - val_loss: 0.6667 - val_mae: 0.6667 - val_accuracy: 0.3333\nEpoch 30/500\n77/86 [=========================>....] - ETA: 0s - loss: 0.6831 - mae: 0.6831 - accuracy: 0.3169\nEpoch 00030: saving model to checkpoints/ANNModel/20200914-100831.ckpt\n86/86 [==============================] - 0s 5ms/step - loss: 0.6814 - mae: 0.6814 - accuracy: 0.3186 - val_loss: 0.7083 - val_mae: 0.7083 - val_accuracy: 0.2917\nEpoch 31/500\n76/86 [=========================>....] - ETA: 0s - loss: 0.6842 - mae: 0.6842 - accuracy: 0.3158\nEpoch 00031: saving model to checkpoints/ANNModel/20200914-100831.ckpt\n86/86 [==============================] - 0s 5ms/step - loss: 0.6814 - mae: 0.6814 - accuracy: 0.3186 - val_loss: 0.7250 - val_mae: 0.7250 - val_accuracy: 0.2750\nEpoch 32/500\n75/86 [=========================>....] - ETA: 0s - loss: 0.6853 - mae: 0.6853 - accuracy: 0.3147\nEpoch 00032: saving model to checkpoints/ANNModel/20200914-100831.ckpt\n86/86 [==============================] - 0s 5ms/step - loss: 0.6814 - mae: 0.6814 - accuracy: 0.3186 - val_loss: 0.7250 - val_mae: 0.7250 - val_accuracy: 0.2750\nEpoch 33/500\n75/86 [=========================>....] - ETA: 0s - loss: 0.6853 - mae: 0.6853 - accuracy: 0.3147\nEpoch 00033: saving model to checkpoints/ANNModel/20200914-100831.ckpt\n86/86 [==============================] - 0s 5ms/step - loss: 0.6814 - mae: 0.6814 - accuracy: 0.3186 - val_loss: 0.6083 - val_mae: 0.6083 - val_accuracy: 0.3917\nEpoch 34/500\n73/86 [========================>.....] - ETA: 0s - loss: 0.6849 - mae: 0.6849 - accuracy: 0.3151\nEpoch 00034: saving model to checkpoints/ANNModel/20200914-100831.ckpt\n86/86 [==============================] - 0s 5ms/step - loss: 0.6814 - mae: 0.6814 - accuracy: 0.3186 - val_loss: 0.6500 - val_mae: 0.6500 - val_accuracy: 0.3500\nEpoch 35/500\n75/86 [=========================>....] - ETA: 0s - loss: 0.6853 - mae: 0.6853 - accuracy: 0.3147\nEpoch 00035: saving model to checkpoints/ANNModel/20200914-100831.ckpt\n86/86 [==============================] - 0s 5ms/step - loss: 0.6814 - mae: 0.6814 - accuracy: 0.3186 - val_loss: 0.6917 - val_mae: 0.6917 - val_accuracy: 0.3083\nEpoch 36/500\n73/86 [========================>.....] - ETA: 0s - loss: 0.6849 - mae: 0.6849 - accuracy: 0.3151\nEpoch 00036: saving model to checkpoints/ANNModel/20200914-100831.ckpt\n86/86 [==============================] - 0s 5ms/step - loss: 0.6814 - mae: 0.6814 - accuracy: 0.3186 - val_loss: 0.7167 - val_mae: 0.7167 - val_accuracy: 0.2833\nEpoch 37/500\n71/86 [=======================>......] - ETA: 0s - loss: 0.6901 - mae: 0.6901 - accuracy: 0.3099\nEpoch 00037: saving model to checkpoints/ANNModel/20200914-100831.ckpt\n86/86 [==============================] - 0s 6ms/step - loss: 0.6814 - mae: 0.6814 - accuracy: 0.3186 - val_loss: 0.6083 - val_mae: 0.6083 - val_accuracy: 0.3917\nEpoch 38/500\n74/86 [========================>.....] - ETA: 0s - loss: 0.6865 - mae: 0.6865 - accuracy: 0.3135\nEpoch 00038: saving model to checkpoints/ANNModel/20200914-100831.ckpt\n86/86 [==============================] - 0s 5ms/step - loss: 0.6814 - mae: 0.6814 - accuracy: 0.3186 - val_loss: 0.7167 - val_mae: 0.7167 - val_accuracy: 0.2833\nEpoch 39/500\n74/86 [========================>.....] - ETA: 0s - loss: 0.6865 - mae: 0.6865 - accuracy: 0.3135\nEpoch 00039: saving model to checkpoints/ANNModel/20200914-100831.ckpt\n86/86 [==============================] - 0s 5ms/step - loss: 0.6814 - mae: 0.6814 - accuracy: 0.3186 - val_loss: 0.7500 - val_mae: 0.7500 - val_accuracy: 0.2500\nEpoch 40/500\n86/86 [==============================] - ETA: 0s - loss: 0.6814 - mae: 0.6814 - accuracy: 0.3186\nEpoch 00040: saving model to checkpoints/ANNModel/20200914-100831.ckpt\n86/86 [==============================] - 0s 6ms/step - loss: 0.6814 - mae: 0.6814 - accuracy: 0.3186 - val_loss: 0.6750 - val_mae: 0.6750 - val_accuracy: 0.3250\nEpoch 41/500\n77/86 [=========================>....] - ETA: 0s - loss: 0.6831 - mae: 0.6831 - accuracy: 0.3169\nEpoch 00041: saving model to checkpoints/ANNModel/20200914-100831.ckpt\n86/86 [==============================] - 0s 6ms/step - loss: 0.6814 - mae: 0.6814 - accuracy: 0.3186 - val_loss: 0.6667 - val_mae: 0.6667 - val_accuracy: 0.3333\nEpoch 42/500\n75/86 [=========================>....] - ETA: 0s - loss: 0.6853 - mae: 0.6853 - accuracy: 0.3147\nEpoch 00042: saving model to checkpoints/ANNModel/20200914-100831.ckpt\n86/86 [==============================] - 0s 5ms/step - loss: 0.6814 - mae: 0.6814 - accuracy: 0.3186 - val_loss: 0.7000 - val_mae: 0.7000 - val_accuracy: 0.3000\nEpoch 43/500\n77/86 [=========================>....] - ETA: 0s - loss: 0.6831 - mae: 0.6831 - accuracy: 0.3169\nEpoch 00043: saving model to checkpoints/ANNModel/20200914-100831.ckpt\n86/86 [==============================] - 0s 5ms/step - loss: 0.6814 - mae: 0.6814 - accuracy: 0.3186 - val_loss: 0.7000 - val_mae: 0.7000 - val_accuracy: 0.3000\nEpoch 44/500\n76/86 [=========================>....] - ETA: 0s - loss: 0.6842 - mae: 0.6842 - accuracy: 0.3158\nEpoch 00044: saving model to checkpoints/ANNModel/20200914-100831.ckpt\n86/86 [==============================] - 0s 6ms/step - loss: 0.6814 - mae: 0.6814 - accuracy: 0.3186 - val_loss: 0.6667 - val_mae: 0.6667 - val_accuracy: 0.3333\nEpoch 45/500\n68/86 [======================>.......] - ETA: 0s - loss: 0.6853 - mae: 0.6853 - accuracy: 0.3147\nEpoch 00045: saving model to checkpoints/ANNModel/20200914-100831.ckpt\n86/86 [==============================] - 0s 6ms/step - loss: 0.6814 - mae: 0.6814 - accuracy: 0.3186 - val_loss: 0.6750 - val_mae: 0.6750 - val_accuracy: 0.3250\nEpoch 46/500\n71/86 [=======================>......] - ETA: 0s - loss: 0.6901 - mae: 0.6901 - accuracy: 0.3099\nEpoch 00046: saving model to checkpoints/ANNModel/20200914-100831.ckpt\n86/86 [==============================] - 0s 6ms/step - loss: 0.6814 - mae: 0.6814 - accuracy: 0.3186 - val_loss: 0.6167 - val_mae: 0.6167 - val_accuracy: 0.3833\nEpoch 47/500\n77/86 [=========================>....] - ETA: 0s - loss: 0.6831 - mae: 0.6831 - accuracy: 0.3169\nEpoch 00047: saving model to checkpoints/ANNModel/20200914-100831.ckpt\n86/86 [==============================] - 0s 5ms/step - loss: 0.6814 - mae: 0.6814 - accuracy: 0.3186 - val_loss: 0.6750 - val_mae: 0.6750 - val_accuracy: 0.3250\nEpoch 48/500\n75/86 [=========================>....] - ETA: 0s - loss: 0.6853 - mae: 0.6853 - accuracy: 0.3147\nEpoch 00048: saving model to checkpoints/ANNModel/20200914-100831.ckpt\n86/86 [==============================] - 0s 5ms/step - loss: 0.6814 - mae: 0.6814 - accuracy: 0.3186 - val_loss: 0.6667 - val_mae: 0.6667 - val_accuracy: 0.3333\nEpoch 49/500\n73/86 [========================>.....] - ETA: 0s - loss: 0.6849 - mae: 0.6849 - accuracy: 0.3151\nEpoch 00049: saving model to checkpoints/ANNModel/20200914-100831.ckpt\n86/86 [==============================] - 0s 5ms/step - loss: 0.6814 - mae: 0.6814 - accuracy: 0.3186 - val_loss: 0.7250 - val_mae: 0.7250 - val_accuracy: 0.2750\nEpoch 50/500\n84/86 [============================>.] - ETA: 0s - loss: 0.6810 - mae: 0.6810 - accuracy: 0.3190\nEpoch 00050: saving model to checkpoints/ANNModel/20200914-100831.ckpt\n86/86 [==============================] - 0s 6ms/step - loss: 0.6814 - mae: 0.6814 - accuracy: 0.3186 - val_loss: 0.7000 - val_mae: 0.7000 - val_accuracy: 0.3000\nEpoch 51/500\n84/86 [============================>.] - ETA: 0s - loss: 0.6810 - mae: 0.6810 - accuracy: 0.3190\nEpoch 00051: saving model to checkpoints/ANNModel/20200914-100831.ckpt\n86/86 [==============================] - 0s 6ms/step - loss: 0.6814 - mae: 0.6814 - accuracy: 0.3186 - val_loss: 0.6667 - val_mae: 0.6667 - val_accuracy: 0.3333\nEpoch 52/500\n84/86 [============================>.] - ETA: 0s - loss: 0.6810 - mae: 0.6810 - accuracy: 0.3190\nEpoch 00052: saving model to checkpoints/ANNModel/20200914-100831.ckpt\n86/86 [==============================] - 0s 6ms/step - loss: 0.6814 - mae: 0.6814 - accuracy: 0.3186 - val_loss: 0.6750 - val_mae: 0.6750 - val_accuracy: 0.3250\nEpoch 53/500\n75/86 [=========================>....] - ETA: 0s - loss: 0.6853 - mae: 0.6853 - accuracy: 0.3147\nEpoch 00053: saving model to checkpoints/ANNModel/20200914-100831.ckpt\n86/86 [==============================] - 0s 6ms/step - loss: 0.6814 - mae: 0.6814 - accuracy: 0.3186 - val_loss: 0.7000 - val_mae: 0.7000 - val_accuracy: 0.3000\nEpoch 54/500\n72/86 [========================>.....] - ETA: 0s - loss: 0.6889 - mae: 0.6889 - accuracy: 0.3111\nEpoch 00054: saving model to checkpoints/ANNModel/20200914-100831.ckpt\n86/86 [==============================] - 0s 5ms/step - loss: 0.6814 - mae: 0.6814 - accuracy: 0.3186 - val_loss: 0.7833 - val_mae: 0.7833 - val_accuracy: 0.2167\nEpoch 55/500\n76/86 [=========================>....] - ETA: 0s - loss: 0.6842 - mae: 0.6842 - accuracy: 0.3158\nEpoch 00055: saving model to checkpoints/ANNModel/20200914-100831.ckpt\n86/86 [==============================] - 0s 5ms/step - loss: 0.6814 - mae: 0.6814 - accuracy: 0.3186 - val_loss: 0.6833 - val_mae: 0.6833 - val_accuracy: 0.3167\nEpoch 56/500\n70/86 [=======================>......] - ETA: 0s - loss: 0.6886 - mae: 0.6886 - accuracy: 0.3114\nEpoch 00056: saving model to checkpoints/ANNModel/20200914-100831.ckpt\n86/86 [==============================] - 0s 5ms/step - loss: 0.6814 - mae: 0.6814 - accuracy: 0.3186 - val_loss: 0.7417 - val_mae: 0.7417 - val_accuracy: 0.2583\nEpoch 57/500\n75/86 [=========================>....] - ETA: 0s - loss: 0.6853 - mae: 0.6853 - accuracy: 0.3147\nEpoch 00057: saving model to checkpoints/ANNModel/20200914-100831.ckpt\n86/86 [==============================] - 0s 5ms/step - loss: 0.6814 - mae: 0.6814 - accuracy: 0.3186 - val_loss: 0.6333 - val_mae: 0.6333 - val_accuracy: 0.3667\nEpoch 58/500\n77/86 [=========================>....] - ETA: 0s - loss: 0.6831 - mae: 0.6831 - accuracy: 0.3169\nEpoch 00058: saving model to checkpoints/ANNModel/20200914-100831.ckpt\n86/86 [==============================] - 0s 5ms/step - loss: 0.6814 - mae: 0.6814 - accuracy: 0.3186 - val_loss: 0.6833 - val_mae: 0.6833 - val_accuracy: 0.3167\nEpoch 59/500\n76/86 [=========================>....] - ETA: 0s - loss: 0.6842 - mae: 0.6842 - accuracy: 0.3158\nEpoch 00059: saving model to checkpoints/ANNModel/20200914-100831.ckpt\n86/86 [==============================] - 0s 5ms/step - loss: 0.6814 - mae: 0.6814 - accuracy: 0.3186 - val_loss: 0.6667 - val_mae: 0.6667 - val_accuracy: 0.3333\nEpoch 60/500\n77/86 [=========================>....] - ETA: 0s - loss: 0.6831 - mae: 0.6831 - accuracy: 0.3169\nEpoch 00060: saving model to checkpoints/ANNModel/20200914-100831.ckpt\n86/86 [==============================] - 0s 5ms/step - loss: 0.6814 - mae: 0.6814 - accuracy: 0.3186 - val_loss: 0.6417 - val_mae: 0.6417 - val_accuracy: 0.3583\nEpoch 61/500\n77/86 [=========================>....] - ETA: 0s - loss: 0.6831 - mae: 0.6831 - accuracy: 0.3169\nEpoch 00061: saving model to checkpoints/ANNModel/20200914-100831.ckpt\n86/86 [==============================] - 0s 5ms/step - loss: 0.6814 - mae: 0.6814 - accuracy: 0.3186 - val_loss: 0.7167 - val_mae: 0.7167 - val_accuracy: 0.2833\nEpoch 62/500\n76/86 [=========================>....] - ETA: 0s - loss: 0.6842 - mae: 0.6842 - accuracy: 0.3158\nEpoch 00062: saving model to checkpoints/ANNModel/20200914-100831.ckpt\n86/86 [==============================] - 0s 5ms/step - loss: 0.6814 - mae: 0.6814 - accuracy: 0.3186 - val_loss: 0.6583 - val_mae: 0.6583 - val_accuracy: 0.3417\nEpoch 63/500\n75/86 [=========================>....] - ETA: 0s - loss: 0.6853 - mae: 0.6853 - accuracy: 0.3147\nEpoch 00063: saving model to checkpoints/ANNModel/20200914-100831.ckpt\n86/86 [==============================] - 0s 5ms/step - loss: 0.6814 - mae: 0.6814 - accuracy: 0.3186 - val_loss: 0.6583 - val_mae: 0.6583 - val_accuracy: 0.3417\nEpoch 64/500\n86/86 [==============================] - ETA: 0s - loss: 0.6814 - mae: 0.6814 - accuracy: 0.3186\nEpoch 00064: saving model to checkpoints/ANNModel/20200914-100831.ckpt\n86/86 [==============================] - 0s 6ms/step - loss: 0.6814 - mae: 0.6814 - accuracy: 0.3186 - val_loss: 0.7500 - val_mae: 0.7500 - val_accuracy: 0.2500\nEpoch 65/500\n77/86 [=========================>....] - ETA: 0s - loss: 0.6831 - mae: 0.6831 - accuracy: 0.3169\nEpoch 00065: saving model to checkpoints/ANNModel/20200914-100831.ckpt\n86/86 [==============================] - 0s 5ms/step - loss: 0.6814 - mae: 0.6814 - accuracy: 0.3186 - val_loss: 0.7333 - val_mae: 0.7333 - val_accuracy: 0.2667\nEpoch 66/500\n77/86 [=========================>....] - ETA: 0s - loss: 0.6831 - mae: 0.6831 - accuracy: 0.3169\nEpoch 00066: saving model to checkpoints/ANNModel/20200914-100831.ckpt\n86/86 [==============================] - 0s 5ms/step - loss: 0.6814 - mae: 0.6814 - accuracy: 0.3186 - val_loss: 0.6667 - val_mae: 0.6667 - val_accuracy: 0.3333\nEpoch 67/500\n74/86 [========================>.....] - ETA: 0s - loss: 0.6865 - mae: 0.6865 - accuracy: 0.3135\nEpoch 00067: saving model to checkpoints/ANNModel/20200914-100831.ckpt\n86/86 [==============================] - 0s 5ms/step - loss: 0.6814 - mae: 0.6814 - accuracy: 0.3186 - val_loss: 0.6917 - val_mae: 0.6917 - val_accuracy: 0.3083\nEpoch 68/500\n75/86 [=========================>....] - ETA: 0s - loss: 0.6853 - mae: 0.6853 - accuracy: 0.3147\nEpoch 00068: saving model to checkpoints/ANNModel/20200914-100831.ckpt\n86/86 [==============================] - 0s 5ms/step - loss: 0.6814 - mae: 0.6814 - accuracy: 0.3186 - val_loss: 0.6583 - val_mae: 0.6583 - val_accuracy: 0.3417\nEpoch 69/500\n77/86 [=========================>....] - ETA: 0s - loss: 0.6831 - mae: 0.6831 - accuracy: 0.3169\nEpoch 00069: saving model to checkpoints/ANNModel/20200914-100831.ckpt\n86/86 [==============================] - 0s 5ms/step - loss: 0.6814 - mae: 0.6814 - accuracy: 0.3186 - val_loss: 0.6750 - val_mae: 0.6750 - val_accuracy: 0.3250\nEpoch 70/500\n78/86 [==========================>...] - ETA: 0s - loss: 0.6846 - mae: 0.6846 - accuracy: 0.3154\nEpoch 00070: saving model to checkpoints/ANNModel/20200914-100831.ckpt\n86/86 [==============================] - 0s 5ms/step - loss: 0.6814 - mae: 0.6814 - accuracy: 0.3186 - val_loss: 0.6917 - val_mae: 0.6917 - val_accuracy: 0.3083\nEpoch 71/500\n77/86 [=========================>....] - ETA: 0s - loss: 0.6831 - mae: 0.6831 - accuracy: 0.3169\nEpoch 00071: saving model to checkpoints/ANNModel/20200914-100831.ckpt\n86/86 [==============================] - 0s 5ms/step - loss: 0.6814 - mae: 0.6814 - accuracy: 0.3186 - val_loss: 0.7167 - val_mae: 0.7167 - val_accuracy: 0.2833\nEpoch 72/500\n77/86 [=========================>....] - ETA: 0s - loss: 0.6831 - mae: 0.6831 - accuracy: 0.3169\nEpoch 00072: saving model to checkpoints/ANNModel/20200914-100831.ckpt\n86/86 [==============================] - 0s 5ms/step - loss: 0.6814 - mae: 0.6814 - accuracy: 0.3186 - val_loss: 0.6917 - val_mae: 0.6917 - val_accuracy: 0.3083\nEpoch 73/500\n76/86 [=========================>....] - ETA: 0s - loss: 0.6842 - mae: 0.6842 - accuracy: 0.3158\nEpoch 00073: saving model to checkpoints/ANNModel/20200914-100831.ckpt\n86/86 [==============================] - 0s 5ms/step - loss: 0.6814 - mae: 0.6814 - accuracy: 0.3186 - val_loss: 0.6417 - val_mae: 0.6417 - val_accuracy: 0.3583\nEpoch 74/500\n76/86 [=========================>....] - ETA: 0s - loss: 0.6842 - mae: 0.6842 - accuracy: 0.3158\nEpoch 00074: saving model to checkpoints/ANNModel/20200914-100831.ckpt\n86/86 [==============================] - 0s 5ms/step - loss: 0.6814 - mae: 0.6814 - accuracy: 0.3186 - val_loss: 0.7083 - val_mae: 0.7083 - val_accuracy: 0.2917\nEpoch 75/500\n77/86 [=========================>....] - ETA: 0s - loss: 0.6831 - mae: 0.6831 - accuracy: 0.3169\nEpoch 00075: saving model to checkpoints/ANNModel/20200914-100831.ckpt\n86/86 [==============================] - 0s 5ms/step - loss: 0.6814 - mae: 0.6814 - accuracy: 0.3186 - val_loss: 0.7250 - val_mae: 0.7250 - val_accuracy: 0.2750\nEpoch 76/500\n77/86 [=========================>....] - ETA: 0s - loss: 0.6831 - mae: 0.6831 - accuracy: 0.3169\nEpoch 00076: saving model to checkpoints/ANNModel/20200914-100831.ckpt\n86/86 [==============================] - 0s 5ms/step - loss: 0.6814 - mae: 0.6814 - accuracy: 0.3186 - val_loss: 0.6500 - val_mae: 0.6500 - val_accuracy: 0.3500\nEpoch 77/500\n77/86 [=========================>....] - ETA: 0s - loss: 0.6831 - mae: 0.6831 - accuracy: 0.3169\nEpoch 00077: saving model to checkpoints/ANNModel/20200914-100831.ckpt\n86/86 [==============================] - 0s 5ms/step - loss: 0.6814 - mae: 0.6814 - accuracy: 0.3186 - val_loss: 0.6750 - val_mae: 0.6750 - val_accuracy: 0.3250\nEpoch 78/500\n76/86 [=========================>....] - ETA: 0s - loss: 0.6842 - mae: 0.6842 - accuracy: 0.3158\nEpoch 00078: saving model to checkpoints/ANNModel/20200914-100831.ckpt\n86/86 [==============================] - 0s 5ms/step - loss: 0.6814 - mae: 0.6814 - accuracy: 0.3186 - val_loss: 0.6583 - val_mae: 0.6583 - val_accuracy: 0.3417\nEpoch 79/500\n76/86 [=========================>....] - ETA: 0s - loss: 0.6842 - mae: 0.6842 - accuracy: 0.3158\nEpoch 00079: saving model to checkpoints/ANNModel/20200914-100831.ckpt\n86/86 [==============================] - 0s 5ms/step - loss: 0.6814 - mae: 0.6814 - accuracy: 0.3186 - val_loss: 0.6583 - val_mae: 0.6583 - val_accuracy: 0.3417\nEpoch 80/500\n75/86 [=========================>....] - ETA: 0s - loss: 0.6853 - mae: 0.6853 - accuracy: 0.3147\nEpoch 00080: saving model to checkpoints/ANNModel/20200914-100831.ckpt\n86/86 [==============================] - 0s 5ms/step - loss: 0.6814 - mae: 0.6814 - accuracy: 0.3186 - val_loss: 0.6417 - val_mae: 0.6417 - val_accuracy: 0.3583\nEpoch 81/500\n76/86 [=========================>....] - ETA: 0s - loss: 0.6842 - mae: 0.6842 - accuracy: 0.3158\nEpoch 00081: saving model to checkpoints/ANNModel/20200914-100831.ckpt\n86/86 [==============================] - 0s 5ms/step - loss: 0.6814 - mae: 0.6814 - accuracy: 0.3186 - val_loss: 0.7083 - val_mae: 0.7083 - val_accuracy: 0.2917\nEpoch 82/500\n76/86 [=========================>....] - ETA: 0s - loss: 0.6842 - mae: 0.6842 - accuracy: 0.3158\nEpoch 00082: saving model to checkpoints/ANNModel/20200914-100831.ckpt\n86/86 [==============================] - 0s 5ms/step - loss: 0.6814 - mae: 0.6814 - accuracy: 0.3186 - val_loss: 0.6917 - val_mae: 0.6917 - val_accuracy: 0.3083\nEpoch 83/500\n77/86 [=========================>....] - ETA: 0s - loss: 0.6831 - mae: 0.6831 - accuracy: 0.3169\nEpoch 00083: saving model to checkpoints/ANNModel/20200914-100831.ckpt\n86/86 [==============================] - 0s 5ms/step - loss: 0.6814 - mae: 0.6814 - accuracy: 0.3186 - val_loss: 0.7333 - val_mae: 0.7333 - val_accuracy: 0.2667\n"
    }
   ],
   "source": [
    "from tensorflow.keras.optimizers import Adam\n",
    "from tensorflow.keras.callbacks import EarlyStopping, ModelCheckpoint, TensorBoard\n",
    "import datetime\n",
    "\n",
    "epochs = 500\n",
    "INIT_LR = 1e-4\n",
    "opt = Adam(lr = INIT_LR, decay = INIT_LR / epochs)\n",
    "model.compile(optimizer=opt, loss='mse', metrics=['mae', 'accuracy'], show_summary=True)\n",
    "\n",
    "# current time\n",
    "current_time = datetime.datetime.now().strftime(\"%Y%m%d-%H%M%S\")\n",
    "\n",
    "# create the checkpoint path\n",
    "checkpoint_path = \"checkpoints/ANNModel/\" + current_time + \".ckpt\"\n",
    "\n",
    "# create logging\n",
    "log_dir = \"logs/ANNModel/\" + current_time\n",
    "\n",
    "# create all callbacks\n",
    "callbacks = [\n",
    "  EarlyStopping(patience=50, monitor='val_loss'),\n",
    "  TensorBoard(log_dir=log_dir, profile_batch=0),\n",
    "  ModelCheckpoint(checkpoint_path, save_weights_only=True, verbose=1)\n",
    "]\n",
    "\n",
    "# fit the model using the training data\n",
    "results = model.fit(\n",
    "  training=loanDataset.train_ds,\n",
    "  callbacks=callbacks,\n",
    "  epochs=epochs,\n",
    "  validation=loanDataset.val_ds,\n",
    "  validation_steps=loanDataset.val_size,\n",
    "  steps_per_epoch=loanDataset.train_size)\n",
    "\n",
    "weights_path = 'weights/ANNModel_trained_model_weights'\n",
    "model.save_weights(weights_path)\n"
   ]
  },
  {
   "cell_type": "code",
   "execution_count": 15,
   "metadata": {
    "tags": []
   },
   "outputs": [
    {
     "output_type": "stream",
     "name": "stdout",
     "text": "WARNING:tensorflow:Inconsistent references when loading the checkpoint into this object graph. Either the Trackable object references in the Python program have changed in an incompatible way, or the checkpoint was generated in an incompatible program.\n\nTwo checkpoint references resolved to different objects (<tensorflow.python.keras.layers.core.Dense object at 0x7fd3b81cc610> and <tensorflow.python.keras.layers.core.Dense object at 0x7fd3b8174290>).\nWARNING:tensorflow:Inconsistent references when loading the checkpoint into this object graph. Either the Trackable object references in the Python program have changed in an incompatible way, or the checkpoint was generated in an incompatible program.\n\nTwo checkpoint references resolved to different objects (<tensorflow.python.keras.layers.core.Dense object at 0x7fd3b8174290> and <tensorflow.python.keras.layers.core.Dense object at 0x7fd3b8170250>).\n\n# Evaluate on test data\n2/2 [==============================] - 0s 804us/step - loss: 0.6000 - mse: 0.6000\ntest loss, test acc: [0.6000000238418579, 0.6000000238418579]\n{'loss': 0.6000000238418579, 'mse': 0.6000000238418579}\n"
    }
   ],
   "source": [
    "# re initialize the model.\n",
    "model.training = False\n",
    "model.compile(optimizer=Adam(lr = 1e-4), loss='mse', metrics=['mse'], show_summary=False) \n",
    "model.load_weights(weights_path)\n",
    "\n",
    "print('\\n# Evaluate on test data')\n",
    "result = model.evaluate(loanDataset.actual_test_ds)\n",
    "print('test loss, test acc:', result)\n",
    "res = dict(zip(model.get_metric_names(), result))\n",
    "print(res)"
   ]
  },
  {
   "cell_type": "code",
   "execution_count": null,
   "metadata": {},
   "outputs": [],
   "source": []
  }
 ]
}