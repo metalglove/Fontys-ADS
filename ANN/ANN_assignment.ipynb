{
 "metadata": {
  "language_info": {
   "codemirror_mode": {
    "name": "ipython",
    "version": 3
   },
   "file_extension": ".py",
   "mimetype": "text/x-python",
   "name": "python",
   "nbconvert_exporter": "python",
   "pygments_lexer": "ipython3",
   "version": "3.8.2-final"
  },
  "orig_nbformat": 2,
  "kernelspec": {
   "name": "python38264bit336bca747335491d9c49495ee62754d5",
   "display_name": "Python 3.8.2 64-bit"
  }
 },
 "nbformat": 4,
 "nbformat_minor": 2,
 "cells": [
  {
   "source": [
    "# ANN - Exercise\n",
    "Construct, train and test an artificial neural network using a dataset of your own choice. Try different settings for two or more hyperparameters and investigate the effect on learning. Hand in a Jupyter notebook which contains your python code and in which you describe your approach and results. Also reflect on the knowledge and skills you acquired on artificial neural networks."
   ],
   "cell_type": "markdown",
   "metadata": {}
  },
  {
   "cell_type": "code",
   "execution_count": 1,
   "metadata": {
    "tags": []
   },
   "outputs": [],
   "source": [
    "# Manually setting the root directory to be Fontys\n",
    "import os\n",
    "# import sys\n",
    "# print(os.getcwd())\n",
    "root_path = os.path.split(os.getcwd())[0]\n",
    "assert root_path.endswith(\"/Fontys-ADS\"), \"The root path does not end with Fontys: \" + root_path \n",
    "sys.path.insert(0, root_path)"
   ]
  },
  {
   "source": [
    "## Preparing & Cleaning the data\n",
    "The dataset I have chosen is the Loan eligibility dataset from kaggle (https://www.kaggle.com/vikasukani/loan-eligible-dataset).<br/>\n",
    "I plan to predict whether someone is eligible for a loan."
   ],
   "cell_type": "markdown",
   "metadata": {}
  },
  {
   "cell_type": "code",
   "execution_count": 2,
   "metadata": {},
   "outputs": [
    {
     "output_type": "execute_result",
     "data": {
      "text/plain": "      Loan_ID  Gender Married Dependents     Education Self_Employed  \\\n0    LP001002    Male      No          0      Graduate            No   \n1    LP001003    Male     Yes          1      Graduate            No   \n2    LP001005    Male     Yes          0      Graduate           Yes   \n3    LP001006    Male     Yes          0  Not Graduate            No   \n4    LP001008    Male      No          0      Graduate            No   \n..        ...     ...     ...        ...           ...           ...   \n609  LP002978  Female      No          0      Graduate            No   \n610  LP002979    Male     Yes         3+      Graduate            No   \n611  LP002983    Male     Yes          1      Graduate            No   \n612  LP002984    Male     Yes          2      Graduate            No   \n613  LP002990  Female      No          0      Graduate           Yes   \n\n     ApplicantIncome  CoapplicantIncome  LoanAmount  Loan_Amount_Term  \\\n0               5849                0.0         NaN             360.0   \n1               4583             1508.0       128.0             360.0   \n2               3000                0.0        66.0             360.0   \n3               2583             2358.0       120.0             360.0   \n4               6000                0.0       141.0             360.0   \n..               ...                ...         ...               ...   \n609             2900                0.0        71.0             360.0   \n610             4106                0.0        40.0             180.0   \n611             8072              240.0       253.0             360.0   \n612             7583                0.0       187.0             360.0   \n613             4583                0.0       133.0             360.0   \n\n     Credit_History Property_Area Loan_Status  \n0               1.0         Urban           Y  \n1               1.0         Rural           N  \n2               1.0         Urban           Y  \n3               1.0         Urban           Y  \n4               1.0         Urban           Y  \n..              ...           ...         ...  \n609             1.0         Rural           Y  \n610             1.0         Rural           Y  \n611             1.0         Urban           Y  \n612             1.0         Urban           Y  \n613             0.0     Semiurban           N  \n\n[614 rows x 13 columns]",
      "text/html": "<div>\n<style scoped>\n    .dataframe tbody tr th:only-of-type {\n        vertical-align: middle;\n    }\n\n    .dataframe tbody tr th {\n        vertical-align: top;\n    }\n\n    .dataframe thead th {\n        text-align: right;\n    }\n</style>\n<table border=\"1\" class=\"dataframe\">\n  <thead>\n    <tr style=\"text-align: right;\">\n      <th></th>\n      <th>Loan_ID</th>\n      <th>Gender</th>\n      <th>Married</th>\n      <th>Dependents</th>\n      <th>Education</th>\n      <th>Self_Employed</th>\n      <th>ApplicantIncome</th>\n      <th>CoapplicantIncome</th>\n      <th>LoanAmount</th>\n      <th>Loan_Amount_Term</th>\n      <th>Credit_History</th>\n      <th>Property_Area</th>\n      <th>Loan_Status</th>\n    </tr>\n  </thead>\n  <tbody>\n    <tr>\n      <th>0</th>\n      <td>LP001002</td>\n      <td>Male</td>\n      <td>No</td>\n      <td>0</td>\n      <td>Graduate</td>\n      <td>No</td>\n      <td>5849</td>\n      <td>0.0</td>\n      <td>NaN</td>\n      <td>360.0</td>\n      <td>1.0</td>\n      <td>Urban</td>\n      <td>Y</td>\n    </tr>\n    <tr>\n      <th>1</th>\n      <td>LP001003</td>\n      <td>Male</td>\n      <td>Yes</td>\n      <td>1</td>\n      <td>Graduate</td>\n      <td>No</td>\n      <td>4583</td>\n      <td>1508.0</td>\n      <td>128.0</td>\n      <td>360.0</td>\n      <td>1.0</td>\n      <td>Rural</td>\n      <td>N</td>\n    </tr>\n    <tr>\n      <th>2</th>\n      <td>LP001005</td>\n      <td>Male</td>\n      <td>Yes</td>\n      <td>0</td>\n      <td>Graduate</td>\n      <td>Yes</td>\n      <td>3000</td>\n      <td>0.0</td>\n      <td>66.0</td>\n      <td>360.0</td>\n      <td>1.0</td>\n      <td>Urban</td>\n      <td>Y</td>\n    </tr>\n    <tr>\n      <th>3</th>\n      <td>LP001006</td>\n      <td>Male</td>\n      <td>Yes</td>\n      <td>0</td>\n      <td>Not Graduate</td>\n      <td>No</td>\n      <td>2583</td>\n      <td>2358.0</td>\n      <td>120.0</td>\n      <td>360.0</td>\n      <td>1.0</td>\n      <td>Urban</td>\n      <td>Y</td>\n    </tr>\n    <tr>\n      <th>4</th>\n      <td>LP001008</td>\n      <td>Male</td>\n      <td>No</td>\n      <td>0</td>\n      <td>Graduate</td>\n      <td>No</td>\n      <td>6000</td>\n      <td>0.0</td>\n      <td>141.0</td>\n      <td>360.0</td>\n      <td>1.0</td>\n      <td>Urban</td>\n      <td>Y</td>\n    </tr>\n    <tr>\n      <th>...</th>\n      <td>...</td>\n      <td>...</td>\n      <td>...</td>\n      <td>...</td>\n      <td>...</td>\n      <td>...</td>\n      <td>...</td>\n      <td>...</td>\n      <td>...</td>\n      <td>...</td>\n      <td>...</td>\n      <td>...</td>\n      <td>...</td>\n    </tr>\n    <tr>\n      <th>609</th>\n      <td>LP002978</td>\n      <td>Female</td>\n      <td>No</td>\n      <td>0</td>\n      <td>Graduate</td>\n      <td>No</td>\n      <td>2900</td>\n      <td>0.0</td>\n      <td>71.0</td>\n      <td>360.0</td>\n      <td>1.0</td>\n      <td>Rural</td>\n      <td>Y</td>\n    </tr>\n    <tr>\n      <th>610</th>\n      <td>LP002979</td>\n      <td>Male</td>\n      <td>Yes</td>\n      <td>3+</td>\n      <td>Graduate</td>\n      <td>No</td>\n      <td>4106</td>\n      <td>0.0</td>\n      <td>40.0</td>\n      <td>180.0</td>\n      <td>1.0</td>\n      <td>Rural</td>\n      <td>Y</td>\n    </tr>\n    <tr>\n      <th>611</th>\n      <td>LP002983</td>\n      <td>Male</td>\n      <td>Yes</td>\n      <td>1</td>\n      <td>Graduate</td>\n      <td>No</td>\n      <td>8072</td>\n      <td>240.0</td>\n      <td>253.0</td>\n      <td>360.0</td>\n      <td>1.0</td>\n      <td>Urban</td>\n      <td>Y</td>\n    </tr>\n    <tr>\n      <th>612</th>\n      <td>LP002984</td>\n      <td>Male</td>\n      <td>Yes</td>\n      <td>2</td>\n      <td>Graduate</td>\n      <td>No</td>\n      <td>7583</td>\n      <td>0.0</td>\n      <td>187.0</td>\n      <td>360.0</td>\n      <td>1.0</td>\n      <td>Urban</td>\n      <td>Y</td>\n    </tr>\n    <tr>\n      <th>613</th>\n      <td>LP002990</td>\n      <td>Female</td>\n      <td>No</td>\n      <td>0</td>\n      <td>Graduate</td>\n      <td>Yes</td>\n      <td>4583</td>\n      <td>0.0</td>\n      <td>133.0</td>\n      <td>360.0</td>\n      <td>0.0</td>\n      <td>Semiurban</td>\n      <td>N</td>\n    </tr>\n  </tbody>\n</table>\n<p>614 rows × 13 columns</p>\n</div>"
     },
     "metadata": {},
     "execution_count": 2
    }
   ],
   "source": [
    "import pandas as pd\n",
    "import numpy as np\n",
    "\n",
    "# set the seed\n",
    "np.random.seed(56)\n",
    "\n",
    "# the loan_dataset_path.\n",
    "loan_dataset_path = \"dataset/loan-train.csv\"\n",
    "\n",
    "# reads the dataset from csv.\n",
    "df = pd.read_csv(loan_dataset_path)\n",
    "\n",
    "# displays the dataset.\n",
    "df"
   ]
  },
  {
   "source": [
    "By looking at the type of the columns, it can be seen that many columns still need to be cleaned up. </br>\n",
    "The Loan_ID column can be discarded since it only describes the loan as an unique identifier."
   ],
   "cell_type": "markdown",
   "metadata": {}
  },
  {
   "cell_type": "code",
   "execution_count": 3,
   "metadata": {},
   "outputs": [
    {
     "output_type": "execute_result",
     "data": {
      "text/plain": "Gender                object\nMarried               object\nDependents            object\nEducation             object\nSelf_Employed         object\nApplicantIncome        int64\nCoapplicantIncome    float64\nLoanAmount           float64\nLoan_Amount_Term     float64\nCredit_History       float64\nProperty_Area         object\nLoan_Status           object\ndtype: object"
     },
     "metadata": {},
     "execution_count": 3
    }
   ],
   "source": [
    "# drops the Loan_ID column from the dataframe.\n",
    "df.drop(columns=['Loan_ID'], inplace=True)\n",
    "\n",
    "# prints the datatypes for each column.\n",
    "df.dtypes"
   ]
  },
  {
   "cell_type": "code",
   "execution_count": 4,
   "metadata": {
    "tags": []
   },
   "outputs": [
    {
     "output_type": "stream",
     "name": "stdout",
     "text": "Property_Area ['Urban' 'Rural' 'Semiurban']\nMarried ['No' 'Yes' nan]\nDependents ['0' '1' '2' '3+' nan]\nEducation ['Graduate' 'Not Graduate']\nGender ['Male' 'Female' nan]\nSelf_Employed ['No' 'Yes' nan]\nLoan_Status ['Y' 'N']\n"
    }
   ],
   "source": [
    "def one_hot_encode(df, column_name, drop_first=False):\n",
    "    # gets the unique values of the column.\n",
    "    uniques = df[column_name].unique()\n",
    "\n",
    "    # prints the unique values.\n",
    "    print(column_name, uniques)\n",
    "\n",
    "    # checks whether there is a NaN value in the uniques.\n",
    "    dummy_na = pd.isna(uniques).any()\n",
    "\n",
    "    # perform one-hot encoding. (drop_first for dummy encoding)\n",
    "    pa_dummies = pd.get_dummies(df[column_name], prefix=column_name, dummy_na=dummy_na, drop_first=drop_first)\n",
    "\n",
    "    # adds the one-hot encoded columns to the original dataframe.\n",
    "    df = pd.concat([df, pa_dummies], axis=1)\n",
    "\n",
    "    # drops the original column.\n",
    "    return df.drop([column_name], axis=1)\n",
    "\n",
    "\n",
    "# perform one-hot encoding on categorical columns.\n",
    "df = one_hot_encode(df, 'Property_Area')\n",
    "df = one_hot_encode(df, 'Married')\n",
    "df = one_hot_encode(df, 'Dependents')\n",
    "df = one_hot_encode(df, 'Education')\n",
    "df = one_hot_encode(df, 'Gender')\n",
    "df = one_hot_encode(df, 'Self_Employed')\n",
    "\n",
    "# performs dummy encoding by dropping the other column.\n",
    "# this is done to create a single predictable value.\n",
    "df = one_hot_encode(df, 'Loan_Status', drop_first=True)"
   ]
  },
  {
   "source": [
    "After creating all the categorical columns by one-hot encoding. </br> \n",
    "The last thing that needs to be done is to check whether the other values contain NaN values."
   ],
   "cell_type": "markdown",
   "metadata": {}
  },
  {
   "cell_type": "code",
   "execution_count": 5,
   "metadata": {},
   "outputs": [
    {
     "output_type": "execute_result",
     "data": {
      "text/plain": "ApplicantIncome             0\nCoapplicantIncome           0\nLoanAmount                 22\nLoan_Amount_Term           14\nCredit_History             50\nProperty_Area_Rural         0\nProperty_Area_Semiurban     0\nProperty_Area_Urban         0\nMarried_No                  0\nMarried_Yes                 0\nMarried_nan                 0\nDependents_0                0\nDependents_1                0\nDependents_2                0\nDependents_3+               0\nDependents_nan              0\nEducation_Graduate          0\nEducation_Not Graduate      0\nGender_Female               0\nGender_Male                 0\nGender_nan                  0\nSelf_Employed_No            0\nSelf_Employed_Yes           0\nSelf_Employed_nan           0\nLoan_Status_Y               0\ndtype: int64"
     },
     "metadata": {},
     "execution_count": 5
    }
   ],
   "source": [
    "df.isnull().sum()"
   ]
  },
  {
   "source": [
    "For now, let's just pad the missing data and see what the results are like. </br>\n",
    "If the predictions are really bad, this step could be tried with more attention to the datapoints that have missing data."
   ],
   "cell_type": "markdown",
   "metadata": {}
  },
  {
   "cell_type": "code",
   "execution_count": 6,
   "metadata": {
    "tags": []
   },
   "outputs": [
    {
     "output_type": "stream",
     "name": "stdout",
     "text": "ApplicantIncome            False\nCoapplicantIncome          False\nLoanAmount                 False\nLoan_Amount_Term           False\nCredit_History             False\nProperty_Area_Rural        False\nProperty_Area_Semiurban    False\nProperty_Area_Urban        False\nMarried_No                 False\nMarried_Yes                False\nMarried_nan                False\nDependents_0               False\nDependents_1               False\nDependents_2               False\nDependents_3+              False\nDependents_nan             False\nEducation_Graduate         False\nEducation_Not Graduate     False\nGender_Female              False\nGender_Male                False\nGender_nan                 False\nSelf_Employed_No           False\nSelf_Employed_Yes          False\nSelf_Employed_nan          False\nLoan_Status_Y              False\ndtype: bool\n"
    }
   ],
   "source": [
    "# interpolates the missing data by padding them with existing values.\n",
    "df['Loan_Amount_Term'].interpolate('pad', inplace=True)\n",
    "df['LoanAmount'].interpolate('pad', inplace=True)\n",
    "df['Credit_History'].interpolate('pad', inplace=True)\n",
    "\n",
    "# for some reason 1 record does not get padded, this way it will forcefully get padded.\n",
    "df['LoanAmount'].interpolate('bfill', inplace=True)\n",
    "\n",
    "# let's check if there are any NaN values left.S\n",
    "print(df.isnull().any())"
   ]
  },
  {
   "cell_type": "code",
   "execution_count": 7,
   "metadata": {},
   "outputs": [],
   "source": [
    "# ensures that all values are computable by tensorflow. \n",
    "df['ApplicantIncome'] = df['ApplicantIncome'].astype(np.float64)"
   ]
  },
  {
   "cell_type": "code",
   "execution_count": 8,
   "metadata": {},
   "outputs": [],
   "source": [
    "# initialize gpu\n",
    "import tensorflow as tf\n",
    "tf.random.set_seed(56)\n",
    "# physical_devices = tf.config.experimental.list_physical_devices('GPU')\n",
    "# tf.config.experimental.set_memory_growth(physical_devices[0], True)"
   ]
  },
  {
   "cell_type": "code",
   "execution_count": 9,
   "metadata": {},
   "outputs": [],
   "source": [
    "import os\n",
    "from datasets.base_dataset import DatasetBase\n",
    "\n",
    "# the loan dataset class.\n",
    "class LoanDataset(DatasetBase):\n",
    "    def __init__(self, df, batch_size, train_percentage, validation_percentage, test_percentage):\n",
    "        # sets the batch size\n",
    "        self.batch_size = batch_size\n",
    "        \n",
    "        features = tf.cast(df.loc[:, df.columns != 'Loan_Status_Y'].values, tf.float32)\n",
    "        labels = tf.cast(df.loc[:, 'Loan_Status_Y'].values, tf.bool)\n",
    "\n",
    "        # sets the data.\n",
    "        self.data = tf.data.Dataset.from_tensor_slices((features, labels))\n",
    "\n",
    "        # set the feature length.\n",
    "        self.feature_length = len(df.columns) - 1\n",
    "        \n",
    "        # shuffles the dataset\n",
    "        self.shuffle(256)\n",
    "\n",
    "        # splits the data into train, validation, and test datasets.\n",
    "        self.split_data_to_train_val_test(self.data, train_percentage, validation_percentage, test_percentage)\n"
   ]
  },
  {
   "cell_type": "code",
   "execution_count": 10,
   "metadata": {
    "tags": []
   },
   "outputs": [
    {
     "output_type": "stream",
     "name": "stdout",
     "text": "train: 123 validation: 41 test: 41\n"
    }
   ],
   "source": [
    "batch_size = 3\n",
    "train_percentage = 0.6\n",
    "validation_percentage = 0.2\n",
    "test_percentage = 0.2\n",
    "loanDataset = LoanDataset(df, batch_size, train_percentage, validation_percentage, test_percentage)"
   ]
  },
  {
   "source": [
    "## Creating the ANN model"
   ],
   "cell_type": "markdown",
   "metadata": {}
  },
  {
   "cell_type": "code",
   "execution_count": 11,
   "metadata": {},
   "outputs": [],
   "source": [
    "from models.base_model import ModelBase\n",
    "from tensorflow.keras import Model, Sequential\n",
    "from tensorflow.keras.layers import Input, Dropout, Dense\n",
    "\n",
    "class ANNModel(ModelBase):\n",
    "    def __init__(self, feature_length, gpu_initialized=False, training=False, limit=5000):\n",
    "        super().__init__(gpu_initialized, training, limit)\n",
    "\n",
    "        # sets the feature length for input.\n",
    "        self.feature_length = feature_length\n",
    "\n",
    "    def predict(self, X):\n",
    "        # create predictable array, since predicting only works on an array.\n",
    "        predictable_array = np.expand_dims(X, axis=0)\n",
    "\n",
    "        # perform prediction and take the first and only prediction out of the predictions array.\n",
    "        prediction = self.model.predict(X, verbose=1)[0]\n",
    "        \n",
    "        return prediction\n",
    "\n",
    "    def fit(self, training, callbacks, epochs, validation, validation_steps, steps_per_epoch):\n",
    "        self.model.fit(\n",
    "            training,\n",
    "            callbacks=callbacks,\n",
    "            epochs=epochs,\n",
    "            validation_data=validation,\n",
    "            validation_steps=validation_steps,\n",
    "            steps_per_epoch=steps_per_epoch, verbose=2)\n",
    "\n",
    "    def compile(self, optimizer='adam', loss='mse', metrics=['mse'], loss_weights=[1.0], dense_units=2048, drop_out_rate=0.2, show_summary=False):\n",
    "        inputs = Input((self.feature_length,))\n",
    "\n",
    "        dense1 = Dense(dense_units, activation='relu', kernel_initializer='glorot_uniform')(inputs)\n",
    "        if self.training:\n",
    "            dense1 = Dropout(drop_out_rate)(dense1)\n",
    "        dense2 = Dense(dense_units, activation='relu', kernel_initializer='glorot_uniform')(dense1)\n",
    "        if self.training:\n",
    "            dense2 = Dropout(drop_out_rate)(dense2)\n",
    "        dense3 = Dense(dense_units, activation='relu', kernel_initializer='glorot_uniform')(dense2)\n",
    "        if self.training:\n",
    "            dense3 = Dropout(drop_out_rate)(dense3)\n",
    "        dense4 = Dense(dense_units, activation='relu', kernel_initializer='glorot_uniform')(dense3)\n",
    "        if self.training:\n",
    "            dense4 = Dropout(drop_out_rate)(dense4)\n",
    "        dense5 = Dense(dense_units, activation='relu', kernel_initializer='glorot_uniform')(dense4)\n",
    "        if self.training:\n",
    "            dense5 = Dropout(drop_out_rate)(dense5)\n",
    "        outputs = Dense(1, activation='sigmoid', kernel_initializer='glorot_uniform')(dense5)\n",
    "\n",
    "        # construct the model by stitching the inputs and outputs\n",
    "        self.model = Model(inputs=inputs, outputs=outputs, name='ANNModel')\n",
    "\n",
    "        # compile the model\n",
    "        self.model.compile(optimizer=optimizer, loss=loss, metrics=metrics, loss_weights=loss_weights)\n",
    "\n",
    "        if show_summary:\n",
    "            self.model.summary()"
   ]
  },
  {
   "cell_type": "code",
   "execution_count": 12,
   "metadata": {},
   "outputs": [],
   "source": [
    "model = ANNModel(loanDataset.feature_length, training=True, gpu_initialized=True)"
   ]
  },
  {
   "cell_type": "code",
   "execution_count": 13,
   "metadata": {
    "tags": []
   },
   "outputs": [
    {
     "output_type": "stream",
     "name": "stdout",
     "text": "Model: \"ANNModel\"\n_________________________________________________________________\nLayer (type)                 Output Shape              Param #   \n=================================================================\ninput_1 (InputLayer)         [(None, 24)]              0         \n_________________________________________________________________\ndense (Dense)                (None, 2048)              51200     \n_________________________________________________________________\ndropout (Dropout)            (None, 2048)              0         \n_________________________________________________________________\ndense_1 (Dense)              (None, 2048)              4196352   \n_________________________________________________________________\ndropout_1 (Dropout)          (None, 2048)              0         \n_________________________________________________________________\ndense_2 (Dense)              (None, 2048)              4196352   \n_________________________________________________________________\ndropout_2 (Dropout)          (None, 2048)              0         \n_________________________________________________________________\ndense_3 (Dense)              (None, 2048)              4196352   \n_________________________________________________________________\ndropout_3 (Dropout)          (None, 2048)              0         \n_________________________________________________________________\ndense_4 (Dense)              (None, 2048)              4196352   \n_________________________________________________________________\ndropout_4 (Dropout)          (None, 2048)              0         \n_________________________________________________________________\ndense_5 (Dense)              (None, 1)                 2049      \n=================================================================\nTotal params: 16,838,657\nTrainable params: 16,838,657\nNon-trainable params: 0\n_________________________________________________________________\n"
    }
   ],
   "source": [
    "from tensorflow.keras.optimizers import Adam\n",
    "from tensorflow.keras.callbacks import EarlyStopping, ModelCheckpoint, TensorBoard\n",
    "import datetime\n",
    "\n",
    "epochs = 1\n",
    "INIT_LR = 1e-4\n",
    "opt = Adam(lr = INIT_LR, decay = INIT_LR / epochs)\n",
    "model.compile(optimizer=opt, loss='mse', metrics=['mse', 'accuracy'], show_summary=True)\n",
    "\n",
    "# current time\n",
    "current_time = datetime.datetime.now().strftime(\"%Y%m%d-%H%M%S\")\n",
    "\n",
    "# create the checkpoint path\n",
    "checkpoint_path = \"checkpoints/ANNModel/\" + current_time + \".ckpt\"\n",
    "\n",
    "# create logging\n",
    "log_dir = \"logs/ANNModel/\" + current_time\n",
    "\n",
    "# create all callbacks\n",
    "callbacks = [\n",
    "  EarlyStopping(patience=50, monitor='val_loss'),\n",
    "  TensorBoard(log_dir=log_dir, profile_batch=0)#,\n",
    "  # ModelCheckpoint(checkpoint_path, save_weights_only=True, verbose=1)\n",
    "]"
   ]
  },
  {
   "cell_type": "code",
   "execution_count": 14,
   "metadata": {
    "tags": []
   },
   "outputs": [
    {
     "output_type": "stream",
     "name": "stdout",
     "text": "123/123 - 6s - loss: 0.3171 - mse: 0.3171 - accuracy: 0.6829 - val_loss: 0.4065 - val_mse: 0.4065 - val_accuracy: 0.5935\n"
    }
   ],
   "source": [
    "# fit the model using the training data\n",
    "results = model.fit(\n",
    "  training=loanDataset.train_ds,\n",
    "  callbacks=callbacks,\n",
    "  epochs=epochs,\n",
    "  validation=loanDataset.val_ds,\n",
    "  validation_steps=loanDataset.val_size,\n",
    "  steps_per_epoch=loanDataset.train_size)\n",
    "\n",
    "weights_path = 'weights/ANNModel_trained_model_weights'\n",
    "model.save_weights(weights_path)"
   ]
  },
  {
   "cell_type": "code",
   "execution_count": 15,
   "metadata": {
    "tags": []
   },
   "outputs": [
    {
     "output_type": "stream",
     "name": "stdout",
     "text": "WARNING:tensorflow:Inconsistent references when loading the checkpoint into this object graph. Either the Trackable object references in the Python program have changed in an incompatible way, or the checkpoint was generated in an incompatible program.\n\nTwo checkpoint references resolved to different objects (<tensorflow.python.keras.layers.core.Dense object at 0x7f1180079070> and <tensorflow.python.keras.layers.core.Dense object at 0x7f12013e6310>).\nWARNING:tensorflow:Inconsistent references when loading the checkpoint into this object graph. Either the Trackable object references in the Python program have changed in an incompatible way, or the checkpoint was generated in an incompatible program.\n\nTwo checkpoint references resolved to different objects (<tensorflow.python.keras.layers.core.Dense object at 0x7f12013e6310> and <tensorflow.python.keras.layers.core.Dense object at 0x7f11682d3e80>).\n\n# Evaluate on test data\n31/31 [==============================] - 0s 4ms/step - loss: 0.3011 - mse: 0.3011\ntest loss, test acc: [0.301075279712677, 0.301075279712677]\n{'loss': 0.301075279712677, 'mse': 0.301075279712677}\n"
    }
   ],
   "source": [
    "# re initialize the model.\n",
    "model.training = False\n",
    "model.compile(optimizer=Adam(lr = 1e-4), loss='mse', metrics=['mse'], show_summary=False) \n",
    "model.load_weights(weights_path)\n",
    "\n",
    "print('\\n# Evaluate on test data')\n",
    "result = model.evaluate(loanDataset.actual_test_ds)\n",
    "print('test loss, test acc:', result)\n",
    "res = dict(zip(model.get_metric_names(), result))\n",
    "print(res)"
   ]
  },
  {
   "source": [
    "## Hypertuning\n",
    "Using automatic hypertuning with TensorFlow we can see what the best parameters would be."
   ],
   "cell_type": "markdown",
   "metadata": {}
  },
  {
   "cell_type": "code",
   "execution_count": 16,
   "metadata": {},
   "outputs": [],
   "source": [
    "# Load the Tensorboard notebook extension\n",
    "%load_ext tensorboard"
   ]
  },
  {
   "cell_type": "code",
   "execution_count": 17,
   "metadata": {},
   "outputs": [],
   "source": [
    "# Clear any logs from previous runs\n",
    "!rm -rf ./logs/"
   ]
  },
  {
   "cell_type": "code",
   "execution_count": 18,
   "metadata": {},
   "outputs": [],
   "source": [
    "from tensorboard.plugins.hparams import api as hp"
   ]
  },
  {
   "cell_type": "code",
   "execution_count": 19,
   "metadata": {},
   "outputs": [],
   "source": [
    "HP_NUM_UNITS = hp.HParam('num_units', hp.Discrete([16, 32, 64, 128, 256]))\n",
    "HP_DROPOUT = hp.HParam('dropout', hp.Discrete([0.1, 0.2, 0.3, 0.4]))\n",
    "HP_OPTIMIZER = hp.HParam('optimizer', hp.Discrete(['adam', 'sgd', 'rmsprop']))\n",
    "HP_LOSS = hp.HParam('loss', hp.Discrete(['mse', 'mae']))\n",
    "\n",
    "METRIC_ACCURACY = 'accuracy'\n",
    "\n",
    "with tf.summary.create_file_writer('logs/hparam_tuning').as_default():\n",
    "  hp.hparams_config(\n",
    "    hparams=[HP_NUM_UNITS, HP_DROPOUT, HP_OPTIMIZER, HP_LOSS],\n",
    "    metrics=[hp.Metric(METRIC_ACCURACY, display_name='Accuracy')],\n",
    "  )"
   ]
  },
  {
   "cell_type": "code",
   "execution_count": 20,
   "metadata": {},
   "outputs": [],
   "source": [
    "def train_test_model(hparams):\n",
    "    model = ANNModel(loanDataset.feature_length, gpu_initialized=True, training=True)\n",
    "    model.compile(\n",
    "        optimizer = hparams[HP_OPTIMIZER],\n",
    "        metrics=['accuracy'],\n",
    "        loss=hparams[HP_LOSS],\n",
    "        dense_units=hparams[HP_NUM_UNITS],\n",
    "        drop_out_rate=hparams[HP_DROPOUT]\n",
    "        )\n",
    "    results = model.fit(\n",
    "        training=loanDataset.train_ds,\n",
    "        callbacks=callbacks + [hp.KerasCallback(log_dir, hparams)],\n",
    "        epochs=epochs,\n",
    "        validation=loanDataset.val_ds,\n",
    "        validation_steps=loanDataset.val_size,\n",
    "        steps_per_epoch=loanDataset.train_size)\n",
    "\n",
    "    _, accuracy = model.evaluate(loanDataset.actual_test_ds)\n",
    "    return accuracy"
   ]
  },
  {
   "cell_type": "code",
   "execution_count": 21,
   "metadata": {},
   "outputs": [],
   "source": [
    "hp_results = []\n",
    "def run(run_dir, hparams):\n",
    "  with tf.summary.create_file_writer(run_dir).as_default():\n",
    "    hp.hparams(hparams)  # record the values used in this trial\n",
    "    accuracy = train_test_model(hparams)\n",
    "\n",
    "    # hparams.accuracy = accuracy\n",
    "    hp_results.append({'accuracy': accuracy, 'dense_units': hparams[HP_NUM_UNITS], \n",
    "      'dropout_rate': hparams[HP_DROPOUT], 'optimizer': hparams[HP_OPTIMIZER],\n",
    "      'loss': hparams[HP_LOSS] })\n",
    "    tf.summary.scalar(METRIC_ACCURACY, accuracy, step=1)"
   ]
  },
  {
   "cell_type": "code",
   "execution_count": 22,
   "metadata": {
    "tags": [
     "outputPrepend"
    ]
   },
   "outputs": [
    {
     "output_type": "stream",
     "name": "stdout",
     "text": "adam', 'loss': 'mse'}\n123/123 - 0s - loss: 0.3534 - accuracy: 0.6450 - val_loss: 0.2602 - val_accuracy: 0.7398\n31/31 [==============================] - 0s 607us/step - loss: 0.3871 - accuracy: 0.6129\n{HParam(name='num_units', domain=Discrete([16, 32, 64, 128, 256]), display_name=None, description=None): 128, HParam(name='dropout', domain=Discrete([0.1, 0.2, 0.3, 0.4]), display_name=None, description=None): 0.4, HParam(name='optimizer', domain=Discrete(['adam', 'rmsprop', 'sgd']), display_name=None, description=None): 'rmsprop', HParam(name='loss', domain=Discrete(['mae', 'mse']), display_name=None, description=None): 'mae'}\n--- Starting trial: run-92\n{'num_units': 128, 'dropout': 0.4, 'optimizer': 'rmsprop', 'loss': 'mae'}\n123/123 - 0s - loss: 0.6312 - accuracy: 0.3686 - val_loss: 0.7000 - val_accuracy: 0.3008\n31/31 [==============================] - 0s 568us/step - loss: 0.6373 - accuracy: 0.3656\n{HParam(name='num_units', domain=Discrete([16, 32, 64, 128, 256]), display_name=None, description=None): 128, HParam(name='dropout', domain=Discrete([0.1, 0.2, 0.3, 0.4]), display_name=None, description=None): 0.4, HParam(name='optimizer', domain=Discrete(['adam', 'rmsprop', 'sgd']), display_name=None, description=None): 'rmsprop', HParam(name='loss', domain=Discrete(['mae', 'mse']), display_name=None, description=None): 'mse'}\n--- Starting trial: run-93\n{'num_units': 128, 'dropout': 0.4, 'optimizer': 'rmsprop', 'loss': 'mse'}\n123/123 - 0s - loss: 0.4224 - accuracy: 0.5745 - val_loss: 0.2602 - val_accuracy: 0.7398\n31/31 [==============================] - 0s 613us/step - loss: 0.3978 - accuracy: 0.6022\n{HParam(name='num_units', domain=Discrete([16, 32, 64, 128, 256]), display_name=None, description=None): 128, HParam(name='dropout', domain=Discrete([0.1, 0.2, 0.3, 0.4]), display_name=None, description=None): 0.4, HParam(name='optimizer', domain=Discrete(['adam', 'rmsprop', 'sgd']), display_name=None, description=None): 'sgd', HParam(name='loss', domain=Discrete(['mae', 'mse']), display_name=None, description=None): 'mae'}\n--- Starting trial: run-94\n{'num_units': 128, 'dropout': 0.4, 'optimizer': 'sgd', 'loss': 'mae'}\n123/123 - 0s - loss: 0.3551 - accuracy: 0.6450 - val_loss: 0.2927 - val_accuracy: 0.7073\n31/31 [==============================] - 0s 603us/step - loss: 0.3441 - accuracy: 0.6559\n{HParam(name='num_units', domain=Discrete([16, 32, 64, 128, 256]), display_name=None, description=None): 128, HParam(name='dropout', domain=Discrete([0.1, 0.2, 0.3, 0.4]), display_name=None, description=None): 0.4, HParam(name='optimizer', domain=Discrete(['adam', 'rmsprop', 'sgd']), display_name=None, description=None): 'sgd', HParam(name='loss', domain=Discrete(['mae', 'mse']), display_name=None, description=None): 'mse'}\n--- Starting trial: run-95\n{'num_units': 128, 'dropout': 0.4, 'optimizer': 'sgd', 'loss': 'mse'}\n123/123 - 0s - loss: 0.3414 - accuracy: 0.6585 - val_loss: 0.3089 - val_accuracy: 0.6911\n31/31 [==============================] - 0s 676us/step - loss: 0.3548 - accuracy: 0.6452\n{HParam(name='num_units', domain=Discrete([16, 32, 64, 128, 256]), display_name=None, description=None): 256, HParam(name='dropout', domain=Discrete([0.1, 0.2, 0.3, 0.4]), display_name=None, description=None): 0.1, HParam(name='optimizer', domain=Discrete(['adam', 'rmsprop', 'sgd']), display_name=None, description=None): 'adam', HParam(name='loss', domain=Discrete(['mae', 'mse']), display_name=None, description=None): 'mae'}\n--- Starting trial: run-96\n{'num_units': 256, 'dropout': 0.1, 'optimizer': 'adam', 'loss': 'mae'}\n123/123 - 0s - loss: 0.3144 - accuracy: 0.6856 - val_loss: 0.3008 - val_accuracy: 0.6992\n31/31 [==============================] - 0s 730us/step - loss: 0.2581 - accuracy: 0.7419\n{HParam(name='num_units', domain=Discrete([16, 32, 64, 128, 256]), display_name=None, description=None): 256, HParam(name='dropout', domain=Discrete([0.1, 0.2, 0.3, 0.4]), display_name=None, description=None): 0.1, HParam(name='optimizer', domain=Discrete(['adam', 'rmsprop', 'sgd']), display_name=None, description=None): 'adam', HParam(name='loss', domain=Discrete(['mae', 'mse']), display_name=None, description=None): 'mse'}\n--- Starting trial: run-97\n{'num_units': 256, 'dropout': 0.1, 'optimizer': 'adam', 'loss': 'mse'}\n123/123 - 0s - loss: 0.3085 - accuracy: 0.6911 - val_loss: 0.3659 - val_accuracy: 0.6341\n31/31 [==============================] - 0s 657us/step - loss: 0.3333 - accuracy: 0.6667\n{HParam(name='num_units', domain=Discrete([16, 32, 64, 128, 256]), display_name=None, description=None): 256, HParam(name='dropout', domain=Discrete([0.1, 0.2, 0.3, 0.4]), display_name=None, description=None): 0.1, HParam(name='optimizer', domain=Discrete(['adam', 'rmsprop', 'sgd']), display_name=None, description=None): 'rmsprop', HParam(name='loss', domain=Discrete(['mae', 'mse']), display_name=None, description=None): 'mae'}\n--- Starting trial: run-98\n{'num_units': 256, 'dropout': 0.1, 'optimizer': 'rmsprop', 'loss': 'mae'}\n123/123 - 0s - loss: 0.6675 - accuracy: 0.3333 - val_loss: 0.7398 - val_accuracy: 0.2602\n31/31 [==============================] - 0s 628us/step - loss: 0.6559 - accuracy: 0.3441\n{HParam(name='num_units', domain=Discrete([16, 32, 64, 128, 256]), display_name=None, description=None): 256, HParam(name='dropout', domain=Discrete([0.1, 0.2, 0.3, 0.4]), display_name=None, description=None): 0.1, HParam(name='optimizer', domain=Discrete(['adam', 'rmsprop', 'sgd']), display_name=None, description=None): 'rmsprop', HParam(name='loss', domain=Discrete(['mae', 'mse']), display_name=None, description=None): 'mse'}\n--- Starting trial: run-99\n{'num_units': 256, 'dropout': 0.1, 'optimizer': 'rmsprop', 'loss': 'mse'}\n123/123 - 0s - loss: 0.3279 - accuracy: 0.6721 - val_loss: 0.2927 - val_accuracy: 0.7073\n31/31 [==============================] - 0s 668us/step - loss: 0.2258 - accuracy: 0.7742\n{HParam(name='num_units', domain=Discrete([16, 32, 64, 128, 256]), display_name=None, description=None): 256, HParam(name='dropout', domain=Discrete([0.1, 0.2, 0.3, 0.4]), display_name=None, description=None): 0.1, HParam(name='optimizer', domain=Discrete(['adam', 'rmsprop', 'sgd']), display_name=None, description=None): 'sgd', HParam(name='loss', domain=Discrete(['mae', 'mse']), display_name=None, description=None): 'mae'}\n--- Starting trial: run-100\n{'num_units': 256, 'dropout': 0.1, 'optimizer': 'sgd', 'loss': 'mae'}\n123/123 - 0s - loss: 0.6886 - accuracy: 0.3117 - val_loss: 0.7236 - val_accuracy: 0.2764\n31/31 [==============================] - 0s 603us/step - loss: 0.6452 - accuracy: 0.3548\n{HParam(name='num_units', domain=Discrete([16, 32, 64, 128, 256]), display_name=None, description=None): 256, HParam(name='dropout', domain=Discrete([0.1, 0.2, 0.3, 0.4]), display_name=None, description=None): 0.1, HParam(name='optimizer', domain=Discrete(['adam', 'rmsprop', 'sgd']), display_name=None, description=None): 'sgd', HParam(name='loss', domain=Discrete(['mae', 'mse']), display_name=None, description=None): 'mse'}\n--- Starting trial: run-101\n{'num_units': 256, 'dropout': 0.1, 'optimizer': 'sgd', 'loss': 'mse'}\n123/123 - 0s - loss: 0.3253 - accuracy: 0.6748 - val_loss: 0.3496 - val_accuracy: 0.6504\n31/31 [==============================] - 0s 614us/step - loss: 0.2903 - accuracy: 0.7097\n{HParam(name='num_units', domain=Discrete([16, 32, 64, 128, 256]), display_name=None, description=None): 256, HParam(name='dropout', domain=Discrete([0.1, 0.2, 0.3, 0.4]), display_name=None, description=None): 0.2, HParam(name='optimizer', domain=Discrete(['adam', 'rmsprop', 'sgd']), display_name=None, description=None): 'adam', HParam(name='loss', domain=Discrete(['mae', 'mse']), display_name=None, description=None): 'mae'}\n--- Starting trial: run-102\n{'num_units': 256, 'dropout': 0.2, 'optimizer': 'adam', 'loss': 'mae'}\n123/123 - 0s - loss: 0.6856 - accuracy: 0.3144 - val_loss: 0.6504 - val_accuracy: 0.3496\n31/31 [==============================] - 0s 684us/step - loss: 0.6667 - accuracy: 0.3333\n{HParam(name='num_units', domain=Discrete([16, 32, 64, 128, 256]), display_name=None, description=None): 256, HParam(name='dropout', domain=Discrete([0.1, 0.2, 0.3, 0.4]), display_name=None, description=None): 0.2, HParam(name='optimizer', domain=Discrete(['adam', 'rmsprop', 'sgd']), display_name=None, description=None): 'adam', HParam(name='loss', domain=Discrete(['mae', 'mse']), display_name=None, description=None): 'mse'}\n--- Starting trial: run-103\n{'num_units': 256, 'dropout': 0.2, 'optimizer': 'adam', 'loss': 'mse'}\n123/123 - 0s - loss: 0.3144 - accuracy: 0.6856 - val_loss: 0.3089 - val_accuracy: 0.6911\n31/31 [==============================] - 0s 634us/step - loss: 0.2796 - accuracy: 0.7204\n{HParam(name='num_units', domain=Discrete([16, 32, 64, 128, 256]), display_name=None, description=None): 256, HParam(name='dropout', domain=Discrete([0.1, 0.2, 0.3, 0.4]), display_name=None, description=None): 0.2, HParam(name='optimizer', domain=Discrete(['adam', 'rmsprop', 'sgd']), display_name=None, description=None): 'rmsprop', HParam(name='loss', domain=Discrete(['mae', 'mse']), display_name=None, description=None): 'mae'}\n--- Starting trial: run-104\n{'num_units': 256, 'dropout': 0.2, 'optimizer': 'rmsprop', 'loss': 'mae'}\n123/123 - 0s - loss: 0.2873 - accuracy: 0.7127 - val_loss: 0.3496 - val_accuracy: 0.6504\n31/31 [==============================] - 0s 729us/step - loss: 0.3011 - accuracy: 0.6989\n{HParam(name='num_units', domain=Discrete([16, 32, 64, 128, 256]), display_name=None, description=None): 256, HParam(name='dropout', domain=Discrete([0.1, 0.2, 0.3, 0.4]), display_name=None, description=None): 0.2, HParam(name='optimizer', domain=Discrete(['adam', 'rmsprop', 'sgd']), display_name=None, description=None): 'rmsprop', HParam(name='loss', domain=Discrete(['mae', 'mse']), display_name=None, description=None): 'mse'}\n--- Starting trial: run-105\n{'num_units': 256, 'dropout': 0.2, 'optimizer': 'rmsprop', 'loss': 'mse'}\n123/123 - 0s - loss: 0.3135 - accuracy: 0.6856 - val_loss: 0.3740 - val_accuracy: 0.6260\n31/31 [==============================] - 0s 890us/step - loss: 0.3656 - accuracy: 0.6344\n{HParam(name='num_units', domain=Discrete([16, 32, 64, 128, 256]), display_name=None, description=None): 256, HParam(name='dropout', domain=Discrete([0.1, 0.2, 0.3, 0.4]), display_name=None, description=None): 0.2, HParam(name='optimizer', domain=Discrete(['adam', 'rmsprop', 'sgd']), display_name=None, description=None): 'sgd', HParam(name='loss', domain=Discrete(['mae', 'mse']), display_name=None, description=None): 'mae'}\n--- Starting trial: run-106\n{'num_units': 256, 'dropout': 0.2, 'optimizer': 'sgd', 'loss': 'mae'}\n123/123 - 0s - loss: 0.5054 - accuracy: 0.4932 - val_loss: 0.3659 - val_accuracy: 0.6341\n31/31 [==============================] - 0s 768us/step - loss: 0.3333 - accuracy: 0.6667\n{HParam(name='num_units', domain=Discrete([16, 32, 64, 128, 256]), display_name=None, description=None): 256, HParam(name='dropout', domain=Discrete([0.1, 0.2, 0.3, 0.4]), display_name=None, description=None): 0.2, HParam(name='optimizer', domain=Discrete(['adam', 'rmsprop', 'sgd']), display_name=None, description=None): 'sgd', HParam(name='loss', domain=Discrete(['mae', 'mse']), display_name=None, description=None): 'mse'}\n--- Starting trial: run-107\n{'num_units': 256, 'dropout': 0.2, 'optimizer': 'sgd', 'loss': 'mse'}\n123/123 - 0s - loss: 0.2980 - accuracy: 0.7019 - val_loss: 0.3496 - val_accuracy: 0.6504\n31/31 [==============================] - 0s 630us/step - loss: 0.3011 - accuracy: 0.6989\n{HParam(name='num_units', domain=Discrete([16, 32, 64, 128, 256]), display_name=None, description=None): 256, HParam(name='dropout', domain=Discrete([0.1, 0.2, 0.3, 0.4]), display_name=None, description=None): 0.3, HParam(name='optimizer', domain=Discrete(['adam', 'rmsprop', 'sgd']), display_name=None, description=None): 'adam', HParam(name='loss', domain=Discrete(['mae', 'mse']), display_name=None, description=None): 'mae'}\n--- Starting trial: run-108\n{'num_units': 256, 'dropout': 0.3, 'optimizer': 'adam', 'loss': 'mae'}\n123/123 - 0s - loss: 0.3440 - accuracy: 0.6558 - val_loss: 0.3252 - val_accuracy: 0.6748\n31/31 [==============================] - 0s 688us/step - loss: 0.2903 - accuracy: 0.7097\n{HParam(name='num_units', domain=Discrete([16, 32, 64, 128, 256]), display_name=None, description=None): 256, HParam(name='dropout', domain=Discrete([0.1, 0.2, 0.3, 0.4]), display_name=None, description=None): 0.3, HParam(name='optimizer', domain=Discrete(['adam', 'rmsprop', 'sgd']), display_name=None, description=None): 'adam', HParam(name='loss', domain=Discrete(['mae', 'mse']), display_name=None, description=None): 'mse'}\n--- Starting trial: run-109\n{'num_units': 256, 'dropout': 0.3, 'optimizer': 'adam', 'loss': 'mse'}\n123/123 - 0s - loss: 0.3529 - accuracy: 0.6450 - val_loss: 0.3171 - val_accuracy: 0.6829\n31/31 [==============================] - 0s 650us/step - loss: 0.3118 - accuracy: 0.6882\n{HParam(name='num_units', domain=Discrete([16, 32, 64, 128, 256]), display_name=None, description=None): 256, HParam(name='dropout', domain=Discrete([0.1, 0.2, 0.3, 0.4]), display_name=None, description=None): 0.3, HParam(name='optimizer', domain=Discrete(['adam', 'rmsprop', 'sgd']), display_name=None, description=None): 'rmsprop', HParam(name='loss', domain=Discrete(['mae', 'mse']), display_name=None, description=None): 'mae'}\n--- Starting trial: run-110\n{'num_units': 256, 'dropout': 0.3, 'optimizer': 'rmsprop', 'loss': 'mae'}\n123/123 - 0s - loss: 0.3703 - accuracy: 0.6314 - val_loss: 0.3333 - val_accuracy: 0.6667\n31/31 [==============================] - 0s 629us/step - loss: 0.3226 - accuracy: 0.6774\n{HParam(name='num_units', domain=Discrete([16, 32, 64, 128, 256]), display_name=None, description=None): 256, HParam(name='dropout', domain=Discrete([0.1, 0.2, 0.3, 0.4]), display_name=None, description=None): 0.3, HParam(name='optimizer', domain=Discrete(['adam', 'rmsprop', 'sgd']), display_name=None, description=None): 'rmsprop', HParam(name='loss', domain=Discrete(['mae', 'mse']), display_name=None, description=None): 'mse'}\n--- Starting trial: run-111\n{'num_units': 256, 'dropout': 0.3, 'optimizer': 'rmsprop', 'loss': 'mse'}\n123/123 - 0s - loss: 0.3293 - accuracy: 0.6694 - val_loss: 0.3740 - val_accuracy: 0.6260\n31/31 [==============================] - 0s 725us/step - loss: 0.4516 - accuracy: 0.5484\n{HParam(name='num_units', domain=Discrete([16, 32, 64, 128, 256]), display_name=None, description=None): 256, HParam(name='dropout', domain=Discrete([0.1, 0.2, 0.3, 0.4]), display_name=None, description=None): 0.3, HParam(name='optimizer', domain=Discrete(['adam', 'rmsprop', 'sgd']), display_name=None, description=None): 'sgd', HParam(name='loss', domain=Discrete(['mae', 'mse']), display_name=None, description=None): 'mae'}\n--- Starting trial: run-112\n{'num_units': 256, 'dropout': 0.3, 'optimizer': 'sgd', 'loss': 'mae'}\n123/123 - 1s - loss: 0.3306 - accuracy: 0.6694 - val_loss: 0.3415 - val_accuracy: 0.6585\n31/31 [==============================] - 0s 712us/step - loss: 0.3011 - accuracy: 0.6989\n{HParam(name='num_units', domain=Discrete([16, 32, 64, 128, 256]), display_name=None, description=None): 256, HParam(name='dropout', domain=Discrete([0.1, 0.2, 0.3, 0.4]), display_name=None, description=None): 0.3, HParam(name='optimizer', domain=Discrete(['adam', 'rmsprop', 'sgd']), display_name=None, description=None): 'sgd', HParam(name='loss', domain=Discrete(['mae', 'mse']), display_name=None, description=None): 'mse'}\n--- Starting trial: run-113\n{'num_units': 256, 'dropout': 0.3, 'optimizer': 'sgd', 'loss': 'mse'}\n123/123 - 0s - loss: 0.2909 - accuracy: 0.7073 - val_loss: 0.3008 - val_accuracy: 0.6992\n31/31 [==============================] - 0s 664us/step - loss: 0.2473 - accuracy: 0.7527\n{HParam(name='num_units', domain=Discrete([16, 32, 64, 128, 256]), display_name=None, description=None): 256, HParam(name='dropout', domain=Discrete([0.1, 0.2, 0.3, 0.4]), display_name=None, description=None): 0.4, HParam(name='optimizer', domain=Discrete(['adam', 'rmsprop', 'sgd']), display_name=None, description=None): 'adam', HParam(name='loss', domain=Discrete(['mae', 'mse']), display_name=None, description=None): 'mae'}\n--- Starting trial: run-114\n{'num_units': 256, 'dropout': 0.4, 'optimizer': 'adam', 'loss': 'mae'}\n123/123 - 0s - loss: 0.3351 - accuracy: 0.6640 - val_loss: 0.3415 - val_accuracy: 0.6585\n31/31 [==============================] - 0s 698us/step - loss: 0.3656 - accuracy: 0.6344\n{HParam(name='num_units', domain=Discrete([16, 32, 64, 128, 256]), display_name=None, description=None): 256, HParam(name='dropout', domain=Discrete([0.1, 0.2, 0.3, 0.4]), display_name=None, description=None): 0.4, HParam(name='optimizer', domain=Discrete(['adam', 'rmsprop', 'sgd']), display_name=None, description=None): 'adam', HParam(name='loss', domain=Discrete(['mae', 'mse']), display_name=None, description=None): 'mse'}\n--- Starting trial: run-115\n{'num_units': 256, 'dropout': 0.4, 'optimizer': 'adam', 'loss': 'mse'}\n123/123 - 0s - loss: 0.3549 - accuracy: 0.6450 - val_loss: 0.2927 - val_accuracy: 0.7073\n31/31 [==============================] - 0s 670us/step - loss: 0.3226 - accuracy: 0.6774\n{HParam(name='num_units', domain=Discrete([16, 32, 64, 128, 256]), display_name=None, description=None): 256, HParam(name='dropout', domain=Discrete([0.1, 0.2, 0.3, 0.4]), display_name=None, description=None): 0.4, HParam(name='optimizer', domain=Discrete(['adam', 'rmsprop', 'sgd']), display_name=None, description=None): 'rmsprop', HParam(name='loss', domain=Discrete(['mae', 'mse']), display_name=None, description=None): 'mae'}\n--- Starting trial: run-116\n{'num_units': 256, 'dropout': 0.4, 'optimizer': 'rmsprop', 'loss': 'mae'}\n123/123 - 0s - loss: 0.4659 - accuracy: 0.5339 - val_loss: 0.2846 - val_accuracy: 0.7154\n31/31 [==============================] - 0s 668us/step - loss: 0.3548 - accuracy: 0.6452\n{HParam(name='num_units', domain=Discrete([16, 32, 64, 128, 256]), display_name=None, description=None): 256, HParam(name='dropout', domain=Discrete([0.1, 0.2, 0.3, 0.4]), display_name=None, description=None): 0.4, HParam(name='optimizer', domain=Discrete(['adam', 'rmsprop', 'sgd']), display_name=None, description=None): 'rmsprop', HParam(name='loss', domain=Discrete(['mae', 'mse']), display_name=None, description=None): 'mse'}\n--- Starting trial: run-117\n{'num_units': 256, 'dropout': 0.4, 'optimizer': 'rmsprop', 'loss': 'mse'}\n123/123 - 0s - loss: 0.3631 - accuracy: 0.6369 - val_loss: 0.3577 - val_accuracy: 0.6423\n31/31 [==============================] - 0s 662us/step - loss: 0.3226 - accuracy: 0.6774\n{HParam(name='num_units', domain=Discrete([16, 32, 64, 128, 256]), display_name=None, description=None): 256, HParam(name='dropout', domain=Discrete([0.1, 0.2, 0.3, 0.4]), display_name=None, description=None): 0.4, HParam(name='optimizer', domain=Discrete(['adam', 'rmsprop', 'sgd']), display_name=None, description=None): 'sgd', HParam(name='loss', domain=Discrete(['mae', 'mse']), display_name=None, description=None): 'mae'}\n--- Starting trial: run-118\n{'num_units': 256, 'dropout': 0.4, 'optimizer': 'sgd', 'loss': 'mae'}\n123/123 - 0s - loss: 0.3282 - accuracy: 0.6721 - val_loss: 0.3171 - val_accuracy: 0.6829\n31/31 [==============================] - 0s 629us/step - loss: 0.3548 - accuracy: 0.6452\n{HParam(name='num_units', domain=Discrete([16, 32, 64, 128, 256]), display_name=None, description=None): 256, HParam(name='dropout', domain=Discrete([0.1, 0.2, 0.3, 0.4]), display_name=None, description=None): 0.4, HParam(name='optimizer', domain=Discrete(['adam', 'rmsprop', 'sgd']), display_name=None, description=None): 'sgd', HParam(name='loss', domain=Discrete(['mae', 'mse']), display_name=None, description=None): 'mse'}\n--- Starting trial: run-119\n{'num_units': 256, 'dropout': 0.4, 'optimizer': 'sgd', 'loss': 'mse'}\n123/123 - 0s - loss: 0.7045 - accuracy: 0.2954 - val_loss: 0.7154 - val_accuracy: 0.2846\n31/31 [==============================] - 0s 654us/step - loss: 0.6667 - accuracy: 0.3333\n"
    }
   ],
   "source": [
    "session_num = 0\n",
    "\n",
    "for num_units in HP_NUM_UNITS.domain.values:\n",
    "  for dropout_rate in HP_DROPOUT.domain.values:\n",
    "    for optimizer in HP_OPTIMIZER.domain.values:\n",
    "      for loss in HP_LOSS.domain.values:\n",
    "        hparams = {\n",
    "            HP_NUM_UNITS: num_units,\n",
    "            HP_DROPOUT: dropout_rate,\n",
    "            HP_OPTIMIZER: optimizer,\n",
    "            HP_LOSS: loss\n",
    "        }\n",
    "        print(hparams)\n",
    "        run_name = \"run-%d\" % session_num\n",
    "        print('--- Starting trial: %s' % run_name)\n",
    "        print({h.name: hparams[h] for h in hparams})\n",
    "        run('logs/hparam_tuning/' + run_name, hparams)\n",
    "        session_num += 1"
   ]
  },
  {
   "cell_type": "code",
   "execution_count": 23,
   "metadata": {},
   "outputs": [
    {
     "output_type": "display_data",
     "data": {
      "text/plain": "Reusing TensorBoard on port 6006 (pid 25054), started 1:15:00 ago. (Use '!kill 25054' to kill it.)"
     },
     "metadata": {}
    }
   ],
   "source": [
    "%tensorboard --logdir logs/hparam_tuning"
   ]
  },
  {
   "cell_type": "code",
   "execution_count": 24,
   "metadata": {},
   "outputs": [],
   "source": [
    "for n in hp_results:\n",
    "    n['optimizer'] = HP_OPTIMIZER.domain.values.index(n['optimizer'])\n",
    "    n['loss'] = HP_LOSS.domain.values.index(n['loss'])"
   ]
  },
  {
   "cell_type": "code",
   "execution_count": 26,
   "metadata": {},
   "outputs": [
    {
     "output_type": "display_data",
     "data": {
      "application/vnd.plotly.v1+json": {
       "config": {
        "plotlyServerURL": "https://plot.ly"
       },
       "data": [
        {
         "dimensions": [
          {
           "label": "Dense units",
           "range": [
            16,
            256
           ],
           "values": [
            16,
            16,
            16,
            16,
            16,
            16,
            16,
            16,
            16,
            16,
            16,
            16,
            16,
            16,
            16,
            16,
            16,
            16,
            16,
            16,
            16,
            16,
            16,
            16,
            32,
            32,
            32,
            32,
            32,
            32,
            32,
            32,
            32,
            32,
            32,
            32,
            32,
            32,
            32,
            32,
            32,
            32,
            32,
            32,
            32,
            32,
            32,
            32,
            64,
            64,
            64,
            64,
            64,
            64,
            64,
            64,
            64,
            64,
            64,
            64,
            64,
            64,
            64,
            64,
            64,
            64,
            64,
            64,
            64,
            64,
            64,
            64,
            128,
            128,
            128,
            128,
            128,
            128,
            128,
            128,
            128,
            128,
            128,
            128,
            128,
            128,
            128,
            128,
            128,
            128,
            128,
            128,
            128,
            128,
            128,
            128,
            256,
            256,
            256,
            256,
            256,
            256,
            256,
            256,
            256,
            256,
            256,
            256,
            256,
            256,
            256,
            256,
            256,
            256,
            256,
            256,
            256,
            256,
            256,
            256
           ]
          },
          {
           "label": "Dropout rate",
           "range": [
            0.1,
            0.4
           ],
           "values": [
            0.1,
            0.1,
            0.1,
            0.1,
            0.1,
            0.1,
            0.2,
            0.2,
            0.2,
            0.2,
            0.2,
            0.2,
            0.3,
            0.3,
            0.3,
            0.3,
            0.3,
            0.3,
            0.4,
            0.4,
            0.4,
            0.4,
            0.4,
            0.4,
            0.1,
            0.1,
            0.1,
            0.1,
            0.1,
            0.1,
            0.2,
            0.2,
            0.2,
            0.2,
            0.2,
            0.2,
            0.3,
            0.3,
            0.3,
            0.3,
            0.3,
            0.3,
            0.4,
            0.4,
            0.4,
            0.4,
            0.4,
            0.4,
            0.1,
            0.1,
            0.1,
            0.1,
            0.1,
            0.1,
            0.2,
            0.2,
            0.2,
            0.2,
            0.2,
            0.2,
            0.3,
            0.3,
            0.3,
            0.3,
            0.3,
            0.3,
            0.4,
            0.4,
            0.4,
            0.4,
            0.4,
            0.4,
            0.1,
            0.1,
            0.1,
            0.1,
            0.1,
            0.1,
            0.2,
            0.2,
            0.2,
            0.2,
            0.2,
            0.2,
            0.3,
            0.3,
            0.3,
            0.3,
            0.3,
            0.3,
            0.4,
            0.4,
            0.4,
            0.4,
            0.4,
            0.4,
            0.1,
            0.1,
            0.1,
            0.1,
            0.1,
            0.1,
            0.2,
            0.2,
            0.2,
            0.2,
            0.2,
            0.2,
            0.3,
            0.3,
            0.3,
            0.3,
            0.3,
            0.3,
            0.4,
            0.4,
            0.4,
            0.4,
            0.4,
            0.4
           ]
          },
          {
           "label": "Optimizer",
           "range": [
            0,
            3
           ],
           "ticktext": [
            "adam",
            "rmsprop",
            "sgd"
           ],
           "tickvals": [
            0,
            1,
            2
           ],
           "values": [
            0,
            0,
            1,
            1,
            2,
            2,
            0,
            0,
            1,
            1,
            2,
            2,
            0,
            0,
            1,
            1,
            2,
            2,
            0,
            0,
            1,
            1,
            2,
            2,
            0,
            0,
            1,
            1,
            2,
            2,
            0,
            0,
            1,
            1,
            2,
            2,
            0,
            0,
            1,
            1,
            2,
            2,
            0,
            0,
            1,
            1,
            2,
            2,
            0,
            0,
            1,
            1,
            2,
            2,
            0,
            0,
            1,
            1,
            2,
            2,
            0,
            0,
            1,
            1,
            2,
            2,
            0,
            0,
            1,
            1,
            2,
            2,
            0,
            0,
            1,
            1,
            2,
            2,
            0,
            0,
            1,
            1,
            2,
            2,
            0,
            0,
            1,
            1,
            2,
            2,
            0,
            0,
            1,
            1,
            2,
            2,
            0,
            0,
            1,
            1,
            2,
            2,
            0,
            0,
            1,
            1,
            2,
            2,
            0,
            0,
            1,
            1,
            2,
            2,
            0,
            0,
            1,
            1,
            2,
            2
           ]
          },
          {
           "label": "Loss",
           "range": [
            0,
            2
           ],
           "ticktext": [
            "mae",
            "mse"
           ],
           "tickvals": [
            0,
            1
           ],
           "values": [
            0,
            1,
            0,
            1,
            0,
            1,
            0,
            1,
            0,
            1,
            0,
            1,
            0,
            1,
            0,
            1,
            0,
            1,
            0,
            1,
            0,
            1,
            0,
            1,
            0,
            1,
            0,
            1,
            0,
            1,
            0,
            1,
            0,
            1,
            0,
            1,
            0,
            1,
            0,
            1,
            0,
            1,
            0,
            1,
            0,
            1,
            0,
            1,
            0,
            1,
            0,
            1,
            0,
            1,
            0,
            1,
            0,
            1,
            0,
            1,
            0,
            1,
            0,
            1,
            0,
            1,
            0,
            1,
            0,
            1,
            0,
            1,
            0,
            1,
            0,
            1,
            0,
            1,
            0,
            1,
            0,
            1,
            0,
            1,
            0,
            1,
            0,
            1,
            0,
            1,
            0,
            1,
            0,
            1,
            0,
            1,
            0,
            1,
            0,
            1,
            0,
            1,
            0,
            1,
            0,
            1,
            0,
            1,
            0,
            1,
            0,
            1,
            0,
            1,
            0,
            1,
            0,
            1,
            0,
            1
           ]
          },
          {
           "label": "Accuracy",
           "range": [
            0,
            1
           ],
           "values": [
            0.29032257199287415,
            0.7204301357269287,
            0.7419354915618896,
            0.301075279712677,
            0.6666666865348816,
            0.6559139490127563,
            0.6881720423698425,
            0.6666666865348816,
            0.5698924660682678,
            0.31182795763015747,
            0.698924720287323,
            0.6666666865348816,
            0.698924720287323,
            0.3333333432674408,
            0.3870967626571655,
            0.31182795763015747,
            0.6451612710952759,
            0.23655913770198822,
            0.6774193644523621,
            0.32258063554763794,
            0.301075279712677,
            0.6881720423698425,
            0.6451612710952759,
            0.5483871102333069,
            0.7311828136444092,
            0.5161290168762207,
            0.301075279712677,
            0.6451612710952759,
            0.7204301357269287,
            0.6236559152603149,
            0.602150559425354,
            0.4516128897666931,
            0.6129032373428345,
            0.6666666865348816,
            0.7204301357269287,
            0.301075279712677,
            0.6881720423698425,
            0.25806450843811035,
            0.7204301357269287,
            0.7311828136444092,
            0.301075279712677,
            0.7311828136444092,
            0.6559139490127563,
            0.6881720423698425,
            0.6559139490127563,
            0.2150537669658661,
            0.6666666865348816,
            0.7096773982048035,
            0.2795698940753937,
            0.7526881694793701,
            0.4838709533214569,
            0.6881720423698425,
            0.6129032373428345,
            0.7204301357269287,
            0.698924720287323,
            0.7204301357269287,
            0.32258063554763794,
            0.7311828136444092,
            0.6666666865348816,
            0.7204301357269287,
            0.7634408473968506,
            0.6666666865348816,
            0.6451612710952759,
            0.698924720287323,
            0.6774193644523621,
            0.34408602118492126,
            0.6881720423698425,
            0.6559139490127563,
            0.7204301357269287,
            0.6344085931777954,
            0.29032257199287415,
            0.698924720287323,
            0.6774193644523621,
            0.2795698940753937,
            0.6559139490127563,
            0.6344085931777954,
            0.301075279712677,
            0.6129032373428345,
            0.698924720287323,
            0.602150559425354,
            0.6774193644523621,
            0.6774193644523621,
            0.6881720423698425,
            0.32258063554763794,
            0.7419354915618896,
            0.774193525314331,
            0.7526881694793701,
            0.6666666865348816,
            0.6451612710952759,
            0.4193548262119293,
            0.4193548262119293,
            0.6129032373428345,
            0.3655914068222046,
            0.602150559425354,
            0.6559139490127563,
            0.6451612710952759,
            0.7419354915618896,
            0.6666666865348816,
            0.34408602118492126,
            0.774193525314331,
            0.35483869910240173,
            0.7096773982048035,
            0.3333333432674408,
            0.7204301357269287,
            0.698924720287323,
            0.6344085931777954,
            0.6666666865348816,
            0.698924720287323,
            0.7096773982048035,
            0.6881720423698425,
            0.6774193644523621,
            0.5483871102333069,
            0.698924720287323,
            0.7526881694793701,
            0.6344085931777954,
            0.6774193644523621,
            0.6451612710952759,
            0.6774193644523621,
            0.6451612710952759,
            0.3333333432674408
           ]
          }
         ],
         "line": {
          "cmax": 1,
          "cmin": 0.5,
          "color": [
           0.29032257199287415,
           0.7204301357269287,
           0.7419354915618896,
           0.301075279712677,
           0.6666666865348816,
           0.6559139490127563,
           0.6881720423698425,
           0.6666666865348816,
           0.5698924660682678,
           0.31182795763015747,
           0.698924720287323,
           0.6666666865348816,
           0.698924720287323,
           0.3333333432674408,
           0.3870967626571655,
           0.31182795763015747,
           0.6451612710952759,
           0.23655913770198822,
           0.6774193644523621,
           0.32258063554763794,
           0.301075279712677,
           0.6881720423698425,
           0.6451612710952759,
           0.5483871102333069,
           0.7311828136444092,
           0.5161290168762207,
           0.301075279712677,
           0.6451612710952759,
           0.7204301357269287,
           0.6236559152603149,
           0.602150559425354,
           0.4516128897666931,
           0.6129032373428345,
           0.6666666865348816,
           0.7204301357269287,
           0.301075279712677,
           0.6881720423698425,
           0.25806450843811035,
           0.7204301357269287,
           0.7311828136444092,
           0.301075279712677,
           0.7311828136444092,
           0.6559139490127563,
           0.6881720423698425,
           0.6559139490127563,
           0.2150537669658661,
           0.6666666865348816,
           0.7096773982048035,
           0.2795698940753937,
           0.7526881694793701,
           0.4838709533214569,
           0.6881720423698425,
           0.6129032373428345,
           0.7204301357269287,
           0.698924720287323,
           0.7204301357269287,
           0.32258063554763794,
           0.7311828136444092,
           0.6666666865348816,
           0.7204301357269287,
           0.7634408473968506,
           0.6666666865348816,
           0.6451612710952759,
           0.698924720287323,
           0.6774193644523621,
           0.34408602118492126,
           0.6881720423698425,
           0.6559139490127563,
           0.7204301357269287,
           0.6344085931777954,
           0.29032257199287415,
           0.698924720287323,
           0.6774193644523621,
           0.2795698940753937,
           0.6559139490127563,
           0.6344085931777954,
           0.301075279712677,
           0.6129032373428345,
           0.698924720287323,
           0.602150559425354,
           0.6774193644523621,
           0.6774193644523621,
           0.6881720423698425,
           0.32258063554763794,
           0.7419354915618896,
           0.774193525314331,
           0.7526881694793701,
           0.6666666865348816,
           0.6451612710952759,
           0.4193548262119293,
           0.4193548262119293,
           0.6129032373428345,
           0.3655914068222046,
           0.602150559425354,
           0.6559139490127563,
           0.6451612710952759,
           0.7419354915618896,
           0.6666666865348816,
           0.34408602118492126,
           0.774193525314331,
           0.35483869910240173,
           0.7096773982048035,
           0.3333333432674408,
           0.7204301357269287,
           0.698924720287323,
           0.6344085931777954,
           0.6666666865348816,
           0.698924720287323,
           0.7096773982048035,
           0.6881720423698425,
           0.6774193644523621,
           0.5483871102333069,
           0.698924720287323,
           0.7526881694793701,
           0.6344085931777954,
           0.6774193644523621,
           0.6451612710952759,
           0.6774193644523621,
           0.6451612710952759,
           0.3333333432674408
          ],
          "colorscale": [
           [
            0,
            "rgb(0, 147, 146)"
           ],
           [
            0.16666666666666666,
            "rgb(114, 170, 161)"
           ],
           [
            0.3333333333333333,
            "rgb(177, 199, 179)"
           ],
           [
            0.5,
            "rgb(241, 234, 200)"
           ],
           [
            0.6666666666666666,
            "rgb(229, 185, 173)"
           ],
           [
            0.8333333333333334,
            "rgb(217, 137, 148)"
           ],
           [
            1,
            "rgb(208, 88, 126)"
           ]
          ],
          "showscale": true
         },
         "type": "parcoords"
        }
       ],
       "layout": {
        "template": {
         "data": {
          "bar": [
           {
            "error_x": {
             "color": "#2a3f5f"
            },
            "error_y": {
             "color": "#2a3f5f"
            },
            "marker": {
             "line": {
              "color": "#E5ECF6",
              "width": 0.5
             }
            },
            "type": "bar"
           }
          ],
          "barpolar": [
           {
            "marker": {
             "line": {
              "color": "#E5ECF6",
              "width": 0.5
             }
            },
            "type": "barpolar"
           }
          ],
          "carpet": [
           {
            "aaxis": {
             "endlinecolor": "#2a3f5f",
             "gridcolor": "white",
             "linecolor": "white",
             "minorgridcolor": "white",
             "startlinecolor": "#2a3f5f"
            },
            "baxis": {
             "endlinecolor": "#2a3f5f",
             "gridcolor": "white",
             "linecolor": "white",
             "minorgridcolor": "white",
             "startlinecolor": "#2a3f5f"
            },
            "type": "carpet"
           }
          ],
          "choropleth": [
           {
            "colorbar": {
             "outlinewidth": 0,
             "ticks": ""
            },
            "type": "choropleth"
           }
          ],
          "contour": [
           {
            "colorbar": {
             "outlinewidth": 0,
             "ticks": ""
            },
            "colorscale": [
             [
              0,
              "#0d0887"
             ],
             [
              0.1111111111111111,
              "#46039f"
             ],
             [
              0.2222222222222222,
              "#7201a8"
             ],
             [
              0.3333333333333333,
              "#9c179e"
             ],
             [
              0.4444444444444444,
              "#bd3786"
             ],
             [
              0.5555555555555556,
              "#d8576b"
             ],
             [
              0.6666666666666666,
              "#ed7953"
             ],
             [
              0.7777777777777778,
              "#fb9f3a"
             ],
             [
              0.8888888888888888,
              "#fdca26"
             ],
             [
              1,
              "#f0f921"
             ]
            ],
            "type": "contour"
           }
          ],
          "contourcarpet": [
           {
            "colorbar": {
             "outlinewidth": 0,
             "ticks": ""
            },
            "type": "contourcarpet"
           }
          ],
          "heatmap": [
           {
            "colorbar": {
             "outlinewidth": 0,
             "ticks": ""
            },
            "colorscale": [
             [
              0,
              "#0d0887"
             ],
             [
              0.1111111111111111,
              "#46039f"
             ],
             [
              0.2222222222222222,
              "#7201a8"
             ],
             [
              0.3333333333333333,
              "#9c179e"
             ],
             [
              0.4444444444444444,
              "#bd3786"
             ],
             [
              0.5555555555555556,
              "#d8576b"
             ],
             [
              0.6666666666666666,
              "#ed7953"
             ],
             [
              0.7777777777777778,
              "#fb9f3a"
             ],
             [
              0.8888888888888888,
              "#fdca26"
             ],
             [
              1,
              "#f0f921"
             ]
            ],
            "type": "heatmap"
           }
          ],
          "heatmapgl": [
           {
            "colorbar": {
             "outlinewidth": 0,
             "ticks": ""
            },
            "colorscale": [
             [
              0,
              "#0d0887"
             ],
             [
              0.1111111111111111,
              "#46039f"
             ],
             [
              0.2222222222222222,
              "#7201a8"
             ],
             [
              0.3333333333333333,
              "#9c179e"
             ],
             [
              0.4444444444444444,
              "#bd3786"
             ],
             [
              0.5555555555555556,
              "#d8576b"
             ],
             [
              0.6666666666666666,
              "#ed7953"
             ],
             [
              0.7777777777777778,
              "#fb9f3a"
             ],
             [
              0.8888888888888888,
              "#fdca26"
             ],
             [
              1,
              "#f0f921"
             ]
            ],
            "type": "heatmapgl"
           }
          ],
          "histogram": [
           {
            "marker": {
             "colorbar": {
              "outlinewidth": 0,
              "ticks": ""
             }
            },
            "type": "histogram"
           }
          ],
          "histogram2d": [
           {
            "colorbar": {
             "outlinewidth": 0,
             "ticks": ""
            },
            "colorscale": [
             [
              0,
              "#0d0887"
             ],
             [
              0.1111111111111111,
              "#46039f"
             ],
             [
              0.2222222222222222,
              "#7201a8"
             ],
             [
              0.3333333333333333,
              "#9c179e"
             ],
             [
              0.4444444444444444,
              "#bd3786"
             ],
             [
              0.5555555555555556,
              "#d8576b"
             ],
             [
              0.6666666666666666,
              "#ed7953"
             ],
             [
              0.7777777777777778,
              "#fb9f3a"
             ],
             [
              0.8888888888888888,
              "#fdca26"
             ],
             [
              1,
              "#f0f921"
             ]
            ],
            "type": "histogram2d"
           }
          ],
          "histogram2dcontour": [
           {
            "colorbar": {
             "outlinewidth": 0,
             "ticks": ""
            },
            "colorscale": [
             [
              0,
              "#0d0887"
             ],
             [
              0.1111111111111111,
              "#46039f"
             ],
             [
              0.2222222222222222,
              "#7201a8"
             ],
             [
              0.3333333333333333,
              "#9c179e"
             ],
             [
              0.4444444444444444,
              "#bd3786"
             ],
             [
              0.5555555555555556,
              "#d8576b"
             ],
             [
              0.6666666666666666,
              "#ed7953"
             ],
             [
              0.7777777777777778,
              "#fb9f3a"
             ],
             [
              0.8888888888888888,
              "#fdca26"
             ],
             [
              1,
              "#f0f921"
             ]
            ],
            "type": "histogram2dcontour"
           }
          ],
          "mesh3d": [
           {
            "colorbar": {
             "outlinewidth": 0,
             "ticks": ""
            },
            "type": "mesh3d"
           }
          ],
          "parcoords": [
           {
            "line": {
             "colorbar": {
              "outlinewidth": 0,
              "ticks": ""
             }
            },
            "type": "parcoords"
           }
          ],
          "pie": [
           {
            "automargin": true,
            "type": "pie"
           }
          ],
          "scatter": [
           {
            "marker": {
             "colorbar": {
              "outlinewidth": 0,
              "ticks": ""
             }
            },
            "type": "scatter"
           }
          ],
          "scatter3d": [
           {
            "line": {
             "colorbar": {
              "outlinewidth": 0,
              "ticks": ""
             }
            },
            "marker": {
             "colorbar": {
              "outlinewidth": 0,
              "ticks": ""
             }
            },
            "type": "scatter3d"
           }
          ],
          "scattercarpet": [
           {
            "marker": {
             "colorbar": {
              "outlinewidth": 0,
              "ticks": ""
             }
            },
            "type": "scattercarpet"
           }
          ],
          "scattergeo": [
           {
            "marker": {
             "colorbar": {
              "outlinewidth": 0,
              "ticks": ""
             }
            },
            "type": "scattergeo"
           }
          ],
          "scattergl": [
           {
            "marker": {
             "colorbar": {
              "outlinewidth": 0,
              "ticks": ""
             }
            },
            "type": "scattergl"
           }
          ],
          "scattermapbox": [
           {
            "marker": {
             "colorbar": {
              "outlinewidth": 0,
              "ticks": ""
             }
            },
            "type": "scattermapbox"
           }
          ],
          "scatterpolar": [
           {
            "marker": {
             "colorbar": {
              "outlinewidth": 0,
              "ticks": ""
             }
            },
            "type": "scatterpolar"
           }
          ],
          "scatterpolargl": [
           {
            "marker": {
             "colorbar": {
              "outlinewidth": 0,
              "ticks": ""
             }
            },
            "type": "scatterpolargl"
           }
          ],
          "scatterternary": [
           {
            "marker": {
             "colorbar": {
              "outlinewidth": 0,
              "ticks": ""
             }
            },
            "type": "scatterternary"
           }
          ],
          "surface": [
           {
            "colorbar": {
             "outlinewidth": 0,
             "ticks": ""
            },
            "colorscale": [
             [
              0,
              "#0d0887"
             ],
             [
              0.1111111111111111,
              "#46039f"
             ],
             [
              0.2222222222222222,
              "#7201a8"
             ],
             [
              0.3333333333333333,
              "#9c179e"
             ],
             [
              0.4444444444444444,
              "#bd3786"
             ],
             [
              0.5555555555555556,
              "#d8576b"
             ],
             [
              0.6666666666666666,
              "#ed7953"
             ],
             [
              0.7777777777777778,
              "#fb9f3a"
             ],
             [
              0.8888888888888888,
              "#fdca26"
             ],
             [
              1,
              "#f0f921"
             ]
            ],
            "type": "surface"
           }
          ],
          "table": [
           {
            "cells": {
             "fill": {
              "color": "#EBF0F8"
             },
             "line": {
              "color": "white"
             }
            },
            "header": {
             "fill": {
              "color": "#C8D4E3"
             },
             "line": {
              "color": "white"
             }
            },
            "type": "table"
           }
          ]
         },
         "layout": {
          "annotationdefaults": {
           "arrowcolor": "#2a3f5f",
           "arrowhead": 0,
           "arrowwidth": 1
          },
          "coloraxis": {
           "colorbar": {
            "outlinewidth": 0,
            "ticks": ""
           }
          },
          "colorscale": {
           "diverging": [
            [
             0,
             "#8e0152"
            ],
            [
             0.1,
             "#c51b7d"
            ],
            [
             0.2,
             "#de77ae"
            ],
            [
             0.3,
             "#f1b6da"
            ],
            [
             0.4,
             "#fde0ef"
            ],
            [
             0.5,
             "#f7f7f7"
            ],
            [
             0.6,
             "#e6f5d0"
            ],
            [
             0.7,
             "#b8e186"
            ],
            [
             0.8,
             "#7fbc41"
            ],
            [
             0.9,
             "#4d9221"
            ],
            [
             1,
             "#276419"
            ]
           ],
           "sequential": [
            [
             0,
             "#0d0887"
            ],
            [
             0.1111111111111111,
             "#46039f"
            ],
            [
             0.2222222222222222,
             "#7201a8"
            ],
            [
             0.3333333333333333,
             "#9c179e"
            ],
            [
             0.4444444444444444,
             "#bd3786"
            ],
            [
             0.5555555555555556,
             "#d8576b"
            ],
            [
             0.6666666666666666,
             "#ed7953"
            ],
            [
             0.7777777777777778,
             "#fb9f3a"
            ],
            [
             0.8888888888888888,
             "#fdca26"
            ],
            [
             1,
             "#f0f921"
            ]
           ],
           "sequentialminus": [
            [
             0,
             "#0d0887"
            ],
            [
             0.1111111111111111,
             "#46039f"
            ],
            [
             0.2222222222222222,
             "#7201a8"
            ],
            [
             0.3333333333333333,
             "#9c179e"
            ],
            [
             0.4444444444444444,
             "#bd3786"
            ],
            [
             0.5555555555555556,
             "#d8576b"
            ],
            [
             0.6666666666666666,
             "#ed7953"
            ],
            [
             0.7777777777777778,
             "#fb9f3a"
            ],
            [
             0.8888888888888888,
             "#fdca26"
            ],
            [
             1,
             "#f0f921"
            ]
           ]
          },
          "colorway": [
           "#636efa",
           "#EF553B",
           "#00cc96",
           "#ab63fa",
           "#FFA15A",
           "#19d3f3",
           "#FF6692",
           "#B6E880",
           "#FF97FF",
           "#FECB52"
          ],
          "font": {
           "color": "#2a3f5f"
          },
          "geo": {
           "bgcolor": "white",
           "lakecolor": "white",
           "landcolor": "#E5ECF6",
           "showlakes": true,
           "showland": true,
           "subunitcolor": "white"
          },
          "hoverlabel": {
           "align": "left"
          },
          "hovermode": "closest",
          "mapbox": {
           "style": "light"
          },
          "paper_bgcolor": "white",
          "plot_bgcolor": "#E5ECF6",
          "polar": {
           "angularaxis": {
            "gridcolor": "white",
            "linecolor": "white",
            "ticks": ""
           },
           "bgcolor": "#E5ECF6",
           "radialaxis": {
            "gridcolor": "white",
            "linecolor": "white",
            "ticks": ""
           }
          },
          "scene": {
           "xaxis": {
            "backgroundcolor": "#E5ECF6",
            "gridcolor": "white",
            "gridwidth": 2,
            "linecolor": "white",
            "showbackground": true,
            "ticks": "",
            "zerolinecolor": "white"
           },
           "yaxis": {
            "backgroundcolor": "#E5ECF6",
            "gridcolor": "white",
            "gridwidth": 2,
            "linecolor": "white",
            "showbackground": true,
            "ticks": "",
            "zerolinecolor": "white"
           },
           "zaxis": {
            "backgroundcolor": "#E5ECF6",
            "gridcolor": "white",
            "gridwidth": 2,
            "linecolor": "white",
            "showbackground": true,
            "ticks": "",
            "zerolinecolor": "white"
           }
          },
          "shapedefaults": {
           "line": {
            "color": "#2a3f5f"
           }
          },
          "ternary": {
           "aaxis": {
            "gridcolor": "white",
            "linecolor": "white",
            "ticks": ""
           },
           "baxis": {
            "gridcolor": "white",
            "linecolor": "white",
            "ticks": ""
           },
           "bgcolor": "#E5ECF6",
           "caxis": {
            "gridcolor": "white",
            "linecolor": "white",
            "ticks": ""
           }
          },
          "title": {
           "x": 0.05
          },
          "xaxis": {
           "automargin": true,
           "gridcolor": "white",
           "linecolor": "white",
           "ticks": "",
           "title": {
            "standoff": 15
           },
           "zerolinecolor": "white",
           "zerolinewidth": 2
          },
          "yaxis": {
           "automargin": true,
           "gridcolor": "white",
           "linecolor": "white",
           "ticks": "",
           "title": {
            "standoff": 15
           },
           "zerolinecolor": "white",
           "zerolinewidth": 2
          }
         }
        }
       }
      }
     },
     "metadata": {}
    }
   ],
   "source": [
    "import plotly.graph_objects as go\n",
    "\n",
    "df = pd.DataFrame(hp_results)\n",
    "\n",
    "fig = go.Figure(data=\n",
    "    go.Parcoords(\n",
    "        line = dict(color = df['accuracy'],\n",
    "                   colorscale = 'Tealrose',\n",
    "                   showscale = True,\n",
    "                   cmin = 0.5,\n",
    "                   cmax = 1.0),\n",
    "        dimensions = list([\n",
    "            dict(range = [min(HP_NUM_UNITS.domain.values), max(HP_NUM_UNITS.domain.values)],\n",
    "                 label = \"Dense units\", values = df['dense_units']),\n",
    "            dict(range = [min(HP_DROPOUT.domain.values), max(HP_DROPOUT.domain.values)],\n",
    "                 label = 'Dropout rate', values = df['dropout_rate']),\n",
    "            dict(tickvals = [0, 1, 2],\n",
    "                 range = [0, len(HP_OPTIMIZER.domain.values)],\n",
    "                 ticktext = HP_OPTIMIZER.domain.values,\n",
    "                 label = 'Optimizer', values = df['optimizer']),\n",
    "            dict(tickvals = [0, 1],\n",
    "                 range = [0, len(HP_LOSS.domain.values)],\n",
    "                 ticktext = HP_LOSS.domain.values,\n",
    "                 label = 'Loss', values = df['loss']),\n",
    "            dict(range = [0, 1.0],\n",
    "                 label = 'Accuracy', values = df['accuracy'])])\n",
    "    )\n",
    ")\n",
    "fig.show()"
   ]
  },
  {
   "cell_type": "code",
   "execution_count": null,
   "metadata": {},
   "outputs": [],
   "source": []
  }
 ]
}