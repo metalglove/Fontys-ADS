{
 "metadata": {
  "language_info": {
   "codemirror_mode": {
    "name": "ipython",
    "version": 3
   },
   "file_extension": ".py",
   "mimetype": "text/x-python",
   "name": "python",
   "nbconvert_exporter": "python",
   "pygments_lexer": "ipython3",
   "version": "3.7.9-final"
  },
  "orig_nbformat": 2,
  "kernelspec": {
   "name": "Python 3.7.9 64-bit ('tfenv': conda)",
   "display_name": "Python 3.7.9 64-bit ('tfenv': conda)",
   "metadata": {
    "interpreter": {
     "hash": "02bf624525e16d02427f3fce9702099825ba623cec0caf430ca516da67aaa832"
    }
   }
  }
 },
 "nbformat": 4,
 "nbformat_minor": 2,
 "cells": [
  {
   "cell_type": "markdown",
   "metadata": {},
   "source": [
    "# Open Program - Capsule Networks\n",
    "This notebook is explains how Capsule Networks work and can be applied."
   ]
  },
  {
   "cell_type": "markdown",
   "metadata": {},
   "source": [
    "## 0. Preparation\n",
    "In this section useful libraries are imported which are used in most data science projects."
   ]
  },
  {
   "cell_type": "code",
   "execution_count": 1,
   "metadata": {},
   "outputs": [],
   "source": [
    "import os\n",
    "import sys\n",
    "\n",
    "# sets the path to the home directory of this repository so other modules can be imported. \n",
    "project_path = os.getcwd()\n",
    "root_path = os.path.split(os.path.split(os.getcwd())[0])[0]\n",
    "assert root_path.endswith(\"Fontys-ADS\"), \"The root path does not end with Fontys-ADS: \" + root_path \n",
    "sys.path.insert(0, root_path)\n",
    "\n",
    "import numpy as np\n",
    "import pandas as pd\n",
    "import tensorflow as tf\n",
    "import matplotlib.pyplot as plt\n",
    "\n",
    "# for easily displaying images\n",
    "from IPython.display import Image\n",
    "\n",
    "# set the seed for reproducible results.\n",
    "np.random.seed(56)\n",
    "tf.random.set_seed(56)"
   ]
  },
  {
   "source": [
    "## 1. What are Capsule Neural Networks?\n",
    "d"
   ],
   "cell_type": "markdown",
   "metadata": {}
  },
  {
   "source": [
    "## 2. Implementation\n",
    "In this notebook, the proposed architecture from the paper [Dynamic Routing Between Capsules](https://arxiv.org/abs/1710.09829) for solving MNIST is implemented. <br>\n",
    "\n",
    "<figure class=\"image\">\n",
    "  <img src=\"Capsule-network-mnist.jpg\" alt=\"Capsule Network MNIST\">\n",
    "  <figcaption> 1. Capsule Network MNIST.</figcaption>\n",
    "</figure>\n",
    "As seen in figure 1, the architecture has 2 new components in model building. <br>\n",
    "A PrimaryCap layer and a DigitCap layer. In the following chapters these layers will be implemented and explained."
   ],
   "cell_type": "markdown",
   "metadata": {}
  },
  {
   "source": [
    "### 2.1 Squashing Activation Function\n",
    "The squashing activation function is a non-linear activation function used with capsule layers.<br>\n",
    "The length of the output vector of a capsule to represents the probability that the entity <br>\n",
    "represented by the capsule is present in the current input. A non-linear \"squashing\" <br>\n",
    "function is used to ensure that short vectors get shrunk to almost zero length and long vectors get shrunk to a <br>\n",
    "length slightly below 1. <br> <br>\n",
    " In the paper it is stated that they leave it to discriminative learning to make good use of this non-linearity. <br>\n",
    "\n",
    "\\begin{multline*}\n",
    "    {\\bf v}_j = \\frac{||{\\bf s}_j||^2}{1+||{\\bf s}_j||^2} \\frac{{\\bf s}_j}{||{\\bf s}_j||}\n",
    "\\end{multline*}\n",
    "where ${\\bf v}_j$ is the vector output of capsule $j$ and ${\\bf s}_j$ is its total input."
   ],
   "cell_type": "markdown",
   "metadata": {}
  },
  {
   "cell_type": "code",
   "execution_count": 3,
   "metadata": {},
   "outputs": [],
   "source": [
    "from tensorflow.keras import backend as K\n",
    "\n",
    "class SquashActivationLayer(tf.keras.layers.Layer):\n",
    "    def __init__(self):\n",
    "        super(SquashActivationLayer, self).__init__()\n",
    "        # ---------------------------- Squash Activation Layer ----------------------------\n",
    "\n",
    "    def call(self, vectors):\n",
    "        # Added epsilon to prevent division by zero errors.\n",
    "        norm = tf.norm(vectors, axis=-1, keepdims=True) + K.epsilon()\n",
    "        squared_norm = tf.square(norm)\n",
    "        scaling = vectors / norm\n",
    "        additional_squashing = squared_norm / (1 + squared_norm)\n",
    "        return additional_squashing * scaling"
   ]
  },
  {
   "source": [
    "### 2.2 Primary Capsule Layer"
   ],
   "cell_type": "markdown",
   "metadata": {}
  },
  {
   "cell_type": "code",
   "execution_count": 4,
   "metadata": {},
   "outputs": [],
   "source": [
    "from tensorflow.keras.layers import Layer, Conv2D, Reshape, Input\n",
    "\n",
    "class PrimaryCapsuleLayer(Layer):\n",
    "    def __init__(self, channels, capsule_dimension, kernel_size, strides):\n",
    "        super(PrimaryCapsuleLayer, self).__init__()\n",
    "        # ---------------------------- Primary Capsule Layer ----------------------------\n",
    "\n",
    "        # 1. convolutional layer.\n",
    "        capsule_filters = capsule_dimension * channels\n",
    "        self.conv1_layer = Conv2D(filters=capsule_filters, kernel_size=kernel_size, strides=strides, padding='valid', name='PrimaryCapsuleLayer_Conv2D')\n",
    "        \n",
    "        # 2. reshape layer for 1D outputs.\n",
    "        self.reshape_layer = Reshape(target_shape=(-1, capsule_dimension))\n",
    "\n",
    "        # 3. squashing outputs.\n",
    "        self.squash_activation_layer = SquashActivationLayer()\n",
    "\n",
    "    def call(self, inputs):\n",
    "        # tf.print(f'PrimaryCapsuleLayer -> Inputs shape{inputs.shape}')\n",
    "        x = self.conv1_layer(inputs)\n",
    "        # tf.print(f'PrimaryCapsuleLayer -> Conv1 shape{x.shape}')\n",
    "        x = self.reshape_layer(x)\n",
    "        # tf.print(f'PrimaryCapsuleLayer -> Reshape shape{x.shape}')\n",
    "        x = self.squash_activation_layer(x)\n",
    "        # tf.print(f'PrimaryCapsuleLayer -> Squash shape{x.shape}')\n",
    "        return x"
   ]
  },
  {
   "source": [
    "### 2.3 Capsule Layer With Routing"
   ],
   "cell_type": "markdown",
   "metadata": {}
  },
  {
   "cell_type": "code",
   "execution_count": 5,
   "metadata": {},
   "outputs": [],
   "source": [
    "class CapsuleLayer(Layer):\n",
    "    def __init__(self, capsules):\n",
    "        super(CapsuleLayer, self).__init__()\n",
    "        # ---------------------------- Capsule Layer ----------------------------\n",
    "        \n",
    "\n",
    "    def call(self):\n",
    "        pass"
   ]
  },
  {
   "source": [
    "### 2.4 MNIST Capsule Network"
   ],
   "cell_type": "markdown",
   "metadata": {}
  },
  {
   "cell_type": "code",
   "execution_count": 6,
   "metadata": {},
   "outputs": [],
   "source": [
    "class MNISTCapsuleNetwork(tf.keras.Model):\n",
    "    def __init__(self, image_dimensions):\n",
    "        super(MNISTCapsuleNetwork, self).__init__()\n",
    "        # ---------------------------- MNIST Capsule Network ----------------------------\n",
    "        # set image dimensions.\n",
    "        self.image_height, self.image_width, self.image_channels = image_dimensions\n",
    "\n",
    "        # MNIST contains 10 classes: 0, 1, 2, 3, 4, 5, 6, 7, 8 and 9.\n",
    "        self.classes = 10\n",
    "\n",
    "        # 1. first convolutional layer\n",
    "        # this layer converts pixel intensities to the activities of \n",
    "        # local feature detectors that are then used as inputs to the primary capsules.\n",
    "        self.conv1 = Conv2D(filters=256, kernel_size=9, strides=1, activation='relu')\n",
    "\n",
    "        # 2. primary capsule layer\n",
    "        self.primary_capsule_layer = PrimaryCapsuleLayer(channels=32, capsule_dimension=8, kernel_size=9, strides=2)\n",
    "\n",
    "    def call(self, inputs):\n",
    "        # tf.print(f'Inputs shape{inputs.shape}')\n",
    "        x = self.conv1(inputs)\n",
    "        # tf.print(f'Conv1 shape{x.shape}')\n",
    "        x = self.primary_capsule_layer(x)\n",
    "        # tf.print(f'Primary Capsule shape{x.shape}')\n",
    "        return x"
   ]
  },
  {
   "cell_type": "code",
   "execution_count": 7,
   "metadata": {},
   "outputs": [],
   "source": [
    "img = tf.random.uniform((10, 28, 28, 1), maxval=1.)\n",
    "target = tf.reduce_mean(tf.reshape(img, (10, 28 * 28)), axis=-1)"
   ]
  },
  {
   "cell_type": "code",
   "execution_count": 8,
   "metadata": {},
   "outputs": [
    {
     "output_type": "execute_result",
     "data": {
      "text/plain": [
       "<tf.Tensor: shape=(10,), dtype=float32, numpy=\n",
       "array([0.50296915, 0.49709627, 0.5028499 , 0.50024956, 0.48357898,\n",
       "       0.49984592, 0.5002002 , 0.50537235, 0.5022704 , 0.50390977],\n",
       "      dtype=float32)>"
      ]
     },
     "metadata": {},
     "execution_count": 8
    }
   ],
   "source": [
    "target"
   ]
  },
  {
   "cell_type": "code",
   "execution_count": 9,
   "metadata": {},
   "outputs": [
    {
     "output_type": "execute_result",
     "data": {
      "text/plain": [
       "<matplotlib.image.AxesImage at 0x2531606c108>"
      ]
     },
     "metadata": {},
     "execution_count": 9
    },
    {
     "output_type": "display_data",
     "data": {
      "text/plain": "<Figure size 432x288 with 1 Axes>",
      "image/svg+xml": "<?xml version=\"1.0\" encoding=\"utf-8\" standalone=\"no\"?>\r\n<!DOCTYPE svg PUBLIC \"-//W3C//DTD SVG 1.1//EN\"\r\n  \"http://www.w3.org/Graphics/SVG/1.1/DTD/svg11.dtd\">\r\n<!-- Created with matplotlib (https://matplotlib.org/) -->\r\n<svg height=\"248.518125pt\" version=\"1.1\" viewBox=\"0 0 251.565 248.518125\" width=\"251.565pt\" xmlns=\"http://www.w3.org/2000/svg\" xmlns:xlink=\"http://www.w3.org/1999/xlink\">\r\n <metadata>\r\n  <rdf:RDF xmlns:cc=\"http://creativecommons.org/ns#\" xmlns:dc=\"http://purl.org/dc/elements/1.1/\" xmlns:rdf=\"http://www.w3.org/1999/02/22-rdf-syntax-ns#\">\r\n   <cc:Work>\r\n    <dc:type rdf:resource=\"http://purl.org/dc/dcmitype/StillImage\"/>\r\n    <dc:date>2020-10-22T03:10:10.651191</dc:date>\r\n    <dc:format>image/svg+xml</dc:format>\r\n    <dc:creator>\r\n     <cc:Agent>\r\n      <dc:title>Matplotlib v3.3.2, https://matplotlib.org/</dc:title>\r\n     </cc:Agent>\r\n    </dc:creator>\r\n   </cc:Work>\r\n  </rdf:RDF>\r\n </metadata>\r\n <defs>\r\n  <style type=\"text/css\">*{stroke-linecap:butt;stroke-linejoin:round;}</style>\r\n </defs>\r\n <g id=\"figure_1\">\r\n  <g id=\"patch_1\">\r\n   <path d=\"M 0 248.518125 \r\nL 251.565 248.518125 \r\nL 251.565 0 \r\nL 0 0 \r\nz\r\n\" style=\"fill:none;\"/>\r\n  </g>\r\n  <g id=\"axes_1\">\r\n   <g id=\"patch_2\">\r\n    <path d=\"M 26.925 224.64 \r\nL 244.365 224.64 \r\nL 244.365 7.2 \r\nL 26.925 7.2 \r\nz\r\n\" style=\"fill:#ffffff;\"/>\r\n   </g>\r\n   <g clip-path=\"url(#p6a4fae7290)\">\r\n    <image height=\"218\" id=\"image24953cd96f\" transform=\"scale(1 -1)translate(0 -218)\" width=\"218\" x=\"26.925\" xlink:href=\"data:image/png;base64,\r\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\" y=\"-6.64\"/>\r\n   </g>\r\n   <g id=\"matplotlib.axis_1\">\r\n    <g id=\"xtick_1\">\r\n     <g id=\"line2d_1\">\r\n      <defs>\r\n       <path d=\"M 0 0 \r\nL 0 3.5 \r\n\" id=\"mbda59d89f8\" style=\"stroke:#000000;stroke-width:0.8;\"/>\r\n      </defs>\r\n      <g>\r\n       <use style=\"stroke:#000000;stroke-width:0.8;\" x=\"30.807857\" xlink:href=\"#mbda59d89f8\" y=\"224.64\"/>\r\n      </g>\r\n     </g>\r\n     <g id=\"text_1\">\r\n      <!-- 0 -->\r\n      <g transform=\"translate(27.626607 239.238437)scale(0.1 -0.1)\">\r\n       <defs>\r\n        <path d=\"M 31.78125 66.40625 \r\nQ 24.171875 66.40625 20.328125 58.90625 \r\nQ 16.5 51.421875 16.5 36.375 \r\nQ 16.5 21.390625 20.328125 13.890625 \r\nQ 24.171875 6.390625 31.78125 6.390625 \r\nQ 39.453125 6.390625 43.28125 13.890625 \r\nQ 47.125 21.390625 47.125 36.375 \r\nQ 47.125 51.421875 43.28125 58.90625 \r\nQ 39.453125 66.40625 31.78125 66.40625 \r\nz\r\nM 31.78125 74.21875 \r\nQ 44.046875 74.21875 50.515625 64.515625 \r\nQ 56.984375 54.828125 56.984375 36.375 \r\nQ 56.984375 17.96875 50.515625 8.265625 \r\nQ 44.046875 -1.421875 31.78125 -1.421875 \r\nQ 19.53125 -1.421875 13.0625 8.265625 \r\nQ 6.59375 17.96875 6.59375 36.375 \r\nQ 6.59375 54.828125 13.0625 64.515625 \r\nQ 19.53125 74.21875 31.78125 74.21875 \r\nz\r\n\" id=\"DejaVuSans-48\"/>\r\n       </defs>\r\n       <use xlink:href=\"#DejaVuSans-48\"/>\r\n      </g>\r\n     </g>\r\n    </g>\r\n    <g id=\"xtick_2\">\r\n     <g id=\"line2d_2\">\r\n      <g>\r\n       <use style=\"stroke:#000000;stroke-width:0.8;\" x=\"69.636429\" xlink:href=\"#mbda59d89f8\" y=\"224.64\"/>\r\n      </g>\r\n     </g>\r\n     <g id=\"text_2\">\r\n      <!-- 5 -->\r\n      <g transform=\"translate(66.455179 239.238437)scale(0.1 -0.1)\">\r\n       <defs>\r\n        <path d=\"M 10.796875 72.90625 \r\nL 49.515625 72.90625 \r\nL 49.515625 64.59375 \r\nL 19.828125 64.59375 \r\nL 19.828125 46.734375 \r\nQ 21.96875 47.46875 24.109375 47.828125 \r\nQ 26.265625 48.1875 28.421875 48.1875 \r\nQ 40.625 48.1875 47.75 41.5 \r\nQ 54.890625 34.8125 54.890625 23.390625 \r\nQ 54.890625 11.625 47.5625 5.09375 \r\nQ 40.234375 -1.421875 26.90625 -1.421875 \r\nQ 22.3125 -1.421875 17.546875 -0.640625 \r\nQ 12.796875 0.140625 7.71875 1.703125 \r\nL 7.71875 11.625 \r\nQ 12.109375 9.234375 16.796875 8.0625 \r\nQ 21.484375 6.890625 26.703125 6.890625 \r\nQ 35.15625 6.890625 40.078125 11.328125 \r\nQ 45.015625 15.765625 45.015625 23.390625 \r\nQ 45.015625 31 40.078125 35.4375 \r\nQ 35.15625 39.890625 26.703125 39.890625 \r\nQ 22.75 39.890625 18.8125 39.015625 \r\nQ 14.890625 38.140625 10.796875 36.28125 \r\nz\r\n\" id=\"DejaVuSans-53\"/>\r\n       </defs>\r\n       <use xlink:href=\"#DejaVuSans-53\"/>\r\n      </g>\r\n     </g>\r\n    </g>\r\n    <g id=\"xtick_3\">\r\n     <g id=\"line2d_3\">\r\n      <g>\r\n       <use style=\"stroke:#000000;stroke-width:0.8;\" x=\"108.465\" xlink:href=\"#mbda59d89f8\" y=\"224.64\"/>\r\n      </g>\r\n     </g>\r\n     <g id=\"text_3\">\r\n      <!-- 10 -->\r\n      <g transform=\"translate(102.1025 239.238437)scale(0.1 -0.1)\">\r\n       <defs>\r\n        <path d=\"M 12.40625 8.296875 \r\nL 28.515625 8.296875 \r\nL 28.515625 63.921875 \r\nL 10.984375 60.40625 \r\nL 10.984375 69.390625 \r\nL 28.421875 72.90625 \r\nL 38.28125 72.90625 \r\nL 38.28125 8.296875 \r\nL 54.390625 8.296875 \r\nL 54.390625 0 \r\nL 12.40625 0 \r\nz\r\n\" id=\"DejaVuSans-49\"/>\r\n       </defs>\r\n       <use xlink:href=\"#DejaVuSans-49\"/>\r\n       <use x=\"63.623047\" xlink:href=\"#DejaVuSans-48\"/>\r\n      </g>\r\n     </g>\r\n    </g>\r\n    <g id=\"xtick_4\">\r\n     <g id=\"line2d_4\">\r\n      <g>\r\n       <use style=\"stroke:#000000;stroke-width:0.8;\" x=\"147.293571\" xlink:href=\"#mbda59d89f8\" y=\"224.64\"/>\r\n      </g>\r\n     </g>\r\n     <g id=\"text_4\">\r\n      <!-- 15 -->\r\n      <g transform=\"translate(140.931071 239.238437)scale(0.1 -0.1)\">\r\n       <use xlink:href=\"#DejaVuSans-49\"/>\r\n       <use x=\"63.623047\" xlink:href=\"#DejaVuSans-53\"/>\r\n      </g>\r\n     </g>\r\n    </g>\r\n    <g id=\"xtick_5\">\r\n     <g id=\"line2d_5\">\r\n      <g>\r\n       <use style=\"stroke:#000000;stroke-width:0.8;\" x=\"186.122143\" xlink:href=\"#mbda59d89f8\" y=\"224.64\"/>\r\n      </g>\r\n     </g>\r\n     <g id=\"text_5\">\r\n      <!-- 20 -->\r\n      <g transform=\"translate(179.759643 239.238437)scale(0.1 -0.1)\">\r\n       <defs>\r\n        <path d=\"M 19.1875 8.296875 \r\nL 53.609375 8.296875 \r\nL 53.609375 0 \r\nL 7.328125 0 \r\nL 7.328125 8.296875 \r\nQ 12.9375 14.109375 22.625 23.890625 \r\nQ 32.328125 33.6875 34.8125 36.53125 \r\nQ 39.546875 41.84375 41.421875 45.53125 \r\nQ 43.3125 49.21875 43.3125 52.78125 \r\nQ 43.3125 58.59375 39.234375 62.25 \r\nQ 35.15625 65.921875 28.609375 65.921875 \r\nQ 23.96875 65.921875 18.8125 64.3125 \r\nQ 13.671875 62.703125 7.8125 59.421875 \r\nL 7.8125 69.390625 \r\nQ 13.765625 71.78125 18.9375 73 \r\nQ 24.125 74.21875 28.421875 74.21875 \r\nQ 39.75 74.21875 46.484375 68.546875 \r\nQ 53.21875 62.890625 53.21875 53.421875 \r\nQ 53.21875 48.921875 51.53125 44.890625 \r\nQ 49.859375 40.875 45.40625 35.40625 \r\nQ 44.1875 33.984375 37.640625 27.21875 \r\nQ 31.109375 20.453125 19.1875 8.296875 \r\nz\r\n\" id=\"DejaVuSans-50\"/>\r\n       </defs>\r\n       <use xlink:href=\"#DejaVuSans-50\"/>\r\n       <use x=\"63.623047\" xlink:href=\"#DejaVuSans-48\"/>\r\n      </g>\r\n     </g>\r\n    </g>\r\n    <g id=\"xtick_6\">\r\n     <g id=\"line2d_6\">\r\n      <g>\r\n       <use style=\"stroke:#000000;stroke-width:0.8;\" x=\"224.950714\" xlink:href=\"#mbda59d89f8\" y=\"224.64\"/>\r\n      </g>\r\n     </g>\r\n     <g id=\"text_6\">\r\n      <!-- 25 -->\r\n      <g transform=\"translate(218.588214 239.238437)scale(0.1 -0.1)\">\r\n       <use xlink:href=\"#DejaVuSans-50\"/>\r\n       <use x=\"63.623047\" xlink:href=\"#DejaVuSans-53\"/>\r\n      </g>\r\n     </g>\r\n    </g>\r\n   </g>\r\n   <g id=\"matplotlib.axis_2\">\r\n    <g id=\"ytick_1\">\r\n     <g id=\"line2d_7\">\r\n      <defs>\r\n       <path d=\"M 0 0 \r\nL -3.5 0 \r\n\" id=\"mba72338425\" style=\"stroke:#000000;stroke-width:0.8;\"/>\r\n      </defs>\r\n      <g>\r\n       <use style=\"stroke:#000000;stroke-width:0.8;\" x=\"26.925\" xlink:href=\"#mba72338425\" y=\"11.082857\"/>\r\n      </g>\r\n     </g>\r\n     <g id=\"text_7\">\r\n      <!-- 0 -->\r\n      <g transform=\"translate(13.5625 14.882076)scale(0.1 -0.1)\">\r\n       <use xlink:href=\"#DejaVuSans-48\"/>\r\n      </g>\r\n     </g>\r\n    </g>\r\n    <g id=\"ytick_2\">\r\n     <g id=\"line2d_8\">\r\n      <g>\r\n       <use style=\"stroke:#000000;stroke-width:0.8;\" x=\"26.925\" xlink:href=\"#mba72338425\" y=\"49.911429\"/>\r\n      </g>\r\n     </g>\r\n     <g id=\"text_8\">\r\n      <!-- 5 -->\r\n      <g transform=\"translate(13.5625 53.710647)scale(0.1 -0.1)\">\r\n       <use xlink:href=\"#DejaVuSans-53\"/>\r\n      </g>\r\n     </g>\r\n    </g>\r\n    <g id=\"ytick_3\">\r\n     <g id=\"line2d_9\">\r\n      <g>\r\n       <use style=\"stroke:#000000;stroke-width:0.8;\" x=\"26.925\" xlink:href=\"#mba72338425\" y=\"88.74\"/>\r\n      </g>\r\n     </g>\r\n     <g id=\"text_9\">\r\n      <!-- 10 -->\r\n      <g transform=\"translate(7.2 92.539219)scale(0.1 -0.1)\">\r\n       <use xlink:href=\"#DejaVuSans-49\"/>\r\n       <use x=\"63.623047\" xlink:href=\"#DejaVuSans-48\"/>\r\n      </g>\r\n     </g>\r\n    </g>\r\n    <g id=\"ytick_4\">\r\n     <g id=\"line2d_10\">\r\n      <g>\r\n       <use style=\"stroke:#000000;stroke-width:0.8;\" x=\"26.925\" xlink:href=\"#mba72338425\" y=\"127.568571\"/>\r\n      </g>\r\n     </g>\r\n     <g id=\"text_10\">\r\n      <!-- 15 -->\r\n      <g transform=\"translate(7.2 131.36779)scale(0.1 -0.1)\">\r\n       <use xlink:href=\"#DejaVuSans-49\"/>\r\n       <use x=\"63.623047\" xlink:href=\"#DejaVuSans-53\"/>\r\n      </g>\r\n     </g>\r\n    </g>\r\n    <g id=\"ytick_5\">\r\n     <g id=\"line2d_11\">\r\n      <g>\r\n       <use style=\"stroke:#000000;stroke-width:0.8;\" x=\"26.925\" xlink:href=\"#mba72338425\" y=\"166.397143\"/>\r\n      </g>\r\n     </g>\r\n     <g id=\"text_11\">\r\n      <!-- 20 -->\r\n      <g transform=\"translate(7.2 170.196362)scale(0.1 -0.1)\">\r\n       <use xlink:href=\"#DejaVuSans-50\"/>\r\n       <use x=\"63.623047\" xlink:href=\"#DejaVuSans-48\"/>\r\n      </g>\r\n     </g>\r\n    </g>\r\n    <g id=\"ytick_6\">\r\n     <g id=\"line2d_12\">\r\n      <g>\r\n       <use style=\"stroke:#000000;stroke-width:0.8;\" x=\"26.925\" xlink:href=\"#mba72338425\" y=\"205.225714\"/>\r\n      </g>\r\n     </g>\r\n     <g id=\"text_12\">\r\n      <!-- 25 -->\r\n      <g transform=\"translate(7.2 209.024933)scale(0.1 -0.1)\">\r\n       <use xlink:href=\"#DejaVuSans-50\"/>\r\n       <use x=\"63.623047\" xlink:href=\"#DejaVuSans-53\"/>\r\n      </g>\r\n     </g>\r\n    </g>\r\n   </g>\r\n   <g id=\"patch_3\">\r\n    <path d=\"M 26.925 224.64 \r\nL 26.925 7.2 \r\n\" style=\"fill:none;stroke:#000000;stroke-linecap:square;stroke-linejoin:miter;stroke-width:0.8;\"/>\r\n   </g>\r\n   <g id=\"patch_4\">\r\n    <path d=\"M 244.365 224.64 \r\nL 244.365 7.2 \r\n\" style=\"fill:none;stroke:#000000;stroke-linecap:square;stroke-linejoin:miter;stroke-width:0.8;\"/>\r\n   </g>\r\n   <g id=\"patch_5\">\r\n    <path d=\"M 26.925 224.64 \r\nL 244.365 224.64 \r\n\" style=\"fill:none;stroke:#000000;stroke-linecap:square;stroke-linejoin:miter;stroke-width:0.8;\"/>\r\n   </g>\r\n   <g id=\"patch_6\">\r\n    <path d=\"M 26.925 7.2 \r\nL 244.365 7.2 \r\n\" style=\"fill:none;stroke:#000000;stroke-linecap:square;stroke-linejoin:miter;stroke-width:0.8;\"/>\r\n   </g>\r\n  </g>\r\n </g>\r\n <defs>\r\n  <clipPath id=\"p6a4fae7290\">\r\n   <rect height=\"217.44\" width=\"217.44\" x=\"26.925\" y=\"7.2\"/>\r\n  </clipPath>\r\n </defs>\r\n</svg>\r\n",
      "image/png": "[encoded data removed]"
     },
     "metadata": {
      "needs_background": "light"
     }
    }
   ],
   "source": [
    "plt.imshow(img.numpy()[0])"
   ]
  },
  {
   "cell_type": "code",
   "execution_count": 10,
   "metadata": {},
   "outputs": [
    {
     "output_type": "stream",
     "name": "stdout",
     "text": [
      "Model: \"mnist_capsule_network\"\n",
      "________________________________________________________________________________________________________________________________________________\n",
      "Layer (type)                                                    Output Shape                                              Param #               \n",
      "================================================================================================================================================\n",
      "conv2d (Conv2D)                                                 multiple                                                  20992                 \n",
      "________________________________________________________________________________________________________________________________________________\n",
      "primary_capsule_layer (PrimaryCapsuleLayer)                     multiple                                                  5308672               \n",
      "================================================================================================================================================\n",
      "Total params: 5,329,664\n",
      "Trainable params: 5,329,664\n",
      "Non-trainable params: 0\n",
      "________________________________________________________________________________________________________________________________________________\n",
      "Epoch 1/10\n",
      " 1/10 [==>...........................] - ETA: 0s - loss: 0.2502WARNING:tensorflow:Callbacks method `on_train_batch_end` is slow compared to the batch time (batch time: 0.0010s vs `on_train_batch_end` time: 0.0060s). Check your callbacks.\n",
      "10/10 [==============================] - 0s 7ms/step - loss: 0.0484\n",
      "Epoch 2/10\n",
      "10/10 [==============================] - 0s 9ms/step - loss: 0.0218\n",
      "Epoch 3/10\n",
      "10/10 [==============================] - 0s 8ms/step - loss: 0.0226\n",
      "Epoch 4/10\n",
      "10/10 [==============================] - 0s 8ms/step - loss: 0.0223\n",
      "Epoch 5/10\n",
      "10/10 [==============================] - 0s 7ms/step - loss: 0.0222\n",
      "Epoch 6/10\n",
      "10/10 [==============================] - 0s 7ms/step - loss: 0.0222\n",
      "Epoch 7/10\n",
      "10/10 [==============================] - 0s 7ms/step - loss: 0.0221\n",
      "Epoch 8/10\n",
      "10/10 [==============================] - 0s 7ms/step - loss: 0.0220\n",
      "Epoch 9/10\n",
      "10/10 [==============================] - 0s 7ms/step - loss: 0.0219\n",
      "Epoch 10/10\n",
      "10/10 [==============================] - 0s 7ms/step - loss: 0.0219\n"
     ]
    }
   ],
   "source": [
    "image_dimensions = (28, 28, 1)\n",
    "\n",
    "model = MNISTCapsuleNetwork(image_dimensions)\n",
    "model.build(img.shape)\n",
    "model.compile(loss='mse')\n",
    "model.summary(line_length=144)\n",
    "res = model.fit(img, target, epochs=10, batch_size=1, verbose=1)"
   ]
  },
  {
   "cell_type": "code",
   "execution_count": 11,
   "metadata": {},
   "outputs": [],
   "source": [
    "output = model.predict(img)"
   ]
  },
  {
   "cell_type": "code",
   "execution_count": 12,
   "metadata": {},
   "outputs": [
    {
     "output_type": "error",
     "ename": "AttributeError",
     "evalue": "The layer has never been called and thus has no defined output shape.",
     "traceback": [
      "\u001b[1;31m---------------------------------------------------------------------------\u001b[0m",
      "\u001b[1;31mAttributeError\u001b[0m                            Traceback (most recent call last)",
      "\u001b[1;32m<ipython-input-12-0c677f127830>\u001b[0m in \u001b[0;36m<module>\u001b[1;34m\u001b[0m\n\u001b[0;32m      1\u001b[0m \u001b[1;32mfor\u001b[0m \u001b[0mlayer\u001b[0m \u001b[1;32min\u001b[0m \u001b[0mmodel\u001b[0m\u001b[1;33m.\u001b[0m\u001b[0mlayers\u001b[0m\u001b[1;33m:\u001b[0m\u001b[1;33m\u001b[0m\u001b[1;33m\u001b[0m\u001b[0m\n\u001b[1;32m----> 2\u001b[1;33m     \u001b[0mprint\u001b[0m\u001b[1;33m(\u001b[0m\u001b[0mlayer\u001b[0m\u001b[1;33m.\u001b[0m\u001b[0moutput_shape\u001b[0m\u001b[1;33m)\u001b[0m\u001b[1;33m\u001b[0m\u001b[1;33m\u001b[0m\u001b[0m\n\u001b[0m",
      "\u001b[1;32m~\\AppData\\Roaming\\Python\\Python37\\site-packages\\tensorflow\\python\\keras\\engine\\base_layer.py\u001b[0m in \u001b[0;36moutput_shape\u001b[1;34m(self)\u001b[0m\n\u001b[0;32m   2177\u001b[0m     \"\"\"\n\u001b[0;32m   2178\u001b[0m     \u001b[1;32mif\u001b[0m \u001b[1;32mnot\u001b[0m \u001b[0mself\u001b[0m\u001b[1;33m.\u001b[0m\u001b[0m_inbound_nodes\u001b[0m\u001b[1;33m:\u001b[0m\u001b[1;33m\u001b[0m\u001b[1;33m\u001b[0m\u001b[0m\n\u001b[1;32m-> 2179\u001b[1;33m       raise AttributeError('The layer has never been called '\n\u001b[0m\u001b[0;32m   2180\u001b[0m                            'and thus has no defined output shape.')\n\u001b[0;32m   2181\u001b[0m     all_output_shapes = set(\n",
      "\u001b[1;31mAttributeError\u001b[0m: The layer has never been called and thus has no defined output shape."
     ]
    }
   ],
   "source": [
    "for layer in model.layers:\n",
    "    print(layer.output_shape)"
   ]
  },
  {
   "cell_type": "code",
   "execution_count": 12,
   "metadata": {},
   "outputs": [
    {
     "output_type": "execute_result",
     "data": {
      "text/plain": [
       "(10, 1152, 8)"
      ]
     },
     "metadata": {},
     "execution_count": 12
    }
   ],
   "source": [
    "output.shape"
   ]
  },
  {
   "cell_type": "code",
   "execution_count": null,
   "metadata": {},
   "outputs": [],
   "source": []
  }
 ]
}