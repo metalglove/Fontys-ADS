{
 "metadata": {
  "language_info": {
   "codemirror_mode": {
    "name": "ipython",
    "version": 3
   },
   "file_extension": ".py",
   "mimetype": "text/x-python",
   "name": "python",
   "nbconvert_exporter": "python",
   "pygments_lexer": "ipython3",
   "version": "3.7.9-final"
  },
  "orig_nbformat": 2,
  "kernelspec": {
   "name": "python3",
   "display_name": "Python 3.7.9 64-bit ('tfenv': conda)",
   "metadata": {
    "interpreter": {
     "hash": "02bf624525e16d02427f3fce9702099825ba623cec0caf430ca516da67aaa832"
    }
   }
  }
 },
 "nbformat": 4,
 "nbformat_minor": 2,
 "cells": [
  {
   "cell_type": "markdown",
   "metadata": {},
   "source": [
    "# Open Program - Capsule Networks\n",
    "This notebook explains how Capsule Networks work and can be applied."
   ]
  },
  {
   "cell_type": "markdown",
   "metadata": {},
   "source": [
    "## 0. Preparation\n",
    "In this section useful libraries are imported which are used in most data science projects."
   ]
  },
  {
   "cell_type": "code",
   "execution_count": 1,
   "metadata": {},
   "outputs": [
    {
     "output_type": "stream",
     "name": "stdout",
     "text": [
      "Tensorflow version: 2.3.0\n"
     ]
    }
   ],
   "source": [
    "import os\n",
    "import sys\n",
    "import datetime\n",
    "\n",
    "# sets the path to the home directory of this repository so other modules can be imported. \n",
    "project_path = os.getcwd()\n",
    "root_path = os.path.split(os.path.split(os.getcwd())[0])[0]\n",
    "assert root_path.endswith(\"Fontys-ADS\"), \"The root path does not end with Fontys-ADS: \" + root_path \n",
    "sys.path.insert(0, root_path)\n",
    "\n",
    "import numpy as np\n",
    "import pandas as pd\n",
    "import tensorflow as tf\n",
    "import matplotlib.pyplot as plt\n",
    "\n",
    "# for easily displaying images\n",
    "from IPython.display import Image\n",
    "\n",
    "# set the seed for reproducible results.\n",
    "np.random.seed(56)\n",
    "tf.random.set_seed(56)\n",
    "\n",
    "physical_devices = tf.config.list_physical_devices('GPU')\n",
    "tf.config.experimental.set_memory_growth(physical_devices[0], enable=True)\n",
    "\n",
    "print(\"Tensorflow version: \" + tf.version.VERSION)"
   ]
  },
  {
   "source": [
    "## 1. What are Capsule Neural Networks?\n",
    "d"
   ],
   "cell_type": "markdown",
   "metadata": {}
  },
  {
   "source": [
    "## 2. Implementation\n",
    "In this notebook, the proposed architecture from the paper [Dynamic Routing Between Capsules](https://arxiv.org/abs/1710.09829) for solving MNIST is implemented. <br>\n",
    "The task of classifying the handwritten digits from the MNIST dataset is often used as a benchmark for machine learning algorithms.<br>\n",
    "<figure class=\"image\">\n",
    "  <img src=\"https://github.com/metalglove/Fontys-ADS/blob/master/Assignments/OP/Capsule-network-mnist.jpg?raw=true\" alt=\"Capsule Network MNIST\">\n",
    "  <figcaption> 1. Capsule Network MNIST.</figcaption>\n",
    "</figure>\n",
    "As seen in figure 1, the architecture has 2 new components in model building. <br>\n",
    "A PrimaryCaps layer and a DigitCaps layer. But, there are also 2 new techniques that can not be seen here, <br>\n",
    "they are called a squash activation function and a routing algorithm for agreement. <br>\n",
    "In the following chapters these layers and techniques will be implemented and explained."
   ],
   "cell_type": "markdown",
   "metadata": {}
  },
  {
   "source": [
    "### 2.1 Squashing Activation Function\n",
    "The squashing activation function is a non-linear activation function used with capsule layers.<br>\n",
    "The length of the output vector of a capsule represents the probability that the entity <br>\n",
    "represented by the capsule is present in the current input. A non-linear ``squashing`` <br>\n",
    "function is used to ensure that short vectors get shrunk to almost zero length and long vectors get shrunk to a <br>\n",
    "length slightly below 1. <br> <br>\n",
    " In the paper it is stated that they leave it to discriminative learning to make good use of this non-linearity. <br>\n",
    "\n",
    "\\begin{multline*}\n",
    "    {\\bf v}_j = \\frac{||{\\bf s}_j||^2}{1+||{\\bf s}_j||^2} \\frac{{\\bf s}_j}{||{\\bf s}_j||}\n",
    "\\end{multline*}\n",
    "where ${\\bf v}_j$ is the vector output of capsule $j$ and ${\\bf s}_j$ is its total input. <br> \n",
    "<br>\n",
    "However, according to Aurélien Géron in the youtube video [How to implement CapsNets using TensorFlow](https://youtu.be/2Kawrd5szHE), <br>\n",
    "when using the `tf.norm` function and if one of the vectors is zero, the gradients of the model will <br>\n",
    "turn to `NaN`s. The model would effectively be dead. This is prevented by creating a safer approxamation of the norm. <br>\n",
    "\\begin{multline*}\n",
    "    {||{\\bf s}_j||} \\approx \\sqrt{\\sum_j {s_j}^2 + \\epsilon} \n",
    "\\end{multline*}\n",
    "where ${\\bf{\\epsilon}}$ is ${1_e - 07}$ (from `tf.keras.epsilon()`)."
   ],
   "cell_type": "markdown",
   "metadata": {}
  },
  {
   "cell_type": "code",
   "execution_count": 2,
   "metadata": {},
   "outputs": [],
   "source": [
    "from tensorflow.keras import backend as K\n",
    "from tensorflow.keras.layers import Layer\n",
    "\n",
    "class SquashActivationLayer(Layer):\n",
    "    def __init__(self):\n",
    "        super(SquashActivationLayer, self).__init__()\n",
    "        # ---------------------------- Squash Activation Layer ----------------------------\n",
    "\n",
    "    def call(self, vectors, axis=-1):\n",
    "        # ---------------- Original interpretation of the squash function -----------------\n",
    "        # An epsilon is added to prevent division by zero errors.\n",
    "        # norm = tf.norm(vectors, axis=axis, keepdims=True) + K.epsilon()\n",
    "        # squared_norm = tf.square(norm)\n",
    "        # scaling = vectors / norm\n",
    "        # squash_factor = squared_norm / (1 + squared_norm)\n",
    "        # return squash_factor * scaling\n",
    "        # ----------------- Safer implementation of the squash function -------------------\n",
    "        squared_norm = tf.reduce_sum(tf.square(vectors), axis=axis, keepdims=True)\n",
    "        safe_norm = tf.sqrt(squared_norm + K.epsilon())\n",
    "        squash_factor = squared_norm / (1. + squared_norm)\n",
    "        unit_vector = vectors / safe_norm\n",
    "        return squash_factor * unit_vector"
   ]
  },
  {
   "source": [
    "### 2.2 Primary Capsule Layer\n",
    "The primary capsules are the lowest level of multi-dimensional entities and, from an inverse graphics <br>\n",
    "perspective, activating the primary capsules corresponds to inverting the rendering process. <br>\n",
    "This is a very different type of computation than piecing instantiated parts together to make familiar wholes, <br>\n",
    "which is what capsules are designed to be good at. <br>\n",
    "<br>\n",
    "The primary capsule layer is a convolutional capsule layer with 32 channels of convolutional <br>\n",
    "8D capsules (i.e. each primary capsule contains 8 convolutional units with a 9 × 9 kernel and a stride of 2). <br>\n",
    "Each primary capsule output sees the outputs of all 256 × 81 Conv1 units whose receptive fields overlap with <br>\n",
    "the location of the center of the capsule. In total the PrimaryCapsules have 32 × 6 × 6 capsule outputs <br> \n",
    "(each output is an 8D vector) and each capsule in the 6 × 6 grid is sharing their weights with each other. <br>\n",
    "<br>\n",
    "One can see the primary capsule layer as a convolution layer using the ``squashing`` function as block non-linearity. "
   ],
   "cell_type": "markdown",
   "metadata": {}
  },
  {
   "cell_type": "code",
   "execution_count": 3,
   "metadata": {},
   "outputs": [],
   "source": [
    "from tensorflow.keras.layers import Conv2D, Reshape, Input\n",
    "\n",
    "class PrimaryCapsuleLayer(Layer):\n",
    "    def __init__(self, channels, capsule_dimension, kernel_size, strides):\n",
    "        super(PrimaryCapsuleLayer, self).__init__()\n",
    "        # ---------------------------- Primary Capsule Layer ----------------------------\n",
    "\n",
    "        self.channels = channels\n",
    "        self.capsule_dimension = capsule_dimension\n",
    "        self.kernel_size = kernel_size\n",
    "        self.strides = strides\n",
    "\n",
    "        # 1. convolutional layer.\n",
    "        capsule_filters = capsule_dimension * channels\n",
    "        self.conv1_layer = Conv2D(filters=capsule_filters, kernel_size=kernel_size, strides=strides, padding='valid')\n",
    "        \n",
    "        # 2. reshape layer for 1D capsule outputs.\n",
    "        self.reshape_layer = Reshape(target_shape=(-1, capsule_dimension))\n",
    "\n",
    "        # 3. squashing outputs.\n",
    "        self.squash_activation_layer = SquashActivationLayer()\n",
    "\n",
    "    def call(self, inputs):\n",
    "        x = self.conv1_layer(inputs)\n",
    "        x = self.reshape_layer(x)\n",
    "        x = self.squash_activation_layer(x)\n",
    "        return x\n",
    "\n",
    "    def compute_output_shape(self, input_shape):\n",
    "        return tuple([None, self.channels, 1, self.capsule_input_number])\n",
    "\n",
    "    def get_config(self):\n",
    "        config = {\n",
    "            'channels': self.channels,\n",
    "            'capsule_dimension': self.capsule_dimension,\n",
    "            'kernel_size': self.kernel_size,\n",
    "            'strides': self.strides\n",
    "        }\n",
    "        base_config = super(PrimaryCapsuleLayer, self).get_config()\n",
    "        return dict(list(base_config.items()) + list(config.items()))"
   ]
  },
  {
   "source": [
    "### 2.3 Routing Algorithm\n",
    "For all but the first layer of capsules, the total input to a capsule ${\\bf s}_j$ is a weighted sum over all ``prediction vectors`` ${\\bf \\hat{u}}_{j|i}$ <br>\n",
    "from the capsules in the layer below and is produced by multiplying the output  ${\\bf u}_i$ of a capsule in the layer below by a weight matrix  ${\\bf W}_{ij}$ <br>\n",
    "where the $c_{ij}$ are coupling coefficients that are determined by the iterative dynamic routing process. <br>\n",
    "The coupling coefficients between capsule $i$ and all the capsules in the layer above sum to $1$ and are determined by a ``routing softmax`` <br>\n",
    "whose initial logits $b_{ij}$ are the log prior probabilities that capsule~$i$ should be coupled to capsule~$j$. <br>\n",
    "\\begin{multline*}\n",
    "    {\\bf \\hat{u}}_{j|i} = {\\bf W}_{ij}{\\bf u}_i \n",
    "\\end{multline*}\n",
    "\n",
    "\\begin{multline*}\n",
    "    c_{ij} = \\frac{\\exp(b_{ij})}{\\sum_k \\exp(b_{ik})}\n",
    "\\end{multline*}\n",
    "\n",
    "\\begin{multline*}\n",
    "    {\\bf s}_j = \\sum_i c_{ij} {\\bf \\hat{u}}_{j|i}\n",
    "\\end{multline*}\n",
    "The log priors can be learned discriminatively at the same time as all the other weights. <br>\n",
    "They depend on the location and type of the two capsules but not on the current input image. <br>\n",
    "The initial coupling coefficients are then iteratively refined by measuring the agreement between <br>\n",
    "the current output ${\\bf v}_j$ of each capsule, $j$, in the layer above and the prediction ${\\bf \\hat{u}}_{j|i}$ made by capsule $i$. \n",
    "\n",
    "The agreement $a_{ij}$ is simply the scalar product. <br>\n",
    "\\begin{multline*}\n",
    "    a_{ij} = {\\bf v}_j \\cdot {\\bf \\hat{ u}}_{j|i}\n",
    "\\end{multline*}\n",
    "This agreement is treated as if it was a log likelihood and is added to the initial logit, $b_{ij}$ before computing <br> \n",
    "the new values for all the coupling coefficients linking capsule~$i$ to higher level capsules.\n",
    "<figure class=\"image\">\n",
    "  <img src=\"https://github.com/metalglove/Fontys-ADS/blob/master/Assignments/OP/Routing algorithm.png?raw=true\" alt=\"Routing algorithm\">\n",
    "  <figcaption> 2. Routing algorithm.</figcaption>\n",
    "</figure>"
   ],
   "cell_type": "markdown",
   "metadata": {}
  },
  {
   "cell_type": "code",
   "execution_count": 4,
   "metadata": {},
   "outputs": [],
   "source": [
    "class Routing(Layer):\n",
    "    def __init__(self, batch_size, channels, number_of_capsules, routings):\n",
    "        super(Routing, self).__init__()\n",
    "        # -------------------------- Routing algorithm --------------------------\n",
    "        self.batch_size = batch_size\n",
    "        self.channels = channels\n",
    "        self.number_of_capsules = number_of_capsules\n",
    "        self.routings = routings\n",
    "\n",
    "        self.squash_activation_layer = SquashActivationLayer()\n",
    "\n",
    "    def call(self, u_hat_ji):\n",
    "        # initialise \"log prior probabilities\" coupling coefficients as zero.\n",
    "        bi = tf.zeros(shape=(self.batch_size, self.channels, 1, self.number_of_capsules))\n",
    "        # iterate routings.\n",
    "        for r in range(self.routings):\n",
    "            # normalise coupling coefficients (logits) by softmax.\n",
    "            ci = tf.nn.softmax(bi, axis=1)\n",
    "            # multiply normalised coupling coefficients by predicted inputs.\n",
    "            sj = tf.matmul(ci, u_hat_ji)\n",
    "            # squash capsule j's coupling coefficient.\n",
    "            vj = self.squash_activation_layer(sj)\n",
    "            # update the coupling coefficients for next iteration of routing algorithm.\n",
    "            if r < self.routings - 1:\n",
    "                # update the total sum of coupling coefficients (routing agreement).\n",
    "                bi += tf.matmul(vj, u_hat_ji, transpose_b=True)\n",
    "        return vj\n",
    "\n",
    "    def compute_output_shape(self, input_shape):\n",
    "        return tuple([self.batch_size, self.channels, 1, self.number_of_capsules])\n",
    "\n",
    "    def get_config(self):\n",
    "        config = {\n",
    "            'channels': self.channels,\n",
    "            'capsule_dimension': self.capsule_dimension,\n",
    "            'number_of_capsules': self.number_of_capsules,\n",
    "            'routings': self.routings\n",
    "        }\n",
    "        base_config = super(Routing, self).get_config()\n",
    "        return dict(list(base_config.items()) + list(config.items()))"
   ]
  },
  {
   "source": [
    "### 2.4 Dense Capsule Layer\n",
    "The capsule layer functions much like a normal dense layer albeit with more dimensions. <br>\n",
    "The weights of the capsule layer function as a transformation matrix, <br> \n",
    "where a weight is stored for each capsule pair (i, j) from the layer before (i) <br>\n",
    "and the current layer (j) with their respective dimensions. <br>\n",
    "To compute the predicted output vectors for each capsule (${\\bf u}_i$), the input is tiled to the <br>\n",
    "number of output capsules in the capsule layer (j) and multiplied with the weights (${\\bf W}_{ij}$). <br>\n",
    "<br>\n",
    "In convolutional capsule layers, each capsule outputs a local grid of vectors to each type of capsule in <br>\n",
    "the layer above using different transformation matrices for each member of the grid as well as for each type of capsule.\n"
   ],
   "cell_type": "markdown",
   "metadata": {}
  },
  {
   "cell_type": "code",
   "execution_count": 5,
   "metadata": {},
   "outputs": [],
   "source": [
    "from tensorflow.keras import initializers\n",
    "\n",
    "class DenseCapsuleLayer(Layer):\n",
    "    def __init__(self, channels, capsule_dimension, routings, kernel_initializer='glorot_uniform'):\n",
    "        super(DenseCapsuleLayer, self).__init__()\n",
    "        # ---------------------------- Dense Capsule Layer ----------------------------\n",
    "        self.channels = channels\n",
    "        self.capsule_dimension = capsule_dimension\n",
    "        self.routings = routings\n",
    "        self.initializer = initializers.get(kernel_initializer)\n",
    "\n",
    "    def build(self, input_shape):\n",
    "        self.number_of_capsules = input_shape[1]\n",
    "        self.capsule_input_dimension = input_shape[2]\n",
    "        weight_shape = (self.channels, self.number_of_capsules, self.capsule_dimension, self.capsule_input_dimension)\n",
    "        # transformation matrix containing a weight for each capsule pair (i, j).\n",
    "        self.Wij = self.add_weight(shape=weight_shape, initializer=self.initializer, name='W')\n",
    "        # batch size is determined during training time (depicted by None in shape of tensor).\n",
    "        batch_size = input_shape[0]\n",
    "        self.routing = Routing(batch_size, self.channels, self.number_of_capsules, self.routings)\n",
    "        self.built = True\n",
    "\n",
    "    def call(self, ui):\n",
    "        # shape of ui = [None, number_of_capsules, capsule_input_dimension]\n",
    "        \n",
    "        # prepares the inputs to be tiled.\n",
    "        # MNIST example: \n",
    "        # - primary capsules = 1152 (6 x 6 x 32) \n",
    "        # - capsule dimension = 8\n",
    "        # - None is the batch size\n",
    "        # - ui = [None, 1152, 8]\n",
    "        # - expanded_ui = [None, 1, 1152, 8, 1]\n",
    "        expanded_ui = tf.expand_dims(tf.expand_dims(ui, 1), -1)\n",
    "\n",
    "        # tiles the inputs by the number of capsules in this layer.\n",
    "        # MNIST example:\n",
    "        # - channels = 10 (10 digits)\n",
    "        # - expanded_ui = [None, 1, 1152, 8, 1]\n",
    "        # - ui_tiled_by_channels = [None, 10, 1152, 8, 1]\n",
    "        ui_tiled_by_channels = tf.tile(expanded_ui, [1, self.channels, 1, 1, 1])\n",
    "\n",
    "        # performs 4D array multiplication to get the predicted output vectors.\n",
    "        # by using the map_fn function, mapping the matmul by the tiled channels, the performance increases 2x \n",
    "        # instead of: u_hat_ji = tf.matmul(self.Wij, ui_tiled_by_channels).\n",
    "        # MNIST example:\n",
    "        # - shape of Wij = [self.channels, self.number_of_capsules, self.capsule_dimension, self.capsule_input_dimension]\n",
    "        # - Wij = [10, 1152, 16, 8]\n",
    "        # - ui_tiled_by_channels = [None, 10, 1152, 8, 1]\n",
    "        # - ui_tiled = [None, 1, 1152, 8, 1]\n",
    "        # - u_hat_ji = [None, 10, 1152, 16, 1]\n",
    "        u_hat_ji = tf.map_fn(lambda ui_tiled: tf.matmul(self.Wij, ui_tiled), elems=ui_tiled_by_channels)\n",
    "        \n",
    "        # removes the last dimension from the predicted output vectors.\n",
    "        u_hat_ji = tf.squeeze(u_hat_ji, axis=4)\n",
    "\n",
    "        # performs routing algorithm by agreement on predicted output vectors.\n",
    "        aij = self.routing(u_hat_ji)\n",
    "        return tf.squeeze(aij)\n",
    "    \n",
    "    def compute_output_shape(self, input_shape):\n",
    "        return tuple([None, self.channels, self.capsule_dimension])\n",
    "\n",
    "    def get_config(self):\n",
    "        config = {\n",
    "            'channels': self.channels,\n",
    "            'capsule_dimension': self.capsule_dimension,\n",
    "            'routings': self.routings\n",
    "        }\n",
    "        base_config = super(DenseCapsuleLayer, self).get_config()\n",
    "        return dict(list(base_config.items()) + list(config.items()))"
   ]
  },
  {
   "source": [
    "### 2.5 Length Layer\n",
    "The length of the output vectors represents the class probabilities. <br> \n",
    "This layer is added to transform the outputs of the last capsule layer to the class probabilities. <br>\n",
    "\\begin{multline*}\n",
    "    {||{\\bf v}_k||} \\approx \\sqrt{\\sum_v {v_k}^2 + \\epsilon} \n",
    "\\end{multline*}\n",
    "Note that the safe norm is also used here!"
   ],
   "cell_type": "markdown",
   "metadata": {}
  },
  {
   "cell_type": "code",
   "execution_count": 6,
   "metadata": {},
   "outputs": [],
   "source": [
    "class Length(Layer):\n",
    "    def __init__(self):\n",
    "        super(Length, self).__init__()\n",
    "        # ---------------------------- Length Layer ----------------------------\n",
    "\n",
    "    def call(self, inputs):\n",
    "        squared_norm = tf.reduce_sum(tf.square(inputs), axis=-1)\n",
    "        safe_norm = tf.sqrt(squared_norm + K.epsilon())\n",
    "        return safe_norm\n",
    "\n",
    "    def compute_output_shape(self, input_shape):\n",
    "        # the last dimension is the output shape.\n",
    "        return input_shape[:-1]\n",
    "\n",
    "    def get_config(self):\n",
    "        config = super(Length, self).get_config()\n",
    "        return config"
   ]
  },
  {
   "source": [
    "### 2.6 MNIST Capsule Network\n",
    "The MNIST capsule network starts with a convolutional layer having 256 filters, a <br>\n",
    "kernel size of 9,  strides of 1 and using the ReLU activation function. <br>\n",
    "This layer is used to convert the pixel intensities to the activities of local feature detectors <br>\n",
    "that are then used as inputs to the primary capsules. The following layer is the <br>\n",
    "primary capsule layer having 32 capsules, a capsule dimension of 8, <br>\n",
    "a kernel size of 9 and strides of 2. Then, the dense capsule layer (digit capsule layer) is added <br> \n",
    "with 10 capsules, a capsule dimension of 16 and a depth of 3 for the routing algorithm. <br> \n",
    "Lastly, a length layer is added to transform the outputs of the digit capsule layer to estimated class probabilities."
   ],
   "cell_type": "markdown",
   "metadata": {}
  },
  {
   "cell_type": "code",
   "execution_count": 7,
   "metadata": {},
   "outputs": [],
   "source": [
    "class MNISTCapsuleNetwork(tf.keras.Model):\n",
    "    def __init__(self, image_dimensions):\n",
    "        super(MNISTCapsuleNetwork, self).__init__()\n",
    "        # ---------------------------- MNIST Capsule Network ----------------------------\n",
    "        # set image dimensions.\n",
    "        self.image_height, self.image_width, self.image_channels = image_dimensions\n",
    "\n",
    "        # MNIST contains 10 classes: 0, 1, 2, 3, 4, 5, 6, 7, 8 and 9.\n",
    "        self.classes = 10\n",
    "\n",
    "        # 1. first convolutional layer.\n",
    "        self.conv1 = Conv2D(filters=256, kernel_size=9, strides=1, activation='relu')\n",
    "\n",
    "        # 2. primary capsule layer.\n",
    "        self.primary_capsule_layer = PrimaryCapsuleLayer(channels=32, capsule_dimension=8, kernel_size=9, strides=2)\n",
    "\n",
    "        # 3. digit capsule layer.\n",
    "        self.digit_capsule_layer = DenseCapsuleLayer(channels=self.classes, capsule_dimension=16, routings=3)\n",
    "\n",
    "        # 4. transform digit capsules to class probabilities layer.\n",
    "        self.transform_to_class_probabilities = Length()\n",
    "\n",
    "    def call(self, inputs):\n",
    "        x = self.conv1(inputs)\n",
    "        x = self.primary_capsule_layer(x)\n",
    "        x = self.digit_capsule_layer(x)\n",
    "        x = self.transform_to_class_probabilities(x)\n",
    "        return x"
   ]
  },
  {
   "source": [
    "## 3. MNIST dataset\n",
    "The MNIST dataset is widely used dataset in the field of machine learning and image processing. <br>\n",
    "The TFDS (TensorFlow Datasets) library provides a collection of ready-to-use datasets for use with <br>\n",
    "TensorFlow and other machine learning frameworks, including the [MNIST](https://www.tensorflow.org/datasets/catalog/mnist) dataset. <br>\n"
   ],
   "cell_type": "markdown",
   "metadata": {}
  },
  {
   "cell_type": "code",
   "execution_count": 8,
   "metadata": {},
   "outputs": [],
   "source": [
    "import tensorflow_datasets as tfds\n",
    "from datasets.base_image_dataset import ImageDatasetBase\n",
    "\n",
    "class MNISTDataset(ImageDatasetBase):\n",
    "    def __init__(self, batch_size, train_percentage, validation_percentage, test_percentage):\n",
    "        super(MNISTDataset, self).__init__(batch_size, 28, 28)\n",
    "        self.batch_size = batch_size\n",
    "        \n",
    "        # gets the initial data from MNIST using the TFDS API.\n",
    "        self.data = tfds.load('mnist', split='train+test', as_supervised=True)\n",
    "        \n",
    "        # fix the datatypes and hot encode y.\n",
    "        self.data = self.data.map(self.fix, num_parallel_calls=tf.data.experimental.AUTOTUNE)\n",
    "\n",
    "        # shuffles the dataset\n",
    "        self.shuffle(256)\n",
    "\n",
    "        # splits the data into train, validation, and test datasets.\n",
    "        self.split_data_to_train_val_test(self.data, train_percentage, validation_percentage, test_percentage)\n",
    "    \n",
    "    def fix(self, x, y):\n",
    "        x = tf.image.resize(x, [self.img_height, self.img_width])\n",
    "        x = tf.image.convert_image_dtype(x, tf.float32)\n",
    "        y = tf.one_hot(y, 10)\n",
    "        return x, y"
   ]
  },
  {
   "cell_type": "code",
   "execution_count": 9,
   "metadata": {},
   "outputs": [
    {
     "output_type": "stream",
     "name": "stdout",
     "text": [
      "train: 210 validation: 70 test: 70\n"
     ]
    }
   ],
   "source": [
    "batch_size = 200\n",
    "epochs = 100\n",
    "train_percentage = 0.6\n",
    "validation_percentage = 0.2\n",
    "test_percentage = 0.2\n",
    "mnistDataset = MNISTDataset(batch_size, train_percentage, validation_percentage, test_percentage)"
   ]
  },
  {
   "source": [
    "# 4. Loss function\n",
    "The loss function used for capsule networks is called the margin loss function. <br>\n",
    "\\begin{multline*}\n",
    "    L_k = T_k \\ \\max(0, m^{+} - ||{\\bf v}_k||)^2 + \\lambda \\ (1-T_k) \\ \\max(0, ||{\\bf v}_k|| - m^{-})^2\n",
    "\\end{multline*}\n",
    "Where the length of the instantiation vector $||{\\bf v}_k||$ is used to represent the probability that a <br> \n",
    "capsule its entity exists, $m^{+} = 0.9$ and $m^{-} = 0.1$.  <br>\n",
    "The $\\lambda$ is used for down-weighting of the loss for absent classes which stops the initial learning <br>\n",
    "from shrinking the lengths of the activity vectors of all the output capsules. $\\lambda$ is set to 0.5.<br>\n",
    "The loss will be zero if the output capsule predicts the correct label with greater than 0.9 probability, <br>\n",
    "and it will be non-zero if the probability is less than 0.9. <br>\n",
    "\n",
    "<br>\n",
    "The total loss is simply the sum of the losses from all output capsules."
   ],
   "cell_type": "markdown",
   "metadata": {}
  },
  {
   "cell_type": "code",
   "execution_count": 10,
   "metadata": {},
   "outputs": [],
   "source": [
    "from tensorflow.keras.losses import Loss\n",
    "\n",
    "class MarginLoss(Loss):\n",
    "    def __init__(self, lambda_y = 0.5, m_plus = 0.9, m_minus = 0.1):\n",
    "        super(MarginLoss, self).__init__()\n",
    "        self.lambda_y = lambda_y\n",
    "        self.m_plus = m_plus\n",
    "        self.m_minus = m_minus\n",
    "\n",
    "    def call(self, y_true, y_pred):\n",
    "        correct = y_true * tf.square(tf.maximum(0.0, self.m_plus - y_pred))\n",
    "        incorrect = self.lambda_y * (1.0 - y_true) * tf.square(tf.maximum(0.0, y_pred - self.m_minus))\n",
    "        loss = correct + incorrect\n",
    "        # sum of all losses (each capsule output)\n",
    "        return tf.reduce_mean(tf.reduce_sum(loss, 1.0))"
   ]
  },
  {
   "cell_type": "code",
   "execution_count": 11,
   "metadata": {},
   "outputs": [
    {
     "output_type": "stream",
     "name": "stdout",
     "text": [
      "Model: \"mnist_capsule_network\"\n_________________________________________________________________________________________________________________________________________\nLayer (type)                                                 Output Shape                                           Param #              \n=========================================================================================================================================\nconv2d (Conv2D)                                              multiple                                               20992                \n_________________________________________________________________________________________________________________________________________\nprimary_capsule_layer (PrimaryCapsuleLayer)                  multiple                                               5308672              \n_________________________________________________________________________________________________________________________________________\ndense_capsule_layer (DenseCapsuleLayer)                      multiple                                               1474560              \n_________________________________________________________________________________________________________________________________________\nlength (Length)                                              multiple                                               0                    \n=========================================================================================================================================\nTotal params: 6,804,224\nTrainable params: 6,804,224\nNon-trainable params: 0\n_________________________________________________________________________________________________________________________________________\n"
     ]
    }
   ],
   "source": [
    "from tensorflow.keras.optimizers import Adam\n",
    "\n",
    "image_dimensions = (mnistDataset.img_height, mnistDataset.img_width, 1)\n",
    "model = MNISTCapsuleNetwork(image_dimensions)\n",
    "model.build((batch_size,) + image_dimensions)\n",
    "model.compile(optimizer=Adam(), loss=MarginLoss(), metrics='accuracy')\n",
    "model.summary(line_length=137)"
   ]
  },
  {
   "cell_type": "code",
   "execution_count": 12,
   "metadata": {},
   "outputs": [],
   "source": [
    "from tensorflow.keras.callbacks import EarlyStopping, ModelCheckpoint, TensorBoard\n",
    "\n",
    "# current time\n",
    "current_time = datetime.datetime.now().strftime(\"%Y%m%d-%H%M%S\")\n",
    "\n",
    "# create the checkpoint path\n",
    "checkpoint_path = \"checkpoints/mnist_capsnet/\" + current_time + \".ckpt\"\n",
    "\n",
    "# create logging\n",
    "log_dir = \"logs/mnist_capsnet/\" + current_time\n",
    "\n",
    "# create all callbacks\n",
    "callbacks = [\n",
    "  EarlyStopping(patience=5, monitor='val_loss'),\n",
    "  TensorBoard(log_dir=log_dir, profile_batch=0),\n",
    "  ModelCheckpoint(checkpoint_path, save_weights_only=True, verbose=1)\n",
    "]"
   ]
  },
  {
   "cell_type": "code",
   "execution_count": 13,
   "metadata": {},
   "outputs": [
    {
     "output_type": "stream",
     "name": "stdout",
     "text": [
      "Epoch 1/50\n",
      "210/210 [==============================] - ETA: 0s - loss: 0.1177 - accuracy: 0.8743\n",
      "Epoch 00001: saving model to checkpoints/mnist_capsnet\\20201129-200011.ckpt\n",
      "210/210 [==============================] - 53s 251ms/step - loss: 0.1177 - accuracy: 0.8743 - val_loss: 0.0242 - val_accuracy: 0.9819\n",
      "Epoch 2/50\n",
      "210/210 [==============================] - ETA: 0s - loss: 0.0171 - accuracy: 0.9879\n",
      "Epoch 00002: saving model to checkpoints/mnist_capsnet\\20201129-200011.ckpt\n",
      "210/210 [==============================] - 48s 231ms/step - loss: 0.0171 - accuracy: 0.9879 - val_loss: 0.0155 - val_accuracy: 0.9877\n",
      "Epoch 3/50\n",
      "210/210 [==============================] - ETA: 0s - loss: 0.0108 - accuracy: 0.9932\n",
      "Epoch 00003: saving model to checkpoints/mnist_capsnet\\20201129-200011.ckpt\n",
      "210/210 [==============================] - 46s 221ms/step - loss: 0.0108 - accuracy: 0.9932 - val_loss: 0.0136 - val_accuracy: 0.9887\n",
      "Epoch 4/50\n",
      "210/210 [==============================] - ETA: 0s - loss: 0.0073 - accuracy: 0.9962\n",
      "Epoch 00004: saving model to checkpoints/mnist_capsnet\\20201129-200011.ckpt\n",
      "210/210 [==============================] - 54s 255ms/step - loss: 0.0073 - accuracy: 0.9962 - val_loss: 0.0118 - val_accuracy: 0.9899\n",
      "Epoch 5/50\n",
      "210/210 [==============================] - ETA: 0s - loss: 0.0049 - accuracy: 0.9978\n",
      "Epoch 00005: saving model to checkpoints/mnist_capsnet\\20201129-200011.ckpt\n",
      "210/210 [==============================] - 47s 226ms/step - loss: 0.0049 - accuracy: 0.9978 - val_loss: 0.0107 - val_accuracy: 0.9902\n",
      "Epoch 6/50\n",
      "210/210 [==============================] - ETA: 0s - loss: 0.0034 - accuracy: 0.9988\n",
      "Epoch 00006: saving model to checkpoints/mnist_capsnet\\20201129-200011.ckpt\n",
      "210/210 [==============================] - 47s 225ms/step - loss: 0.0034 - accuracy: 0.9988 - val_loss: 0.0110 - val_accuracy: 0.9911\n",
      "Epoch 7/50\n",
      "210/210 [==============================] - ETA: 0s - loss: 0.0024 - accuracy: 0.9993\n",
      "Epoch 00007: saving model to checkpoints/mnist_capsnet\\20201129-200011.ckpt\n",
      "210/210 [==============================] - 47s 226ms/step - loss: 0.0024 - accuracy: 0.9993 - val_loss: 0.0096 - val_accuracy: 0.9910\n",
      "Epoch 8/50\n",
      "210/210 [==============================] - ETA: 0s - loss: 0.0018 - accuracy: 0.9995\n",
      "Epoch 00008: saving model to checkpoints/mnist_capsnet\\20201129-200011.ckpt\n",
      "210/210 [==============================] - 53s 254ms/step - loss: 0.0018 - accuracy: 0.9995 - val_loss: 0.0105 - val_accuracy: 0.9910\n",
      "Epoch 9/50\n",
      "210/210 [==============================] - ETA: 0s - loss: 0.0016 - accuracy: 0.9997\n",
      "Epoch 00009: saving model to checkpoints/mnist_capsnet\\20201129-200011.ckpt\n",
      "210/210 [==============================] - 53s 254ms/step - loss: 0.0016 - accuracy: 0.9997 - val_loss: 0.0092 - val_accuracy: 0.9902\n",
      "Epoch 10/50\n",
      "210/210 [==============================] - ETA: 0s - loss: 0.0010 - accuracy: 0.9998\n",
      "Epoch 00010: saving model to checkpoints/mnist_capsnet\\20201129-200011.ckpt\n",
      "210/210 [==============================] - 53s 254ms/step - loss: 0.0010 - accuracy: 0.9998 - val_loss: 0.0090 - val_accuracy: 0.9916\n",
      "Epoch 11/50\n",
      "210/210 [==============================] - ETA: 0s - loss: 7.8998e-04 - accuracy: 0.9998\n",
      "Epoch 00011: saving model to checkpoints/mnist_capsnet\\20201129-200011.ckpt\n",
      "210/210 [==============================] - 53s 254ms/step - loss: 7.8998e-04 - accuracy: 0.9998 - val_loss: 0.0087 - val_accuracy: 0.9919\n",
      "Epoch 12/50\n",
      "210/210 [==============================] - ETA: 0s - loss: 5.8260e-04 - accuracy: 0.9999\n",
      "Epoch 00012: saving model to checkpoints/mnist_capsnet\\20201129-200011.ckpt\n",
      "210/210 [==============================] - 53s 254ms/step - loss: 5.8260e-04 - accuracy: 0.9999 - val_loss: 0.0089 - val_accuracy: 0.9914\n",
      "Epoch 13/50\n",
      "210/210 [==============================] - ETA: 0s - loss: 6.5041e-04 - accuracy: 0.9999\n",
      "Epoch 00013: saving model to checkpoints/mnist_capsnet\\20201129-200011.ckpt\n",
      "210/210 [==============================] - 53s 254ms/step - loss: 6.5041e-04 - accuracy: 0.9999 - val_loss: 0.0087 - val_accuracy: 0.9910\n",
      "Epoch 14/50\n",
      "210/210 [==============================] - ETA: 0s - loss: 4.9557e-04 - accuracy: 0.9999\n",
      "Epoch 00014: saving model to checkpoints/mnist_capsnet\\20201129-200011.ckpt\n",
      "210/210 [==============================] - 53s 253ms/step - loss: 4.9557e-04 - accuracy: 0.9999 - val_loss: 0.0084 - val_accuracy: 0.9918\n",
      "Epoch 15/50\n",
      "210/210 [==============================] - ETA: 0s - loss: 0.0018 - accuracy: 0.9998\n",
      "Epoch 00015: saving model to checkpoints/mnist_capsnet\\20201129-200011.ckpt\n",
      "210/210 [==============================] - 53s 253ms/step - loss: 0.0018 - accuracy: 0.9998 - val_loss: 0.0104 - val_accuracy: 0.9910\n",
      "Epoch 16/50\n",
      "210/210 [==============================] - ETA: 0s - loss: 0.0013 - accuracy: 0.9999\n",
      "Epoch 00016: saving model to checkpoints/mnist_capsnet\\20201129-200011.ckpt\n",
      "210/210 [==============================] - 53s 254ms/step - loss: 0.0013 - accuracy: 0.9999 - val_loss: 0.0105 - val_accuracy: 0.9908\n",
      "Epoch 17/50\n",
      "210/210 [==============================] - ETA: 0s - loss: 0.0020 - accuracy: 0.9998\n",
      "Epoch 00017: saving model to checkpoints/mnist_capsnet\\20201129-200011.ckpt\n",
      "210/210 [==============================] - 53s 253ms/step - loss: 0.0020 - accuracy: 0.9998 - val_loss: 0.0110 - val_accuracy: 0.9891\n",
      "Epoch 18/50\n",
      "210/210 [==============================] - ETA: 0s - loss: 0.0037 - accuracy: 0.9996\n",
      "Epoch 00018: saving model to checkpoints/mnist_capsnet\\20201129-200011.ckpt\n",
      "210/210 [==============================] - 53s 253ms/step - loss: 0.0037 - accuracy: 0.9996 - val_loss: 0.0113 - val_accuracy: 0.9899\n",
      "Epoch 19/50\n",
      "210/210 [==============================] - ETA: 0s - loss: 7.7740e-04 - accuracy: 0.9999\n",
      "Epoch 00019: saving model to checkpoints/mnist_capsnet\\20201129-200011.ckpt\n",
      "210/210 [==============================] - 53s 252ms/step - loss: 7.7740e-04 - accuracy: 0.9999 - val_loss: 0.0095 - val_accuracy: 0.9901\n"
     ]
    }
   ],
   "source": [
    "epochs = 50\n",
    "history = model.fit(\n",
    "    mnistDataset.train_ds, \n",
    "    validation_data=mnistDataset.val_ds, \n",
    "    batch_size=batch_size,\n",
    "    epochs=epochs, \n",
    "    validation_steps=mnistDataset.val_size,\n",
    "    steps_per_epoch=mnistDataset.train_size,\n",
    "    callbacks=callbacks,\n",
    "    verbose=1)"
   ]
  },
  {
   "cell_type": "code",
   "execution_count": 19,
   "metadata": {},
   "outputs": [
    {
     "output_type": "execute_result",
     "data": {
      "text/plain": [
       "Text(0.5, 1.0, 'Loss')"
      ]
     },
     "metadata": {},
     "execution_count": 19
    },
    {
     "output_type": "display_data",
     "data": {
      "text/plain": "<Figure size 432x288 with 1 Axes>",
      "image/svg+xml": "<?xml version=\"1.0\" encoding=\"utf-8\" standalone=\"no\"?>\r\n<!DOCTYPE svg PUBLIC \"-//W3C//DTD SVG 1.1//EN\"\r\n  \"http://www.w3.org/Graphics/SVG/1.1/DTD/svg11.dtd\">\r\n<!-- Created with matplotlib (https://matplotlib.org/) -->\r\n<svg height=\"277.314375pt\" version=\"1.1\" viewBox=\"0 0 392.14375 277.314375\" width=\"392.14375pt\" xmlns=\"http://www.w3.org/2000/svg\" xmlns:xlink=\"http://www.w3.org/1999/xlink\">\r\n <metadata>\r\n  <rdf:RDF xmlns:cc=\"http://creativecommons.org/ns#\" xmlns:dc=\"http://purl.org/dc/elements/1.1/\" xmlns:rdf=\"http://www.w3.org/1999/02/22-rdf-syntax-ns#\">\r\n   <cc:Work>\r\n    <dc:type rdf:resource=\"http://purl.org/dc/dcmitype/StillImage\"/>\r\n    <dc:date>2020-11-29T20:18:08.897832</dc:date>\r\n    <dc:format>image/svg+xml</dc:format>\r\n    <dc:creator>\r\n     <cc:Agent>\r\n      <dc:title>Matplotlib v3.3.2, https://matplotlib.org/</dc:title>\r\n     </cc:Agent>\r\n    </dc:creator>\r\n   </cc:Work>\r\n  </rdf:RDF>\r\n </metadata>\r\n <defs>\r\n  <style type=\"text/css\">*{stroke-linecap:butt;stroke-linejoin:round;}</style>\r\n </defs>\r\n <g id=\"figure_1\">\r\n  <g id=\"patch_1\">\r\n   <path d=\"M 0 277.314375 \r\nL 392.14375 277.314375 \r\nL 392.14375 0 \r\nL 0 0 \r\nz\r\n\" style=\"fill:none;\"/>\r\n  </g>\r\n  <g id=\"axes_1\">\r\n   <g id=\"patch_2\">\r\n    <path d=\"M 50.14375 239.758125 \r\nL 384.94375 239.758125 \r\nL 384.94375 22.318125 \r\nL 50.14375 22.318125 \r\nz\r\n\" style=\"fill:#ffffff;\"/>\r\n   </g>\r\n   <g id=\"matplotlib.axis_1\">\r\n    <g id=\"xtick_1\">\r\n     <g id=\"line2d_1\">\r\n      <defs>\r\n       <path d=\"M 0 0 \r\nL 0 3.5 \r\n\" id=\"m7ceac6afee\" style=\"stroke:#000000;stroke-width:0.8;\"/>\r\n      </defs>\r\n      <g>\r\n       <use style=\"stroke:#000000;stroke-width:0.8;\" x=\"65.361932\" xlink:href=\"#m7ceac6afee\" y=\"239.758125\"/>\r\n      </g>\r\n     </g>\r\n     <g id=\"text_1\">\r\n      <!-- 0.0 -->\r\n      <g transform=\"translate(57.410369 254.356562)scale(0.1 -0.1)\">\r\n       <defs>\r\n        <path d=\"M 31.78125 66.40625 \r\nQ 24.171875 66.40625 20.328125 58.90625 \r\nQ 16.5 51.421875 16.5 36.375 \r\nQ 16.5 21.390625 20.328125 13.890625 \r\nQ 24.171875 6.390625 31.78125 6.390625 \r\nQ 39.453125 6.390625 43.28125 13.890625 \r\nQ 47.125 21.390625 47.125 36.375 \r\nQ 47.125 51.421875 43.28125 58.90625 \r\nQ 39.453125 66.40625 31.78125 66.40625 \r\nz\r\nM 31.78125 74.21875 \r\nQ 44.046875 74.21875 50.515625 64.515625 \r\nQ 56.984375 54.828125 56.984375 36.375 \r\nQ 56.984375 17.96875 50.515625 8.265625 \r\nQ 44.046875 -1.421875 31.78125 -1.421875 \r\nQ 19.53125 -1.421875 13.0625 8.265625 \r\nQ 6.59375 17.96875 6.59375 36.375 \r\nQ 6.59375 54.828125 13.0625 64.515625 \r\nQ 19.53125 74.21875 31.78125 74.21875 \r\nz\r\n\" id=\"DejaVuSans-48\"/>\r\n        <path d=\"M 10.6875 12.40625 \r\nL 21 12.40625 \r\nL 21 0 \r\nL 10.6875 0 \r\nz\r\n\" id=\"DejaVuSans-46\"/>\r\n       </defs>\r\n       <use xlink:href=\"#DejaVuSans-48\"/>\r\n       <use x=\"63.623047\" xlink:href=\"#DejaVuSans-46\"/>\r\n       <use x=\"95.410156\" xlink:href=\"#DejaVuSans-48\"/>\r\n      </g>\r\n     </g>\r\n    </g>\r\n    <g id=\"xtick_2\">\r\n     <g id=\"line2d_2\">\r\n      <g>\r\n       <use style=\"stroke:#000000;stroke-width:0.8;\" x=\"107.634659\" xlink:href=\"#m7ceac6afee\" y=\"239.758125\"/>\r\n      </g>\r\n     </g>\r\n     <g id=\"text_2\">\r\n      <!-- 2.5 -->\r\n      <g transform=\"translate(99.683097 254.356562)scale(0.1 -0.1)\">\r\n       <defs>\r\n        <path d=\"M 19.1875 8.296875 \r\nL 53.609375 8.296875 \r\nL 53.609375 0 \r\nL 7.328125 0 \r\nL 7.328125 8.296875 \r\nQ 12.9375 14.109375 22.625 23.890625 \r\nQ 32.328125 33.6875 34.8125 36.53125 \r\nQ 39.546875 41.84375 41.421875 45.53125 \r\nQ 43.3125 49.21875 43.3125 52.78125 \r\nQ 43.3125 58.59375 39.234375 62.25 \r\nQ 35.15625 65.921875 28.609375 65.921875 \r\nQ 23.96875 65.921875 18.8125 64.3125 \r\nQ 13.671875 62.703125 7.8125 59.421875 \r\nL 7.8125 69.390625 \r\nQ 13.765625 71.78125 18.9375 73 \r\nQ 24.125 74.21875 28.421875 74.21875 \r\nQ 39.75 74.21875 46.484375 68.546875 \r\nQ 53.21875 62.890625 53.21875 53.421875 \r\nQ 53.21875 48.921875 51.53125 44.890625 \r\nQ 49.859375 40.875 45.40625 35.40625 \r\nQ 44.1875 33.984375 37.640625 27.21875 \r\nQ 31.109375 20.453125 19.1875 8.296875 \r\nz\r\n\" id=\"DejaVuSans-50\"/>\r\n        <path d=\"M 10.796875 72.90625 \r\nL 49.515625 72.90625 \r\nL 49.515625 64.59375 \r\nL 19.828125 64.59375 \r\nL 19.828125 46.734375 \r\nQ 21.96875 47.46875 24.109375 47.828125 \r\nQ 26.265625 48.1875 28.421875 48.1875 \r\nQ 40.625 48.1875 47.75 41.5 \r\nQ 54.890625 34.8125 54.890625 23.390625 \r\nQ 54.890625 11.625 47.5625 5.09375 \r\nQ 40.234375 -1.421875 26.90625 -1.421875 \r\nQ 22.3125 -1.421875 17.546875 -0.640625 \r\nQ 12.796875 0.140625 7.71875 1.703125 \r\nL 7.71875 11.625 \r\nQ 12.109375 9.234375 16.796875 8.0625 \r\nQ 21.484375 6.890625 26.703125 6.890625 \r\nQ 35.15625 6.890625 40.078125 11.328125 \r\nQ 45.015625 15.765625 45.015625 23.390625 \r\nQ 45.015625 31 40.078125 35.4375 \r\nQ 35.15625 39.890625 26.703125 39.890625 \r\nQ 22.75 39.890625 18.8125 39.015625 \r\nQ 14.890625 38.140625 10.796875 36.28125 \r\nz\r\n\" id=\"DejaVuSans-53\"/>\r\n       </defs>\r\n       <use xlink:href=\"#DejaVuSans-50\"/>\r\n       <use x=\"63.623047\" xlink:href=\"#DejaVuSans-46\"/>\r\n       <use x=\"95.410156\" xlink:href=\"#DejaVuSans-53\"/>\r\n      </g>\r\n     </g>\r\n    </g>\r\n    <g id=\"xtick_3\">\r\n     <g id=\"line2d_3\">\r\n      <g>\r\n       <use style=\"stroke:#000000;stroke-width:0.8;\" x=\"149.907386\" xlink:href=\"#m7ceac6afee\" y=\"239.758125\"/>\r\n      </g>\r\n     </g>\r\n     <g id=\"text_3\">\r\n      <!-- 5.0 -->\r\n      <g transform=\"translate(141.955824 254.356562)scale(0.1 -0.1)\">\r\n       <use xlink:href=\"#DejaVuSans-53\"/>\r\n       <use x=\"63.623047\" xlink:href=\"#DejaVuSans-46\"/>\r\n       <use x=\"95.410156\" xlink:href=\"#DejaVuSans-48\"/>\r\n      </g>\r\n     </g>\r\n    </g>\r\n    <g id=\"xtick_4\">\r\n     <g id=\"line2d_4\">\r\n      <g>\r\n       <use style=\"stroke:#000000;stroke-width:0.8;\" x=\"192.180114\" xlink:href=\"#m7ceac6afee\" y=\"239.758125\"/>\r\n      </g>\r\n     </g>\r\n     <g id=\"text_4\">\r\n      <!-- 7.5 -->\r\n      <g transform=\"translate(184.228551 254.356562)scale(0.1 -0.1)\">\r\n       <defs>\r\n        <path d=\"M 8.203125 72.90625 \r\nL 55.078125 72.90625 \r\nL 55.078125 68.703125 \r\nL 28.609375 0 \r\nL 18.3125 0 \r\nL 43.21875 64.59375 \r\nL 8.203125 64.59375 \r\nz\r\n\" id=\"DejaVuSans-55\"/>\r\n       </defs>\r\n       <use xlink:href=\"#DejaVuSans-55\"/>\r\n       <use x=\"63.623047\" xlink:href=\"#DejaVuSans-46\"/>\r\n       <use x=\"95.410156\" xlink:href=\"#DejaVuSans-53\"/>\r\n      </g>\r\n     </g>\r\n    </g>\r\n    <g id=\"xtick_5\">\r\n     <g id=\"line2d_5\">\r\n      <g>\r\n       <use style=\"stroke:#000000;stroke-width:0.8;\" x=\"234.452841\" xlink:href=\"#m7ceac6afee\" y=\"239.758125\"/>\r\n      </g>\r\n     </g>\r\n     <g id=\"text_5\">\r\n      <!-- 10.0 -->\r\n      <g transform=\"translate(223.320028 254.356562)scale(0.1 -0.1)\">\r\n       <defs>\r\n        <path d=\"M 12.40625 8.296875 \r\nL 28.515625 8.296875 \r\nL 28.515625 63.921875 \r\nL 10.984375 60.40625 \r\nL 10.984375 69.390625 \r\nL 28.421875 72.90625 \r\nL 38.28125 72.90625 \r\nL 38.28125 8.296875 \r\nL 54.390625 8.296875 \r\nL 54.390625 0 \r\nL 12.40625 0 \r\nz\r\n\" id=\"DejaVuSans-49\"/>\r\n       </defs>\r\n       <use xlink:href=\"#DejaVuSans-49\"/>\r\n       <use x=\"63.623047\" xlink:href=\"#DejaVuSans-48\"/>\r\n       <use x=\"127.246094\" xlink:href=\"#DejaVuSans-46\"/>\r\n       <use x=\"159.033203\" xlink:href=\"#DejaVuSans-48\"/>\r\n      </g>\r\n     </g>\r\n    </g>\r\n    <g id=\"xtick_6\">\r\n     <g id=\"line2d_6\">\r\n      <g>\r\n       <use style=\"stroke:#000000;stroke-width:0.8;\" x=\"276.725568\" xlink:href=\"#m7ceac6afee\" y=\"239.758125\"/>\r\n      </g>\r\n     </g>\r\n     <g id=\"text_6\">\r\n      <!-- 12.5 -->\r\n      <g transform=\"translate(265.592756 254.356562)scale(0.1 -0.1)\">\r\n       <use xlink:href=\"#DejaVuSans-49\"/>\r\n       <use x=\"63.623047\" xlink:href=\"#DejaVuSans-50\"/>\r\n       <use x=\"127.246094\" xlink:href=\"#DejaVuSans-46\"/>\r\n       <use x=\"159.033203\" xlink:href=\"#DejaVuSans-53\"/>\r\n      </g>\r\n     </g>\r\n    </g>\r\n    <g id=\"xtick_7\">\r\n     <g id=\"line2d_7\">\r\n      <g>\r\n       <use style=\"stroke:#000000;stroke-width:0.8;\" x=\"318.998295\" xlink:href=\"#m7ceac6afee\" y=\"239.758125\"/>\r\n      </g>\r\n     </g>\r\n     <g id=\"text_7\">\r\n      <!-- 15.0 -->\r\n      <g transform=\"translate(307.865483 254.356562)scale(0.1 -0.1)\">\r\n       <use xlink:href=\"#DejaVuSans-49\"/>\r\n       <use x=\"63.623047\" xlink:href=\"#DejaVuSans-53\"/>\r\n       <use x=\"127.246094\" xlink:href=\"#DejaVuSans-46\"/>\r\n       <use x=\"159.033203\" xlink:href=\"#DejaVuSans-48\"/>\r\n      </g>\r\n     </g>\r\n    </g>\r\n    <g id=\"xtick_8\">\r\n     <g id=\"line2d_8\">\r\n      <g>\r\n       <use style=\"stroke:#000000;stroke-width:0.8;\" x=\"361.271023\" xlink:href=\"#m7ceac6afee\" y=\"239.758125\"/>\r\n      </g>\r\n     </g>\r\n     <g id=\"text_8\">\r\n      <!-- 17.5 -->\r\n      <g transform=\"translate(350.13821 254.356562)scale(0.1 -0.1)\">\r\n       <use xlink:href=\"#DejaVuSans-49\"/>\r\n       <use x=\"63.623047\" xlink:href=\"#DejaVuSans-55\"/>\r\n       <use x=\"127.246094\" xlink:href=\"#DejaVuSans-46\"/>\r\n       <use x=\"159.033203\" xlink:href=\"#DejaVuSans-53\"/>\r\n      </g>\r\n     </g>\r\n    </g>\r\n    <g id=\"text_9\">\r\n     <!-- Steps -->\r\n     <g transform=\"translate(203.553906 268.034687)scale(0.1 -0.1)\">\r\n      <defs>\r\n       <path d=\"M 53.515625 70.515625 \r\nL 53.515625 60.890625 \r\nQ 47.90625 63.578125 42.921875 64.890625 \r\nQ 37.9375 66.21875 33.296875 66.21875 \r\nQ 25.25 66.21875 20.875 63.09375 \r\nQ 16.5 59.96875 16.5 54.203125 \r\nQ 16.5 49.359375 19.40625 46.890625 \r\nQ 22.3125 44.4375 30.421875 42.921875 \r\nL 36.375 41.703125 \r\nQ 47.40625 39.59375 52.65625 34.296875 \r\nQ 57.90625 29 57.90625 20.125 \r\nQ 57.90625 9.515625 50.796875 4.046875 \r\nQ 43.703125 -1.421875 29.984375 -1.421875 \r\nQ 24.8125 -1.421875 18.96875 -0.25 \r\nQ 13.140625 0.921875 6.890625 3.21875 \r\nL 6.890625 13.375 \r\nQ 12.890625 10.015625 18.65625 8.296875 \r\nQ 24.421875 6.59375 29.984375 6.59375 \r\nQ 38.421875 6.59375 43.015625 9.90625 \r\nQ 47.609375 13.234375 47.609375 19.390625 \r\nQ 47.609375 24.75 44.3125 27.78125 \r\nQ 41.015625 30.8125 33.5 32.328125 \r\nL 27.484375 33.5 \r\nQ 16.453125 35.6875 11.515625 40.375 \r\nQ 6.59375 45.0625 6.59375 53.421875 \r\nQ 6.59375 63.09375 13.40625 68.65625 \r\nQ 20.21875 74.21875 32.171875 74.21875 \r\nQ 37.3125 74.21875 42.625 73.28125 \r\nQ 47.953125 72.359375 53.515625 70.515625 \r\nz\r\n\" id=\"DejaVuSans-83\"/>\r\n       <path d=\"M 18.3125 70.21875 \r\nL 18.3125 54.6875 \r\nL 36.8125 54.6875 \r\nL 36.8125 47.703125 \r\nL 18.3125 47.703125 \r\nL 18.3125 18.015625 \r\nQ 18.3125 11.328125 20.140625 9.421875 \r\nQ 21.96875 7.515625 27.59375 7.515625 \r\nL 36.8125 7.515625 \r\nL 36.8125 0 \r\nL 27.59375 0 \r\nQ 17.1875 0 13.234375 3.875 \r\nQ 9.28125 7.765625 9.28125 18.015625 \r\nL 9.28125 47.703125 \r\nL 2.6875 47.703125 \r\nL 2.6875 54.6875 \r\nL 9.28125 54.6875 \r\nL 9.28125 70.21875 \r\nz\r\n\" id=\"DejaVuSans-116\"/>\r\n       <path d=\"M 56.203125 29.59375 \r\nL 56.203125 25.203125 \r\nL 14.890625 25.203125 \r\nQ 15.484375 15.921875 20.484375 11.0625 \r\nQ 25.484375 6.203125 34.421875 6.203125 \r\nQ 39.59375 6.203125 44.453125 7.46875 \r\nQ 49.3125 8.734375 54.109375 11.28125 \r\nL 54.109375 2.78125 \r\nQ 49.265625 0.734375 44.1875 -0.34375 \r\nQ 39.109375 -1.421875 33.890625 -1.421875 \r\nQ 20.796875 -1.421875 13.15625 6.1875 \r\nQ 5.515625 13.8125 5.515625 26.8125 \r\nQ 5.515625 40.234375 12.765625 48.109375 \r\nQ 20.015625 56 32.328125 56 \r\nQ 43.359375 56 49.78125 48.890625 \r\nQ 56.203125 41.796875 56.203125 29.59375 \r\nz\r\nM 47.21875 32.234375 \r\nQ 47.125 39.59375 43.09375 43.984375 \r\nQ 39.0625 48.390625 32.421875 48.390625 \r\nQ 24.90625 48.390625 20.390625 44.140625 \r\nQ 15.875 39.890625 15.1875 32.171875 \r\nz\r\n\" id=\"DejaVuSans-101\"/>\r\n       <path d=\"M 18.109375 8.203125 \r\nL 18.109375 -20.796875 \r\nL 9.078125 -20.796875 \r\nL 9.078125 54.6875 \r\nL 18.109375 54.6875 \r\nL 18.109375 46.390625 \r\nQ 20.953125 51.265625 25.265625 53.625 \r\nQ 29.59375 56 35.59375 56 \r\nQ 45.5625 56 51.78125 48.09375 \r\nQ 58.015625 40.1875 58.015625 27.296875 \r\nQ 58.015625 14.40625 51.78125 6.484375 \r\nQ 45.5625 -1.421875 35.59375 -1.421875 \r\nQ 29.59375 -1.421875 25.265625 0.953125 \r\nQ 20.953125 3.328125 18.109375 8.203125 \r\nz\r\nM 48.6875 27.296875 \r\nQ 48.6875 37.203125 44.609375 42.84375 \r\nQ 40.53125 48.484375 33.40625 48.484375 \r\nQ 26.265625 48.484375 22.1875 42.84375 \r\nQ 18.109375 37.203125 18.109375 27.296875 \r\nQ 18.109375 17.390625 22.1875 11.75 \r\nQ 26.265625 6.109375 33.40625 6.109375 \r\nQ 40.53125 6.109375 44.609375 11.75 \r\nQ 48.6875 17.390625 48.6875 27.296875 \r\nz\r\n\" id=\"DejaVuSans-112\"/>\r\n       <path d=\"M 44.28125 53.078125 \r\nL 44.28125 44.578125 \r\nQ 40.484375 46.53125 36.375 47.5 \r\nQ 32.28125 48.484375 27.875 48.484375 \r\nQ 21.1875 48.484375 17.84375 46.4375 \r\nQ 14.5 44.390625 14.5 40.28125 \r\nQ 14.5 37.15625 16.890625 35.375 \r\nQ 19.28125 33.59375 26.515625 31.984375 \r\nL 29.59375 31.296875 \r\nQ 39.15625 29.25 43.1875 25.515625 \r\nQ 47.21875 21.78125 47.21875 15.09375 \r\nQ 47.21875 7.46875 41.1875 3.015625 \r\nQ 35.15625 -1.421875 24.609375 -1.421875 \r\nQ 20.21875 -1.421875 15.453125 -0.5625 \r\nQ 10.6875 0.296875 5.421875 2 \r\nL 5.421875 11.28125 \r\nQ 10.40625 8.6875 15.234375 7.390625 \r\nQ 20.0625 6.109375 24.8125 6.109375 \r\nQ 31.15625 6.109375 34.5625 8.28125 \r\nQ 37.984375 10.453125 37.984375 14.40625 \r\nQ 37.984375 18.0625 35.515625 20.015625 \r\nQ 33.0625 21.96875 24.703125 23.78125 \r\nL 21.578125 24.515625 \r\nQ 13.234375 26.265625 9.515625 29.90625 \r\nQ 5.8125 33.546875 5.8125 39.890625 \r\nQ 5.8125 47.609375 11.28125 51.796875 \r\nQ 16.75 56 26.8125 56 \r\nQ 31.78125 56 36.171875 55.265625 \r\nQ 40.578125 54.546875 44.28125 53.078125 \r\nz\r\n\" id=\"DejaVuSans-115\"/>\r\n      </defs>\r\n      <use xlink:href=\"#DejaVuSans-83\"/>\r\n      <use x=\"63.476562\" xlink:href=\"#DejaVuSans-116\"/>\r\n      <use x=\"102.685547\" xlink:href=\"#DejaVuSans-101\"/>\r\n      <use x=\"164.208984\" xlink:href=\"#DejaVuSans-112\"/>\r\n      <use x=\"227.685547\" xlink:href=\"#DejaVuSans-115\"/>\r\n     </g>\r\n    </g>\r\n   </g>\r\n   <g id=\"matplotlib.axis_2\">\r\n    <g id=\"ytick_1\">\r\n     <g id=\"line2d_9\">\r\n      <defs>\r\n       <path d=\"M 0 0 \r\nL -3.5 0 \r\n\" id=\"m06d15434e3\" style=\"stroke:#000000;stroke-width:0.8;\"/>\r\n      </defs>\r\n      <g>\r\n       <use style=\"stroke:#000000;stroke-width:0.8;\" x=\"50.14375\" xlink:href=\"#m06d15434e3\" y=\"230.71064\"/>\r\n      </g>\r\n     </g>\r\n     <g id=\"text_10\">\r\n      <!-- 0.00 -->\r\n      <g transform=\"translate(20.878125 234.509859)scale(0.1 -0.1)\">\r\n       <use xlink:href=\"#DejaVuSans-48\"/>\r\n       <use x=\"63.623047\" xlink:href=\"#DejaVuSans-46\"/>\r\n       <use x=\"95.410156\" xlink:href=\"#DejaVuSans-48\"/>\r\n       <use x=\"159.033203\" xlink:href=\"#DejaVuSans-48\"/>\r\n      </g>\r\n     </g>\r\n    </g>\r\n    <g id=\"ytick_2\">\r\n     <g id=\"line2d_10\">\r\n      <g>\r\n       <use style=\"stroke:#000000;stroke-width:0.8;\" x=\"50.14375\" xlink:href=\"#m06d15434e3\" y=\"196.965376\"/>\r\n      </g>\r\n     </g>\r\n     <g id=\"text_11\">\r\n      <!-- 0.02 -->\r\n      <g transform=\"translate(20.878125 200.764595)scale(0.1 -0.1)\">\r\n       <use xlink:href=\"#DejaVuSans-48\"/>\r\n       <use x=\"63.623047\" xlink:href=\"#DejaVuSans-46\"/>\r\n       <use x=\"95.410156\" xlink:href=\"#DejaVuSans-48\"/>\r\n       <use x=\"159.033203\" xlink:href=\"#DejaVuSans-50\"/>\r\n      </g>\r\n     </g>\r\n    </g>\r\n    <g id=\"ytick_3\">\r\n     <g id=\"line2d_11\">\r\n      <g>\r\n       <use style=\"stroke:#000000;stroke-width:0.8;\" x=\"50.14375\" xlink:href=\"#m06d15434e3\" y=\"163.220113\"/>\r\n      </g>\r\n     </g>\r\n     <g id=\"text_12\">\r\n      <!-- 0.04 -->\r\n      <g transform=\"translate(20.878125 167.019332)scale(0.1 -0.1)\">\r\n       <defs>\r\n        <path d=\"M 37.796875 64.3125 \r\nL 12.890625 25.390625 \r\nL 37.796875 25.390625 \r\nz\r\nM 35.203125 72.90625 \r\nL 47.609375 72.90625 \r\nL 47.609375 25.390625 \r\nL 58.015625 25.390625 \r\nL 58.015625 17.1875 \r\nL 47.609375 17.1875 \r\nL 47.609375 0 \r\nL 37.796875 0 \r\nL 37.796875 17.1875 \r\nL 4.890625 17.1875 \r\nL 4.890625 26.703125 \r\nz\r\n\" id=\"DejaVuSans-52\"/>\r\n       </defs>\r\n       <use xlink:href=\"#DejaVuSans-48\"/>\r\n       <use x=\"63.623047\" xlink:href=\"#DejaVuSans-46\"/>\r\n       <use x=\"95.410156\" xlink:href=\"#DejaVuSans-48\"/>\r\n       <use x=\"159.033203\" xlink:href=\"#DejaVuSans-52\"/>\r\n      </g>\r\n     </g>\r\n    </g>\r\n    <g id=\"ytick_4\">\r\n     <g id=\"line2d_12\">\r\n      <g>\r\n       <use style=\"stroke:#000000;stroke-width:0.8;\" x=\"50.14375\" xlink:href=\"#m06d15434e3\" y=\"129.47485\"/>\r\n      </g>\r\n     </g>\r\n     <g id=\"text_13\">\r\n      <!-- 0.06 -->\r\n      <g transform=\"translate(20.878125 133.274069)scale(0.1 -0.1)\">\r\n       <defs>\r\n        <path d=\"M 33.015625 40.375 \r\nQ 26.375 40.375 22.484375 35.828125 \r\nQ 18.609375 31.296875 18.609375 23.390625 \r\nQ 18.609375 15.53125 22.484375 10.953125 \r\nQ 26.375 6.390625 33.015625 6.390625 \r\nQ 39.65625 6.390625 43.53125 10.953125 \r\nQ 47.40625 15.53125 47.40625 23.390625 \r\nQ 47.40625 31.296875 43.53125 35.828125 \r\nQ 39.65625 40.375 33.015625 40.375 \r\nz\r\nM 52.59375 71.296875 \r\nL 52.59375 62.3125 \r\nQ 48.875 64.0625 45.09375 64.984375 \r\nQ 41.3125 65.921875 37.59375 65.921875 \r\nQ 27.828125 65.921875 22.671875 59.328125 \r\nQ 17.53125 52.734375 16.796875 39.40625 \r\nQ 19.671875 43.65625 24.015625 45.921875 \r\nQ 28.375 48.1875 33.59375 48.1875 \r\nQ 44.578125 48.1875 50.953125 41.515625 \r\nQ 57.328125 34.859375 57.328125 23.390625 \r\nQ 57.328125 12.15625 50.6875 5.359375 \r\nQ 44.046875 -1.421875 33.015625 -1.421875 \r\nQ 20.359375 -1.421875 13.671875 8.265625 \r\nQ 6.984375 17.96875 6.984375 36.375 \r\nQ 6.984375 53.65625 15.1875 63.9375 \r\nQ 23.390625 74.21875 37.203125 74.21875 \r\nQ 40.921875 74.21875 44.703125 73.484375 \r\nQ 48.484375 72.75 52.59375 71.296875 \r\nz\r\n\" id=\"DejaVuSans-54\"/>\r\n       </defs>\r\n       <use xlink:href=\"#DejaVuSans-48\"/>\r\n       <use x=\"63.623047\" xlink:href=\"#DejaVuSans-46\"/>\r\n       <use x=\"95.410156\" xlink:href=\"#DejaVuSans-48\"/>\r\n       <use x=\"159.033203\" xlink:href=\"#DejaVuSans-54\"/>\r\n      </g>\r\n     </g>\r\n    </g>\r\n    <g id=\"ytick_5\">\r\n     <g id=\"line2d_13\">\r\n      <g>\r\n       <use style=\"stroke:#000000;stroke-width:0.8;\" x=\"50.14375\" xlink:href=\"#m06d15434e3\" y=\"95.729587\"/>\r\n      </g>\r\n     </g>\r\n     <g id=\"text_14\">\r\n      <!-- 0.08 -->\r\n      <g transform=\"translate(20.878125 99.528805)scale(0.1 -0.1)\">\r\n       <defs>\r\n        <path d=\"M 31.78125 34.625 \r\nQ 24.75 34.625 20.71875 30.859375 \r\nQ 16.703125 27.09375 16.703125 20.515625 \r\nQ 16.703125 13.921875 20.71875 10.15625 \r\nQ 24.75 6.390625 31.78125 6.390625 \r\nQ 38.8125 6.390625 42.859375 10.171875 \r\nQ 46.921875 13.96875 46.921875 20.515625 \r\nQ 46.921875 27.09375 42.890625 30.859375 \r\nQ 38.875 34.625 31.78125 34.625 \r\nz\r\nM 21.921875 38.8125 \r\nQ 15.578125 40.375 12.03125 44.71875 \r\nQ 8.5 49.078125 8.5 55.328125 \r\nQ 8.5 64.0625 14.71875 69.140625 \r\nQ 20.953125 74.21875 31.78125 74.21875 \r\nQ 42.671875 74.21875 48.875 69.140625 \r\nQ 55.078125 64.0625 55.078125 55.328125 \r\nQ 55.078125 49.078125 51.53125 44.71875 \r\nQ 48 40.375 41.703125 38.8125 \r\nQ 48.828125 37.15625 52.796875 32.3125 \r\nQ 56.78125 27.484375 56.78125 20.515625 \r\nQ 56.78125 9.90625 50.3125 4.234375 \r\nQ 43.84375 -1.421875 31.78125 -1.421875 \r\nQ 19.734375 -1.421875 13.25 4.234375 \r\nQ 6.78125 9.90625 6.78125 20.515625 \r\nQ 6.78125 27.484375 10.78125 32.3125 \r\nQ 14.796875 37.15625 21.921875 38.8125 \r\nz\r\nM 18.3125 54.390625 \r\nQ 18.3125 48.734375 21.84375 45.5625 \r\nQ 25.390625 42.390625 31.78125 42.390625 \r\nQ 38.140625 42.390625 41.71875 45.5625 \r\nQ 45.3125 48.734375 45.3125 54.390625 \r\nQ 45.3125 60.0625 41.71875 63.234375 \r\nQ 38.140625 66.40625 31.78125 66.40625 \r\nQ 25.390625 66.40625 21.84375 63.234375 \r\nQ 18.3125 60.0625 18.3125 54.390625 \r\nz\r\n\" id=\"DejaVuSans-56\"/>\r\n       </defs>\r\n       <use xlink:href=\"#DejaVuSans-48\"/>\r\n       <use x=\"63.623047\" xlink:href=\"#DejaVuSans-46\"/>\r\n       <use x=\"95.410156\" xlink:href=\"#DejaVuSans-48\"/>\r\n       <use x=\"159.033203\" xlink:href=\"#DejaVuSans-56\"/>\r\n      </g>\r\n     </g>\r\n    </g>\r\n    <g id=\"ytick_6\">\r\n     <g id=\"line2d_14\">\r\n      <g>\r\n       <use style=\"stroke:#000000;stroke-width:0.8;\" x=\"50.14375\" xlink:href=\"#m06d15434e3\" y=\"61.984323\"/>\r\n      </g>\r\n     </g>\r\n     <g id=\"text_15\">\r\n      <!-- 0.10 -->\r\n      <g transform=\"translate(20.878125 65.783542)scale(0.1 -0.1)\">\r\n       <use xlink:href=\"#DejaVuSans-48\"/>\r\n       <use x=\"63.623047\" xlink:href=\"#DejaVuSans-46\"/>\r\n       <use x=\"95.410156\" xlink:href=\"#DejaVuSans-49\"/>\r\n       <use x=\"159.033203\" xlink:href=\"#DejaVuSans-48\"/>\r\n      </g>\r\n     </g>\r\n    </g>\r\n    <g id=\"ytick_7\">\r\n     <g id=\"line2d_15\">\r\n      <g>\r\n       <use style=\"stroke:#000000;stroke-width:0.8;\" x=\"50.14375\" xlink:href=\"#m06d15434e3\" y=\"28.23906\"/>\r\n      </g>\r\n     </g>\r\n     <g id=\"text_16\">\r\n      <!-- 0.12 -->\r\n      <g transform=\"translate(20.878125 32.038279)scale(0.1 -0.1)\">\r\n       <use xlink:href=\"#DejaVuSans-48\"/>\r\n       <use x=\"63.623047\" xlink:href=\"#DejaVuSans-46\"/>\r\n       <use x=\"95.410156\" xlink:href=\"#DejaVuSans-49\"/>\r\n       <use x=\"159.033203\" xlink:href=\"#DejaVuSans-50\"/>\r\n      </g>\r\n     </g>\r\n    </g>\r\n    <g id=\"text_17\">\r\n     <!-- Loss -->\r\n     <g transform=\"translate(14.798438 142.005312)rotate(-90)scale(0.1 -0.1)\">\r\n      <defs>\r\n       <path d=\"M 9.8125 72.90625 \r\nL 19.671875 72.90625 \r\nL 19.671875 8.296875 \r\nL 55.171875 8.296875 \r\nL 55.171875 0 \r\nL 9.8125 0 \r\nz\r\n\" id=\"DejaVuSans-76\"/>\r\n       <path d=\"M 30.609375 48.390625 \r\nQ 23.390625 48.390625 19.1875 42.75 \r\nQ 14.984375 37.109375 14.984375 27.296875 \r\nQ 14.984375 17.484375 19.15625 11.84375 \r\nQ 23.34375 6.203125 30.609375 6.203125 \r\nQ 37.796875 6.203125 41.984375 11.859375 \r\nQ 46.1875 17.53125 46.1875 27.296875 \r\nQ 46.1875 37.015625 41.984375 42.703125 \r\nQ 37.796875 48.390625 30.609375 48.390625 \r\nz\r\nM 30.609375 56 \r\nQ 42.328125 56 49.015625 48.375 \r\nQ 55.71875 40.765625 55.71875 27.296875 \r\nQ 55.71875 13.875 49.015625 6.21875 \r\nQ 42.328125 -1.421875 30.609375 -1.421875 \r\nQ 18.84375 -1.421875 12.171875 6.21875 \r\nQ 5.515625 13.875 5.515625 27.296875 \r\nQ 5.515625 40.765625 12.171875 48.375 \r\nQ 18.84375 56 30.609375 56 \r\nz\r\n\" id=\"DejaVuSans-111\"/>\r\n      </defs>\r\n      <use xlink:href=\"#DejaVuSans-76\"/>\r\n      <use x=\"53.962891\" xlink:href=\"#DejaVuSans-111\"/>\r\n      <use x=\"115.144531\" xlink:href=\"#DejaVuSans-115\"/>\r\n      <use x=\"167.244141\" xlink:href=\"#DejaVuSans-115\"/>\r\n     </g>\r\n    </g>\r\n   </g>\r\n   <g id=\"line2d_16\">\r\n    <path clip-path=\"url(#pf97870d089)\" d=\"M 65.361932 32.201761 \r\nL 82.271023 201.921127 \r\nL 99.180114 212.505652 \r\nL 116.089205 218.409569 \r\nL 132.998295 222.394973 \r\nL 149.907386 224.948598 \r\nL 166.816477 226.668508 \r\nL 183.725568 227.59602 \r\nL 200.634659 227.942336 \r\nL 217.54375 228.958061 \r\nL 234.452841 229.377735 \r\nL 251.361932 229.727635 \r\nL 268.271023 229.613229 \r\nL 285.180114 229.874489 \r\nL 302.089205 227.746343 \r\nL 318.998295 228.523756 \r\nL 335.907386 227.346183 \r\nL 352.816477 224.421812 \r\nL 369.725568 229.398969 \r\n\" style=\"fill:none;stroke:#1f77b4;stroke-linecap:square;stroke-width:1.5;\"/>\r\n   </g>\r\n   <g id=\"patch_3\">\r\n    <path d=\"M 50.14375 239.758125 \r\nL 50.14375 22.318125 \r\n\" style=\"fill:none;stroke:#000000;stroke-linecap:square;stroke-linejoin:miter;stroke-width:0.8;\"/>\r\n   </g>\r\n   <g id=\"patch_4\">\r\n    <path d=\"M 384.94375 239.758125 \r\nL 384.94375 22.318125 \r\n\" style=\"fill:none;stroke:#000000;stroke-linecap:square;stroke-linejoin:miter;stroke-width:0.8;\"/>\r\n   </g>\r\n   <g id=\"patch_5\">\r\n    <path d=\"M 50.14375 239.758125 \r\nL 384.94375 239.758125 \r\n\" style=\"fill:none;stroke:#000000;stroke-linecap:square;stroke-linejoin:miter;stroke-width:0.8;\"/>\r\n   </g>\r\n   <g id=\"patch_6\">\r\n    <path d=\"M 50.14375 22.318125 \r\nL 384.94375 22.318125 \r\n\" style=\"fill:none;stroke:#000000;stroke-linecap:square;stroke-linejoin:miter;stroke-width:0.8;\"/>\r\n   </g>\r\n   <g id=\"text_18\">\r\n    <!-- Loss -->\r\n    <g transform=\"translate(204.383125 16.318125)scale(0.12 -0.12)\">\r\n     <use xlink:href=\"#DejaVuSans-76\"/>\r\n     <use x=\"53.962891\" xlink:href=\"#DejaVuSans-111\"/>\r\n     <use x=\"115.144531\" xlink:href=\"#DejaVuSans-115\"/>\r\n     <use x=\"167.244141\" xlink:href=\"#DejaVuSans-115\"/>\r\n    </g>\r\n   </g>\r\n  </g>\r\n </g>\r\n <defs>\r\n  <clipPath id=\"pf97870d089\">\r\n   <rect height=\"217.44\" width=\"334.8\" x=\"50.14375\" y=\"22.318125\"/>\r\n  </clipPath>\r\n </defs>\r\n</svg>\r\n",
      "image/png": "[encoded data removed]"
     },
     "metadata": {
      "needs_background": "light"
     }
    }
   ],
   "source": [
    "plt.plot(range(len(history.history['loss'])), history.history['loss'])\n",
    "plt.xlabel('Steps')\n",
    "plt.ylabel('Loss')\n",
    "plt.title('Loss')"
   ]
  },
  {
   "cell_type": "code",
   "execution_count": 20,
   "metadata": {},
   "outputs": [],
   "source": [
    "weights_path = 'mnist.h5'\n",
    "model.save_weights(weights_path)"
   ]
  },
  {
   "cell_type": "code",
   "execution_count": 21,
   "metadata": {},
   "outputs": [],
   "source": [
    "model.load_weights(weights_path)"
   ]
  },
  {
   "cell_type": "code",
   "execution_count": 24,
   "metadata": {},
   "outputs": [
    {
     "output_type": "stream",
     "name": "stdout",
     "text": [
      "60/60 [==============================] - 4s 73ms/step - loss: 0.0100 - accuracy: 0.9898\n",
      "Test loss: 0.0100\n",
      "Test accuracy: 0.99%\n"
     ]
    }
   ],
   "source": [
    "result = model.evaluate(mnistDataset.actual_test_ds)\n",
    "print(f'Test loss: {result[0]:.4f}')\n",
    "print(f'Test accuracy: {result[1]:.2f}%')"
   ]
  }
 ]
}