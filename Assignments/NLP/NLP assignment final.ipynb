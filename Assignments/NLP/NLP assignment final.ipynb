{
 "metadata": {
  "language_info": {
   "codemirror_mode": {
    "name": "ipython",
    "version": 3
   },
   "file_extension": ".py",
   "mimetype": "text/x-python",
   "name": "python",
   "nbconvert_exporter": "python",
   "pygments_lexer": "ipython3",
   "version": "3.7.9-final"
  },
  "orig_nbformat": 2,
  "kernelspec": {
   "name": "python3",
   "display_name": "Python 3.7.9 64-bit ('tfenv': conda)",
   "metadata": {
    "interpreter": {
     "hash": "02bf624525e16d02427f3fce9702099825ba623cec0caf430ca516da67aaa832"
    }
   }
  }
 },
 "nbformat": 4,
 "nbformat_minor": 2,
 "cells": [
  {
   "cell_type": "markdown",
   "metadata": {},
   "source": [
    "# Natural Language Processing\n",
    "After attending the workshops by Olaf Janssen [\\[1\\]](#References) on Natural Language Processing (NLP), <br>\n",
    "it is time to start playing with state-of-the-art NLP pre-trained models, such as BERT (and derivatives such as ALBERT and RoBERTa), GPT-2 or XLNET. <br>\n",
    "<br>\n",
    "The assignment is to first pick a NLP task (such as Q&A, search engine, chatbot, classification, etc.). <br>\n",
    "Then to choose a context wherein this task is being ran (such as a game, a service, smart applications, etc.). <br>\n",
    "And, build it! <br>\n",
    "The idea is that the student will be working with pre-trained models and that the focus is primarily on designing the right pipeline for the problem at hand. <br>\n",
    "Endlessly fine-tuning the model is not a priority in this assignment; the goal is to demonstrate that the student understands how a NLP task is build up and can apply NLP techniques. <br>\n",
    "The result must be an interactive prototype that tackles a specific NLP task."
   ]
  },
  {
   "source": [
    "# Introduction\n",
    "This notebook will contain my NLP learning journey throughout the assignment. <br>\n",
    "Before diving into the assignment for the workshop, I will first experiment with NLP pipelines. <br>\n",
    "I do this because it helps me better understand how NLP libraries are used. <br>\n",
    "Afterwards, I will explain the task I have chosen and how I plan to approach it. <br>\n",
    "Lastly, I will conclude my learning journey with an interactive version of my NLP model. "
   ],
   "cell_type": "markdown",
   "metadata": {}
  },
  {
   "cell_type": "markdown",
   "metadata": {},
   "source": [
    "# Preparation\n",
    "In this section useful libraries are imported which are used in most data science projects."
   ]
  },
  {
   "cell_type": "code",
   "execution_count": 1,
   "metadata": {},
   "outputs": [],
   "source": [
    "import os\n",
    "import sys\n",
    "from dotenv import load_dotenv\n",
    "\n",
    "# sets the path to the home directory of this repository so other modules can be imported. \n",
    "project_path = os.getcwd()\n",
    "load_dotenv(os.path.join(project_path, '.env'))\n",
    "\n",
    "root_path = os.path.split(os.path.split(os.getcwd())[0])[0]\n",
    "assert root_path.endswith(\"Fontys-ADS\"), \"The root path does not end with Fontys-ADS: \" + root_path \n",
    "sys.path.insert(0, root_path)\n",
    "\n",
    "import pandas as pd\n",
    "import numpy as np\n",
    "import tensorflow as tf\n",
    "import transformers\n",
    "import matplotlib.pyplot as plt\n",
    "\n",
    "transformers.logging.set_verbosity(40)\n",
    "# set the seed for reproducible results.\n",
    "np.random.seed(56)\n",
    "tf.random.set_seed(56)\n",
    "\n",
    "# optionally, set TensorFlow to use the GPU with all available memory.\n",
    "# physical_devices = tf.config.experimental.list_physical_devices('GPU')\n",
    "# tf.config.experimental.set_memory_growth(physical_devices[0], True)"
   ]
  },
  {
   "source": [
    "Information about the installed packages:"
   ],
   "cell_type": "markdown",
   "metadata": {}
  },
  {
   "cell_type": "code",
   "execution_count": 2,
   "metadata": {},
   "outputs": [
    {
     "output_type": "stream",
     "name": "stdout",
     "text": [
      "transformers==3.5.1\nnumpy==1.19.2\ntensorflow==2.3.0\n"
     ]
    }
   ],
   "source": [
    "print(f'transformers=={transformers.__version__}')\n",
    "print(f'numpy=={np.__version__}')\n",
    "print(f'tensorflow=={tf.__version__}')"
   ]
  },
  {
   "source": [
    "# Hands-On with NLP pipelines\n",
    "For the experimenting with NLP pipelines I found the library transformers from huggingface [\\[2\\]](#References). <br>\n",
    "It has a simple to use API and has support for many NLP models. <br>\n",
    "I will experiment with a few different NLP tasks using the pipeline API."
   ],
   "cell_type": "markdown",
   "metadata": {}
  },
  {
   "cell_type": "code",
   "execution_count": 3,
   "metadata": {},
   "outputs": [],
   "source": [
    "from transformers import pipeline"
   ]
  },
  {
   "source": [
    "## Text generation pipeline\n",
    "For text generation, I started with creating a pipeline with a GPT2 (small) pre-trained model. <br>\n",
    "But the small GPT2 model did not produce good enough outputs. So, I swapped out the small model for the large model."
   ],
   "cell_type": "markdown",
   "metadata": {}
  },
  {
   "cell_type": "code",
   "execution_count": 4,
   "metadata": {},
   "outputs": [],
   "source": [
    "text_gen = pipeline(\"text-generation\", model=\"gpt2-large\")"
   ]
  },
  {
   "source": [
    "And tried a few different text-generation continuations...."
   ],
   "cell_type": "markdown",
   "metadata": {}
  },
  {
   "cell_type": "code",
   "execution_count": 7,
   "metadata": {},
   "outputs": [
    {
     "output_type": "display_data",
     "data": {
      "text/plain": "'Many moons ago it had looked as if this island, in these waters, might belong to us. We now know, however, that what we took from the islands of the sea must have been of great value. And we were able to draw from this island a rich vein of gold. And it was known among us, in those days, as a place where the gold was in greatest demand. We did not have the means to mine it ourselves, so we sent people along the coast to find'"
     },
     "metadata": {}
    }
   ],
   "source": [
    "result = text_gen(\"Many moons ago\", max_length=100)\n",
    "display(result[0]['generated_text'])"
   ]
  },
  {
   "source": [
    "The pipeline resulted in some interesting continuations:\n",
    "- <b> Providing \"In a forgotten land, far far away, \", resulted in: </b> <br> \n",
    "\"In a forgotten land, far far away, are the only things left: the walls from which I was to die, and the sun that shone when I slept. Therein lies a world of promise. And it I have known all\"\n",
    "- <b> Providing \"Have you read Olaf's NLP blog post?\", resulted in: </b> <br> \n",
    "\"Have you read Olaf's NLP blog post? It's the most useful thing I've read on NLP, ever. (And you should read it.)\\n\\nAdvertisements\\n\\nLike this: Like Loading... Related\\n\\nPosted in Unc\"\n",
    "- <b> Providing \"In a galaxy far away, the sith are preparing for\", resulted in: </b> <br> \n",
    "\"In a galaxy far away, the sith are preparing for a grand festival. The Sith Lord, Darth Vader, is about to make his grand return. As a reward for his master's treachery, Vader himself is given the title of Darth Vader\"\n",
    "\n",
    "Not every continuation makes sense. It also feels like it is just spitting out text it has read before from blog posts, or the like."
   ],
   "cell_type": "markdown",
   "metadata": {}
  },
  {
   "source": [
    "## Question & Answer pipeline\n",
    "For the question and answer task, I can also provide a context for the model to answer questions on. <br>\n",
    "For this model, I chose the most popular question-answering model on huggingface's website."
   ],
   "cell_type": "markdown",
   "metadata": {}
  },
  {
   "cell_type": "code",
   "execution_count": 5,
   "metadata": {},
   "outputs": [],
   "source": [
    "nlp = pipeline(\"question-answering\", model=\"deepset/bert-large-uncased-whole-word-masking-squad2\")"
   ]
  },
  {
   "source": [
    "The context I provide is about a band I was listening to during the making of this notebook."
   ],
   "cell_type": "markdown",
   "metadata": {}
  },
  {
   "cell_type": "code",
   "execution_count": 6,
   "metadata": {},
   "outputs": [],
   "source": [
    "context = r\"\"\"\n",
    "The band Æther Realm has a song called The Sun, The Moon, The Stars which is 20 minutes in length.\n",
    "The Sun, The Moon, The Stars is most known for its lengthy guitar riffs and melodies.\n",
    "But I also like the song called The Fool which is only 4 minutes in length.\n",
    "After playing the 20 minute song, I played the rest of the album.\n",
    "\"\"\""
   ]
  },
  {
   "source": [
    "The questions I ask below all belong to the context, so they should be answerable."
   ],
   "cell_type": "markdown",
   "metadata": {}
  },
  {
   "cell_type": "code",
   "execution_count": 7,
   "metadata": {},
   "outputs": [
    {
     "output_type": "stream",
     "name": "stdout",
     "text": [
      "Answer: 'The Sun, The Moon, The Stars', score: 0.9546, start: 40, end: 68\n",
      "Answer: 'Æther Realm', score: 0.9729, start: 10, end: 21\n",
      "Answer: 'I played the rest of the album.', score: 0.0283, start: 296, end: 327\n",
      "Answer: 'The Fool', score: 0.9815, start: 218, end: 226\n",
      "Answer: 'The Fool', score: 0.0494, start: 218, end: 226\n",
      "Answer: 'The Sun, The Moon, The Stars', score: 0.0472, start: 40, end: 68\n"
     ]
    }
   ],
   "source": [
    "result = nlp(question=\"What is the name of the song which is 20 minutes in  length?\", context=context)\n",
    "print(f\"Answer: '{result['answer']}', score: {round(result['score'], 4)}, start: {result['start']}, end: {result['end']}\")\n",
    "result = nlp(question=\"What is the name of the band which has a song of 20 minutes in length?\", context=context)\n",
    "print(f\"Answer: '{result['answer']}', score: {round(result['score'], 4)}, start: {result['start']}, end: {result['end']}\")\n",
    "result = nlp(question=\"What happened after listening to The Sun, The Moon, The Star?\", context=context)\n",
    "print(f\"Answer: '{result['answer']}', score: {round(result['score'], 4)}, start: {result['start']}, end: {result['end']}\")\n",
    "result = nlp(question=\"Which song did I like?\", context=context)\n",
    "print(f\"Answer: '{result['answer']}', score: {round(result['score'], 4)}, start: {result['start']}, end: {result['end']}\")\n",
    "result = nlp(question=\"What is the name of the shortest song?\", context=context)\n",
    "print(f\"Answer: '{result['answer']}', score: {round(result['score'], 4)}, start: {result['start']}, end: {result['end']}\")\n",
    "result = nlp(question=\"What is the name of the lengthiest song?\", context=context)\n",
    "print(f\"Answer: '{result['answer']}', score: {round(result['score'], 4)}, start: {result['start']}, end: {result['end']}\")"
   ]
  },
  {
   "source": [
    "The questions below are not explained in the context and should not be answerable."
   ],
   "cell_type": "markdown",
   "metadata": {}
  },
  {
   "cell_type": "code",
   "execution_count": 10,
   "metadata": {},
   "outputs": [
    {
     "output_type": "stream",
     "name": "stdout",
     "text": [
      "Answer: 'Æther Realm', score: 0.0, start: 10, end: 21\n",
      "Answer: 'Æther Realm', score: 0.2439, start: 10, end: 21\n"
     ]
    }
   ],
   "source": [
    "result = nlp(question=\"Who is the lead singer of the band?\", context=context)\n",
    "print(f\"Answer: '{result['answer']}', score: {round(result['score'], 4)}, start: {result['start']}, end: {result['end']}\")\n",
    "result = nlp(question=\"What genre is this band?\", context=context)\n",
    "print(f\"Answer: '{result['answer']}', score: {round(result['score'], 4)}, start: {result['start']}, end: {result['end']}\")"
   ]
  },
  {
   "source": [
    "The six questions it was able to answer, it did succesfully. <br>\n",
    "The two questions it should not be able to answer, failed to be answered. <br>"
   ],
   "cell_type": "markdown",
   "metadata": {}
  },
  {
   "source": [
    "## Translation pipeline\n",
    "For the translation pipeline, there are also many models available. <br>\n",
    "I have chosen the T5 model to translate English to German. <br>"
   ],
   "cell_type": "markdown",
   "metadata": {}
  },
  {
   "cell_type": "code",
   "execution_count": 19,
   "metadata": {},
   "outputs": [],
   "source": [
    "translator = pipeline(\"translation_en_to_de\", model=\"t5-large\")"
   ]
  },
  {
   "cell_type": "code",
   "execution_count": 22,
   "metadata": {},
   "outputs": [
    {
     "output_type": "execute_result",
     "data": {
      "text/plain": [
       "'Mein Fahrrad ist gestohlen.'"
      ]
     },
     "metadata": {},
     "execution_count": 22
    }
   ],
   "source": [
    "translation = translator(\"My bike is stolen.\", max_length=40)\n",
    "translation[0]['translation_text']"
   ]
  },
  {
   "source": [
    "I have not had German in years, but I am fairly sure that this translation is correct."
   ],
   "cell_type": "markdown",
   "metadata": {}
  },
  {
   "source": [
    "# NLP Assignment\n",
    "For the NLP assignment, I was curious whether I could create a rapping NLP model. <br>\n",
    "So, the task at hand is `Text Generation`. <br>\n"
   ],
   "cell_type": "markdown",
   "metadata": {}
  },
  {
   "source": [
    "## Gathering data\n",
    "I have chosen to create a model based on the top 100 songs of Eminem according to the Genius API [\\[3\\]](#References). <br>"
   ],
   "cell_type": "markdown",
   "metadata": {}
  },
  {
   "cell_type": "code",
   "execution_count": 164,
   "metadata": {},
   "outputs": [
    {
     "output_type": "stream",
     "name": "stdout",
     "text": [
      "Searching for songs by Eminem...\n",
      "\n",
      "Song 1: \"Rap God\"\n",
      "Song 2: \"Killshot\"\n",
      "Song 3: \"Godzilla\"\n",
      "Song 4: \"Lose Yourself\"\n",
      "Song 5: \"The Monster\"\n",
      "Song 6: \"Lucky You\"\n",
      "Song 7: \"The Ringer\"\n",
      "Song 8: \"River\"\n",
      "Song 9: \"Venom\"\n",
      "Song 10: \"Berzerk\"\n",
      "Song 11: \"Stan\"\n",
      "Song 12: \"Not Alike\"\n",
      "Song 13: \"Fall\"\n",
      "Song 14: \"Without Me\"\n",
      "Song 15: \"The Real Slim Shady\"\n",
      "Song 16: \"Kamikaze\"\n",
      "Song 17: \"Walk on Water\"\n",
      "Song 18: \"’Till I Collapse\"\n",
      "Song 19: \"Love the Way You Lie\"\n",
      "Song 20: \"Bad Guy\"\n",
      "Song 21: \"8 Mile: B-Rabbit vs Papa Doc\"\n",
      "Song 22: \"Mockingbird\"\n",
      "Song 23: \"Not Afraid\"\n",
      "Song 24: \"Headlights\"\n",
      "Song 25: \"Survival\"\n",
      "Song 26: \"No Love\"\n",
      "Song 27: \"Beautiful\"\n",
      "Song 28: \"Greatest\"\n",
      "Song 29: \"When I’m Gone\"\n",
      "Song 30: \"Love Game\"\n",
      "Song 31: \"Cleanin’ Out My Closet\"\n",
      "Song 32: \"My Name Is\"\n",
      "Song 33: \"The Way I Am\"\n",
      "Song 34: \"Legacy\"\n",
      "Song 35: \"Superman\"\n",
      "Song 36: \"Space Bound\"\n",
      "Song 37: \"Unaccommodating\"\n",
      "Song 38: \"Like Toy Soldiers\"\n",
      "Song 39: \"Guts Over Fear\"\n",
      "Song 40: \"Sing for the Moment\"\n",
      "Song 41: \"Marshall Mathers\"\n",
      "Song 42: \"Stronger Than I Was\"\n",
      "Song 43: \"Believe\"\n",
      "Song 44: \"Evil Twin\"\n",
      "Song 45: \"Detroit vs. Everybody\"\n",
      "Song 46: \"Untouchable\"\n",
      "Song 47: \"Kill You\"\n",
      "Song 48: \"Darkness\"\n",
      "Song 49: \"Kim\"\n",
      "Song 50: \"So Much Better\"\n",
      "Song 51: \"Criminal\"\n",
      "Song 52: \"Beautiful Pain\"\n",
      "Song 53: \"Campaign Speech\"\n",
      "Song 54: \"Rhyme or Reason\"\n",
      "Song 55: \"I’m Back\"\n",
      "Song 56: \"Chloraseptic (Remix)\"\n",
      "Song 57: \"Stepping Stone\"\n",
      "Song 58: \"You Gon’ Learn\"\n",
      "Song 59: \"White America\"\n",
      "Song 60: \"Kings Never Die\"\n",
      "Song 61: \"Infinite\"\n",
      "Song 62: \"Just Don’t Give a Fuck\"\n",
      "Song 63: \"Asshole\"\n",
      "Song 64: \"Wicked Ways\"\n",
      "Song 65: \"Good Guy\"\n",
      "Song 66: \"So Far...\"\n",
      "Song 67: \"Phenomenal\"\n",
      "Song 68: \"Normal\"\n",
      "Song 69: \"Shake That\"\n",
      "Song 70: \"Role Model\"\n",
      "Song 71: \"BET Shady 2.0 Cypher\"\n",
      "Song 72: \"Offended\"\n",
      "Song 73: \"Brainless\"\n",
      "Song 74: \"Guilty Conscience\"\n",
      "Song 75: \"The Warning\"\n",
      "Song 76: \"Premonition (Intro)\"\n",
      "Song 77: \"25 to Life\"\n",
      "Song 78: \"FACK\"\n",
      "Song 79: \"Those Kinda Nights\"\n",
      "Song 80: \"Leaving Heaven\"\n",
      "Song 81: \"Hailie’s Song\"\n",
      "Song 82: \"Ass Like That\"\n",
      "Song 83: \"Bitch Please II\"\n",
      "Song 84: \"Arose\"\n",
      "Song 85: \"Business\"\n",
      "Song 86: \"Framed\"\n",
      "Song 87: \"Just Lose It\"\n",
      "Song 88: \"Marsh\"\n",
      "Song 89: \"Cold Wind Blows\"\n",
      "Song 90: \"I Will\"\n",
      "Song 91: \"Chloraseptic\"\n",
      "Song 92: \"Brain Damage\"\n",
      "Song 93: \"My Darling\"\n",
      "Song 94: \"Bad Husband\"\n",
      "Song 95: \"Drug Ballad\"\n",
      "Song 96: \"8 Mile\"\n",
      "Song 97: \"Going Through Changes\"\n",
      "Song 98: \"Cinderella Man\"\n",
      "Song 99: \"We Made You\"\n",
      "Song 100: \"ShadyXV\"\n",
      "\n",
      "Reached user-specified song limit (100).\n",
      "Done. Found 100 songs.\n"
     ]
    }
   ],
   "source": [
    "import lyricsgenius\n",
    "\n",
    "# API key for GENIUS lyrics.\n",
    "GENIUS_KEY = os.getenv(\"GENIUS_KEY\")\n",
    "\n",
    "genius = lyricsgenius.Genius(GENIUS_KEY)\n",
    "genius.remove_section_headers = True\n",
    "artist = genius.search_artist('Eminem', max_songs=100, sort='popularity')"
   ]
  },
  {
   "source": [
    "## Preprocessing data\n",
    "The songs that are gathered from genius have a lot of gibberish in the text. <br>\n",
    "Like backings (Ahh!), (Yeah), etc. or section headers: \\[Intro\\], \\[Verse\\], \\[Chorus\\], etc. <br> \n",
    "Also, the lyrics contain a lot of contractions since in spoken language it is easier to say or rhymes better.<br>\n",
    "These problems have to be fixed first before the text is provided to the model."
   ],
   "cell_type": "markdown",
   "metadata": {}
  },
  {
   "cell_type": "code",
   "execution_count": 184,
   "metadata": {},
   "outputs": [
    {
     "output_type": "execute_result",
     "data": {
      "text/plain": [
       "                    title                                              album  \\\n",
       "0                 Rap God                  The Marshall Mathers LP2 (Deluxe)   \n",
       "1                Killshot                                               None   \n",
       "2                Godzilla                            Music to Be Murdered By   \n",
       "3           Lose Yourself                                        The Singles   \n",
       "4             The Monster                  The Marshall Mathers LP2 (Deluxe)   \n",
       "..                    ...                                                ...   \n",
       "95                 8 Mile  8 Mile: Music from and Inspired by the Motion ...   \n",
       "96  Going Through Changes                                           Recovery   \n",
       "97         Cinderella Man                                           Recovery   \n",
       "98            We Made You                                            Relapse   \n",
       "99                ShadyXV                                            SHADYXV   \n",
       "\n",
       "          year                                             lyrics  \\\n",
       "0   2013-10-15  \"Look, I was gonna go easy on you not to hurt ...   \n",
       "1   2018-09-14  You sound like a bitch, bitch\\nShut the fuck u...   \n",
       "2   2020-01-17  Ugh, you're a monster\\n\\nI can swallow a bottl...   \n",
       "3   2002-10-28  Look, if you had one shot or one opportunity\\n...   \n",
       "4   2013-10-29  I'm friends with the monster that's under my b...   \n",
       "..         ...                                                ...   \n",
       "95  2002-10-29  It's alright, it's okay\\nI'm gonna make it any...   \n",
       "96  2010-06-18  I'm going through changes\\nI'm going through c...   \n",
       "97  2010-06-18  Yeah, you know, technically\\nI'm not even real...   \n",
       "98  2009-04-07  Guess who? D'you miss me?\\nJessica Simpson, si...   \n",
       "99  2014-11-24  I'm liable to start a violent spark with a sil...   \n",
       "\n",
       "                                                image  \n",
       "0   https://images.genius.com/058e2359838c93395c36...  \n",
       "1   https://images.genius.com/b1da996dcb2acb56506b...  \n",
       "2   https://images.genius.com/e7ec9f0d94b506dadfc6...  \n",
       "3   https://images.genius.com/ce61c1b2664c5952984e...  \n",
       "4   https://images.genius.com/f8e3befb0dfae2eaa683...  \n",
       "..                                                ...  \n",
       "95  https://images.genius.com/e4a1bd93e045b909843d...  \n",
       "96  https://images.genius.com/7b93181ae4ed594c902b...  \n",
       "97  https://images.genius.com/8267d6f45cdffed8db78...  \n",
       "98  https://images.genius.com/a48fd426b229131bae8b...  \n",
       "99  https://images.genius.com/acc348ccdf6bd18c7aee...  \n",
       "\n",
       "[100 rows x 5 columns]"
      ],
      "text/html": "<div>\n<style scoped>\n    .dataframe tbody tr th:only-of-type {\n        vertical-align: middle;\n    }\n\n    .dataframe tbody tr th {\n        vertical-align: top;\n    }\n\n    .dataframe thead th {\n        text-align: right;\n    }\n</style>\n<table border=\"1\" class=\"dataframe\">\n  <thead>\n    <tr style=\"text-align: right;\">\n      <th></th>\n      <th>title</th>\n      <th>album</th>\n      <th>year</th>\n      <th>lyrics</th>\n      <th>image</th>\n    </tr>\n  </thead>\n  <tbody>\n    <tr>\n      <th>0</th>\n      <td>Rap God</td>\n      <td>The Marshall Mathers LP2 (Deluxe)</td>\n      <td>2013-10-15</td>\n      <td>\"Look, I was gonna go easy on you not to hurt ...</td>\n      <td>https://images.genius.com/058e2359838c93395c36...</td>\n    </tr>\n    <tr>\n      <th>1</th>\n      <td>Killshot</td>\n      <td>None</td>\n      <td>2018-09-14</td>\n      <td>You sound like a bitch, bitch\\nShut the fuck u...</td>\n      <td>https://images.genius.com/b1da996dcb2acb56506b...</td>\n    </tr>\n    <tr>\n      <th>2</th>\n      <td>Godzilla</td>\n      <td>Music to Be Murdered By</td>\n      <td>2020-01-17</td>\n      <td>Ugh, you're a monster\\n\\nI can swallow a bottl...</td>\n      <td>https://images.genius.com/e7ec9f0d94b506dadfc6...</td>\n    </tr>\n    <tr>\n      <th>3</th>\n      <td>Lose Yourself</td>\n      <td>The Singles</td>\n      <td>2002-10-28</td>\n      <td>Look, if you had one shot or one opportunity\\n...</td>\n      <td>https://images.genius.com/ce61c1b2664c5952984e...</td>\n    </tr>\n    <tr>\n      <th>4</th>\n      <td>The Monster</td>\n      <td>The Marshall Mathers LP2 (Deluxe)</td>\n      <td>2013-10-29</td>\n      <td>I'm friends with the monster that's under my b...</td>\n      <td>https://images.genius.com/f8e3befb0dfae2eaa683...</td>\n    </tr>\n    <tr>\n      <th>...</th>\n      <td>...</td>\n      <td>...</td>\n      <td>...</td>\n      <td>...</td>\n      <td>...</td>\n    </tr>\n    <tr>\n      <th>95</th>\n      <td>8 Mile</td>\n      <td>8 Mile: Music from and Inspired by the Motion ...</td>\n      <td>2002-10-29</td>\n      <td>It's alright, it's okay\\nI'm gonna make it any...</td>\n      <td>https://images.genius.com/e4a1bd93e045b909843d...</td>\n    </tr>\n    <tr>\n      <th>96</th>\n      <td>Going Through Changes</td>\n      <td>Recovery</td>\n      <td>2010-06-18</td>\n      <td>I'm going through changes\\nI'm going through c...</td>\n      <td>https://images.genius.com/7b93181ae4ed594c902b...</td>\n    </tr>\n    <tr>\n      <th>97</th>\n      <td>Cinderella Man</td>\n      <td>Recovery</td>\n      <td>2010-06-18</td>\n      <td>Yeah, you know, technically\\nI'm not even real...</td>\n      <td>https://images.genius.com/8267d6f45cdffed8db78...</td>\n    </tr>\n    <tr>\n      <th>98</th>\n      <td>We Made You</td>\n      <td>Relapse</td>\n      <td>2009-04-07</td>\n      <td>Guess who? D'you miss me?\\nJessica Simpson, si...</td>\n      <td>https://images.genius.com/a48fd426b229131bae8b...</td>\n    </tr>\n    <tr>\n      <th>99</th>\n      <td>ShadyXV</td>\n      <td>SHADYXV</td>\n      <td>2014-11-24</td>\n      <td>I'm liable to start a violent spark with a sil...</td>\n      <td>https://images.genius.com/acc348ccdf6bd18c7aee...</td>\n    </tr>\n  </tbody>\n</table>\n<p>100 rows × 5 columns</p>\n</div>"
     },
     "metadata": {},
     "execution_count": 184
    }
   ],
   "source": [
    "df = pd.DataFrame([x.to_dict() for x in artist.songs])\n",
    "df"
   ]
  },
  {
   "cell_type": "code",
   "execution_count": 185,
   "metadata": {},
   "outputs": [
    {
     "output_type": "execute_result",
     "data": {
      "text/plain": [
       "                    title                                              album  \\\n",
       "0                 Rap God                  The Marshall Mathers LP2 (Deluxe)   \n",
       "1                Killshot                                               None   \n",
       "2                Godzilla                            Music to Be Murdered By   \n",
       "3           Lose Yourself                                        The Singles   \n",
       "4             The Monster                  The Marshall Mathers LP2 (Deluxe)   \n",
       "..                    ...                                                ...   \n",
       "95                 8 Mile  8 Mile: Music from and Inspired by the Motion ...   \n",
       "96  Going Through Changes                                           Recovery   \n",
       "97         Cinderella Man                                           Recovery   \n",
       "98            We Made You                                            Relapse   \n",
       "99                ShadyXV                                            SHADYXV   \n",
       "\n",
       "          year                                             lyrics  \\\n",
       "0   2013-10-15  look i was gonna go easy on you not to hurt yo...   \n",
       "1   2018-09-14  you sound like a bitch bitch shut the fuck up ...   \n",
       "2   2020-01-17  ugh you are a monster i can swallow a bottle o...   \n",
       "3   2002-10-28  look if you had one shot or one opportunity to...   \n",
       "4   2013-10-29  i am friends with the monster that is under my...   \n",
       "..         ...                                                ...   \n",
       "95  2002-10-29  it is alright it is okay i am gonna make it an...   \n",
       "96  2010-06-18  i am going through changes i am going through ...   \n",
       "97  2010-06-18  yeah you know technically i am not even really...   \n",
       "98  2009-04-07  guess who dyou miss me jessica simpson sing th...   \n",
       "99  2014-11-24  i am liable to start a violent spark with a si...   \n",
       "\n",
       "                                                image  \n",
       "0   https://images.genius.com/058e2359838c93395c36...  \n",
       "1   https://images.genius.com/b1da996dcb2acb56506b...  \n",
       "2   https://images.genius.com/e7ec9f0d94b506dadfc6...  \n",
       "3   https://images.genius.com/ce61c1b2664c5952984e...  \n",
       "4   https://images.genius.com/f8e3befb0dfae2eaa683...  \n",
       "..                                                ...  \n",
       "95  https://images.genius.com/e4a1bd93e045b909843d...  \n",
       "96  https://images.genius.com/7b93181ae4ed594c902b...  \n",
       "97  https://images.genius.com/8267d6f45cdffed8db78...  \n",
       "98  https://images.genius.com/a48fd426b229131bae8b...  \n",
       "99  https://images.genius.com/acc348ccdf6bd18c7aee...  \n",
       "\n",
       "[100 rows x 5 columns]"
      ],
      "text/html": "<div>\n<style scoped>\n    .dataframe tbody tr th:only-of-type {\n        vertical-align: middle;\n    }\n\n    .dataframe tbody tr th {\n        vertical-align: top;\n    }\n\n    .dataframe thead th {\n        text-align: right;\n    }\n</style>\n<table border=\"1\" class=\"dataframe\">\n  <thead>\n    <tr style=\"text-align: right;\">\n      <th></th>\n      <th>title</th>\n      <th>album</th>\n      <th>year</th>\n      <th>lyrics</th>\n      <th>image</th>\n    </tr>\n  </thead>\n  <tbody>\n    <tr>\n      <th>0</th>\n      <td>Rap God</td>\n      <td>The Marshall Mathers LP2 (Deluxe)</td>\n      <td>2013-10-15</td>\n      <td>look i was gonna go easy on you not to hurt yo...</td>\n      <td>https://images.genius.com/058e2359838c93395c36...</td>\n    </tr>\n    <tr>\n      <th>1</th>\n      <td>Killshot</td>\n      <td>None</td>\n      <td>2018-09-14</td>\n      <td>you sound like a bitch bitch shut the fuck up ...</td>\n      <td>https://images.genius.com/b1da996dcb2acb56506b...</td>\n    </tr>\n    <tr>\n      <th>2</th>\n      <td>Godzilla</td>\n      <td>Music to Be Murdered By</td>\n      <td>2020-01-17</td>\n      <td>ugh you are a monster i can swallow a bottle o...</td>\n      <td>https://images.genius.com/e7ec9f0d94b506dadfc6...</td>\n    </tr>\n    <tr>\n      <th>3</th>\n      <td>Lose Yourself</td>\n      <td>The Singles</td>\n      <td>2002-10-28</td>\n      <td>look if you had one shot or one opportunity to...</td>\n      <td>https://images.genius.com/ce61c1b2664c5952984e...</td>\n    </tr>\n    <tr>\n      <th>4</th>\n      <td>The Monster</td>\n      <td>The Marshall Mathers LP2 (Deluxe)</td>\n      <td>2013-10-29</td>\n      <td>i am friends with the monster that is under my...</td>\n      <td>https://images.genius.com/f8e3befb0dfae2eaa683...</td>\n    </tr>\n    <tr>\n      <th>...</th>\n      <td>...</td>\n      <td>...</td>\n      <td>...</td>\n      <td>...</td>\n      <td>...</td>\n    </tr>\n    <tr>\n      <th>95</th>\n      <td>8 Mile</td>\n      <td>8 Mile: Music from and Inspired by the Motion ...</td>\n      <td>2002-10-29</td>\n      <td>it is alright it is okay i am gonna make it an...</td>\n      <td>https://images.genius.com/e4a1bd93e045b909843d...</td>\n    </tr>\n    <tr>\n      <th>96</th>\n      <td>Going Through Changes</td>\n      <td>Recovery</td>\n      <td>2010-06-18</td>\n      <td>i am going through changes i am going through ...</td>\n      <td>https://images.genius.com/7b93181ae4ed594c902b...</td>\n    </tr>\n    <tr>\n      <th>97</th>\n      <td>Cinderella Man</td>\n      <td>Recovery</td>\n      <td>2010-06-18</td>\n      <td>yeah you know technically i am not even really...</td>\n      <td>https://images.genius.com/8267d6f45cdffed8db78...</td>\n    </tr>\n    <tr>\n      <th>98</th>\n      <td>We Made You</td>\n      <td>Relapse</td>\n      <td>2009-04-07</td>\n      <td>guess who dyou miss me jessica simpson sing th...</td>\n      <td>https://images.genius.com/a48fd426b229131bae8b...</td>\n    </tr>\n    <tr>\n      <th>99</th>\n      <td>ShadyXV</td>\n      <td>SHADYXV</td>\n      <td>2014-11-24</td>\n      <td>i am liable to start a violent spark with a si...</td>\n      <td>https://images.genius.com/acc348ccdf6bd18c7aee...</td>\n    </tr>\n  </tbody>\n</table>\n<p>100 rows × 5 columns</p>\n</div>"
     },
     "metadata": {},
     "execution_count": 185
    }
   ],
   "source": [
    "import string\n",
    "import re\n",
    "\n",
    "def preprocess_lyrics(sentence):\n",
    "    # ensure every word is lower case.\n",
    "    sentence = sentence.lower()\n",
    "    sentence = sentence.encode(\"utf8\").decode(\"ascii\",'ignore')\n",
    "    # ensure all section headers are removed. \n",
    "    sentence = re.sub(r'\\[.*?\\]', \"\", sentence)\n",
    "    sentence = re.sub(r'\\(.*?\\)', \"\", sentence)\n",
    "    # ensure that all apostrophes are correctly written.\n",
    "    sentence = re.sub(r\"’\", \"\\'\", sentence) \n",
    "    sentence = re.sub(r\"‘\", \"\\'\", sentence)\n",
    "    # remove all contractions.\n",
    "    sentence = re.sub(r\"i'm\", \"i am\", sentence)\n",
    "    sentence = re.sub(r\"he's\", \"he is\", sentence)\n",
    "    sentence = re.sub(r\"she's\", \"she is\", sentence)\n",
    "    sentence = re.sub(r\"it's\", \"it is\", sentence)\n",
    "    sentence = re.sub(r\"that's\", \"that is\", sentence)\n",
    "    sentence = re.sub(r\"what's\", \"what is\", sentence)\n",
    "    sentence = re.sub(r\"where's\", \"where is\", sentence)\n",
    "    sentence = re.sub(r\"there's\", \"there is\", sentence)\n",
    "    sentence = re.sub(r\"who's\", \"who is\", sentence)\n",
    "    sentence = re.sub(r\"how's\", \"how is\", sentence)\n",
    "    sentence = re.sub(r\"\\'ll\", \" will\", sentence)\n",
    "    sentence = re.sub(r\"\\'ve\", \" have\", sentence)\n",
    "    sentence = re.sub(r\"\\'re\", \" are\", sentence)\n",
    "    sentence = re.sub(r\"\\'d\", \" would\", sentence)\n",
    "    sentence = re.sub(r\"won't\", \"will not\", sentence)\n",
    "    sentence = re.sub(r\"can't\", \"cannot\", sentence)\n",
    "    sentence = re.sub(r\"n't\", \" not\", sentence)\n",
    "    sentence = re.sub(r\"n'\", \"ng\", sentence)\n",
    "    sentence = re.sub(r\"\\'bout\", \"about\", sentence)\n",
    "    sentence = re.sub(r\"'til\", \"until\", sentence)\n",
    "    sentence = re.sub(r\"c'mon\", \"come on\", sentence)\n",
    "    sentence = re.sub(r\"d'you\", \"do you\", sentence)\n",
    "    sentence = re.sub(r\"\\'cause\", \"because\", sentence)\n",
    "    sentence = re.sub(r\"mo'\", \"more\", sentence)\n",
    "    sentence = re.sub(r\"24/7\", \"twentyfour seven\", sentence)\n",
    "    # remove new lines and tabs.\n",
    "    sentence = re.sub(\"\\n\", \" \", sentence)\n",
    "    sentence = re.sub(r\"\\t\", \"\", sentence)\n",
    "    # ensure double or triple spaces are removed.\n",
    "    sentence = re.sub(r\"  \", \" \", sentence)\n",
    "    sentence = re.sub(r\"   \", \" \", sentence)\n",
    "    sentence = re.sub(r\"  \", \" \", sentence)\n",
    "    # remove any left over string punctuations.\n",
    "    sentence = \"\".join(v for v in sentence if v not in string.punctuation)\n",
    "    # remove any last whitespace and split by word.\n",
    "    return sentence.strip()\n",
    "    \n",
    "df.lyrics = df.lyrics.apply(preprocess_lyrics)\n",
    "df"
   ]
  },
  {
   "source": [
    "After the initial data is gathered, the data is stored to disk to prevent having to call to the genius api everytime. <br>\n",
    "The lyrics is now also split by word for the tokenizing process."
   ],
   "cell_type": "markdown",
   "metadata": {}
  },
  {
   "cell_type": "code",
   "execution_count": null,
   "metadata": {},
   "outputs": [],
   "source": [
    "df.to_csv('preprocessed_eminem_lyrics.csv', index=False)"
   ]
  },
  {
   "cell_type": "code",
   "execution_count": 3,
   "metadata": {},
   "outputs": [],
   "source": [
    "df = pd.read_csv('preprocessed_eminem_lyrics.csv')\n",
    "df.lyrics = df.lyrics.apply(str.split)"
   ]
  },
  {
   "source": [
    "Next up, is to start tokenizing the lyrics."
   ],
   "cell_type": "markdown",
   "metadata": {}
  },
  {
   "cell_type": "code",
   "execution_count": 4,
   "metadata": {},
   "outputs": [
    {
     "output_type": "stream",
     "name": "stdout",
     "text": [
      "Eminem's unique words from top 100 songs: 9307\n"
     ]
    }
   ],
   "source": [
    "from tensorflow.keras.preprocessing.text import Tokenizer\n",
    "\n",
    "tokenizer = Tokenizer()\n",
    "tokenizer.fit_on_texts(df.lyrics)\n",
    "total_words = len(tokenizer.word_index) + 1\n",
    "print(f\"Eminem's unique words from top 100 songs: {total_words}\")"
   ]
  },
  {
   "cell_type": "code",
   "execution_count": 5,
   "metadata": {},
   "outputs": [
    {
     "output_type": "execute_result",
     "data": {
      "text/plain": [
       "Text(0.5, 0.98, 'Top 25 unique word count in top 100 songs by Eminem')"
      ]
     },
     "metadata": {},
     "execution_count": 5
    },
    {
     "output_type": "display_data",
     "data": {
      "text/plain": "<Figure size 1080x360 with 1 Axes>",
      "image/svg+xml": "<?xml version=\"1.0\" encoding=\"utf-8\" standalone=\"no\"?>\r\n<!DOCTYPE svg PUBLIC \"-//W3C//DTD SVG 1.1//EN\"\r\n  \"http://www.w3.org/Graphics/SVG/1.1/DTD/svg11.dtd\">\r\n<!-- Created with matplotlib (https://matplotlib.org/) -->\r\n<svg height=\"351.943427pt\" version=\"1.1\" viewBox=\"0 0 883.85 351.943427\" width=\"883.85pt\" xmlns=\"http://www.w3.org/2000/svg\" xmlns:xlink=\"http://www.w3.org/1999/xlink\">\r\n <metadata>\r\n  <rdf:RDF xmlns:cc=\"http://creativecommons.org/ns#\" xmlns:dc=\"http://purl.org/dc/elements/1.1/\" xmlns:rdf=\"http://www.w3.org/1999/02/22-rdf-syntax-ns#\">\r\n   <cc:Work>\r\n    <dc:type rdf:resource=\"http://purl.org/dc/dcmitype/StillImage\"/>\r\n    <dc:date>2020-11-23T20:18:46.951077</dc:date>\r\n    <dc:format>image/svg+xml</dc:format>\r\n    <dc:creator>\r\n     <cc:Agent>\r\n      <dc:title>Matplotlib v3.3.2, https://matplotlib.org/</dc:title>\r\n     </cc:Agent>\r\n    </dc:creator>\r\n   </cc:Work>\r\n  </rdf:RDF>\r\n </metadata>\r\n <defs>\r\n  <style type=\"text/css\">*{stroke-linecap:butt;stroke-linejoin:round;}</style>\r\n </defs>\r\n <g id=\"figure_1\">\r\n  <g id=\"patch_1\">\r\n   <path d=\"M -0 351.943427 \r\nL 883.85 351.943427 \r\nL 883.85 0 \r\nL -0 0 \r\nz\r\n\" style=\"fill:none;\"/>\r\n  </g>\r\n  <g id=\"axes_1\">\r\n   <g id=\"patch_2\">\r\n    <path d=\"M 39.65 315 \r\nL 876.65 315 \r\nL 876.65 43.2 \r\nL 39.65 43.2 \r\nz\r\n\" style=\"fill:#ffffff;\"/>\r\n   </g>\r\n   <g id=\"patch_3\">\r\n    <path clip-path=\"url(#pe9a0820118)\" d=\"M 48.02 315 \r\nL 64.76 315 \r\nL 64.76 56.142857 \r\nL 48.02 56.142857 \r\nz\r\n\" style=\"fill:#1f77b4;\"/>\r\n   </g>\r\n   <g id=\"patch_4\">\r\n    <path clip-path=\"url(#pe9a0820118)\" d=\"M 81.5 315 \r\nL 98.24 315 \r\nL 98.24 167.768801 \r\nL 81.5 167.768801 \r\nz\r\n\" style=\"fill:#1f77b4;\"/>\r\n   </g>\r\n   <g id=\"patch_5\">\r\n    <path clip-path=\"url(#pe9a0820118)\" d=\"M 114.98 315 \r\nL 131.72 315 \r\nL 131.72 176.992447 \r\nL 114.98 176.992447 \r\nz\r\n\" style=\"fill:#1f77b4;\"/>\r\n   </g>\r\n   <g id=\"patch_6\">\r\n    <path clip-path=\"url(#pe9a0820118)\" d=\"M 148.46 315 \r\nL 165.2 315 \r\nL 165.2 204.712972 \r\nL 148.46 204.712972 \r\nz\r\n\" style=\"fill:#1f77b4;\"/>\r\n   </g>\r\n   <g id=\"patch_7\">\r\n    <path clip-path=\"url(#pe9a0820118)\" d=\"M 181.94 315 \r\nL 198.68 315 \r\nL 198.68 207.638752 \r\nL 181.94 207.638752 \r\nz\r\n\" style=\"fill:#1f77b4;\"/>\r\n   </g>\r\n   <g id=\"patch_8\">\r\n    <path clip-path=\"url(#pe9a0820118)\" d=\"M 215.42 315 \r\nL 232.16 315 \r\nL 232.16 213.539901 \r\nL 215.42 213.539901 \r\nz\r\n\" style=\"fill:#1f77b4;\"/>\r\n   </g>\r\n   <g id=\"patch_9\">\r\n    <path clip-path=\"url(#pe9a0820118)\" d=\"M 248.9 315 \r\nL 265.64 315 \r\nL 265.64 230.350739 \r\nL 248.9 230.350739 \r\nz\r\n\" style=\"fill:#1f77b4;\"/>\r\n   </g>\r\n   <g id=\"patch_10\">\r\n    <path clip-path=\"url(#pe9a0820118)\" d=\"M 282.38 315 \r\nL 299.12 315 \r\nL 299.12 232.780624 \r\nL 282.38 232.780624 \r\nz\r\n\" style=\"fill:#1f77b4;\"/>\r\n   </g>\r\n   <g id=\"patch_11\">\r\n    <path clip-path=\"url(#pe9a0820118)\" d=\"M 315.86 315 \r\nL 332.6 315 \r\nL 332.6 237.888342 \r\nL 315.86 237.888342 \r\nz\r\n\" style=\"fill:#1f77b4;\"/>\r\n   </g>\r\n   <g id=\"patch_12\">\r\n    <path clip-path=\"url(#pe9a0820118)\" d=\"M 349.34 315 \r\nL 366.08 315 \r\nL 366.08 244.88046 \r\nL 349.34 244.88046 \r\nz\r\n\" style=\"fill:#1f77b4;\"/>\r\n   </g>\r\n   <g id=\"patch_13\">\r\n    <path clip-path=\"url(#pe9a0820118)\" d=\"M 382.82 315 \r\nL 399.56 315 \r\nL 399.56 248.996388 \r\nL 382.82 248.996388 \r\nz\r\n\" style=\"fill:#1f77b4;\"/>\r\n   </g>\r\n   <g id=\"patch_14\">\r\n    <path clip-path=\"url(#pe9a0820118)\" d=\"M 416.3 315 \r\nL 433.04 315 \r\nL 433.04 252.715599 \r\nL 416.3 252.715599 \r\nz\r\n\" style=\"fill:#1f77b4;\"/>\r\n   </g>\r\n   <g id=\"patch_15\">\r\n    <path clip-path=\"url(#pe9a0820118)\" d=\"M 449.78 315 \r\nL 466.52 315 \r\nL 466.52 258.815107 \r\nL 449.78 258.815107 \r\nz\r\n\" style=\"fill:#1f77b4;\"/>\r\n   </g>\r\n   <g id=\"patch_16\">\r\n    <path clip-path=\"url(#pe9a0820118)\" d=\"M 483.26 315 \r\nL 500 315 \r\nL 500 262.732677 \r\nL 483.26 262.732677 \r\nz\r\n\" style=\"fill:#1f77b4;\"/>\r\n   </g>\r\n   <g id=\"patch_17\">\r\n    <path clip-path=\"url(#pe9a0820118)\" d=\"M 516.74 315 \r\nL 533.48 315 \r\nL 533.48 272.055501 \r\nL 516.74 272.055501 \r\nz\r\n\" style=\"fill:#1f77b4;\"/>\r\n   </g>\r\n   <g id=\"patch_18\">\r\n    <path clip-path=\"url(#pe9a0820118)\" d=\"M 550.22 315 \r\nL 566.96 315 \r\nL 566.96 272.501806 \r\nL 550.22 272.501806 \r\nz\r\n\" style=\"fill:#1f77b4;\"/>\r\n   </g>\r\n   <g id=\"patch_19\">\r\n    <path clip-path=\"url(#pe9a0820118)\" d=\"M 583.7 315 \r\nL 600.44 315 \r\nL 600.44 274.187849 \r\nL 583.7 274.187849 \r\nz\r\n\" style=\"fill:#1f77b4;\"/>\r\n   </g>\r\n   <g id=\"patch_20\">\r\n    <path clip-path=\"url(#pe9a0820118)\" d=\"M 617.18 315 \r\nL 633.92 315 \r\nL 633.92 274.882102 \r\nL 617.18 274.882102 \r\nz\r\n\" style=\"fill:#1f77b4;\"/>\r\n   </g>\r\n   <g id=\"patch_21\">\r\n    <path clip-path=\"url(#pe9a0820118)\" d=\"M 650.66 315 \r\nL 667.4 315 \r\nL 667.4 276.667323 \r\nL 650.66 276.667323 \r\nz\r\n\" style=\"fill:#1f77b4;\"/>\r\n   </g>\r\n   <g id=\"patch_22\">\r\n    <path clip-path=\"url(#pe9a0820118)\" d=\"M 684.14 315 \r\nL 700.88 315 \r\nL 700.88 278.105419 \r\nL 684.14 278.105419 \r\nz\r\n\" style=\"fill:#1f77b4;\"/>\r\n   </g>\r\n   <g id=\"patch_23\">\r\n    <path clip-path=\"url(#pe9a0820118)\" d=\"M 717.62 315 \r\nL 734.36 315 \r\nL 734.36 278.700493 \r\nL 717.62 278.700493 \r\nz\r\n\" style=\"fill:#1f77b4;\"/>\r\n   </g>\r\n   <g id=\"patch_24\">\r\n    <path clip-path=\"url(#pe9a0820118)\" d=\"M 751.1 315 \r\nL 767.84 315 \r\nL 767.84 280.237767 \r\nL 751.1 280.237767 \r\nz\r\n\" style=\"fill:#1f77b4;\"/>\r\n   </g>\r\n   <g id=\"patch_25\">\r\n    <path clip-path=\"url(#pe9a0820118)\" d=\"M 784.58 315 \r\nL 801.32 315 \r\nL 801.32 284.998358 \r\nL 784.58 284.998358 \r\nz\r\n\" style=\"fill:#1f77b4;\"/>\r\n   </g>\r\n   <g id=\"patch_26\">\r\n    <path clip-path=\"url(#pe9a0820118)\" d=\"M 818.06 315 \r\nL 834.8 315 \r\nL 834.8 285.097537 \r\nL 818.06 285.097537 \r\nz\r\n\" style=\"fill:#1f77b4;\"/>\r\n   </g>\r\n   <g id=\"patch_27\">\r\n    <path clip-path=\"url(#pe9a0820118)\" d=\"M 851.54 315 \r\nL 868.28 315 \r\nL 868.28 285.395074 \r\nL 851.54 285.395074 \r\nz\r\n\" style=\"fill:#1f77b4;\"/>\r\n   </g>\r\n   <g id=\"matplotlib.axis_1\">\r\n    <g id=\"xtick_1\">\r\n     <g id=\"line2d_1\">\r\n      <defs>\r\n       <path d=\"M 0 0 \r\nL 0 3.5 \r\n\" id=\"m5731903762\" style=\"stroke:#000000;stroke-width:0.8;\"/>\r\n      </defs>\r\n      <g>\r\n       <use style=\"stroke:#000000;stroke-width:0.8;\" x=\"56.39\" xlink:href=\"#m5731903762\" y=\"315\"/>\r\n      </g>\r\n     </g>\r\n     <g id=\"text_1\">\r\n      <!-- i -->\r\n      <g transform=\"translate(57.358957 329.337338)rotate(-45)scale(0.1 -0.1)\">\r\n       <defs>\r\n        <path d=\"M 9.421875 54.6875 \r\nL 18.40625 54.6875 \r\nL 18.40625 0 \r\nL 9.421875 0 \r\nz\r\nM 9.421875 75.984375 \r\nL 18.40625 75.984375 \r\nL 18.40625 64.59375 \r\nL 9.421875 64.59375 \r\nz\r\n\" id=\"DejaVuSans-105\"/>\r\n       </defs>\r\n       <use xlink:href=\"#DejaVuSans-105\"/>\r\n      </g>\r\n     </g>\r\n    </g>\r\n    <g id=\"xtick_2\">\r\n     <g id=\"line2d_2\">\r\n      <g>\r\n       <use style=\"stroke:#000000;stroke-width:0.8;\" x=\"89.87\" xlink:href=\"#m5731903762\" y=\"315\"/>\r\n      </g>\r\n     </g>\r\n     <g id=\"text_2\">\r\n      <!-- the -->\r\n      <g transform=\"translate(86.01903 338.977192)rotate(-45)scale(0.1 -0.1)\">\r\n       <defs>\r\n        <path d=\"M 18.3125 70.21875 \r\nL 18.3125 54.6875 \r\nL 36.8125 54.6875 \r\nL 36.8125 47.703125 \r\nL 18.3125 47.703125 \r\nL 18.3125 18.015625 \r\nQ 18.3125 11.328125 20.140625 9.421875 \r\nQ 21.96875 7.515625 27.59375 7.515625 \r\nL 36.8125 7.515625 \r\nL 36.8125 0 \r\nL 27.59375 0 \r\nQ 17.1875 0 13.234375 3.875 \r\nQ 9.28125 7.765625 9.28125 18.015625 \r\nL 9.28125 47.703125 \r\nL 2.6875 47.703125 \r\nL 2.6875 54.6875 \r\nL 9.28125 54.6875 \r\nL 9.28125 70.21875 \r\nz\r\n\" id=\"DejaVuSans-116\"/>\r\n        <path d=\"M 54.890625 33.015625 \r\nL 54.890625 0 \r\nL 45.90625 0 \r\nL 45.90625 32.71875 \r\nQ 45.90625 40.484375 42.875 44.328125 \r\nQ 39.84375 48.1875 33.796875 48.1875 \r\nQ 26.515625 48.1875 22.3125 43.546875 \r\nQ 18.109375 38.921875 18.109375 30.90625 \r\nL 18.109375 0 \r\nL 9.078125 0 \r\nL 9.078125 75.984375 \r\nL 18.109375 75.984375 \r\nL 18.109375 46.1875 \r\nQ 21.34375 51.125 25.703125 53.5625 \r\nQ 30.078125 56 35.796875 56 \r\nQ 45.21875 56 50.046875 50.171875 \r\nQ 54.890625 44.34375 54.890625 33.015625 \r\nz\r\n\" id=\"DejaVuSans-104\"/>\r\n        <path d=\"M 56.203125 29.59375 \r\nL 56.203125 25.203125 \r\nL 14.890625 25.203125 \r\nQ 15.484375 15.921875 20.484375 11.0625 \r\nQ 25.484375 6.203125 34.421875 6.203125 \r\nQ 39.59375 6.203125 44.453125 7.46875 \r\nQ 49.3125 8.734375 54.109375 11.28125 \r\nL 54.109375 2.78125 \r\nQ 49.265625 0.734375 44.1875 -0.34375 \r\nQ 39.109375 -1.421875 33.890625 -1.421875 \r\nQ 20.796875 -1.421875 13.15625 6.1875 \r\nQ 5.515625 13.8125 5.515625 26.8125 \r\nQ 5.515625 40.234375 12.765625 48.109375 \r\nQ 20.015625 56 32.328125 56 \r\nQ 43.359375 56 49.78125 48.890625 \r\nQ 56.203125 41.796875 56.203125 29.59375 \r\nz\r\nM 47.21875 32.234375 \r\nQ 47.125 39.59375 43.09375 43.984375 \r\nQ 39.0625 48.390625 32.421875 48.390625 \r\nQ 24.90625 48.390625 20.390625 44.140625 \r\nQ 15.875 39.890625 15.1875 32.171875 \r\nz\r\n\" id=\"DejaVuSans-101\"/>\r\n       </defs>\r\n       <use xlink:href=\"#DejaVuSans-116\"/>\r\n       <use x=\"39.208984\" xlink:href=\"#DejaVuSans-104\"/>\r\n       <use x=\"102.587891\" xlink:href=\"#DejaVuSans-101\"/>\r\n      </g>\r\n     </g>\r\n    </g>\r\n    <g id=\"xtick_3\">\r\n     <g id=\"line2d_3\">\r\n      <g>\r\n       <use style=\"stroke:#000000;stroke-width:0.8;\" x=\"123.35\" xlink:href=\"#m5731903762\" y=\"315\"/>\r\n      </g>\r\n     </g>\r\n     <g id=\"text_3\">\r\n      <!-- you -->\r\n      <g transform=\"translate(118.804629 340.365994)rotate(-45)scale(0.1 -0.1)\">\r\n       <defs>\r\n        <path d=\"M 32.171875 -5.078125 \r\nQ 28.375 -14.84375 24.75 -17.8125 \r\nQ 21.140625 -20.796875 15.09375 -20.796875 \r\nL 7.90625 -20.796875 \r\nL 7.90625 -13.28125 \r\nL 13.1875 -13.28125 \r\nQ 16.890625 -13.28125 18.9375 -11.515625 \r\nQ 21 -9.765625 23.484375 -3.21875 \r\nL 25.09375 0.875 \r\nL 2.984375 54.6875 \r\nL 12.5 54.6875 \r\nL 29.59375 11.921875 \r\nL 46.6875 54.6875 \r\nL 56.203125 54.6875 \r\nz\r\n\" id=\"DejaVuSans-121\"/>\r\n        <path d=\"M 30.609375 48.390625 \r\nQ 23.390625 48.390625 19.1875 42.75 \r\nQ 14.984375 37.109375 14.984375 27.296875 \r\nQ 14.984375 17.484375 19.15625 11.84375 \r\nQ 23.34375 6.203125 30.609375 6.203125 \r\nQ 37.796875 6.203125 41.984375 11.859375 \r\nQ 46.1875 17.53125 46.1875 27.296875 \r\nQ 46.1875 37.015625 41.984375 42.703125 \r\nQ 37.796875 48.390625 30.609375 48.390625 \r\nz\r\nM 30.609375 56 \r\nQ 42.328125 56 49.015625 48.375 \r\nQ 55.71875 40.765625 55.71875 27.296875 \r\nQ 55.71875 13.875 49.015625 6.21875 \r\nQ 42.328125 -1.421875 30.609375 -1.421875 \r\nQ 18.84375 -1.421875 12.171875 6.21875 \r\nQ 5.515625 13.875 5.515625 27.296875 \r\nQ 5.515625 40.765625 12.171875 48.375 \r\nQ 18.84375 56 30.609375 56 \r\nz\r\n\" id=\"DejaVuSans-111\"/>\r\n        <path d=\"M 8.5 21.578125 \r\nL 8.5 54.6875 \r\nL 17.484375 54.6875 \r\nL 17.484375 21.921875 \r\nQ 17.484375 14.15625 20.5 10.265625 \r\nQ 23.53125 6.390625 29.59375 6.390625 \r\nQ 36.859375 6.390625 41.078125 11.03125 \r\nQ 45.3125 15.671875 45.3125 23.6875 \r\nL 45.3125 54.6875 \r\nL 54.296875 54.6875 \r\nL 54.296875 0 \r\nL 45.3125 0 \r\nL 45.3125 8.40625 \r\nQ 42.046875 3.421875 37.71875 1 \r\nQ 33.40625 -1.421875 27.6875 -1.421875 \r\nQ 18.265625 -1.421875 13.375 4.4375 \r\nQ 8.5 10.296875 8.5 21.578125 \r\nz\r\nM 31.109375 56 \r\nz\r\n\" id=\"DejaVuSans-117\"/>\r\n       </defs>\r\n       <use xlink:href=\"#DejaVuSans-121\"/>\r\n       <use x=\"59.179688\" xlink:href=\"#DejaVuSans-111\"/>\r\n       <use x=\"120.361328\" xlink:href=\"#DejaVuSans-117\"/>\r\n      </g>\r\n     </g>\r\n    </g>\r\n    <g id=\"xtick_4\">\r\n     <g id=\"line2d_4\">\r\n      <g>\r\n       <use style=\"stroke:#000000;stroke-width:0.8;\" x=\"156.83\" xlink:href=\"#m5731903762\" y=\"315\"/>\r\n      </g>\r\n     </g>\r\n     <g id=\"text_4\">\r\n      <!-- to -->\r\n      <g transform=\"translate(155.231828 334.471596)rotate(-45)scale(0.1 -0.1)\">\r\n       <use xlink:href=\"#DejaVuSans-116\"/>\r\n       <use x=\"39.208984\" xlink:href=\"#DejaVuSans-111\"/>\r\n      </g>\r\n     </g>\r\n    </g>\r\n    <g id=\"xtick_5\">\r\n     <g id=\"line2d_5\">\r\n      <g>\r\n       <use style=\"stroke:#000000;stroke-width:0.8;\" x=\"190.31\" xlink:href=\"#m5731903762\" y=\"315\"/>\r\n      </g>\r\n     </g>\r\n     <g id=\"text_5\">\r\n      <!-- a -->\r\n      <g transform=\"translate(190.094553 331.706145)rotate(-45)scale(0.1 -0.1)\">\r\n       <defs>\r\n        <path d=\"M 34.28125 27.484375 \r\nQ 23.390625 27.484375 19.1875 25 \r\nQ 14.984375 22.515625 14.984375 16.5 \r\nQ 14.984375 11.71875 18.140625 8.90625 \r\nQ 21.296875 6.109375 26.703125 6.109375 \r\nQ 34.1875 6.109375 38.703125 11.40625 \r\nQ 43.21875 16.703125 43.21875 25.484375 \r\nL 43.21875 27.484375 \r\nz\r\nM 52.203125 31.203125 \r\nL 52.203125 0 \r\nL 43.21875 0 \r\nL 43.21875 8.296875 \r\nQ 40.140625 3.328125 35.546875 0.953125 \r\nQ 30.953125 -1.421875 24.3125 -1.421875 \r\nQ 15.921875 -1.421875 10.953125 3.296875 \r\nQ 6 8.015625 6 15.921875 \r\nQ 6 25.140625 12.171875 29.828125 \r\nQ 18.359375 34.515625 30.609375 34.515625 \r\nL 43.21875 34.515625 \r\nL 43.21875 35.40625 \r\nQ 43.21875 41.609375 39.140625 45 \r\nQ 35.0625 48.390625 27.6875 48.390625 \r\nQ 23 48.390625 18.546875 47.265625 \r\nQ 14.109375 46.140625 10.015625 43.890625 \r\nL 10.015625 52.203125 \r\nQ 14.9375 54.109375 19.578125 55.046875 \r\nQ 24.21875 56 28.609375 56 \r\nQ 40.484375 56 46.34375 49.84375 \r\nQ 52.203125 43.703125 52.203125 31.203125 \r\nz\r\n\" id=\"DejaVuSans-97\"/>\r\n       </defs>\r\n       <use xlink:href=\"#DejaVuSans-97\"/>\r\n      </g>\r\n     </g>\r\n    </g>\r\n    <g id=\"xtick_6\">\r\n     <g id=\"line2d_6\">\r\n      <g>\r\n       <use style=\"stroke:#000000;stroke-width:0.8;\" x=\"223.79\" xlink:href=\"#m5731903762\" y=\"315\"/>\r\n      </g>\r\n     </g>\r\n     <g id=\"text_6\">\r\n      <!-- and -->\r\n      <g transform=\"translate(219.089397 340.676458)rotate(-45)scale(0.1 -0.1)\">\r\n       <defs>\r\n        <path d=\"M 54.890625 33.015625 \r\nL 54.890625 0 \r\nL 45.90625 0 \r\nL 45.90625 32.71875 \r\nQ 45.90625 40.484375 42.875 44.328125 \r\nQ 39.84375 48.1875 33.796875 48.1875 \r\nQ 26.515625 48.1875 22.3125 43.546875 \r\nQ 18.109375 38.921875 18.109375 30.90625 \r\nL 18.109375 0 \r\nL 9.078125 0 \r\nL 9.078125 54.6875 \r\nL 18.109375 54.6875 \r\nL 18.109375 46.1875 \r\nQ 21.34375 51.125 25.703125 53.5625 \r\nQ 30.078125 56 35.796875 56 \r\nQ 45.21875 56 50.046875 50.171875 \r\nQ 54.890625 44.34375 54.890625 33.015625 \r\nz\r\n\" id=\"DejaVuSans-110\"/>\r\n        <path d=\"M 45.40625 46.390625 \r\nL 45.40625 75.984375 \r\nL 54.390625 75.984375 \r\nL 54.390625 0 \r\nL 45.40625 0 \r\nL 45.40625 8.203125 \r\nQ 42.578125 3.328125 38.25 0.953125 \r\nQ 33.9375 -1.421875 27.875 -1.421875 \r\nQ 17.96875 -1.421875 11.734375 6.484375 \r\nQ 5.515625 14.40625 5.515625 27.296875 \r\nQ 5.515625 40.1875 11.734375 48.09375 \r\nQ 17.96875 56 27.875 56 \r\nQ 33.9375 56 38.25 53.625 \r\nQ 42.578125 51.265625 45.40625 46.390625 \r\nz\r\nM 14.796875 27.296875 \r\nQ 14.796875 17.390625 18.875 11.75 \r\nQ 22.953125 6.109375 30.078125 6.109375 \r\nQ 37.203125 6.109375 41.296875 11.75 \r\nQ 45.40625 17.390625 45.40625 27.296875 \r\nQ 45.40625 37.203125 41.296875 42.84375 \r\nQ 37.203125 48.484375 30.078125 48.484375 \r\nQ 22.953125 48.484375 18.875 42.84375 \r\nQ 14.796875 37.203125 14.796875 27.296875 \r\nz\r\n\" id=\"DejaVuSans-100\"/>\r\n       </defs>\r\n       <use xlink:href=\"#DejaVuSans-97\"/>\r\n       <use x=\"61.279297\" xlink:href=\"#DejaVuSans-110\"/>\r\n       <use x=\"124.658203\" xlink:href=\"#DejaVuSans-100\"/>\r\n      </g>\r\n     </g>\r\n    </g>\r\n    <g id=\"xtick_7\">\r\n     <g id=\"line2d_7\">\r\n      <g>\r\n       <use style=\"stroke:#000000;stroke-width:0.8;\" x=\"257.27\" xlink:href=\"#m5731903762\" y=\"315\"/>\r\n      </g>\r\n     </g>\r\n     <g id=\"text_7\">\r\n      <!-- it -->\r\n      <g transform=\"translate(256.852917 332.109417)rotate(-45)scale(0.1 -0.1)\">\r\n       <use xlink:href=\"#DejaVuSans-105\"/>\r\n       <use x=\"27.783203\" xlink:href=\"#DejaVuSans-116\"/>\r\n      </g>\r\n     </g>\r\n    </g>\r\n    <g id=\"xtick_8\">\r\n     <g id=\"line2d_8\">\r\n      <g>\r\n       <use style=\"stroke:#000000;stroke-width:0.8;\" x=\"290.75\" xlink:href=\"#m5731903762\" y=\"315\"/>\r\n      </g>\r\n     </g>\r\n     <g id=\"text_8\">\r\n      <!-- is -->\r\n      <g transform=\"translate(289.877165 333.020922)rotate(-45)scale(0.1 -0.1)\">\r\n       <defs>\r\n        <path d=\"M 44.28125 53.078125 \r\nL 44.28125 44.578125 \r\nQ 40.484375 46.53125 36.375 47.5 \r\nQ 32.28125 48.484375 27.875 48.484375 \r\nQ 21.1875 48.484375 17.84375 46.4375 \r\nQ 14.5 44.390625 14.5 40.28125 \r\nQ 14.5 37.15625 16.890625 35.375 \r\nQ 19.28125 33.59375 26.515625 31.984375 \r\nL 29.59375 31.296875 \r\nQ 39.15625 29.25 43.1875 25.515625 \r\nQ 47.21875 21.78125 47.21875 15.09375 \r\nQ 47.21875 7.46875 41.1875 3.015625 \r\nQ 35.15625 -1.421875 24.609375 -1.421875 \r\nQ 20.21875 -1.421875 15.453125 -0.5625 \r\nQ 10.6875 0.296875 5.421875 2 \r\nL 5.421875 11.28125 \r\nQ 10.40625 8.6875 15.234375 7.390625 \r\nQ 20.0625 6.109375 24.8125 6.109375 \r\nQ 31.15625 6.109375 34.5625 8.28125 \r\nQ 37.984375 10.453125 37.984375 14.40625 \r\nQ 37.984375 18.0625 35.515625 20.015625 \r\nQ 33.0625 21.96875 24.703125 23.78125 \r\nL 21.578125 24.515625 \r\nQ 13.234375 26.265625 9.515625 29.90625 \r\nQ 5.8125 33.546875 5.8125 39.890625 \r\nQ 5.8125 47.609375 11.28125 51.796875 \r\nQ 16.75 56 26.8125 56 \r\nQ 31.78125 56 36.171875 55.265625 \r\nQ 40.578125 54.546875 44.28125 53.078125 \r\nz\r\n\" id=\"DejaVuSans-115\"/>\r\n       </defs>\r\n       <use xlink:href=\"#DejaVuSans-105\"/>\r\n       <use x=\"27.783203\" xlink:href=\"#DejaVuSans-115\"/>\r\n      </g>\r\n     </g>\r\n    </g>\r\n    <g id=\"xtick_9\">\r\n     <g id=\"line2d_9\">\r\n      <g>\r\n       <use style=\"stroke:#000000;stroke-width:0.8;\" x=\"324.23\" xlink:href=\"#m5731903762\" y=\"315\"/>\r\n      </g>\r\n     </g>\r\n     <g id=\"text_9\">\r\n      <!-- am -->\r\n      <g transform=\"translate(320.570722 338.593807)rotate(-45)scale(0.1 -0.1)\">\r\n       <defs>\r\n        <path d=\"M 52 44.1875 \r\nQ 55.375 50.25 60.0625 53.125 \r\nQ 64.75 56 71.09375 56 \r\nQ 79.640625 56 84.28125 50.015625 \r\nQ 88.921875 44.046875 88.921875 33.015625 \r\nL 88.921875 0 \r\nL 79.890625 0 \r\nL 79.890625 32.71875 \r\nQ 79.890625 40.578125 77.09375 44.375 \r\nQ 74.3125 48.1875 68.609375 48.1875 \r\nQ 61.625 48.1875 57.5625 43.546875 \r\nQ 53.515625 38.921875 53.515625 30.90625 \r\nL 53.515625 0 \r\nL 44.484375 0 \r\nL 44.484375 32.71875 \r\nQ 44.484375 40.625 41.703125 44.40625 \r\nQ 38.921875 48.1875 33.109375 48.1875 \r\nQ 26.21875 48.1875 22.15625 43.53125 \r\nQ 18.109375 38.875 18.109375 30.90625 \r\nL 18.109375 0 \r\nL 9.078125 0 \r\nL 9.078125 54.6875 \r\nL 18.109375 54.6875 \r\nL 18.109375 46.1875 \r\nQ 21.1875 51.21875 25.484375 53.609375 \r\nQ 29.78125 56 35.6875 56 \r\nQ 41.65625 56 45.828125 52.96875 \r\nQ 50 49.953125 52 44.1875 \r\nz\r\n\" id=\"DejaVuSans-109\"/>\r\n       </defs>\r\n       <use xlink:href=\"#DejaVuSans-97\"/>\r\n       <use x=\"61.279297\" xlink:href=\"#DejaVuSans-109\"/>\r\n      </g>\r\n     </g>\r\n    </g>\r\n    <g id=\"xtick_10\">\r\n     <g id=\"line2d_10\">\r\n      <g>\r\n       <use style=\"stroke:#000000;stroke-width:0.8;\" x=\"357.71\" xlink:href=\"#m5731903762\" y=\"315\"/>\r\n      </g>\r\n     </g>\r\n     <g id=\"text_10\">\r\n      <!-- not -->\r\n      <g transform=\"translate(353.871184 338.952885)rotate(-45)scale(0.1 -0.1)\">\r\n       <use xlink:href=\"#DejaVuSans-110\"/>\r\n       <use x=\"63.378906\" xlink:href=\"#DejaVuSans-111\"/>\r\n       <use x=\"124.560547\" xlink:href=\"#DejaVuSans-116\"/>\r\n      </g>\r\n     </g>\r\n    </g>\r\n    <g id=\"xtick_11\">\r\n     <g id=\"line2d_11\">\r\n      <g>\r\n       <use style=\"stroke:#000000;stroke-width:0.8;\" x=\"391.19\" xlink:href=\"#m5731903762\" y=\"315\"/>\r\n      </g>\r\n     </g>\r\n     <g id=\"text_11\">\r\n      <!-- my -->\r\n      <g transform=\"translate(387.604748 338.445757)rotate(-45)scale(0.1 -0.1)\">\r\n       <use xlink:href=\"#DejaVuSans-109\"/>\r\n       <use x=\"97.412109\" xlink:href=\"#DejaVuSans-121\"/>\r\n      </g>\r\n     </g>\r\n    </g>\r\n    <g id=\"xtick_12\">\r\n     <g id=\"line2d_12\">\r\n      <g>\r\n       <use style=\"stroke:#000000;stroke-width:0.8;\" x=\"424.67\" xlink:href=\"#m5731903762\" y=\"315\"/>\r\n      </g>\r\n     </g>\r\n     <g id=\"text_12\">\r\n      <!-- me -->\r\n      <g transform=\"translate(421.001884 338.611485)rotate(-45)scale(0.1 -0.1)\">\r\n       <use xlink:href=\"#DejaVuSans-109\"/>\r\n       <use x=\"97.412109\" xlink:href=\"#DejaVuSans-101\"/>\r\n      </g>\r\n     </g>\r\n    </g>\r\n    <g id=\"xtick_13\">\r\n     <g id=\"line2d_13\">\r\n      <g>\r\n       <use style=\"stroke:#000000;stroke-width:0.8;\" x=\"458.15\" xlink:href=\"#m5731903762\" y=\"315\"/>\r\n      </g>\r\n     </g>\r\n     <g id=\"text_13\">\r\n      <!-- in -->\r\n      <g transform=\"translate(456.878313 333.818627)rotate(-45)scale(0.1 -0.1)\">\r\n       <use xlink:href=\"#DejaVuSans-105\"/>\r\n       <use x=\"27.783203\" xlink:href=\"#DejaVuSans-110\"/>\r\n      </g>\r\n     </g>\r\n    </g>\r\n    <g id=\"xtick_14\">\r\n     <g id=\"line2d_14\">\r\n      <g>\r\n       <use style=\"stroke:#000000;stroke-width:0.8;\" x=\"491.63\" xlink:href=\"#m5731903762\" y=\"315\"/>\r\n      </g>\r\n     </g>\r\n     <g id=\"text_14\">\r\n      <!-- that -->\r\n      <g transform=\"translate(486.401829 341.731594)rotate(-45)scale(0.1 -0.1)\">\r\n       <use xlink:href=\"#DejaVuSans-116\"/>\r\n       <use x=\"39.208984\" xlink:href=\"#DejaVuSans-104\"/>\r\n       <use x=\"102.587891\" xlink:href=\"#DejaVuSans-97\"/>\r\n       <use x=\"163.867188\" xlink:href=\"#DejaVuSans-116\"/>\r\n      </g>\r\n     </g>\r\n    </g>\r\n    <g id=\"xtick_15\">\r\n     <g id=\"line2d_15\">\r\n      <g>\r\n       <use style=\"stroke:#000000;stroke-width:0.8;\" x=\"525.11\" xlink:href=\"#m5731903762\" y=\"315\"/>\r\n      </g>\r\n     </g>\r\n     <g id=\"text_15\">\r\n      <!-- of -->\r\n      <g transform=\"translate(523.65325 334.188753)rotate(-45)scale(0.1 -0.1)\">\r\n       <defs>\r\n        <path d=\"M 37.109375 75.984375 \r\nL 37.109375 68.5 \r\nL 28.515625 68.5 \r\nQ 23.6875 68.5 21.796875 66.546875 \r\nQ 19.921875 64.59375 19.921875 59.515625 \r\nL 19.921875 54.6875 \r\nL 34.71875 54.6875 \r\nL 34.71875 47.703125 \r\nL 19.921875 47.703125 \r\nL 19.921875 0 \r\nL 10.890625 0 \r\nL 10.890625 47.703125 \r\nL 2.296875 47.703125 \r\nL 2.296875 54.6875 \r\nL 10.890625 54.6875 \r\nL 10.890625 58.5 \r\nQ 10.890625 67.625 15.140625 71.796875 \r\nQ 19.390625 75.984375 28.609375 75.984375 \r\nz\r\n\" id=\"DejaVuSans-102\"/>\r\n       </defs>\r\n       <use xlink:href=\"#DejaVuSans-111\"/>\r\n       <use x=\"61.181641\" xlink:href=\"#DejaVuSans-102\"/>\r\n      </g>\r\n     </g>\r\n    </g>\r\n    <g id=\"xtick_16\">\r\n     <g id=\"line2d_16\">\r\n      <g>\r\n       <use style=\"stroke:#000000;stroke-width:0.8;\" x=\"558.59\" xlink:href=\"#m5731903762\" y=\"315\"/>\r\n      </g>\r\n     </g>\r\n     <g id=\"text_16\">\r\n      <!-- do -->\r\n      <g transform=\"translate(556.133356 336.18854)rotate(-45)scale(0.1 -0.1)\">\r\n       <use xlink:href=\"#DejaVuSans-100\"/>\r\n       <use x=\"63.476562\" xlink:href=\"#DejaVuSans-111\"/>\r\n      </g>\r\n     </g>\r\n    </g>\r\n    <g id=\"xtick_17\">\r\n     <g id=\"line2d_17\">\r\n      <g>\r\n       <use style=\"stroke:#000000;stroke-width:0.8;\" x=\"592.07\" xlink:href=\"#m5731903762\" y=\"315\"/>\r\n      </g>\r\n     </g>\r\n     <g id=\"text_17\">\r\n      <!-- but -->\r\n      <g transform=\"translate(588.149977 339.115299)rotate(-45)scale(0.1 -0.1)\">\r\n       <defs>\r\n        <path d=\"M 48.6875 27.296875 \r\nQ 48.6875 37.203125 44.609375 42.84375 \r\nQ 40.53125 48.484375 33.40625 48.484375 \r\nQ 26.265625 48.484375 22.1875 42.84375 \r\nQ 18.109375 37.203125 18.109375 27.296875 \r\nQ 18.109375 17.390625 22.1875 11.75 \r\nQ 26.265625 6.109375 33.40625 6.109375 \r\nQ 40.53125 6.109375 44.609375 11.75 \r\nQ 48.6875 17.390625 48.6875 27.296875 \r\nz\r\nM 18.109375 46.390625 \r\nQ 20.953125 51.265625 25.265625 53.625 \r\nQ 29.59375 56 35.59375 56 \r\nQ 45.5625 56 51.78125 48.09375 \r\nQ 58.015625 40.1875 58.015625 27.296875 \r\nQ 58.015625 14.40625 51.78125 6.484375 \r\nQ 45.5625 -1.421875 35.59375 -1.421875 \r\nQ 29.59375 -1.421875 25.265625 0.953125 \r\nQ 20.953125 3.328125 18.109375 8.203125 \r\nL 18.109375 0 \r\nL 9.078125 0 \r\nL 9.078125 75.984375 \r\nL 18.109375 75.984375 \r\nz\r\n\" id=\"DejaVuSans-98\"/>\r\n       </defs>\r\n       <use xlink:href=\"#DejaVuSans-98\"/>\r\n       <use x=\"63.476562\" xlink:href=\"#DejaVuSans-117\"/>\r\n       <use x=\"126.855469\" xlink:href=\"#DejaVuSans-116\"/>\r\n      </g>\r\n     </g>\r\n    </g>\r\n    <g id=\"xtick_18\">\r\n     <g id=\"line2d_18\">\r\n      <g>\r\n       <use style=\"stroke:#000000;stroke-width:0.8;\" x=\"625.55\" xlink:href=\"#m5731903762\" y=\"315\"/>\r\n      </g>\r\n     </g>\r\n     <g id=\"text_18\">\r\n      <!-- like -->\r\n      <g transform=\"translate(621.442152 339.490949)rotate(-45)scale(0.1 -0.1)\">\r\n       <defs>\r\n        <path d=\"M 9.421875 75.984375 \r\nL 18.40625 75.984375 \r\nL 18.40625 0 \r\nL 9.421875 0 \r\nz\r\n\" id=\"DejaVuSans-108\"/>\r\n        <path d=\"M 9.078125 75.984375 \r\nL 18.109375 75.984375 \r\nL 18.109375 31.109375 \r\nL 44.921875 54.6875 \r\nL 56.390625 54.6875 \r\nL 27.390625 29.109375 \r\nL 57.625 0 \r\nL 45.90625 0 \r\nL 18.109375 26.703125 \r\nL 18.109375 0 \r\nL 9.078125 0 \r\nz\r\n\" id=\"DejaVuSans-107\"/>\r\n       </defs>\r\n       <use xlink:href=\"#DejaVuSans-108\"/>\r\n       <use x=\"27.783203\" xlink:href=\"#DejaVuSans-105\"/>\r\n       <use x=\"55.566406\" xlink:href=\"#DejaVuSans-107\"/>\r\n       <use x=\"109.851562\" xlink:href=\"#DejaVuSans-101\"/>\r\n      </g>\r\n     </g>\r\n    </g>\r\n    <g id=\"xtick_19\">\r\n     <g id=\"line2d_19\">\r\n      <g>\r\n       <use style=\"stroke:#000000;stroke-width:0.8;\" x=\"659.03\" xlink:href=\"#m5731903762\" y=\"315\"/>\r\n      </g>\r\n     </g>\r\n     <g id=\"text_19\">\r\n      <!-- on -->\r\n      <g transform=\"translate(656.577223 336.180806)rotate(-45)scale(0.1 -0.1)\">\r\n       <use xlink:href=\"#DejaVuSans-111\"/>\r\n       <use x=\"61.181641\" xlink:href=\"#DejaVuSans-110\"/>\r\n      </g>\r\n     </g>\r\n    </g>\r\n    <g id=\"xtick_20\">\r\n     <g id=\"line2d_20\">\r\n      <g>\r\n       <use style=\"stroke:#000000;stroke-width:0.8;\" x=\"692.51\" xlink:href=\"#m5731903762\" y=\"315\"/>\r\n      </g>\r\n     </g>\r\n     <g id=\"text_20\">\r\n      <!-- this -->\r\n      <g transform=\"translate(688.010481 340.274291)rotate(-45)scale(0.1 -0.1)\">\r\n       <use xlink:href=\"#DejaVuSans-116\"/>\r\n       <use x=\"39.208984\" xlink:href=\"#DejaVuSans-104\"/>\r\n       <use x=\"102.587891\" xlink:href=\"#DejaVuSans-105\"/>\r\n       <use x=\"130.371094\" xlink:href=\"#DejaVuSans-115\"/>\r\n      </g>\r\n     </g>\r\n    </g>\r\n    <g id=\"xtick_21\">\r\n     <g id=\"line2d_21\">\r\n      <g>\r\n       <use style=\"stroke:#000000;stroke-width:0.8;\" x=\"725.99\" xlink:href=\"#m5731903762\" y=\"315\"/>\r\n      </g>\r\n     </g>\r\n     <g id=\"text_21\">\r\n      <!-- your -->\r\n      <g transform=\"translate(719.991193 343.272866)rotate(-45)scale(0.1 -0.1)\">\r\n       <defs>\r\n        <path d=\"M 41.109375 46.296875 \r\nQ 39.59375 47.171875 37.8125 47.578125 \r\nQ 36.03125 48 33.890625 48 \r\nQ 26.265625 48 22.1875 43.046875 \r\nQ 18.109375 38.09375 18.109375 28.8125 \r\nL 18.109375 0 \r\nL 9.078125 0 \r\nL 9.078125 54.6875 \r\nL 18.109375 54.6875 \r\nL 18.109375 46.1875 \r\nQ 20.953125 51.171875 25.484375 53.578125 \r\nQ 30.03125 56 36.53125 56 \r\nQ 37.453125 56 38.578125 55.875 \r\nQ 39.703125 55.765625 41.0625 55.515625 \r\nz\r\n\" id=\"DejaVuSans-114\"/>\r\n       </defs>\r\n       <use xlink:href=\"#DejaVuSans-121\"/>\r\n       <use x=\"59.179688\" xlink:href=\"#DejaVuSans-111\"/>\r\n       <use x=\"120.361328\" xlink:href=\"#DejaVuSans-117\"/>\r\n       <use x=\"183.740234\" xlink:href=\"#DejaVuSans-114\"/>\r\n      </g>\r\n     </g>\r\n    </g>\r\n    <g id=\"xtick_22\">\r\n     <g id=\"line2d_22\">\r\n      <g>\r\n       <use style=\"stroke:#000000;stroke-width:0.8;\" x=\"759.47\" xlink:href=\"#m5731903762\" y=\"315\"/>\r\n      </g>\r\n     </g>\r\n     <g id=\"text_22\">\r\n      <!-- just -->\r\n      <g transform=\"translate(754.970481 340.274291)rotate(-45)scale(0.1 -0.1)\">\r\n       <defs>\r\n        <path d=\"M 9.421875 54.6875 \r\nL 18.40625 54.6875 \r\nL 18.40625 -0.984375 \r\nQ 18.40625 -11.421875 14.421875 -16.109375 \r\nQ 10.453125 -20.796875 1.609375 -20.796875 \r\nL -1.8125 -20.796875 \r\nL -1.8125 -13.1875 \r\nL 0.59375 -13.1875 \r\nQ 5.71875 -13.1875 7.5625 -10.8125 \r\nQ 9.421875 -8.453125 9.421875 -0.984375 \r\nz\r\nM 9.421875 75.984375 \r\nL 18.40625 75.984375 \r\nL 18.40625 64.59375 \r\nL 9.421875 64.59375 \r\nz\r\n\" id=\"DejaVuSans-106\"/>\r\n       </defs>\r\n       <use xlink:href=\"#DejaVuSans-106\"/>\r\n       <use x=\"27.783203\" xlink:href=\"#DejaVuSans-117\"/>\r\n       <use x=\"91.162109\" xlink:href=\"#DejaVuSans-115\"/>\r\n       <use x=\"143.261719\" xlink:href=\"#DejaVuSans-116\"/>\r\n      </g>\r\n     </g>\r\n    </g>\r\n    <g id=\"xtick_23\">\r\n     <g id=\"line2d_23\">\r\n      <g>\r\n       <use style=\"stroke:#000000;stroke-width:0.8;\" x=\"792.95\" xlink:href=\"#m5731903762\" y=\"315\"/>\r\n      </g>\r\n     </g>\r\n     <g id=\"text_23\">\r\n      <!-- with -->\r\n      <g transform=\"translate(787.400869 342.373514)rotate(-45)scale(0.1 -0.1)\">\r\n       <defs>\r\n        <path d=\"M 4.203125 54.6875 \r\nL 13.1875 54.6875 \r\nL 24.421875 12.015625 \r\nL 35.59375 54.6875 \r\nL 46.1875 54.6875 \r\nL 57.421875 12.015625 \r\nL 68.609375 54.6875 \r\nL 77.59375 54.6875 \r\nL 63.28125 0 \r\nL 52.6875 0 \r\nL 40.921875 44.828125 \r\nL 29.109375 0 \r\nL 18.5 0 \r\nz\r\n\" id=\"DejaVuSans-119\"/>\r\n       </defs>\r\n       <use xlink:href=\"#DejaVuSans-119\"/>\r\n       <use x=\"81.787109\" xlink:href=\"#DejaVuSans-105\"/>\r\n       <use x=\"109.570312\" xlink:href=\"#DejaVuSans-116\"/>\r\n       <use x=\"148.779297\" xlink:href=\"#DejaVuSans-104\"/>\r\n      </g>\r\n     </g>\r\n    </g>\r\n    <g id=\"xtick_24\">\r\n     <g id=\"line2d_24\">\r\n      <g>\r\n       <use style=\"stroke:#000000;stroke-width:0.8;\" x=\"826.43\" xlink:href=\"#m5731903762\" y=\"315\"/>\r\n      </g>\r\n     </g>\r\n     <g id=\"text_24\">\r\n      <!-- so -->\r\n      <g transform=\"translate(824.376076 335.383101)rotate(-45)scale(0.1 -0.1)\">\r\n       <use xlink:href=\"#DejaVuSans-115\"/>\r\n       <use x=\"52.099609\" xlink:href=\"#DejaVuSans-111\"/>\r\n      </g>\r\n     </g>\r\n    </g>\r\n    <g id=\"xtick_25\">\r\n     <g id=\"line2d_25\">\r\n      <g>\r\n       <use style=\"stroke:#000000;stroke-width:0.8;\" x=\"859.91\" xlink:href=\"#m5731903762\" y=\"315\"/>\r\n      </g>\r\n     </g>\r\n     <g id=\"text_25\">\r\n      <!-- be -->\r\n      <g transform=\"translate(857.441203 336.212846)rotate(-45)scale(0.1 -0.1)\">\r\n       <use xlink:href=\"#DejaVuSans-98\"/>\r\n       <use x=\"63.476562\" xlink:href=\"#DejaVuSans-101\"/>\r\n      </g>\r\n     </g>\r\n    </g>\r\n   </g>\r\n   <g id=\"matplotlib.axis_2\">\r\n    <g id=\"ytick_1\">\r\n     <g id=\"line2d_26\">\r\n      <defs>\r\n       <path d=\"M 0 0 \r\nL -3.5 0 \r\n\" id=\"m8361b14463\" style=\"stroke:#000000;stroke-width:0.8;\"/>\r\n      </defs>\r\n      <g>\r\n       <use style=\"stroke:#000000;stroke-width:0.8;\" x=\"39.65\" xlink:href=\"#m8361b14463\" y=\"315\"/>\r\n      </g>\r\n     </g>\r\n     <g id=\"text_26\">\r\n      <!-- 0 -->\r\n      <g transform=\"translate(26.2875 318.799219)scale(0.1 -0.1)\">\r\n       <defs>\r\n        <path d=\"M 31.78125 66.40625 \r\nQ 24.171875 66.40625 20.328125 58.90625 \r\nQ 16.5 51.421875 16.5 36.375 \r\nQ 16.5 21.390625 20.328125 13.890625 \r\nQ 24.171875 6.390625 31.78125 6.390625 \r\nQ 39.453125 6.390625 43.28125 13.890625 \r\nQ 47.125 21.390625 47.125 36.375 \r\nQ 47.125 51.421875 43.28125 58.90625 \r\nQ 39.453125 66.40625 31.78125 66.40625 \r\nz\r\nM 31.78125 74.21875 \r\nQ 44.046875 74.21875 50.515625 64.515625 \r\nQ 56.984375 54.828125 56.984375 36.375 \r\nQ 56.984375 17.96875 50.515625 8.265625 \r\nQ 44.046875 -1.421875 31.78125 -1.421875 \r\nQ 19.53125 -1.421875 13.0625 8.265625 \r\nQ 6.59375 17.96875 6.59375 36.375 \r\nQ 6.59375 54.828125 13.0625 64.515625 \r\nQ 19.53125 74.21875 31.78125 74.21875 \r\nz\r\n\" id=\"DejaVuSans-48\"/>\r\n       </defs>\r\n       <use xlink:href=\"#DejaVuSans-48\"/>\r\n      </g>\r\n     </g>\r\n    </g>\r\n    <g id=\"ytick_2\">\r\n     <g id=\"line2d_27\">\r\n      <g>\r\n       <use style=\"stroke:#000000;stroke-width:0.8;\" x=\"39.65\" xlink:href=\"#m8361b14463\" y=\"265.410509\"/>\r\n      </g>\r\n     </g>\r\n     <g id=\"text_27\">\r\n      <!-- 1000 -->\r\n      <g transform=\"translate(7.2 269.209728)scale(0.1 -0.1)\">\r\n       <defs>\r\n        <path d=\"M 12.40625 8.296875 \r\nL 28.515625 8.296875 \r\nL 28.515625 63.921875 \r\nL 10.984375 60.40625 \r\nL 10.984375 69.390625 \r\nL 28.421875 72.90625 \r\nL 38.28125 72.90625 \r\nL 38.28125 8.296875 \r\nL 54.390625 8.296875 \r\nL 54.390625 0 \r\nL 12.40625 0 \r\nz\r\n\" id=\"DejaVuSans-49\"/>\r\n       </defs>\r\n       <use xlink:href=\"#DejaVuSans-49\"/>\r\n       <use x=\"63.623047\" xlink:href=\"#DejaVuSans-48\"/>\r\n       <use x=\"127.246094\" xlink:href=\"#DejaVuSans-48\"/>\r\n       <use x=\"190.869141\" xlink:href=\"#DejaVuSans-48\"/>\r\n      </g>\r\n     </g>\r\n    </g>\r\n    <g id=\"ytick_3\">\r\n     <g id=\"line2d_28\">\r\n      <g>\r\n       <use style=\"stroke:#000000;stroke-width:0.8;\" x=\"39.65\" xlink:href=\"#m8361b14463\" y=\"215.821018\"/>\r\n      </g>\r\n     </g>\r\n     <g id=\"text_28\">\r\n      <!-- 2000 -->\r\n      <g transform=\"translate(7.2 219.620237)scale(0.1 -0.1)\">\r\n       <defs>\r\n        <path d=\"M 19.1875 8.296875 \r\nL 53.609375 8.296875 \r\nL 53.609375 0 \r\nL 7.328125 0 \r\nL 7.328125 8.296875 \r\nQ 12.9375 14.109375 22.625 23.890625 \r\nQ 32.328125 33.6875 34.8125 36.53125 \r\nQ 39.546875 41.84375 41.421875 45.53125 \r\nQ 43.3125 49.21875 43.3125 52.78125 \r\nQ 43.3125 58.59375 39.234375 62.25 \r\nQ 35.15625 65.921875 28.609375 65.921875 \r\nQ 23.96875 65.921875 18.8125 64.3125 \r\nQ 13.671875 62.703125 7.8125 59.421875 \r\nL 7.8125 69.390625 \r\nQ 13.765625 71.78125 18.9375 73 \r\nQ 24.125 74.21875 28.421875 74.21875 \r\nQ 39.75 74.21875 46.484375 68.546875 \r\nQ 53.21875 62.890625 53.21875 53.421875 \r\nQ 53.21875 48.921875 51.53125 44.890625 \r\nQ 49.859375 40.875 45.40625 35.40625 \r\nQ 44.1875 33.984375 37.640625 27.21875 \r\nQ 31.109375 20.453125 19.1875 8.296875 \r\nz\r\n\" id=\"DejaVuSans-50\"/>\r\n       </defs>\r\n       <use xlink:href=\"#DejaVuSans-50\"/>\r\n       <use x=\"63.623047\" xlink:href=\"#DejaVuSans-48\"/>\r\n       <use x=\"127.246094\" xlink:href=\"#DejaVuSans-48\"/>\r\n       <use x=\"190.869141\" xlink:href=\"#DejaVuSans-48\"/>\r\n      </g>\r\n     </g>\r\n    </g>\r\n    <g id=\"ytick_4\">\r\n     <g id=\"line2d_29\">\r\n      <g>\r\n       <use style=\"stroke:#000000;stroke-width:0.8;\" x=\"39.65\" xlink:href=\"#m8361b14463\" y=\"166.231527\"/>\r\n      </g>\r\n     </g>\r\n     <g id=\"text_29\">\r\n      <!-- 3000 -->\r\n      <g transform=\"translate(7.2 170.030746)scale(0.1 -0.1)\">\r\n       <defs>\r\n        <path d=\"M 40.578125 39.3125 \r\nQ 47.65625 37.796875 51.625 33 \r\nQ 55.609375 28.21875 55.609375 21.1875 \r\nQ 55.609375 10.40625 48.1875 4.484375 \r\nQ 40.765625 -1.421875 27.09375 -1.421875 \r\nQ 22.515625 -1.421875 17.65625 -0.515625 \r\nQ 12.796875 0.390625 7.625 2.203125 \r\nL 7.625 11.71875 \r\nQ 11.71875 9.328125 16.59375 8.109375 \r\nQ 21.484375 6.890625 26.8125 6.890625 \r\nQ 36.078125 6.890625 40.9375 10.546875 \r\nQ 45.796875 14.203125 45.796875 21.1875 \r\nQ 45.796875 27.640625 41.28125 31.265625 \r\nQ 36.765625 34.90625 28.71875 34.90625 \r\nL 20.21875 34.90625 \r\nL 20.21875 43.015625 \r\nL 29.109375 43.015625 \r\nQ 36.375 43.015625 40.234375 45.921875 \r\nQ 44.09375 48.828125 44.09375 54.296875 \r\nQ 44.09375 59.90625 40.109375 62.90625 \r\nQ 36.140625 65.921875 28.71875 65.921875 \r\nQ 24.65625 65.921875 20.015625 65.03125 \r\nQ 15.375 64.15625 9.8125 62.3125 \r\nL 9.8125 71.09375 \r\nQ 15.4375 72.65625 20.34375 73.4375 \r\nQ 25.25 74.21875 29.59375 74.21875 \r\nQ 40.828125 74.21875 47.359375 69.109375 \r\nQ 53.90625 64.015625 53.90625 55.328125 \r\nQ 53.90625 49.265625 50.4375 45.09375 \r\nQ 46.96875 40.921875 40.578125 39.3125 \r\nz\r\n\" id=\"DejaVuSans-51\"/>\r\n       </defs>\r\n       <use xlink:href=\"#DejaVuSans-51\"/>\r\n       <use x=\"63.623047\" xlink:href=\"#DejaVuSans-48\"/>\r\n       <use x=\"127.246094\" xlink:href=\"#DejaVuSans-48\"/>\r\n       <use x=\"190.869141\" xlink:href=\"#DejaVuSans-48\"/>\r\n      </g>\r\n     </g>\r\n    </g>\r\n    <g id=\"ytick_5\">\r\n     <g id=\"line2d_30\">\r\n      <g>\r\n       <use style=\"stroke:#000000;stroke-width:0.8;\" x=\"39.65\" xlink:href=\"#m8361b14463\" y=\"116.642036\"/>\r\n      </g>\r\n     </g>\r\n     <g id=\"text_30\">\r\n      <!-- 4000 -->\r\n      <g transform=\"translate(7.2 120.441255)scale(0.1 -0.1)\">\r\n       <defs>\r\n        <path d=\"M 37.796875 64.3125 \r\nL 12.890625 25.390625 \r\nL 37.796875 25.390625 \r\nz\r\nM 35.203125 72.90625 \r\nL 47.609375 72.90625 \r\nL 47.609375 25.390625 \r\nL 58.015625 25.390625 \r\nL 58.015625 17.1875 \r\nL 47.609375 17.1875 \r\nL 47.609375 0 \r\nL 37.796875 0 \r\nL 37.796875 17.1875 \r\nL 4.890625 17.1875 \r\nL 4.890625 26.703125 \r\nz\r\n\" id=\"DejaVuSans-52\"/>\r\n       </defs>\r\n       <use xlink:href=\"#DejaVuSans-52\"/>\r\n       <use x=\"63.623047\" xlink:href=\"#DejaVuSans-48\"/>\r\n       <use x=\"127.246094\" xlink:href=\"#DejaVuSans-48\"/>\r\n       <use x=\"190.869141\" xlink:href=\"#DejaVuSans-48\"/>\r\n      </g>\r\n     </g>\r\n    </g>\r\n    <g id=\"ytick_6\">\r\n     <g id=\"line2d_31\">\r\n      <g>\r\n       <use style=\"stroke:#000000;stroke-width:0.8;\" x=\"39.65\" xlink:href=\"#m8361b14463\" y=\"67.052545\"/>\r\n      </g>\r\n     </g>\r\n     <g id=\"text_31\">\r\n      <!-- 5000 -->\r\n      <g transform=\"translate(7.2 70.851764)scale(0.1 -0.1)\">\r\n       <defs>\r\n        <path d=\"M 10.796875 72.90625 \r\nL 49.515625 72.90625 \r\nL 49.515625 64.59375 \r\nL 19.828125 64.59375 \r\nL 19.828125 46.734375 \r\nQ 21.96875 47.46875 24.109375 47.828125 \r\nQ 26.265625 48.1875 28.421875 48.1875 \r\nQ 40.625 48.1875 47.75 41.5 \r\nQ 54.890625 34.8125 54.890625 23.390625 \r\nQ 54.890625 11.625 47.5625 5.09375 \r\nQ 40.234375 -1.421875 26.90625 -1.421875 \r\nQ 22.3125 -1.421875 17.546875 -0.640625 \r\nQ 12.796875 0.140625 7.71875 1.703125 \r\nL 7.71875 11.625 \r\nQ 12.109375 9.234375 16.796875 8.0625 \r\nQ 21.484375 6.890625 26.703125 6.890625 \r\nQ 35.15625 6.890625 40.078125 11.328125 \r\nQ 45.015625 15.765625 45.015625 23.390625 \r\nQ 45.015625 31 40.078125 35.4375 \r\nQ 35.15625 39.890625 26.703125 39.890625 \r\nQ 22.75 39.890625 18.8125 39.015625 \r\nQ 14.890625 38.140625 10.796875 36.28125 \r\nz\r\n\" id=\"DejaVuSans-53\"/>\r\n       </defs>\r\n       <use xlink:href=\"#DejaVuSans-53\"/>\r\n       <use x=\"63.623047\" xlink:href=\"#DejaVuSans-48\"/>\r\n       <use x=\"127.246094\" xlink:href=\"#DejaVuSans-48\"/>\r\n       <use x=\"190.869141\" xlink:href=\"#DejaVuSans-48\"/>\r\n      </g>\r\n     </g>\r\n    </g>\r\n   </g>\r\n   <g id=\"patch_28\">\r\n    <path d=\"M 39.65 315 \r\nL 39.65 43.2 \r\n\" style=\"fill:none;stroke:#000000;stroke-linecap:square;stroke-linejoin:miter;stroke-width:0.8;\"/>\r\n   </g>\r\n   <g id=\"patch_29\">\r\n    <path d=\"M 876.65 315 \r\nL 876.65 43.2 \r\n\" style=\"fill:none;stroke:#000000;stroke-linecap:square;stroke-linejoin:miter;stroke-width:0.8;\"/>\r\n   </g>\r\n   <g id=\"patch_30\">\r\n    <path d=\"M 39.65 315 \r\nL 876.65 315 \r\n\" style=\"fill:none;stroke:#000000;stroke-linecap:square;stroke-linejoin:miter;stroke-width:0.8;\"/>\r\n   </g>\r\n   <g id=\"patch_31\">\r\n    <path d=\"M 39.65 43.2 \r\nL 876.65 43.2 \r\n\" style=\"fill:none;stroke:#000000;stroke-linecap:square;stroke-linejoin:miter;stroke-width:0.8;\"/>\r\n   </g>\r\n  </g>\r\n  <g id=\"text_32\">\r\n   <!-- Top 25 unique word count in top 100 songs by Eminem -->\r\n   <g transform=\"translate(279.279688 16.318125)scale(0.12 -0.12)\">\r\n    <defs>\r\n     <path d=\"M -0.296875 72.90625 \r\nL 61.375 72.90625 \r\nL 61.375 64.59375 \r\nL 35.5 64.59375 \r\nL 35.5 0 \r\nL 25.59375 0 \r\nL 25.59375 64.59375 \r\nL -0.296875 64.59375 \r\nz\r\n\" id=\"DejaVuSans-84\"/>\r\n     <path d=\"M 18.109375 8.203125 \r\nL 18.109375 -20.796875 \r\nL 9.078125 -20.796875 \r\nL 9.078125 54.6875 \r\nL 18.109375 54.6875 \r\nL 18.109375 46.390625 \r\nQ 20.953125 51.265625 25.265625 53.625 \r\nQ 29.59375 56 35.59375 56 \r\nQ 45.5625 56 51.78125 48.09375 \r\nQ 58.015625 40.1875 58.015625 27.296875 \r\nQ 58.015625 14.40625 51.78125 6.484375 \r\nQ 45.5625 -1.421875 35.59375 -1.421875 \r\nQ 29.59375 -1.421875 25.265625 0.953125 \r\nQ 20.953125 3.328125 18.109375 8.203125 \r\nz\r\nM 48.6875 27.296875 \r\nQ 48.6875 37.203125 44.609375 42.84375 \r\nQ 40.53125 48.484375 33.40625 48.484375 \r\nQ 26.265625 48.484375 22.1875 42.84375 \r\nQ 18.109375 37.203125 18.109375 27.296875 \r\nQ 18.109375 17.390625 22.1875 11.75 \r\nQ 26.265625 6.109375 33.40625 6.109375 \r\nQ 40.53125 6.109375 44.609375 11.75 \r\nQ 48.6875 17.390625 48.6875 27.296875 \r\nz\r\n\" id=\"DejaVuSans-112\"/>\r\n     <path id=\"DejaVuSans-32\"/>\r\n     <path d=\"M 14.796875 27.296875 \r\nQ 14.796875 17.390625 18.875 11.75 \r\nQ 22.953125 6.109375 30.078125 6.109375 \r\nQ 37.203125 6.109375 41.296875 11.75 \r\nQ 45.40625 17.390625 45.40625 27.296875 \r\nQ 45.40625 37.203125 41.296875 42.84375 \r\nQ 37.203125 48.484375 30.078125 48.484375 \r\nQ 22.953125 48.484375 18.875 42.84375 \r\nQ 14.796875 37.203125 14.796875 27.296875 \r\nz\r\nM 45.40625 8.203125 \r\nQ 42.578125 3.328125 38.25 0.953125 \r\nQ 33.9375 -1.421875 27.875 -1.421875 \r\nQ 17.96875 -1.421875 11.734375 6.484375 \r\nQ 5.515625 14.40625 5.515625 27.296875 \r\nQ 5.515625 40.1875 11.734375 48.09375 \r\nQ 17.96875 56 27.875 56 \r\nQ 33.9375 56 38.25 53.625 \r\nQ 42.578125 51.265625 45.40625 46.390625 \r\nL 45.40625 54.6875 \r\nL 54.390625 54.6875 \r\nL 54.390625 -20.796875 \r\nL 45.40625 -20.796875 \r\nz\r\n\" id=\"DejaVuSans-113\"/>\r\n     <path d=\"M 48.78125 52.59375 \r\nL 48.78125 44.1875 \r\nQ 44.96875 46.296875 41.140625 47.34375 \r\nQ 37.3125 48.390625 33.40625 48.390625 \r\nQ 24.65625 48.390625 19.8125 42.84375 \r\nQ 14.984375 37.3125 14.984375 27.296875 \r\nQ 14.984375 17.28125 19.8125 11.734375 \r\nQ 24.65625 6.203125 33.40625 6.203125 \r\nQ 37.3125 6.203125 41.140625 7.25 \r\nQ 44.96875 8.296875 48.78125 10.40625 \r\nL 48.78125 2.09375 \r\nQ 45.015625 0.34375 40.984375 -0.53125 \r\nQ 36.96875 -1.421875 32.421875 -1.421875 \r\nQ 20.0625 -1.421875 12.78125 6.34375 \r\nQ 5.515625 14.109375 5.515625 27.296875 \r\nQ 5.515625 40.671875 12.859375 48.328125 \r\nQ 20.21875 56 33.015625 56 \r\nQ 37.15625 56 41.109375 55.140625 \r\nQ 45.0625 54.296875 48.78125 52.59375 \r\nz\r\n\" id=\"DejaVuSans-99\"/>\r\n     <path d=\"M 45.40625 27.984375 \r\nQ 45.40625 37.75 41.375 43.109375 \r\nQ 37.359375 48.484375 30.078125 48.484375 \r\nQ 22.859375 48.484375 18.828125 43.109375 \r\nQ 14.796875 37.75 14.796875 27.984375 \r\nQ 14.796875 18.265625 18.828125 12.890625 \r\nQ 22.859375 7.515625 30.078125 7.515625 \r\nQ 37.359375 7.515625 41.375 12.890625 \r\nQ 45.40625 18.265625 45.40625 27.984375 \r\nz\r\nM 54.390625 6.78125 \r\nQ 54.390625 -7.171875 48.1875 -13.984375 \r\nQ 42 -20.796875 29.203125 -20.796875 \r\nQ 24.46875 -20.796875 20.265625 -20.09375 \r\nQ 16.0625 -19.390625 12.109375 -17.921875 \r\nL 12.109375 -9.1875 \r\nQ 16.0625 -11.328125 19.921875 -12.34375 \r\nQ 23.78125 -13.375 27.78125 -13.375 \r\nQ 36.625 -13.375 41.015625 -8.765625 \r\nQ 45.40625 -4.15625 45.40625 5.171875 \r\nL 45.40625 9.625 \r\nQ 42.625 4.78125 38.28125 2.390625 \r\nQ 33.9375 0 27.875 0 \r\nQ 17.828125 0 11.671875 7.65625 \r\nQ 5.515625 15.328125 5.515625 27.984375 \r\nQ 5.515625 40.671875 11.671875 48.328125 \r\nQ 17.828125 56 27.875 56 \r\nQ 33.9375 56 38.28125 53.609375 \r\nQ 42.625 51.21875 45.40625 46.390625 \r\nL 45.40625 54.6875 \r\nL 54.390625 54.6875 \r\nz\r\n\" id=\"DejaVuSans-103\"/>\r\n     <path d=\"M 9.8125 72.90625 \r\nL 55.90625 72.90625 \r\nL 55.90625 64.59375 \r\nL 19.671875 64.59375 \r\nL 19.671875 43.015625 \r\nL 54.390625 43.015625 \r\nL 54.390625 34.71875 \r\nL 19.671875 34.71875 \r\nL 19.671875 8.296875 \r\nL 56.78125 8.296875 \r\nL 56.78125 0 \r\nL 9.8125 0 \r\nz\r\n\" id=\"DejaVuSans-69\"/>\r\n    </defs>\r\n    <use xlink:href=\"#DejaVuSans-84\"/>\r\n    <use x=\"44.083984\" xlink:href=\"#DejaVuSans-111\"/>\r\n    <use x=\"105.265625\" xlink:href=\"#DejaVuSans-112\"/>\r\n    <use x=\"168.742188\" xlink:href=\"#DejaVuSans-32\"/>\r\n    <use x=\"200.529297\" xlink:href=\"#DejaVuSans-50\"/>\r\n    <use x=\"264.152344\" xlink:href=\"#DejaVuSans-53\"/>\r\n    <use x=\"327.775391\" xlink:href=\"#DejaVuSans-32\"/>\r\n    <use x=\"359.5625\" xlink:href=\"#DejaVuSans-117\"/>\r\n    <use x=\"422.941406\" xlink:href=\"#DejaVuSans-110\"/>\r\n    <use x=\"486.320312\" xlink:href=\"#DejaVuSans-105\"/>\r\n    <use x=\"514.103516\" xlink:href=\"#DejaVuSans-113\"/>\r\n    <use x=\"577.580078\" xlink:href=\"#DejaVuSans-117\"/>\r\n    <use x=\"640.958984\" xlink:href=\"#DejaVuSans-101\"/>\r\n    <use x=\"702.482422\" xlink:href=\"#DejaVuSans-32\"/>\r\n    <use x=\"734.269531\" xlink:href=\"#DejaVuSans-119\"/>\r\n    <use x=\"816.056641\" xlink:href=\"#DejaVuSans-111\"/>\r\n    <use x=\"877.238281\" xlink:href=\"#DejaVuSans-114\"/>\r\n    <use x=\"916.601562\" xlink:href=\"#DejaVuSans-100\"/>\r\n    <use x=\"980.078125\" xlink:href=\"#DejaVuSans-32\"/>\r\n    <use x=\"1011.865234\" xlink:href=\"#DejaVuSans-99\"/>\r\n    <use x=\"1066.845703\" xlink:href=\"#DejaVuSans-111\"/>\r\n    <use x=\"1128.027344\" xlink:href=\"#DejaVuSans-117\"/>\r\n    <use x=\"1191.40625\" xlink:href=\"#DejaVuSans-110\"/>\r\n    <use x=\"1254.785156\" xlink:href=\"#DejaVuSans-116\"/>\r\n    <use x=\"1293.994141\" xlink:href=\"#DejaVuSans-32\"/>\r\n    <use x=\"1325.78125\" xlink:href=\"#DejaVuSans-105\"/>\r\n    <use x=\"1353.564453\" xlink:href=\"#DejaVuSans-110\"/>\r\n    <use x=\"1416.943359\" xlink:href=\"#DejaVuSans-32\"/>\r\n    <use x=\"1448.730469\" xlink:href=\"#DejaVuSans-116\"/>\r\n    <use x=\"1487.939453\" xlink:href=\"#DejaVuSans-111\"/>\r\n    <use x=\"1549.121094\" xlink:href=\"#DejaVuSans-112\"/>\r\n    <use x=\"1612.597656\" xlink:href=\"#DejaVuSans-32\"/>\r\n    <use x=\"1644.384766\" xlink:href=\"#DejaVuSans-49\"/>\r\n    <use x=\"1708.007812\" xlink:href=\"#DejaVuSans-48\"/>\r\n    <use x=\"1771.630859\" xlink:href=\"#DejaVuSans-48\"/>\r\n    <use x=\"1835.253906\" xlink:href=\"#DejaVuSans-32\"/>\r\n    <use x=\"1867.041016\" xlink:href=\"#DejaVuSans-115\"/>\r\n    <use x=\"1919.140625\" xlink:href=\"#DejaVuSans-111\"/>\r\n    <use x=\"1980.322266\" xlink:href=\"#DejaVuSans-110\"/>\r\n    <use x=\"2043.701172\" xlink:href=\"#DejaVuSans-103\"/>\r\n    <use x=\"2107.177734\" xlink:href=\"#DejaVuSans-115\"/>\r\n    <use x=\"2159.277344\" xlink:href=\"#DejaVuSans-32\"/>\r\n    <use x=\"2191.064453\" xlink:href=\"#DejaVuSans-98\"/>\r\n    <use x=\"2254.541016\" xlink:href=\"#DejaVuSans-121\"/>\r\n    <use x=\"2313.720703\" xlink:href=\"#DejaVuSans-32\"/>\r\n    <use x=\"2345.507812\" xlink:href=\"#DejaVuSans-69\"/>\r\n    <use x=\"2408.691406\" xlink:href=\"#DejaVuSans-109\"/>\r\n    <use x=\"2506.103516\" xlink:href=\"#DejaVuSans-105\"/>\r\n    <use x=\"2533.886719\" xlink:href=\"#DejaVuSans-110\"/>\r\n    <use x=\"2597.265625\" xlink:href=\"#DejaVuSans-101\"/>\r\n    <use x=\"2658.789062\" xlink:href=\"#DejaVuSans-109\"/>\r\n   </g>\r\n  </g>\r\n </g>\r\n <defs>\r\n  <clipPath id=\"pe9a0820118\">\r\n   <rect height=\"271.8\" width=\"837\" x=\"39.65\" y=\"43.2\"/>\r\n  </clipPath>\r\n </defs>\r\n</svg>\r\n",
      "image/png": "[encoded data removed]"
     },
     "metadata": {
      "needs_background": "light"
     }
    }
   ],
   "source": [
    "fig = plt.figure(figsize=(15, 5))\n",
    "df.lyrics.explode().value_counts()[:25].plot.bar()\n",
    "plt.xticks(rotation=45)\n",
    "fig.suptitle('Top 25 unique word count in top 100 songs by Eminem')"
   ]
  },
  {
   "source": [
    "The lyrics are then transformed into n-grams to create contiguous sequences. <br>\n",
    "Since the goal is to predict what the next word in the sentence should be. <br>"
   ],
   "cell_type": "markdown",
   "metadata": {}
  },
  {
   "cell_type": "code",
   "execution_count": 6,
   "metadata": {},
   "outputs": [],
   "source": [
    "input_sequences = []\n",
    "for line in df.lyrics:\n",
    "    token_list = tokenizer.texts_to_sequences([line])[0]\n",
    "    for i in range(1, len(token_list)):\n",
    "        n_gram_sequence = token_list[:i+1]\n",
    "        input_sequences.append(n_gram_sequence)"
   ]
  },
  {
   "source": [
    "The first 6 words from the first song \"Rap God\" encoded."
   ],
   "cell_type": "markdown",
   "metadata": {}
  },
  {
   "cell_type": "code",
   "execution_count": 7,
   "metadata": {},
   "outputs": [
    {
     "output_type": "execute_result",
     "data": {
      "text/plain": [
       "        Predictors (N-gram)  Predictors token sequence  Label  Label token\n",
       "0                    look i                   [116, 1]    was           32\n",
       "1                look i was               [116, 1, 32]  gonna           78\n",
       "2          look i was gonna           [116, 1, 32, 78]     go           46\n",
       "3       look i was gonna go       [116, 1, 32, 78, 46]   easy          913\n",
       "4  look i was gonna go easy  [116, 1, 32, 78, 46, 913]     on           19"
      ],
      "text/html": "<div>\n<style scoped>\n    .dataframe tbody tr th:only-of-type {\n        vertical-align: middle;\n    }\n\n    .dataframe tbody tr th {\n        vertical-align: top;\n    }\n\n    .dataframe thead th {\n        text-align: right;\n    }\n</style>\n<table border=\"1\" class=\"dataframe\">\n  <thead>\n    <tr style=\"text-align: right;\">\n      <th></th>\n      <th>Predictors (N-gram)</th>\n      <th>Predictors token sequence</th>\n      <th>Label</th>\n      <th>Label token</th>\n    </tr>\n  </thead>\n  <tbody>\n    <tr>\n      <th>0</th>\n      <td>look i</td>\n      <td>[116, 1]</td>\n      <td>was</td>\n      <td>32</td>\n    </tr>\n    <tr>\n      <th>1</th>\n      <td>look i was</td>\n      <td>[116, 1, 32]</td>\n      <td>gonna</td>\n      <td>78</td>\n    </tr>\n    <tr>\n      <th>2</th>\n      <td>look i was gonna</td>\n      <td>[116, 1, 32, 78]</td>\n      <td>go</td>\n      <td>46</td>\n    </tr>\n    <tr>\n      <th>3</th>\n      <td>look i was gonna go</td>\n      <td>[116, 1, 32, 78, 46]</td>\n      <td>easy</td>\n      <td>913</td>\n    </tr>\n    <tr>\n      <th>4</th>\n      <td>look i was gonna go easy</td>\n      <td>[116, 1, 32, 78, 46, 913]</td>\n      <td>on</td>\n      <td>19</td>\n    </tr>\n  </tbody>\n</table>\n</div>"
     },
     "metadata": {},
     "execution_count": 7
    }
   ],
   "source": [
    "sequence_df = pd.DataFrame({ \n",
    "    'Predictors (N-gram)': tokenizer.sequences_to_texts(input_sequences[:5]), \n",
    "    'Predictors token sequence': input_sequences[:5], \n",
    "    'Label': tokenizer.sequences_to_texts([input_sequences[5][2:]])[0].split(),\n",
    "    'Label token': input_sequences[5][2:]\n",
    "     })\n",
    "sequence_df"
   ]
  },
  {
   "source": [
    "Because the input to the model must stay the same and the predictors now differ in size each new word that gets predicted, <br>\n",
    "the input sequence of the model must be padded to the maximum length of the sequences."
   ],
   "cell_type": "markdown",
   "metadata": {}
  },
  {
   "cell_type": "code",
   "execution_count": 8,
   "metadata": {},
   "outputs": [
    {
     "output_type": "stream",
     "name": "stdout",
     "text": [
      "The inputs are padded to a length of 1777.\n"
     ]
    }
   ],
   "source": [
    "from tensorflow.keras.preprocessing.sequence import pad_sequences\n",
    "\n",
    "max_sequence_length = max([len(x) for x in input_sequences])\n",
    "input_sequences = np.array(pad_sequences(input_sequences, maxlen=max_sequence_length, padding='pre', truncating='pre'))\n",
    "print(f'The inputs are padded to a length of {max_sequence_length}.')"
   ]
  },
  {
   "source": [
    "The labels for the predictors are basically the next n-gram in the sequences."
   ],
   "cell_type": "markdown",
   "metadata": {}
  },
  {
   "cell_type": "code",
   "execution_count": 9,
   "metadata": {},
   "outputs": [],
   "source": [
    "import tensorflow.keras.utils as ku\n",
    "\n",
    "predictors, labels = input_sequences[:,:-1], input_sequences[:, -1]\n",
    "labels = ku.to_categorical(labels, num_classes=total_words)"
   ]
  },
  {
   "cell_type": "code",
   "execution_count": 10,
   "metadata": {},
   "outputs": [
    {
     "output_type": "execute_result",
     "data": {
      "text/plain": [
       "        Predictors (N-gram)  Predictors token sequence  \\\n",
       "0                    look i                   [116, 1]   \n",
       "1                look i was               [116, 1, 32]   \n",
       "2          look i was gonna           [116, 1, 32, 78]   \n",
       "3       look i was gonna go       [116, 1, 32, 78, 46]   \n",
       "4  look i was gonna go easy  [116, 1, 32, 78, 46, 913]   \n",
       "\n",
       "                               Padded token sequence  Label  Label token  \n",
       "0  [0, 0, 0, 0, 0, 0, 0, 0, 0, 0, 0, 0, 0, 0, 0, ...    was           32  \n",
       "1  [0, 0, 0, 0, 0, 0, 0, 0, 0, 0, 0, 0, 0, 0, 0, ...  gonna           78  \n",
       "2  [0, 0, 0, 0, 0, 0, 0, 0, 0, 0, 0, 0, 0, 0, 0, ...     go           46  \n",
       "3  [0, 0, 0, 0, 0, 0, 0, 0, 0, 0, 0, 0, 0, 0, 0, ...   easy          913  \n",
       "4  [0, 0, 0, 0, 0, 0, 0, 0, 0, 0, 0, 0, 0, 0, 0, ...     on           19  "
      ],
      "text/html": "<div>\n<style scoped>\n    .dataframe tbody tr th:only-of-type {\n        vertical-align: middle;\n    }\n\n    .dataframe tbody tr th {\n        vertical-align: top;\n    }\n\n    .dataframe thead th {\n        text-align: right;\n    }\n</style>\n<table border=\"1\" class=\"dataframe\">\n  <thead>\n    <tr style=\"text-align: right;\">\n      <th></th>\n      <th>Predictors (N-gram)</th>\n      <th>Predictors token sequence</th>\n      <th>Padded token sequence</th>\n      <th>Label</th>\n      <th>Label token</th>\n    </tr>\n  </thead>\n  <tbody>\n    <tr>\n      <th>0</th>\n      <td>look i</td>\n      <td>[116, 1]</td>\n      <td>[0, 0, 0, 0, 0, 0, 0, 0, 0, 0, 0, 0, 0, 0, 0, ...</td>\n      <td>was</td>\n      <td>32</td>\n    </tr>\n    <tr>\n      <th>1</th>\n      <td>look i was</td>\n      <td>[116, 1, 32]</td>\n      <td>[0, 0, 0, 0, 0, 0, 0, 0, 0, 0, 0, 0, 0, 0, 0, ...</td>\n      <td>gonna</td>\n      <td>78</td>\n    </tr>\n    <tr>\n      <th>2</th>\n      <td>look i was gonna</td>\n      <td>[116, 1, 32, 78]</td>\n      <td>[0, 0, 0, 0, 0, 0, 0, 0, 0, 0, 0, 0, 0, 0, 0, ...</td>\n      <td>go</td>\n      <td>46</td>\n    </tr>\n    <tr>\n      <th>3</th>\n      <td>look i was gonna go</td>\n      <td>[116, 1, 32, 78, 46]</td>\n      <td>[0, 0, 0, 0, 0, 0, 0, 0, 0, 0, 0, 0, 0, 0, 0, ...</td>\n      <td>easy</td>\n      <td>913</td>\n    </tr>\n    <tr>\n      <th>4</th>\n      <td>look i was gonna go easy</td>\n      <td>[116, 1, 32, 78, 46, 913]</td>\n      <td>[0, 0, 0, 0, 0, 0, 0, 0, 0, 0, 0, 0, 0, 0, 0, ...</td>\n      <td>on</td>\n      <td>19</td>\n    </tr>\n  </tbody>\n</table>\n</div>"
     },
     "metadata": {},
     "execution_count": 10
    }
   ],
   "source": [
    "padded_preds = np.array_split([r for pred in predictors[:5] for r in pred], 5)\n",
    "sequence_df.insert(2, 'Padded token sequence', padded_preds)\n",
    "sequence_df"
   ]
  },
  {
   "source": [
    "## Modelling\n",
    "The model starts with an Embedding layer which takes a sequence of words (padded) as input. <br>\n",
    "Followed by a LSTM layer which has 128 units. <br>\n",
    "Then, 2 Dense layers with 128 units with drop out are added. <br>\n",
    "Lastly, the output layer with a softmax function for the predicted word."
   ],
   "cell_type": "markdown",
   "metadata": {}
  },
  {
   "cell_type": "code",
   "execution_count": 11,
   "metadata": {},
   "outputs": [
    {
     "output_type": "stream",
     "name": "stdout",
     "text": [
      "Model: \"sequential\"\n_________________________________________________________________\nLayer (type)                 Output Shape              Param #   \n=================================================================\nembedding (Embedding)        (None, 1776, 12)          111684    \n_________________________________________________________________\nlstm (LSTM)                  (None, 128)               72192     \n_________________________________________________________________\ndense (Dense)                (None, 128)               16512     \n_________________________________________________________________\ndropout (Dropout)            (None, 128)               0         \n_________________________________________________________________\ndense_1 (Dense)              (None, 128)               16512     \n_________________________________________________________________\ndropout_1 (Dropout)          (None, 128)               0         \n_________________________________________________________________\ndense_2 (Dense)              (None, 9307)              1200603   \n=================================================================\nTotal params: 1,417,503\nTrainable params: 1,417,503\nNon-trainable params: 0\n_________________________________________________________________\n"
     ]
    }
   ],
   "source": [
    "from tensorflow.keras.layers import Embedding, LSTM, Dense, Dropout\n",
    "from tensorflow.keras.models import Sequential\n",
    "\n",
    "model = Sequential()\n",
    "model.add(Embedding(total_words, 12, input_length=max_sequence_length - 1))\n",
    "model.add(LSTM(128))\n",
    "model.add(Dense(128, activation='relu'))\n",
    "model.add(Dropout(0.1))\n",
    "model.add(Dense(128, activation='relu'))\n",
    "model.add(Dropout(0.1))\n",
    "model.add(Dense(total_words, activation='softmax'))\n",
    "model.compile(optimizer='adam', loss='categorical_crossentropy')\n",
    "model.summary()"
   ]
  },
  {
   "source": [
    "I have chosen to keep the epochs low and use a big batch size to speed up training. <br>"
   ],
   "cell_type": "markdown",
   "metadata": {}
  },
  {
   "cell_type": "code",
   "execution_count": 12,
   "metadata": {},
   "outputs": [
    {
     "output_type": "stream",
     "name": "stdout",
     "text": [
      "Epoch 1/20\n",
      "186/186 [==============================] - 42s 226ms/step - loss: 6.7992\n",
      "Epoch 2/20\n",
      "186/186 [==============================] - 43s 230ms/step - loss: 6.3502\n",
      "Epoch 3/20\n",
      "186/186 [==============================] - 42s 226ms/step - loss: 6.2465\n",
      "Epoch 4/20\n",
      "186/186 [==============================] - 43s 229ms/step - loss: 6.1034\n",
      "Epoch 5/20\n",
      "186/186 [==============================] - 43s 230ms/step - loss: 5.9630\n",
      "Epoch 6/20\n",
      "186/186 [==============================] - 44s 236ms/step - loss: 5.8601\n",
      "Epoch 7/20\n",
      "186/186 [==============================] - 43s 230ms/step - loss: 5.7787\n",
      "Epoch 8/20\n",
      "186/186 [==============================] - 42s 228ms/step - loss: 5.6969\n",
      "Epoch 9/20\n",
      "186/186 [==============================] - 43s 229ms/step - loss: 5.6208\n",
      "Epoch 10/20\n",
      "186/186 [==============================] - 43s 229ms/step - loss: 5.5438\n",
      "Epoch 11/20\n",
      "186/186 [==============================] - 43s 231ms/step - loss: 5.4710\n",
      "Epoch 12/20\n",
      "186/186 [==============================] - 43s 234ms/step - loss: 5.4084\n",
      "Epoch 13/20\n",
      "186/186 [==============================] - 43s 231ms/step - loss: 5.3440\n",
      "Epoch 14/20\n",
      "186/186 [==============================] - 43s 233ms/step - loss: 5.2844\n",
      "Epoch 15/20\n",
      "186/186 [==============================] - 43s 229ms/step - loss: 5.2202\n",
      "Epoch 16/20\n",
      "186/186 [==============================] - 43s 230ms/step - loss: 5.1535\n",
      "Epoch 17/20\n",
      "186/186 [==============================] - 43s 230ms/step - loss: 5.0899\n",
      "Epoch 18/20\n",
      "186/186 [==============================] - 43s 233ms/step - loss: 5.0287\n",
      "Epoch 19/20\n",
      "186/186 [==============================] - 43s 233ms/step - loss: 4.9670\n",
      "Epoch 20/20\n",
      "186/186 [==============================] - 43s 230ms/step - loss: 4.9104\n"
     ]
    }
   ],
   "source": [
    "epochs = 20\n",
    "history = model.fit(predictors, labels, epochs=epochs, verbose=1, batch_size=512)"
   ]
  },
  {
   "cell_type": "code",
   "execution_count": 32,
   "metadata": {},
   "outputs": [
    {
     "output_type": "execute_result",
     "data": {
      "text/plain": [
       "Text(0.5, 1.0, 'Loss')"
      ]
     },
     "metadata": {},
     "execution_count": 32
    },
    {
     "output_type": "display_data",
     "data": {
      "text/plain": "<Figure size 432x288 with 1 Axes>",
      "image/svg+xml": "<?xml version=\"1.0\" encoding=\"utf-8\" standalone=\"no\"?>\r\n<!DOCTYPE svg PUBLIC \"-//W3C//DTD SVG 1.1//EN\"\r\n  \"http://www.w3.org/Graphics/SVG/1.1/DTD/svg11.dtd\">\r\n<!-- Created with matplotlib (https://matplotlib.org/) -->\r\n<svg height=\"277.314375pt\" version=\"1.1\" viewBox=\"0 0 392.14375 277.314375\" width=\"392.14375pt\" xmlns=\"http://www.w3.org/2000/svg\" xmlns:xlink=\"http://www.w3.org/1999/xlink\">\r\n <metadata>\r\n  <rdf:RDF xmlns:cc=\"http://creativecommons.org/ns#\" xmlns:dc=\"http://purl.org/dc/elements/1.1/\" xmlns:rdf=\"http://www.w3.org/1999/02/22-rdf-syntax-ns#\">\r\n   <cc:Work>\r\n    <dc:type rdf:resource=\"http://purl.org/dc/dcmitype/StillImage\"/>\r\n    <dc:date>2020-11-23T20:42:56.470936</dc:date>\r\n    <dc:format>image/svg+xml</dc:format>\r\n    <dc:creator>\r\n     <cc:Agent>\r\n      <dc:title>Matplotlib v3.3.2, https://matplotlib.org/</dc:title>\r\n     </cc:Agent>\r\n    </dc:creator>\r\n   </cc:Work>\r\n  </rdf:RDF>\r\n </metadata>\r\n <defs>\r\n  <style type=\"text/css\">*{stroke-linecap:butt;stroke-linejoin:round;}</style>\r\n </defs>\r\n <g id=\"figure_1\">\r\n  <g id=\"patch_1\">\r\n   <path d=\"M 0 277.314375 \r\nL 392.14375 277.314375 \r\nL 392.14375 0 \r\nL 0 0 \r\nz\r\n\" style=\"fill:none;\"/>\r\n  </g>\r\n  <g id=\"axes_1\">\r\n   <g id=\"patch_2\">\r\n    <path d=\"M 50.14375 239.758125 \r\nL 384.94375 239.758125 \r\nL 384.94375 22.318125 \r\nL 50.14375 22.318125 \r\nz\r\n\" style=\"fill:#ffffff;\"/>\r\n   </g>\r\n   <g id=\"matplotlib.axis_1\">\r\n    <g id=\"xtick_1\">\r\n     <g id=\"line2d_1\">\r\n      <defs>\r\n       <path d=\"M 0 0 \r\nL 0 3.5 \r\n\" id=\"m70e76be58d\" style=\"stroke:#000000;stroke-width:0.8;\"/>\r\n      </defs>\r\n      <g>\r\n       <use style=\"stroke:#000000;stroke-width:0.8;\" x=\"65.361932\" xlink:href=\"#m70e76be58d\" y=\"239.758125\"/>\r\n      </g>\r\n     </g>\r\n     <g id=\"text_1\">\r\n      <!-- 0.0 -->\r\n      <g transform=\"translate(57.410369 254.356562)scale(0.1 -0.1)\">\r\n       <defs>\r\n        <path d=\"M 31.78125 66.40625 \r\nQ 24.171875 66.40625 20.328125 58.90625 \r\nQ 16.5 51.421875 16.5 36.375 \r\nQ 16.5 21.390625 20.328125 13.890625 \r\nQ 24.171875 6.390625 31.78125 6.390625 \r\nQ 39.453125 6.390625 43.28125 13.890625 \r\nQ 47.125 21.390625 47.125 36.375 \r\nQ 47.125 51.421875 43.28125 58.90625 \r\nQ 39.453125 66.40625 31.78125 66.40625 \r\nz\r\nM 31.78125 74.21875 \r\nQ 44.046875 74.21875 50.515625 64.515625 \r\nQ 56.984375 54.828125 56.984375 36.375 \r\nQ 56.984375 17.96875 50.515625 8.265625 \r\nQ 44.046875 -1.421875 31.78125 -1.421875 \r\nQ 19.53125 -1.421875 13.0625 8.265625 \r\nQ 6.59375 17.96875 6.59375 36.375 \r\nQ 6.59375 54.828125 13.0625 64.515625 \r\nQ 19.53125 74.21875 31.78125 74.21875 \r\nz\r\n\" id=\"DejaVuSans-48\"/>\r\n        <path d=\"M 10.6875 12.40625 \r\nL 21 12.40625 \r\nL 21 0 \r\nL 10.6875 0 \r\nz\r\n\" id=\"DejaVuSans-46\"/>\r\n       </defs>\r\n       <use xlink:href=\"#DejaVuSans-48\"/>\r\n       <use x=\"63.623047\" xlink:href=\"#DejaVuSans-46\"/>\r\n       <use x=\"95.410156\" xlink:href=\"#DejaVuSans-48\"/>\r\n      </g>\r\n     </g>\r\n    </g>\r\n    <g id=\"xtick_2\">\r\n     <g id=\"line2d_2\">\r\n      <g>\r\n       <use style=\"stroke:#000000;stroke-width:0.8;\" x=\"105.409779\" xlink:href=\"#m70e76be58d\" y=\"239.758125\"/>\r\n      </g>\r\n     </g>\r\n     <g id=\"text_2\">\r\n      <!-- 2.5 -->\r\n      <g transform=\"translate(97.458216 254.356562)scale(0.1 -0.1)\">\r\n       <defs>\r\n        <path d=\"M 19.1875 8.296875 \r\nL 53.609375 8.296875 \r\nL 53.609375 0 \r\nL 7.328125 0 \r\nL 7.328125 8.296875 \r\nQ 12.9375 14.109375 22.625 23.890625 \r\nQ 32.328125 33.6875 34.8125 36.53125 \r\nQ 39.546875 41.84375 41.421875 45.53125 \r\nQ 43.3125 49.21875 43.3125 52.78125 \r\nQ 43.3125 58.59375 39.234375 62.25 \r\nQ 35.15625 65.921875 28.609375 65.921875 \r\nQ 23.96875 65.921875 18.8125 64.3125 \r\nQ 13.671875 62.703125 7.8125 59.421875 \r\nL 7.8125 69.390625 \r\nQ 13.765625 71.78125 18.9375 73 \r\nQ 24.125 74.21875 28.421875 74.21875 \r\nQ 39.75 74.21875 46.484375 68.546875 \r\nQ 53.21875 62.890625 53.21875 53.421875 \r\nQ 53.21875 48.921875 51.53125 44.890625 \r\nQ 49.859375 40.875 45.40625 35.40625 \r\nQ 44.1875 33.984375 37.640625 27.21875 \r\nQ 31.109375 20.453125 19.1875 8.296875 \r\nz\r\n\" id=\"DejaVuSans-50\"/>\r\n        <path d=\"M 10.796875 72.90625 \r\nL 49.515625 72.90625 \r\nL 49.515625 64.59375 \r\nL 19.828125 64.59375 \r\nL 19.828125 46.734375 \r\nQ 21.96875 47.46875 24.109375 47.828125 \r\nQ 26.265625 48.1875 28.421875 48.1875 \r\nQ 40.625 48.1875 47.75 41.5 \r\nQ 54.890625 34.8125 54.890625 23.390625 \r\nQ 54.890625 11.625 47.5625 5.09375 \r\nQ 40.234375 -1.421875 26.90625 -1.421875 \r\nQ 22.3125 -1.421875 17.546875 -0.640625 \r\nQ 12.796875 0.140625 7.71875 1.703125 \r\nL 7.71875 11.625 \r\nQ 12.109375 9.234375 16.796875 8.0625 \r\nQ 21.484375 6.890625 26.703125 6.890625 \r\nQ 35.15625 6.890625 40.078125 11.328125 \r\nQ 45.015625 15.765625 45.015625 23.390625 \r\nQ 45.015625 31 40.078125 35.4375 \r\nQ 35.15625 39.890625 26.703125 39.890625 \r\nQ 22.75 39.890625 18.8125 39.015625 \r\nQ 14.890625 38.140625 10.796875 36.28125 \r\nz\r\n\" id=\"DejaVuSans-53\"/>\r\n       </defs>\r\n       <use xlink:href=\"#DejaVuSans-50\"/>\r\n       <use x=\"63.623047\" xlink:href=\"#DejaVuSans-46\"/>\r\n       <use x=\"95.410156\" xlink:href=\"#DejaVuSans-53\"/>\r\n      </g>\r\n     </g>\r\n    </g>\r\n    <g id=\"xtick_3\">\r\n     <g id=\"line2d_3\">\r\n      <g>\r\n       <use style=\"stroke:#000000;stroke-width:0.8;\" x=\"145.457626\" xlink:href=\"#m70e76be58d\" y=\"239.758125\"/>\r\n      </g>\r\n     </g>\r\n     <g id=\"text_3\">\r\n      <!-- 5.0 -->\r\n      <g transform=\"translate(137.506063 254.356562)scale(0.1 -0.1)\">\r\n       <use xlink:href=\"#DejaVuSans-53\"/>\r\n       <use x=\"63.623047\" xlink:href=\"#DejaVuSans-46\"/>\r\n       <use x=\"95.410156\" xlink:href=\"#DejaVuSans-48\"/>\r\n      </g>\r\n     </g>\r\n    </g>\r\n    <g id=\"xtick_4\">\r\n     <g id=\"line2d_4\">\r\n      <g>\r\n       <use style=\"stroke:#000000;stroke-width:0.8;\" x=\"185.505472\" xlink:href=\"#m70e76be58d\" y=\"239.758125\"/>\r\n      </g>\r\n     </g>\r\n     <g id=\"text_4\">\r\n      <!-- 7.5 -->\r\n      <g transform=\"translate(177.55391 254.356562)scale(0.1 -0.1)\">\r\n       <defs>\r\n        <path d=\"M 8.203125 72.90625 \r\nL 55.078125 72.90625 \r\nL 55.078125 68.703125 \r\nL 28.609375 0 \r\nL 18.3125 0 \r\nL 43.21875 64.59375 \r\nL 8.203125 64.59375 \r\nz\r\n\" id=\"DejaVuSans-55\"/>\r\n       </defs>\r\n       <use xlink:href=\"#DejaVuSans-55\"/>\r\n       <use x=\"63.623047\" xlink:href=\"#DejaVuSans-46\"/>\r\n       <use x=\"95.410156\" xlink:href=\"#DejaVuSans-53\"/>\r\n      </g>\r\n     </g>\r\n    </g>\r\n    <g id=\"xtick_5\">\r\n     <g id=\"line2d_5\">\r\n      <g>\r\n       <use style=\"stroke:#000000;stroke-width:0.8;\" x=\"225.553319\" xlink:href=\"#m70e76be58d\" y=\"239.758125\"/>\r\n      </g>\r\n     </g>\r\n     <g id=\"text_5\">\r\n      <!-- 10.0 -->\r\n      <g transform=\"translate(214.420507 254.356562)scale(0.1 -0.1)\">\r\n       <defs>\r\n        <path d=\"M 12.40625 8.296875 \r\nL 28.515625 8.296875 \r\nL 28.515625 63.921875 \r\nL 10.984375 60.40625 \r\nL 10.984375 69.390625 \r\nL 28.421875 72.90625 \r\nL 38.28125 72.90625 \r\nL 38.28125 8.296875 \r\nL 54.390625 8.296875 \r\nL 54.390625 0 \r\nL 12.40625 0 \r\nz\r\n\" id=\"DejaVuSans-49\"/>\r\n       </defs>\r\n       <use xlink:href=\"#DejaVuSans-49\"/>\r\n       <use x=\"63.623047\" xlink:href=\"#DejaVuSans-48\"/>\r\n       <use x=\"127.246094\" xlink:href=\"#DejaVuSans-46\"/>\r\n       <use x=\"159.033203\" xlink:href=\"#DejaVuSans-48\"/>\r\n      </g>\r\n     </g>\r\n    </g>\r\n    <g id=\"xtick_6\">\r\n     <g id=\"line2d_6\">\r\n      <g>\r\n       <use style=\"stroke:#000000;stroke-width:0.8;\" x=\"265.601166\" xlink:href=\"#m70e76be58d\" y=\"239.758125\"/>\r\n      </g>\r\n     </g>\r\n     <g id=\"text_6\">\r\n      <!-- 12.5 -->\r\n      <g transform=\"translate(254.468354 254.356562)scale(0.1 -0.1)\">\r\n       <use xlink:href=\"#DejaVuSans-49\"/>\r\n       <use x=\"63.623047\" xlink:href=\"#DejaVuSans-50\"/>\r\n       <use x=\"127.246094\" xlink:href=\"#DejaVuSans-46\"/>\r\n       <use x=\"159.033203\" xlink:href=\"#DejaVuSans-53\"/>\r\n      </g>\r\n     </g>\r\n    </g>\r\n    <g id=\"xtick_7\">\r\n     <g id=\"line2d_7\">\r\n      <g>\r\n       <use style=\"stroke:#000000;stroke-width:0.8;\" x=\"305.649013\" xlink:href=\"#m70e76be58d\" y=\"239.758125\"/>\r\n      </g>\r\n     </g>\r\n     <g id=\"text_7\">\r\n      <!-- 15.0 -->\r\n      <g transform=\"translate(294.516201 254.356562)scale(0.1 -0.1)\">\r\n       <use xlink:href=\"#DejaVuSans-49\"/>\r\n       <use x=\"63.623047\" xlink:href=\"#DejaVuSans-53\"/>\r\n       <use x=\"127.246094\" xlink:href=\"#DejaVuSans-46\"/>\r\n       <use x=\"159.033203\" xlink:href=\"#DejaVuSans-48\"/>\r\n      </g>\r\n     </g>\r\n    </g>\r\n    <g id=\"xtick_8\">\r\n     <g id=\"line2d_8\">\r\n      <g>\r\n       <use style=\"stroke:#000000;stroke-width:0.8;\" x=\"345.69686\" xlink:href=\"#m70e76be58d\" y=\"239.758125\"/>\r\n      </g>\r\n     </g>\r\n     <g id=\"text_8\">\r\n      <!-- 17.5 -->\r\n      <g transform=\"translate(334.564048 254.356562)scale(0.1 -0.1)\">\r\n       <use xlink:href=\"#DejaVuSans-49\"/>\r\n       <use x=\"63.623047\" xlink:href=\"#DejaVuSans-55\"/>\r\n       <use x=\"127.246094\" xlink:href=\"#DejaVuSans-46\"/>\r\n       <use x=\"159.033203\" xlink:href=\"#DejaVuSans-53\"/>\r\n      </g>\r\n     </g>\r\n    </g>\r\n    <g id=\"text_9\">\r\n     <!-- Steps -->\r\n     <g transform=\"translate(203.553906 268.034687)scale(0.1 -0.1)\">\r\n      <defs>\r\n       <path d=\"M 53.515625 70.515625 \r\nL 53.515625 60.890625 \r\nQ 47.90625 63.578125 42.921875 64.890625 \r\nQ 37.9375 66.21875 33.296875 66.21875 \r\nQ 25.25 66.21875 20.875 63.09375 \r\nQ 16.5 59.96875 16.5 54.203125 \r\nQ 16.5 49.359375 19.40625 46.890625 \r\nQ 22.3125 44.4375 30.421875 42.921875 \r\nL 36.375 41.703125 \r\nQ 47.40625 39.59375 52.65625 34.296875 \r\nQ 57.90625 29 57.90625 20.125 \r\nQ 57.90625 9.515625 50.796875 4.046875 \r\nQ 43.703125 -1.421875 29.984375 -1.421875 \r\nQ 24.8125 -1.421875 18.96875 -0.25 \r\nQ 13.140625 0.921875 6.890625 3.21875 \r\nL 6.890625 13.375 \r\nQ 12.890625 10.015625 18.65625 8.296875 \r\nQ 24.421875 6.59375 29.984375 6.59375 \r\nQ 38.421875 6.59375 43.015625 9.90625 \r\nQ 47.609375 13.234375 47.609375 19.390625 \r\nQ 47.609375 24.75 44.3125 27.78125 \r\nQ 41.015625 30.8125 33.5 32.328125 \r\nL 27.484375 33.5 \r\nQ 16.453125 35.6875 11.515625 40.375 \r\nQ 6.59375 45.0625 6.59375 53.421875 \r\nQ 6.59375 63.09375 13.40625 68.65625 \r\nQ 20.21875 74.21875 32.171875 74.21875 \r\nQ 37.3125 74.21875 42.625 73.28125 \r\nQ 47.953125 72.359375 53.515625 70.515625 \r\nz\r\n\" id=\"DejaVuSans-83\"/>\r\n       <path d=\"M 18.3125 70.21875 \r\nL 18.3125 54.6875 \r\nL 36.8125 54.6875 \r\nL 36.8125 47.703125 \r\nL 18.3125 47.703125 \r\nL 18.3125 18.015625 \r\nQ 18.3125 11.328125 20.140625 9.421875 \r\nQ 21.96875 7.515625 27.59375 7.515625 \r\nL 36.8125 7.515625 \r\nL 36.8125 0 \r\nL 27.59375 0 \r\nQ 17.1875 0 13.234375 3.875 \r\nQ 9.28125 7.765625 9.28125 18.015625 \r\nL 9.28125 47.703125 \r\nL 2.6875 47.703125 \r\nL 2.6875 54.6875 \r\nL 9.28125 54.6875 \r\nL 9.28125 70.21875 \r\nz\r\n\" id=\"DejaVuSans-116\"/>\r\n       <path d=\"M 56.203125 29.59375 \r\nL 56.203125 25.203125 \r\nL 14.890625 25.203125 \r\nQ 15.484375 15.921875 20.484375 11.0625 \r\nQ 25.484375 6.203125 34.421875 6.203125 \r\nQ 39.59375 6.203125 44.453125 7.46875 \r\nQ 49.3125 8.734375 54.109375 11.28125 \r\nL 54.109375 2.78125 \r\nQ 49.265625 0.734375 44.1875 -0.34375 \r\nQ 39.109375 -1.421875 33.890625 -1.421875 \r\nQ 20.796875 -1.421875 13.15625 6.1875 \r\nQ 5.515625 13.8125 5.515625 26.8125 \r\nQ 5.515625 40.234375 12.765625 48.109375 \r\nQ 20.015625 56 32.328125 56 \r\nQ 43.359375 56 49.78125 48.890625 \r\nQ 56.203125 41.796875 56.203125 29.59375 \r\nz\r\nM 47.21875 32.234375 \r\nQ 47.125 39.59375 43.09375 43.984375 \r\nQ 39.0625 48.390625 32.421875 48.390625 \r\nQ 24.90625 48.390625 20.390625 44.140625 \r\nQ 15.875 39.890625 15.1875 32.171875 \r\nz\r\n\" id=\"DejaVuSans-101\"/>\r\n       <path d=\"M 18.109375 8.203125 \r\nL 18.109375 -20.796875 \r\nL 9.078125 -20.796875 \r\nL 9.078125 54.6875 \r\nL 18.109375 54.6875 \r\nL 18.109375 46.390625 \r\nQ 20.953125 51.265625 25.265625 53.625 \r\nQ 29.59375 56 35.59375 56 \r\nQ 45.5625 56 51.78125 48.09375 \r\nQ 58.015625 40.1875 58.015625 27.296875 \r\nQ 58.015625 14.40625 51.78125 6.484375 \r\nQ 45.5625 -1.421875 35.59375 -1.421875 \r\nQ 29.59375 -1.421875 25.265625 0.953125 \r\nQ 20.953125 3.328125 18.109375 8.203125 \r\nz\r\nM 48.6875 27.296875 \r\nQ 48.6875 37.203125 44.609375 42.84375 \r\nQ 40.53125 48.484375 33.40625 48.484375 \r\nQ 26.265625 48.484375 22.1875 42.84375 \r\nQ 18.109375 37.203125 18.109375 27.296875 \r\nQ 18.109375 17.390625 22.1875 11.75 \r\nQ 26.265625 6.109375 33.40625 6.109375 \r\nQ 40.53125 6.109375 44.609375 11.75 \r\nQ 48.6875 17.390625 48.6875 27.296875 \r\nz\r\n\" id=\"DejaVuSans-112\"/>\r\n       <path d=\"M 44.28125 53.078125 \r\nL 44.28125 44.578125 \r\nQ 40.484375 46.53125 36.375 47.5 \r\nQ 32.28125 48.484375 27.875 48.484375 \r\nQ 21.1875 48.484375 17.84375 46.4375 \r\nQ 14.5 44.390625 14.5 40.28125 \r\nQ 14.5 37.15625 16.890625 35.375 \r\nQ 19.28125 33.59375 26.515625 31.984375 \r\nL 29.59375 31.296875 \r\nQ 39.15625 29.25 43.1875 25.515625 \r\nQ 47.21875 21.78125 47.21875 15.09375 \r\nQ 47.21875 7.46875 41.1875 3.015625 \r\nQ 35.15625 -1.421875 24.609375 -1.421875 \r\nQ 20.21875 -1.421875 15.453125 -0.5625 \r\nQ 10.6875 0.296875 5.421875 2 \r\nL 5.421875 11.28125 \r\nQ 10.40625 8.6875 15.234375 7.390625 \r\nQ 20.0625 6.109375 24.8125 6.109375 \r\nQ 31.15625 6.109375 34.5625 8.28125 \r\nQ 37.984375 10.453125 37.984375 14.40625 \r\nQ 37.984375 18.0625 35.515625 20.015625 \r\nQ 33.0625 21.96875 24.703125 23.78125 \r\nL 21.578125 24.515625 \r\nQ 13.234375 26.265625 9.515625 29.90625 \r\nQ 5.8125 33.546875 5.8125 39.890625 \r\nQ 5.8125 47.609375 11.28125 51.796875 \r\nQ 16.75 56 26.8125 56 \r\nQ 31.78125 56 36.171875 55.265625 \r\nQ 40.578125 54.546875 44.28125 53.078125 \r\nz\r\n\" id=\"DejaVuSans-115\"/>\r\n      </defs>\r\n      <use xlink:href=\"#DejaVuSans-83\"/>\r\n      <use x=\"63.476562\" xlink:href=\"#DejaVuSans-116\"/>\r\n      <use x=\"102.685547\" xlink:href=\"#DejaVuSans-101\"/>\r\n      <use x=\"164.208984\" xlink:href=\"#DejaVuSans-112\"/>\r\n      <use x=\"227.685547\" xlink:href=\"#DejaVuSans-115\"/>\r\n     </g>\r\n    </g>\r\n   </g>\r\n   <g id=\"matplotlib.axis_2\">\r\n    <g id=\"ytick_1\">\r\n     <g id=\"line2d_9\">\r\n      <defs>\r\n       <path d=\"M 0 0 \r\nL -3.5 0 \r\n\" id=\"m65502aa1bf\" style=\"stroke:#000000;stroke-width:0.8;\"/>\r\n      </defs>\r\n      <g>\r\n       <use style=\"stroke:#000000;stroke-width:0.8;\" x=\"50.14375\" xlink:href=\"#m65502aa1bf\" y=\"220.492666\"/>\r\n      </g>\r\n     </g>\r\n     <g id=\"text_10\">\r\n      <!-- 5.00 -->\r\n      <g transform=\"translate(20.878125 224.291885)scale(0.1 -0.1)\">\r\n       <use xlink:href=\"#DejaVuSans-53\"/>\r\n       <use x=\"63.623047\" xlink:href=\"#DejaVuSans-46\"/>\r\n       <use x=\"95.410156\" xlink:href=\"#DejaVuSans-48\"/>\r\n       <use x=\"159.033203\" xlink:href=\"#DejaVuSans-48\"/>\r\n      </g>\r\n     </g>\r\n    </g>\r\n    <g id=\"ytick_2\">\r\n     <g id=\"line2d_10\">\r\n      <g>\r\n       <use style=\"stroke:#000000;stroke-width:0.8;\" x=\"50.14375\" xlink:href=\"#m65502aa1bf\" y=\"194.330072\"/>\r\n      </g>\r\n     </g>\r\n     <g id=\"text_11\">\r\n      <!-- 5.25 -->\r\n      <g transform=\"translate(20.878125 198.129291)scale(0.1 -0.1)\">\r\n       <use xlink:href=\"#DejaVuSans-53\"/>\r\n       <use x=\"63.623047\" xlink:href=\"#DejaVuSans-46\"/>\r\n       <use x=\"95.410156\" xlink:href=\"#DejaVuSans-50\"/>\r\n       <use x=\"159.033203\" xlink:href=\"#DejaVuSans-53\"/>\r\n      </g>\r\n     </g>\r\n    </g>\r\n    <g id=\"ytick_3\">\r\n     <g id=\"line2d_11\">\r\n      <g>\r\n       <use style=\"stroke:#000000;stroke-width:0.8;\" x=\"50.14375\" xlink:href=\"#m65502aa1bf\" y=\"168.167478\"/>\r\n      </g>\r\n     </g>\r\n     <g id=\"text_12\">\r\n      <!-- 5.50 -->\r\n      <g transform=\"translate(20.878125 171.966697)scale(0.1 -0.1)\">\r\n       <use xlink:href=\"#DejaVuSans-53\"/>\r\n       <use x=\"63.623047\" xlink:href=\"#DejaVuSans-46\"/>\r\n       <use x=\"95.410156\" xlink:href=\"#DejaVuSans-53\"/>\r\n       <use x=\"159.033203\" xlink:href=\"#DejaVuSans-48\"/>\r\n      </g>\r\n     </g>\r\n    </g>\r\n    <g id=\"ytick_4\">\r\n     <g id=\"line2d_12\">\r\n      <g>\r\n       <use style=\"stroke:#000000;stroke-width:0.8;\" x=\"50.14375\" xlink:href=\"#m65502aa1bf\" y=\"142.004884\"/>\r\n      </g>\r\n     </g>\r\n     <g id=\"text_13\">\r\n      <!-- 5.75 -->\r\n      <g transform=\"translate(20.878125 145.804103)scale(0.1 -0.1)\">\r\n       <use xlink:href=\"#DejaVuSans-53\"/>\r\n       <use x=\"63.623047\" xlink:href=\"#DejaVuSans-46\"/>\r\n       <use x=\"95.410156\" xlink:href=\"#DejaVuSans-55\"/>\r\n       <use x=\"159.033203\" xlink:href=\"#DejaVuSans-53\"/>\r\n      </g>\r\n     </g>\r\n    </g>\r\n    <g id=\"ytick_5\">\r\n     <g id=\"line2d_13\">\r\n      <g>\r\n       <use style=\"stroke:#000000;stroke-width:0.8;\" x=\"50.14375\" xlink:href=\"#m65502aa1bf\" y=\"115.84229\"/>\r\n      </g>\r\n     </g>\r\n     <g id=\"text_14\">\r\n      <!-- 6.00 -->\r\n      <g transform=\"translate(20.878125 119.641509)scale(0.1 -0.1)\">\r\n       <defs>\r\n        <path d=\"M 33.015625 40.375 \r\nQ 26.375 40.375 22.484375 35.828125 \r\nQ 18.609375 31.296875 18.609375 23.390625 \r\nQ 18.609375 15.53125 22.484375 10.953125 \r\nQ 26.375 6.390625 33.015625 6.390625 \r\nQ 39.65625 6.390625 43.53125 10.953125 \r\nQ 47.40625 15.53125 47.40625 23.390625 \r\nQ 47.40625 31.296875 43.53125 35.828125 \r\nQ 39.65625 40.375 33.015625 40.375 \r\nz\r\nM 52.59375 71.296875 \r\nL 52.59375 62.3125 \r\nQ 48.875 64.0625 45.09375 64.984375 \r\nQ 41.3125 65.921875 37.59375 65.921875 \r\nQ 27.828125 65.921875 22.671875 59.328125 \r\nQ 17.53125 52.734375 16.796875 39.40625 \r\nQ 19.671875 43.65625 24.015625 45.921875 \r\nQ 28.375 48.1875 33.59375 48.1875 \r\nQ 44.578125 48.1875 50.953125 41.515625 \r\nQ 57.328125 34.859375 57.328125 23.390625 \r\nQ 57.328125 12.15625 50.6875 5.359375 \r\nQ 44.046875 -1.421875 33.015625 -1.421875 \r\nQ 20.359375 -1.421875 13.671875 8.265625 \r\nQ 6.984375 17.96875 6.984375 36.375 \r\nQ 6.984375 53.65625 15.1875 63.9375 \r\nQ 23.390625 74.21875 37.203125 74.21875 \r\nQ 40.921875 74.21875 44.703125 73.484375 \r\nQ 48.484375 72.75 52.59375 71.296875 \r\nz\r\n\" id=\"DejaVuSans-54\"/>\r\n       </defs>\r\n       <use xlink:href=\"#DejaVuSans-54\"/>\r\n       <use x=\"63.623047\" xlink:href=\"#DejaVuSans-46\"/>\r\n       <use x=\"95.410156\" xlink:href=\"#DejaVuSans-48\"/>\r\n       <use x=\"159.033203\" xlink:href=\"#DejaVuSans-48\"/>\r\n      </g>\r\n     </g>\r\n    </g>\r\n    <g id=\"ytick_6\">\r\n     <g id=\"line2d_14\">\r\n      <g>\r\n       <use style=\"stroke:#000000;stroke-width:0.8;\" x=\"50.14375\" xlink:href=\"#m65502aa1bf\" y=\"89.679696\"/>\r\n      </g>\r\n     </g>\r\n     <g id=\"text_15\">\r\n      <!-- 6.25 -->\r\n      <g transform=\"translate(20.878125 93.478915)scale(0.1 -0.1)\">\r\n       <use xlink:href=\"#DejaVuSans-54\"/>\r\n       <use x=\"63.623047\" xlink:href=\"#DejaVuSans-46\"/>\r\n       <use x=\"95.410156\" xlink:href=\"#DejaVuSans-50\"/>\r\n       <use x=\"159.033203\" xlink:href=\"#DejaVuSans-53\"/>\r\n      </g>\r\n     </g>\r\n    </g>\r\n    <g id=\"ytick_7\">\r\n     <g id=\"line2d_15\">\r\n      <g>\r\n       <use style=\"stroke:#000000;stroke-width:0.8;\" x=\"50.14375\" xlink:href=\"#m65502aa1bf\" y=\"63.517102\"/>\r\n      </g>\r\n     </g>\r\n     <g id=\"text_16\">\r\n      <!-- 6.50 -->\r\n      <g transform=\"translate(20.878125 67.316321)scale(0.1 -0.1)\">\r\n       <use xlink:href=\"#DejaVuSans-54\"/>\r\n       <use x=\"63.623047\" xlink:href=\"#DejaVuSans-46\"/>\r\n       <use x=\"95.410156\" xlink:href=\"#DejaVuSans-53\"/>\r\n       <use x=\"159.033203\" xlink:href=\"#DejaVuSans-48\"/>\r\n      </g>\r\n     </g>\r\n    </g>\r\n    <g id=\"ytick_8\">\r\n     <g id=\"line2d_16\">\r\n      <g>\r\n       <use style=\"stroke:#000000;stroke-width:0.8;\" x=\"50.14375\" xlink:href=\"#m65502aa1bf\" y=\"37.354508\"/>\r\n      </g>\r\n     </g>\r\n     <g id=\"text_17\">\r\n      <!-- 6.75 -->\r\n      <g transform=\"translate(20.878125 41.153727)scale(0.1 -0.1)\">\r\n       <use xlink:href=\"#DejaVuSans-54\"/>\r\n       <use x=\"63.623047\" xlink:href=\"#DejaVuSans-46\"/>\r\n       <use x=\"95.410156\" xlink:href=\"#DejaVuSans-55\"/>\r\n       <use x=\"159.033203\" xlink:href=\"#DejaVuSans-53\"/>\r\n      </g>\r\n     </g>\r\n    </g>\r\n    <g id=\"text_18\">\r\n     <!-- Loss -->\r\n     <g transform=\"translate(14.798438 142.005312)rotate(-90)scale(0.1 -0.1)\">\r\n      <defs>\r\n       <path d=\"M 9.8125 72.90625 \r\nL 19.671875 72.90625 \r\nL 19.671875 8.296875 \r\nL 55.171875 8.296875 \r\nL 55.171875 0 \r\nL 9.8125 0 \r\nz\r\n\" id=\"DejaVuSans-76\"/>\r\n       <path d=\"M 30.609375 48.390625 \r\nQ 23.390625 48.390625 19.1875 42.75 \r\nQ 14.984375 37.109375 14.984375 27.296875 \r\nQ 14.984375 17.484375 19.15625 11.84375 \r\nQ 23.34375 6.203125 30.609375 6.203125 \r\nQ 37.796875 6.203125 41.984375 11.859375 \r\nQ 46.1875 17.53125 46.1875 27.296875 \r\nQ 46.1875 37.015625 41.984375 42.703125 \r\nQ 37.796875 48.390625 30.609375 48.390625 \r\nz\r\nM 30.609375 56 \r\nQ 42.328125 56 49.015625 48.375 \r\nQ 55.71875 40.765625 55.71875 27.296875 \r\nQ 55.71875 13.875 49.015625 6.21875 \r\nQ 42.328125 -1.421875 30.609375 -1.421875 \r\nQ 18.84375 -1.421875 12.171875 6.21875 \r\nQ 5.515625 13.875 5.515625 27.296875 \r\nQ 5.515625 40.765625 12.171875 48.375 \r\nQ 18.84375 56 30.609375 56 \r\nz\r\n\" id=\"DejaVuSans-111\"/>\r\n      </defs>\r\n      <use xlink:href=\"#DejaVuSans-76\"/>\r\n      <use x=\"53.962891\" xlink:href=\"#DejaVuSans-111\"/>\r\n      <use x=\"115.144531\" xlink:href=\"#DejaVuSans-115\"/>\r\n      <use x=\"167.244141\" xlink:href=\"#DejaVuSans-115\"/>\r\n     </g>\r\n    </g>\r\n   </g>\r\n   <g id=\"line2d_17\">\r\n    <path clip-path=\"url(#pead70148ab)\" d=\"M 65.361932 32.201761 \r\nL 81.381071 79.189868 \r\nL 97.400209 90.050711 \r\nL 113.419348 105.02516 \r\nL 129.438487 119.716718 \r\nL 145.457626 130.478508 \r\nL 161.476764 139.003477 \r\nL 177.495903 147.563178 \r\nL 193.515042 155.527158 \r\nL 209.534181 163.587996 \r\nL 225.553319 171.203766 \r\nL 241.572458 177.7517 \r\nL 257.591597 184.49335 \r\nL 273.610736 190.731897 \r\nL 289.629874 197.451591 \r\nL 305.649013 204.425681 \r\nL 321.668152 211.085494 \r\nL 337.687291 217.488165 \r\nL 353.706429 223.948174 \r\nL 369.725568 229.874489 \r\n\" style=\"fill:none;stroke:#1f77b4;stroke-linecap:square;stroke-width:1.5;\"/>\r\n   </g>\r\n   <g id=\"patch_3\">\r\n    <path d=\"M 50.14375 239.758125 \r\nL 50.14375 22.318125 \r\n\" style=\"fill:none;stroke:#000000;stroke-linecap:square;stroke-linejoin:miter;stroke-width:0.8;\"/>\r\n   </g>\r\n   <g id=\"patch_4\">\r\n    <path d=\"M 384.94375 239.758125 \r\nL 384.94375 22.318125 \r\n\" style=\"fill:none;stroke:#000000;stroke-linecap:square;stroke-linejoin:miter;stroke-width:0.8;\"/>\r\n   </g>\r\n   <g id=\"patch_5\">\r\n    <path d=\"M 50.14375 239.758125 \r\nL 384.94375 239.758125 \r\n\" style=\"fill:none;stroke:#000000;stroke-linecap:square;stroke-linejoin:miter;stroke-width:0.8;\"/>\r\n   </g>\r\n   <g id=\"patch_6\">\r\n    <path d=\"M 50.14375 22.318125 \r\nL 384.94375 22.318125 \r\n\" style=\"fill:none;stroke:#000000;stroke-linecap:square;stroke-linejoin:miter;stroke-width:0.8;\"/>\r\n   </g>\r\n   <g id=\"text_19\">\r\n    <!-- Loss -->\r\n    <g transform=\"translate(204.383125 16.318125)scale(0.12 -0.12)\">\r\n     <use xlink:href=\"#DejaVuSans-76\"/>\r\n     <use x=\"53.962891\" xlink:href=\"#DejaVuSans-111\"/>\r\n     <use x=\"115.144531\" xlink:href=\"#DejaVuSans-115\"/>\r\n     <use x=\"167.244141\" xlink:href=\"#DejaVuSans-115\"/>\r\n    </g>\r\n   </g>\r\n  </g>\r\n </g>\r\n <defs>\r\n  <clipPath id=\"pead70148ab\">\r\n   <rect height=\"217.44\" width=\"334.8\" x=\"50.14375\" y=\"22.318125\"/>\r\n  </clipPath>\r\n </defs>\r\n</svg>\r\n",
      "image/png": "[encoded data removed]"
     },
     "metadata": {
      "needs_background": "light"
     }
    }
   ],
   "source": [
    "plt.plot(range(epochs), history.history['loss'])\n",
    "plt.xlabel('Steps')\n",
    "plt.ylabel('Loss')\n",
    "plt.title('Loss')"
   ]
  },
  {
   "cell_type": "code",
   "execution_count": 14,
   "metadata": {},
   "outputs": [],
   "source": [
    "model.save_weights('./model_weights')"
   ]
  },
  {
   "source": [
    "## Evaluation\n",
    "Before the model is ready to spit out some raps, a preprocessing function needs to be written. <br>"
   ],
   "cell_type": "markdown",
   "metadata": {}
  },
  {
   "cell_type": "code",
   "execution_count": 29,
   "metadata": {},
   "outputs": [],
   "source": [
    "def generate_text(seed_text, next_words, model, max_sequence_length):\n",
    "    # ensure that the input is also cleaned.\n",
    "    seed_text = preprocess_lyrics(seed_text)\n",
    "    # predict next words.\n",
    "    for _ in range(next_words):\n",
    "        token_list = tokenizer.texts_to_sequences([seed_text])[0]\n",
    "        token_list = pad_sequences([token_list], maxlen=max_sequence_length - 1, padding='pre')\n",
    "        predicted = np.argmax(model.predict(token_list), axis=-1)\n",
    "        output_word = \"\"\n",
    "        for word, index in tokenizer.word_index.items():\n",
    "            if index == predicted:\n",
    "                output_word = word\n",
    "                break\n",
    "        seed_text += \" \" + output_word\n",
    "    return seed_text"
   ]
  },
  {
   "source": [
    "## NLP concert\n",
    "Ladies and gentlemen, I introduce to you, Young NLP!"
   ],
   "cell_type": "markdown",
   "metadata": {}
  },
  {
   "source": [
    "<img src=\"robotem.jpg\" alt=\"Kitten\" title=\"Robot Eminem\" width=\"300\" height=\"250\" />"
   ],
   "cell_type": "markdown",
   "metadata": {}
  },
  {
   "cell_type": "code",
   "execution_count": 30,
   "metadata": {},
   "outputs": [
    {
     "output_type": "execute_result",
     "data": {
      "text/plain": [
       "'I will kill you i am a criminal i am a criminal i am a criminal i am a criminal i am a criminal i am a criminal i am a criminal i am a criminal i am a criminal i am a criminal i am a criminal i am a criminal i am'"
      ]
     },
     "metadata": {},
     "execution_count": 30
    }
   ],
   "source": [
    "generate_text(\"I will kill you\", 50, model, max_sequence_length)"
   ]
  },
  {
   "cell_type": "code",
   "execution_count": 31,
   "metadata": {},
   "outputs": [
    {
     "output_type": "stream",
     "name": "stdout",
     "text": [
      "Hello I am slim shady i am a criminal i am a criminal i am a criminal i am a criminal i am a\n",
      "Who me me me me i am a criminal i am a criminal i am a criminal i am a criminal i am a criminal\n",
      "My main man fifty people i am a criminal i am a criminal i am a criminal i am a criminal i am a\n",
      "Will the real slim shady please stand up and i am a criminal i am a criminal i am a criminal i am a criminal i\n",
      "The illest man to be alive i am a criminal i am a criminal i am a criminal i am a criminal i am a criminal\n",
      "Far in the galaxy fuck i am a criminal i am a criminal i am a criminal i am a criminal i am a\n",
      "The unknown is going to happen to the same rock i am a criminal i am a criminal i am a criminal i am a criminal\n"
     ]
    }
   ],
   "source": [
    "print(generate_text(\"Hello I am slim\", 20, model, max_sequence_length))\n",
    "print(generate_text(\"Who me me me me\", 20, model, max_sequence_length))\n",
    "print(generate_text(\"My main man fifty\", 20, model, max_sequence_length))\n",
    "print(generate_text(\"Will the real slim shady please\", 20, model, max_sequence_length))\n",
    "print(generate_text(\"The illest man to be alive\", 20, model, max_sequence_length))\n",
    "print(generate_text(\"Far in the galaxy\", 20, model, max_sequence_length))\n",
    "print(generate_text(\"The unknown is going to happen\", 20, model, max_sequence_length))"
   ]
  },
  {
   "source": [
    "# Conclusion\n",
    "I have experimented with the huggingface pipeline API and tried several NLP tasks. <br>\n",
    "For the assignment I have chosen to do, the gathering and preprocessing of the data went fairly smoothly. <br>\n",
    "The model was not extensively tuned nor trained but I think that it would not have helped its performance. <br>\n",
    "The key thing that is lacking in this task is good structure in sentences and less repetition (chorus, etc). <br>\n",
    "Which is something that rappers do not necessarily have in their lyrics. <br>\n",
    "However, I do think that if I were to add a lot more lyrics from other rappers it might perform better. <br>\n",
    "And, something noteworthy, the rapping NLP model really wants the audience to know that he is a criminal. <br>"
   ],
   "cell_type": "markdown",
   "metadata": {}
  },
  {
   "source": [
    "# References\n",
    "\\[1\\] Janssen, O. (2020). NLP Introduction Overview. Olafjanssen.github.io. Retrieved from https://olafjanssen.github.io/nlp-workshop/. <br>\n",
    "\\[2\\] Wolf et al (2019). HuggingFace's Transformers: State-of-the-art Natural Language Processing. Huggingface.co. Retrieved from https://huggingface.co/transformers/. <br>\n",
    "\\[3\\] Genius. Song Lyrics & Knowledge. Genius.com. Retrieved from https://docs.genius.com/. <br>"
   ],
   "cell_type": "markdown",
   "metadata": {}
  }
 ]
}