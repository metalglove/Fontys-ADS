{
 "metadata": {
  "language_info": {
   "codemirror_mode": {
    "name": "ipython",
    "version": 3
   },
   "file_extension": ".py",
   "mimetype": "text/x-python",
   "name": "python",
   "nbconvert_exporter": "python",
   "pygments_lexer": "ipython3",
   "version": "3.7.7-final"
  },
  "orig_nbformat": 2,
  "kernelspec": {
   "name": "python3",
   "display_name": "Python 3.7.7 64-bit ('fontys': conda)",
   "metadata": {
    "interpreter": {
     "hash": "4c59c688ef743281e4f6f19d1b767941448bd91ed2120278dbf39dea9a9e2368"
    }
   }
  }
 },
 "nbformat": 4,
 "nbformat_minor": 2,
 "cells": [
  {
   "cell_type": "markdown",
   "metadata": {},
   "source": [
    "# Natural Language Processing\n",
    "After attending the workshops by Olaf Janssen [\\[1\\]](#References) on Natural Language Processing (NLP), <br>\n",
    "it is time to start playing with state-of-the-art NLP pre-trained models, such as BERT (and derivatives such as ALBERT and RoBERTa), GPT-2 or XLNET. <br>\n",
    "<br>\n",
    "The assignment is to first pick a NLP task (such as Q&A, search engine, chatbot, classification, etc.). <br>\n",
    "Then to choose a context wherein this task is being ran (such as a game, a service, smart applications, etc.). <br>\n",
    "And, build it! <br>\n",
    "The idea is that the student will be working with pre-trained models and that the focus is primarily on designing the right pipeline for the problem at hand. <br>\n",
    "Endlessly fine-tuning the model is not a priority in this assignment; the goal is to demonstrate that the student understands how a NLP task is build up and can apply NLP techniques. <br>\n",
    "The result must be an interactive prototype that tackles a specific NLP task."
   ]
  },
  {
   "source": [
    "# Table of Contents\n",
    "[Introduction](#Introduction) <br>\n",
    "[Preparation](#Preparation) <br>\n",
    "[Conclusion](#Conclusion) <br>\n",
    "[References](#References) <br>"
   ],
   "cell_type": "markdown",
   "metadata": {}
  },
  {
   "source": [
    "# Introduction\n",
    "This notebook"
   ],
   "cell_type": "markdown",
   "metadata": {}
  },
  {
   "cell_type": "markdown",
   "metadata": {},
   "source": [
    "# Preparation\n",
    "In this section useful libraries are imported which are used in most data science projects."
   ]
  },
  {
   "cell_type": "code",
   "execution_count": 1,
   "metadata": {},
   "outputs": [],
   "source": [
    "import os\n",
    "import sys\n",
    "\n",
    "# sets the path to the home directory of this repository so other modules can be imported. \n",
    "project_path = os.getcwd()\n",
    "root_path = os.path.split(os.path.split(os.getcwd())[0])[0]\n",
    "assert root_path.endswith(\"Fontys-ADS\"), \"The root path does not end with Fontys-ADS: \" + root_path \n",
    "sys.path.insert(0, root_path)\n",
    "\n",
    "import numpy as np\n",
    "import tensorflow as tf\n",
    "\n",
    "\n",
    "# set the seed for reproducible results.\n",
    "np.random.seed(56)\n",
    "tf.random.set_seed(56)\n",
    "\n",
    "# optionally, set TensorFlow to use the GPU with all available memory.\n",
    "# physical_devices = tf.config.experimental.list_physical_devices('GPU')\n",
    "# tf.config.experimental.set_memory_growth(physical_devices[0], True)"
   ]
  },
  {
   "cell_type": "code",
   "execution_count": null,
   "metadata": {},
   "outputs": [],
   "source": [
    "import transformers\n",
    "print(f'transformers=={transformers.__version__}')\n",
    "print(f'tensorflow=={tf.__version__}')"
   ]
  },
  {
   "source": [
    "# Conclusion\n",
    "conclusion"
   ],
   "cell_type": "markdown",
   "metadata": {}
  },
  {
   "source": [
    "# References\n",
    "\\[1\\] Janssen, O. (2020). NLP Introduction Overview. Olafjanssen.github.io. Retrieved 12 November 2020, from https://olafjanssen.github.io/nlp-workshop/."
   ],
   "cell_type": "markdown",
   "metadata": {}
  },
  {
   "cell_type": "code",
   "execution_count": null,
   "metadata": {},
   "outputs": [],
   "source": []
  }
 ]
}