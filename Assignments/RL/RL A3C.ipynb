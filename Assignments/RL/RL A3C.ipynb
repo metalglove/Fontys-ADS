{
 "metadata": {
  "language_info": {
   "codemirror_mode": {
    "name": "ipython",
    "version": 3
   },
   "file_extension": ".py",
   "mimetype": "text/x-python",
   "name": "python",
   "nbconvert_exporter": "python",
   "pygments_lexer": "ipython3",
   "version": "3.8.5-final"
  },
  "orig_nbformat": 2,
  "kernelspec": {
   "name": "Python 3.8.5 64-bit ('rl': conda)",
   "display_name": "Python 3.8.5 64-bit ('rl': conda)",
   "metadata": {
    "interpreter": {
     "hash": "98ace7528f5fd847f1df31080e4f40ab98111ab80f3b16e045bb6d2ab508d35b"
    }
   }
  }
 },
 "nbformat": 4,
 "nbformat_minor": 2,
 "cells": [
  {
   "cell_type": "code",
   "execution_count": 1,
   "metadata": {},
   "outputs": [
    {
     "output_type": "stream",
     "name": "stdout",
     "text": [
      "Collecting wandb\n  Downloading wandb-0.10.7-py2.py3-none-any.whl (1.7 MB)\nCollecting sentry-sdk>=0.4.0\n  Downloading sentry_sdk-0.19.1-py2.py3-none-any.whl (120 kB)\nCollecting psutil>=5.0.0\n  Downloading psutil-5.7.2-cp38-cp38-win_amd64.whl (243 kB)\nCollecting promise<3,>=2.0\n  Using cached promise-2.3.tar.gz (19 kB)\nRequirement already satisfied: requests<3,>=2.0.0 in c:\\users\\mario\\anaconda3\\envs\\rl\\lib\\site-packages (from wandb) (2.24.0)\nRequirement already satisfied: six>=1.13.0 in c:\\users\\mario\\appdata\\roaming\\python\\python38\\site-packages (from wandb) (1.15.0)\nRequirement already satisfied: protobuf>=3.12.0 in c:\\users\\mario\\anaconda3\\envs\\rl\\lib\\site-packages (from wandb) (3.13.0)\nCollecting PyYAML\n  Using cached PyYAML-5.3.1-cp38-cp38-win_amd64.whl (219 kB)\nRequirement already satisfied: python-dateutil>=2.6.1 in c:\\users\\mario\\anaconda3\\envs\\rl\\lib\\site-packages (from wandb) (2.8.1)\nRequirement already satisfied: Click>=7.0 in c:\\users\\mario\\appdata\\roaming\\python\\python38\\site-packages (from wandb) (7.1.2)\nCollecting docker-pycreds>=0.4.0\n  Downloading docker_pycreds-0.4.0-py2.py3-none-any.whl (9.0 kB)\nCollecting GitPython>=1.0.0\n  Using cached GitPython-3.1.9-py3-none-any.whl (159 kB)\nCollecting watchdog>=0.8.3\n  Downloading watchdog-0.10.3.tar.gz (94 kB)\nCollecting shortuuid>=0.5.0\n  Using cached shortuuid-1.0.1-py3-none-any.whl (7.5 kB)\nCollecting subprocess32>=3.5.3\n  Downloading subprocess32-3.5.4.tar.gz (97 kB)\nCollecting configparser>=3.8.1\n  Downloading configparser-5.0.1-py3-none-any.whl (22 kB)\nRequirement already satisfied: certifi in c:\\users\\mario\\anaconda3\\envs\\rl\\lib\\site-packages (from sentry-sdk>=0.4.0->wandb) (2020.6.20)\nRequirement already satisfied: urllib3>=1.10.0 in c:\\users\\mario\\anaconda3\\envs\\rl\\lib\\site-packages (from sentry-sdk>=0.4.0->wandb) (1.25.10)\nRequirement already satisfied: idna<3,>=2.5 in c:\\users\\mario\\anaconda3\\envs\\rl\\lib\\site-packages (from requests<3,>=2.0.0->wandb) (2.10)\nRequirement already satisfied: chardet<4,>=3.0.2 in c:\\users\\mario\\anaconda3\\envs\\rl\\lib\\site-packages (from requests<3,>=2.0.0->wandb) (3.0.4)\nRequirement already satisfied: setuptools in c:\\users\\mario\\anaconda3\\envs\\rl\\lib\\site-packages (from protobuf>=3.12.0->wandb) (50.3.0.post20201006)\nCollecting gitdb<5,>=4.0.1\n  Using cached gitdb-4.0.5-py3-none-any.whl (63 kB)\nCollecting pathtools>=0.1.1\n  Downloading pathtools-0.1.2.tar.gz (11 kB)\nCollecting smmap<4,>=3.0.1\n  Using cached smmap-3.0.4-py2.py3-none-any.whl (25 kB)\nBuilding wheels for collected packages: promise, watchdog, subprocess32, pathtools\n  Building wheel for promise (setup.py): started\n  Building wheel for promise (setup.py): finished with status 'done'\n  Created wheel for promise: filename=promise-2.3-py3-none-any.whl size=21500 sha256=f42b6ecffc26092f5b70821b4c76c5350d971d7568cab2e7e49f82c9f265a79e\n  Stored in directory: c:\\users\\mario\\appdata\\local\\pip\\cache\\wheels\\54\\aa\\01\\724885182f93150035a2a91bce34a12877e8067a97baaf5dc8\n  Building wheel for watchdog (setup.py): started\n  Building wheel for watchdog (setup.py): finished with status 'done'\n  Created wheel for watchdog: filename=watchdog-0.10.3-py3-none-any.whl size=73876 sha256=858b0bdaf0f474e4b5abf09af7fcdde05ab9db4acade67f721b9bea93aa8bb93\n  Stored in directory: c:\\users\\mario\\appdata\\local\\pip\\cache\\wheels\\f8\\39\\45\\b80612a24e42d9de0bd5eaf69eaf953edc25e1a9809d3d989f\n  Building wheel for subprocess32 (setup.py): started\n  Building wheel for subprocess32 (setup.py): finished with status 'done'\n  Created wheel for subprocess32: filename=subprocess32-3.5.4-py3-none-any.whl size=6493 sha256=1ef1b20853384ce4eacce32cd03f0be558b3a2989913fbc0cfd90f0542abe057\n  Stored in directory: c:\\users\\mario\\appdata\\local\\pip\\cache\\wheels\\9f\\69\\d1\\50b39b308a87998eaf5c1d9095e5a5bd2ad98501e2b7936d36\n  Building wheel for pathtools (setup.py): started\n  Building wheel for pathtools (setup.py): finished with status 'done'\n  Created wheel for pathtools: filename=pathtools-0.1.2-py3-none-any.whl size=8790 sha256=a89b81e22221694d89729b86d1f067b581a228c72ca9ab2488de24dd928e1195\n  Stored in directory: c:\\users\\mario\\appdata\\local\\pip\\cache\\wheels\\4c\\8e\\7e\\72fbc243e1aeecae64a96875432e70d4e92f3d2d18123be004\nSuccessfully built promise watchdog subprocess32 pathtools\nInstalling collected packages: sentry-sdk, psutil, promise, PyYAML, docker-pycreds, smmap, gitdb, GitPython, pathtools, watchdog, shortuuid, subprocess32, configparser, wandb\nSuccessfully installed GitPython-3.1.9 PyYAML-5.3.1 configparser-5.0.1 docker-pycreds-0.4.0 gitdb-4.0.5 pathtools-0.1.2 promise-2.3 psutil-5.7.2 sentry-sdk-0.19.1 shortuuid-1.0.1 smmap-3.0.4 subprocess32-3.5.4 wandb-0.10.7 watchdog-0.10.3\n"
     ]
    }
   ],
   "source": [
    "# https://github.com/marload/DeepRL-TensorFlow2\n",
    "#!pip install wandb"
   ]
  },
  {
   "cell_type": "code",
   "execution_count": null,
   "metadata": {},
   "outputs": [],
   "source": []
  }
 ]
}