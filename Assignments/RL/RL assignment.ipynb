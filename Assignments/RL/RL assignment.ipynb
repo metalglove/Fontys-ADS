{
 "metadata": {
  "language_info": {
   "codemirror_mode": {
    "name": "ipython",
    "version": 3
   },
   "file_extension": ".py",
   "mimetype": "text/x-python",
   "name": "python",
   "nbconvert_exporter": "python",
   "pygments_lexer": "ipython3",
   "version": "3.8.5-final"
  },
  "orig_nbformat": 2,
  "kernelspec": {
   "name": "python38564bitvetiscondaeeea318a08e74f6faf5e6dcbf27f5cb9",
   "display_name": "Python 3.8.5 64-bit ('vetis': conda)"
  }
 },
 "nbformat": 4,
 "nbformat_minor": 2,
 "cells": [
  {
   "cell_type": "code",
   "execution_count": 3,
   "metadata": {
    "tags": []
   },
   "outputs": [
    {
     "output_type": "stream",
     "name": "stdout",
     "text": [
      "Track generation: 915..1157 -> 242-tiles track\n",
      "Episode finished after 1000 timesteps\n",
      "Track generation: 924..1159 -> 235-tiles track\n",
      "Episode finished after 1000 timesteps\n",
      "Track generation: 1236..1549 -> 313-tiles track\n",
      "Episode finished after 1000 timesteps\n",
      "Track generation: 1185..1485 -> 300-tiles track\n",
      "Episode finished after 1000 timesteps\n",
      "Track generation: 1173..1470 -> 297-tiles track\n",
      "Episode finished after 1000 timesteps\n",
      "Track generation: 1275..1598 -> 323-tiles track\n",
      "Episode finished after 1000 timesteps\n",
      "Track generation: 1169..1473 -> 304-tiles track\n",
      "Episode finished after 1000 timesteps\n",
      "Track generation: 1168..1464 -> 296-tiles track\n",
      "Episode finished after 1000 timesteps\n",
      "Track generation: 1149..1440 -> 291-tiles track\n",
      "Episode finished after 1000 timesteps\n",
      "Track generation: 1140..1429 -> 289-tiles track\n",
      "Episode finished after 1000 timesteps\n",
      "Track generation: 1154..1446 -> 292-tiles track\n",
      "Episode finished after 1000 timesteps\n",
      "Track generation: 1115..1396 -> 281-tiles track\n",
      "Episode finished after 1000 timesteps\n",
      "Track generation: 1071..1343 -> 272-tiles track\n",
      "Episode finished after 1000 timesteps\n",
      "Track generation: 1368..1715 -> 347-tiles track\n",
      "Episode finished after 1000 timesteps\n",
      "Track generation: 1185..1485 -> 300-tiles track\n",
      "Episode finished after 1000 timesteps\n",
      "Track generation: 1171..1468 -> 297-tiles track\n",
      "Episode finished after 1000 timesteps\n",
      "Track generation: 1197..1500 -> 303-tiles track\n",
      "Episode finished after 1000 timesteps\n",
      "Track generation: 1171..1474 -> 303-tiles track\n",
      "Episode finished after 1000 timesteps\n",
      "Track generation: 1185..1485 -> 300-tiles track\n",
      "Episode finished after 1000 timesteps\n",
      "Track generation: 1247..1563 -> 316-tiles track\n",
      "Episode finished after 1000 timesteps\n"
     ]
    }
   ],
   "source": [
    "# !pip install gym[box2d]\n",
    "import gym\n",
    "env = gym.make('CarRacing-v0')\n",
    "for i_episode in range(20):\n",
    "    observation = env.reset()\n",
    "    for t in range(1000):\n",
    "        env.render()\n",
    "        action = env.action_space.sample()\n",
    "        observation, reward, done, info = env.step(action)\n",
    "        if done:\n",
    "            print(\"Episode finished after {} timesteps\".format(t+1))\n",
    "            break\n",
    "\n",
    "env.close()"
   ]
  },
  {
   "cell_type": "code",
   "execution_count": null,
   "metadata": {},
   "outputs": [],
   "source": []
  }
 ]
}