{
 "metadata": {
  "language_info": {
   "codemirror_mode": {
    "name": "ipython",
    "version": 3
   },
   "file_extension": ".py",
   "mimetype": "text/x-python",
   "name": "python",
   "nbconvert_exporter": "python",
   "pygments_lexer": "ipython3",
   "version": "3.8.5-final"
  },
  "orig_nbformat": 2,
  "kernelspec": {
   "name": "Python 3.8.5 64-bit ('rl': conda)",
   "display_name": "Python 3.8.5 64-bit ('rl': conda)",
   "metadata": {
    "interpreter": {
     "hash": "98ace7528f5fd847f1df31080e4f40ab98111ab80f3b16e045bb6d2ab508d35b"
    }
   }
  }
 },
 "nbformat": 4,
 "nbformat_minor": 2,
 "cells": [
  {
   "source": [
    "# Reinforcement Learning"
   ],
   "cell_type": "markdown",
   "metadata": {}
  },
  {
   "source": [
    "import game2048_env\n",
    "import numpy as np\n",
    "import random\n",
    "# fixing seed for reproducibility\n",
    "random.seed(0)\n",
    "np.random.seed(0)\n",
    "import matplotlib.pyplot as plt\n",
    "import PIL.Image as Image\n",
    "import warnings\n",
    "import math\n",
    "warnings.simplefilter('ignore')\n",
    "%matplotlib inline\n",
    "import seaborn as sns\n",
    "\n",
    "sns.set()\n",
    "from IPython.display import clear_output"
   ],
   "cell_type": "code",
   "metadata": {},
   "execution_count": 1,
   "outputs": []
  },
  {
   "source": [
    "## Q-learning?\n",
    "To calculate the total q table, all possible states must be calculated. This is done by multiplying the board size with the board size. And, then calculating each possible tile (if we limit the game to reach 2048). Starting from 2 until 2048, there are 11 unique tiles: 2, 4, 8, 16, 32, 64, 128, 256, 512, 1024, 2048. And, ofcourse, there is a blank cell. The final equation would be total_states = unique_tiles ^ total_cells_on_board"
   ],
   "cell_type": "markdown",
   "metadata": {}
  },
  {
   "cell_type": "code",
   "execution_count": 2,
   "metadata": {},
   "outputs": [
    {
     "output_type": "stream",
     "name": "stdout",
     "text": [
      "Total states: 184,884,258,895,036,416\n"
     ]
    }
   ],
   "source": [
    "total_cells_on_board = 4 * 4\n",
    "unique_tiles = 11\n",
    "assert 2048 == 2 ** unique_tiles, f\"2048 does not have {unique_tiles} powers\"\n",
    "unique_tiles += 1\n",
    "total_states = unique_tiles ** total_cells_on_board\n",
    "print(f'Total states: {total_states:,}')"
   ]
  },
  {
   "source": [
    "Considering that the Q-table would be too large. A switch to an ANN model is not a bad idea."
   ],
   "cell_type": "markdown",
   "metadata": {}
  },
  {
   "source": [
    "## TensorFlow\n"
   ],
   "cell_type": "markdown",
   "metadata": {}
  },
  {
   "cell_type": "code",
   "execution_count": 3,
   "metadata": {},
   "outputs": [],
   "source": [
    "import tensorflow as tf\n",
    "from tensorflow.keras.callbacks import TensorBoard, EarlyStopping, LearningRateScheduler\n",
    "from tensorflow.keras.metrics import sparse_top_k_categorical_accuracy"
   ]
  },
  {
   "cell_type": "code",
   "execution_count": 4,
   "metadata": {},
   "outputs": [],
   "source": [
    "from tensorflow.keras.layers import Input, Dense\n",
    "from tensorflow.keras.models import Model\n",
    "from tensorflow.keras.optimizers import Adam\n",
    "\n",
    "from collections import deque\n",
    "\n",
    "class DQN:\n",
    "    def __init__(self, env):\n",
    "        self.env = env\n",
    "        self.memory = deque(maxlen=2_000_000) #\n",
    "\n",
    "        self.gamma = 0.95\n",
    "        self.epsilon = 1.0\n",
    "        self.epsilon_min = 0.01\n",
    "        self.epsilon_decay = 0.995\n",
    "        self.learning_rate = 0.01\n",
    "        self.tau = 0.05\n",
    "\n",
    "        self.model = self.create_model()\n",
    "        self.target_model = self.create_model()\n",
    "\n",
    "    def create_model(self):\n",
    "        state_shape = self.env.observation_space.shape\n",
    "\n",
    "        inputs = Input(16)\n",
    "        x = Dense(units=24, activation='relu')(inputs)\n",
    "        x = Dense(units=48, activation='relu')(x)\n",
    "        x = Dense(units=48, activation='relu')(x)\n",
    "        outputs = Dense(units=self.env.action_space.n, activation='softmax')(x)\n",
    "\n",
    "        model = Model(inputs=inputs, outputs=outputs)\n",
    "        model.compile(loss='mse', optimizer=Adam(lr=self.learning_rate))\n",
    "        return model \n",
    "\n",
    "    def remember(self, state, action, reward, new_state, done):\n",
    "        self.memory.append([state, action, reward, new_state, done])\n",
    "\n",
    "    def replay(self):\n",
    "        batch_size = 32\n",
    "        if len(self.memory) < batch_size:\n",
    "            return\n",
    "        \n",
    "        samples = random.sample(self.memory, batch_size)\n",
    "        for sample in samples:\n",
    "            state, action, reward, new_state, done = sample\n",
    "            new_state = np.expand_dims(new_state.flatten(), axis=0)\n",
    "            state = np.expand_dims(state.flatten(), axis=0)\n",
    "            # print(f'samples: {new_state.shape}')\n",
    "            target = self.target_model.predict(state)\n",
    "            # print(f'target:', target)\n",
    "            if done:\n",
    "                target[0][action] = reward\n",
    "            else:\n",
    "                predicted = self.target_model.predict(new_state)\n",
    "                # print(predicted)\n",
    "                Q_future = max(predicted[0])\n",
    "                target[0][action] = reward + Q_future * self.gamma\n",
    "            self.model.fit(state, target, epochs=1, verbose=0)\n",
    "\n",
    "    def target_train(self):\n",
    "        weights = self.model.get_weights()\n",
    "        # target_weights = self.target_model.get_weights()\n",
    "        # for i in range(len(target_weights)):\n",
    "        #     target_weights[i] = weights[i]\n",
    "        self.target_model.set_weights(weights)\n",
    "    \n",
    "    def act(self, state):\n",
    "        self.epsilon *= self.epsilon_decay\n",
    "        self.epsilon = max(self.epsilon_min, self.epsilon)\n",
    "        if np.random.random() < self.epsilon:\n",
    "            return self.env.action_space.sample()\n",
    "        state = np.expand_dims(state.flatten(), axis=0)\n",
    "        predicted = self.model.predict(state)\n",
    "        # print(f'predicted act: {predicted}')\n",
    "        return np.argmax(predicted[0])"
   ]
  },
  {
   "cell_type": "code",
   "execution_count": 5,
   "metadata": {},
   "outputs": [],
   "source": [
    "def render_env(env, output_text):\n",
    "    clear_output(wait=True)\n",
    "    print(output_text)\n",
    "    rgb = env.render('rgb_array')\n",
    "    display(Image.fromarray(rgb))"
   ]
  },
  {
   "cell_type": "code",
   "execution_count": 6,
   "metadata": {
    "tags": []
   },
   "outputs": [
    {
     "output_type": "stream",
     "name": "stdout",
     "text": [
      "Trial: 26, score: 4.0, highest tile: 4\n"
     ]
    },
    {
     "output_type": "display_data",
     "data": {
      "text/plain": "<PIL.Image.Image image mode=RGB size=280x280 at 0x16C7FEDEEE0>",
      "image/png": "[encoded data removed]"
     },
     "metadata": {}
    }
   ],
   "source": [
    "env = game2048_env.Game2048Env()\n",
    "env.seed(42)\n",
    "env.set_max_tile(2048)\n",
    "gamma = 0.9\n",
    "epsilon = 0.95\n",
    "\n",
    "trials_num = 100\n",
    "trials_len = 1000\n",
    "directions = [\"Up\", \"Right\", \"Down\", \"Left\"]\n",
    "\n",
    "dqn_agent = DQN(env=env)\n",
    "trials = []\n",
    "scores = []\n",
    "highest_tiles = []\n",
    "output_text = ''\n",
    "for trial in range(trials_num):\n",
    "    current_state = env.reset()\n",
    "    for step in range(trials_len):\n",
    "        render_env(env, output_text)\n",
    "        action = dqn_agent.act(current_state)\n",
    "        # print(directions[action])\n",
    "        # print(current_state)\n",
    "        new_state, reward, done, info = env.step(action)\n",
    "        # print(new_state)\n",
    "        reward = reward if not done else -20\n",
    "        # reward = reward if not info['illegal_move'] else -20\n",
    "        dqn_agent.remember(current_state, action, reward, new_state, done)\n",
    "        \n",
    "        dqn_agent.replay()\n",
    "        dqn_agent.target_train()\n",
    "\n",
    "        current_state = new_state\n",
    "\n",
    "        # if info['illegal_move']:\n",
    "        #     continue\n",
    "\n",
    "        if done:\n",
    "            print(step)\n",
    "            break\n",
    "    highest = env.highest()\n",
    "    scores.append(env.score)\n",
    "    highest_tiles.append(highest)\n",
    "    trials.append(trial)\n",
    "    output_text = f\"Trial: {trial}, score: {env.score}, highest tile: {highest}\"\n",
    "    if env.highest() == env.max_tile:\n",
    "        break"
   ]
  },
  {
   "cell_type": "code",
   "execution_count": 8,
   "metadata": {},
   "outputs": [
    {
     "output_type": "execute_result",
     "data": {
      "text/plain": [
       "[<matplotlib.lines.Line2D at 0x24a43d16520>]"
      ]
     },
     "metadata": {},
     "execution_count": 8
    },
    {
     "output_type": "display_data",
     "data": {
      "text/plain": "<Figure size 432x288 with 1 Axes>",
      "image/svg+xml": "<?xml version=\"1.0\" encoding=\"utf-8\" standalone=\"no\"?>\r\n<!DOCTYPE svg PUBLIC \"-//W3C//DTD SVG 1.1//EN\"\r\n  \"http://www.w3.org/Graphics/SVG/1.1/DTD/svg11.dtd\">\r\n<!-- Created with matplotlib (https://matplotlib.org/) -->\r\n<svg height=\"251.399844pt\" version=\"1.1\" viewBox=\"0 0 377.051094 251.399844\" width=\"377.051094pt\" xmlns=\"http://www.w3.org/2000/svg\" xmlns:xlink=\"http://www.w3.org/1999/xlink\">\r\n <metadata>\r\n  <rdf:RDF xmlns:cc=\"http://creativecommons.org/ns#\" xmlns:dc=\"http://purl.org/dc/elements/1.1/\" xmlns:rdf=\"http://www.w3.org/1999/02/22-rdf-syntax-ns#\">\r\n   <cc:Work>\r\n    <dc:type rdf:resource=\"http://purl.org/dc/dcmitype/StillImage\"/>\r\n    <dc:date>2020-10-18T15:17:04.171908</dc:date>\r\n    <dc:format>image/svg+xml</dc:format>\r\n    <dc:creator>\r\n     <cc:Agent>\r\n      <dc:title>Matplotlib v3.3.2, https://matplotlib.org/</dc:title>\r\n     </cc:Agent>\r\n    </dc:creator>\r\n   </cc:Work>\r\n  </rdf:RDF>\r\n </metadata>\r\n <defs>\r\n  <style type=\"text/css\">*{stroke-linecap:butt;stroke-linejoin:round;}</style>\r\n </defs>\r\n <g id=\"figure_1\">\r\n  <g id=\"patch_1\">\r\n   <path d=\"M 0 251.399844 \r\nL 377.051094 251.399844 \r\nL 377.051094 0 \r\nL 0 0 \r\nz\r\n\" style=\"fill:#ffffff;\"/>\r\n  </g>\r\n  <g id=\"axes_1\">\r\n   <g id=\"patch_2\">\r\n    <path d=\"M 35.051094 224.64 \r\nL 369.851094 224.64 \r\nL 369.851094 7.2 \r\nL 35.051094 7.2 \r\nz\r\n\" style=\"fill:#eaeaf2;\"/>\r\n   </g>\r\n   <g id=\"matplotlib.axis_1\">\r\n    <g id=\"xtick_1\">\r\n     <g id=\"line2d_1\">\r\n      <path clip-path=\"url(#pe261b53b6c)\" d=\"M 50.269276 224.64 \r\nL 50.269276 7.2 \r\n\" style=\"fill:none;stroke:#ffffff;stroke-linecap:round;\"/>\r\n     </g>\r\n     <g id=\"text_1\">\r\n      <!-- 0 -->\r\n      <g style=\"fill:#262626;\" transform=\"translate(47.21076 242.013594)scale(0.11 -0.11)\">\r\n       <defs>\r\n        <path d=\"M 4.15625 35.296875 \r\nQ 4.15625 48 6.765625 55.734375 \r\nQ 9.375 63.484375 14.515625 67.671875 \r\nQ 19.671875 71.875 27.484375 71.875 \r\nQ 33.25 71.875 37.59375 69.546875 \r\nQ 41.9375 67.234375 44.765625 62.859375 \r\nQ 47.609375 58.5 49.21875 52.21875 \r\nQ 50.828125 45.953125 50.828125 35.296875 \r\nQ 50.828125 22.703125 48.234375 14.96875 \r\nQ 45.65625 7.234375 40.5 3 \r\nQ 35.359375 -1.21875 27.484375 -1.21875 \r\nQ 17.140625 -1.21875 11.234375 6.203125 \r\nQ 4.15625 15.140625 4.15625 35.296875 \r\nz\r\nM 13.1875 35.296875 \r\nQ 13.1875 17.671875 17.3125 11.828125 \r\nQ 21.4375 6 27.484375 6 \r\nQ 33.546875 6 37.671875 11.859375 \r\nQ 41.796875 17.71875 41.796875 35.296875 \r\nQ 41.796875 52.984375 37.671875 58.78125 \r\nQ 33.546875 64.59375 27.390625 64.59375 \r\nQ 21.34375 64.59375 17.71875 59.46875 \r\nQ 13.1875 52.9375 13.1875 35.296875 \r\nz\r\n\" id=\"ArialMT-48\"/>\r\n       </defs>\r\n       <use xlink:href=\"#ArialMT-48\"/>\r\n      </g>\r\n     </g>\r\n    </g>\r\n    <g id=\"xtick_2\">\r\n     <g id=\"line2d_2\">\r\n      <path clip-path=\"url(#pe261b53b6c)\" d=\"M 111.756879 224.64 \r\nL 111.756879 7.2 \r\n\" style=\"fill:none;stroke:#ffffff;stroke-linecap:round;\"/>\r\n     </g>\r\n     <g id=\"text_2\">\r\n      <!-- 20 -->\r\n      <g style=\"fill:#262626;\" transform=\"translate(105.639848 242.013594)scale(0.11 -0.11)\">\r\n       <defs>\r\n        <path d=\"M 50.34375 8.453125 \r\nL 50.34375 0 \r\nL 3.03125 0 \r\nQ 2.9375 3.171875 4.046875 6.109375 \r\nQ 5.859375 10.9375 9.828125 15.625 \r\nQ 13.8125 20.3125 21.34375 26.46875 \r\nQ 33.015625 36.03125 37.109375 41.625 \r\nQ 41.21875 47.21875 41.21875 52.203125 \r\nQ 41.21875 57.421875 37.46875 61 \r\nQ 33.734375 64.59375 27.734375 64.59375 \r\nQ 21.390625 64.59375 17.578125 60.78125 \r\nQ 13.765625 56.984375 13.71875 50.25 \r\nL 4.6875 51.171875 \r\nQ 5.609375 61.28125 11.65625 66.578125 \r\nQ 17.71875 71.875 27.9375 71.875 \r\nQ 38.234375 71.875 44.234375 66.15625 \r\nQ 50.25 60.453125 50.25 52 \r\nQ 50.25 47.703125 48.484375 43.546875 \r\nQ 46.734375 39.40625 42.65625 34.8125 \r\nQ 38.578125 30.21875 29.109375 22.21875 \r\nQ 21.1875 15.578125 18.9375 13.203125 \r\nQ 16.703125 10.84375 15.234375 8.453125 \r\nz\r\n\" id=\"ArialMT-50\"/>\r\n       </defs>\r\n       <use xlink:href=\"#ArialMT-50\"/>\r\n       <use x=\"55.615234\" xlink:href=\"#ArialMT-48\"/>\r\n      </g>\r\n     </g>\r\n    </g>\r\n    <g id=\"xtick_3\">\r\n     <g id=\"line2d_3\">\r\n      <path clip-path=\"url(#pe261b53b6c)\" d=\"M 173.244482 224.64 \r\nL 173.244482 7.2 \r\n\" style=\"fill:none;stroke:#ffffff;stroke-linecap:round;\"/>\r\n     </g>\r\n     <g id=\"text_3\">\r\n      <!-- 40 -->\r\n      <g style=\"fill:#262626;\" transform=\"translate(167.127451 242.013594)scale(0.11 -0.11)\">\r\n       <defs>\r\n        <path d=\"M 32.328125 0 \r\nL 32.328125 17.140625 \r\nL 1.265625 17.140625 \r\nL 1.265625 25.203125 \r\nL 33.9375 71.578125 \r\nL 41.109375 71.578125 \r\nL 41.109375 25.203125 \r\nL 50.78125 25.203125 \r\nL 50.78125 17.140625 \r\nL 41.109375 17.140625 \r\nL 41.109375 0 \r\nz\r\nM 32.328125 25.203125 \r\nL 32.328125 57.46875 \r\nL 9.90625 25.203125 \r\nz\r\n\" id=\"ArialMT-52\"/>\r\n       </defs>\r\n       <use xlink:href=\"#ArialMT-52\"/>\r\n       <use x=\"55.615234\" xlink:href=\"#ArialMT-48\"/>\r\n      </g>\r\n     </g>\r\n    </g>\r\n    <g id=\"xtick_4\">\r\n     <g id=\"line2d_4\">\r\n      <path clip-path=\"url(#pe261b53b6c)\" d=\"M 234.732085 224.64 \r\nL 234.732085 7.2 \r\n\" style=\"fill:none;stroke:#ffffff;stroke-linecap:round;\"/>\r\n     </g>\r\n     <g id=\"text_4\">\r\n      <!-- 60 -->\r\n      <g style=\"fill:#262626;\" transform=\"translate(228.615054 242.013594)scale(0.11 -0.11)\">\r\n       <defs>\r\n        <path d=\"M 49.75 54.046875 \r\nL 41.015625 53.375 \r\nQ 39.84375 58.546875 37.703125 60.890625 \r\nQ 34.125 64.65625 28.90625 64.65625 \r\nQ 24.703125 64.65625 21.53125 62.3125 \r\nQ 17.390625 59.28125 14.984375 53.46875 \r\nQ 12.59375 47.65625 12.5 36.921875 \r\nQ 15.671875 41.75 20.265625 44.09375 \r\nQ 24.859375 46.4375 29.890625 46.4375 \r\nQ 38.671875 46.4375 44.84375 39.96875 \r\nQ 51.03125 33.5 51.03125 23.25 \r\nQ 51.03125 16.5 48.125 10.71875 \r\nQ 45.21875 4.9375 40.140625 1.859375 \r\nQ 35.0625 -1.21875 28.609375 -1.21875 \r\nQ 17.625 -1.21875 10.6875 6.859375 \r\nQ 3.765625 14.9375 3.765625 33.5 \r\nQ 3.765625 54.25 11.421875 63.671875 \r\nQ 18.109375 71.875 29.4375 71.875 \r\nQ 37.890625 71.875 43.28125 67.140625 \r\nQ 48.6875 62.40625 49.75 54.046875 \r\nz\r\nM 13.875 23.1875 \r\nQ 13.875 18.65625 15.796875 14.5 \r\nQ 17.71875 10.359375 21.1875 8.171875 \r\nQ 24.65625 6 28.46875 6 \r\nQ 34.03125 6 38.03125 10.484375 \r\nQ 42.046875 14.984375 42.046875 22.703125 \r\nQ 42.046875 30.125 38.078125 34.390625 \r\nQ 34.125 38.671875 28.125 38.671875 \r\nQ 22.171875 38.671875 18.015625 34.390625 \r\nQ 13.875 30.125 13.875 23.1875 \r\nz\r\n\" id=\"ArialMT-54\"/>\r\n       </defs>\r\n       <use xlink:href=\"#ArialMT-54\"/>\r\n       <use x=\"55.615234\" xlink:href=\"#ArialMT-48\"/>\r\n      </g>\r\n     </g>\r\n    </g>\r\n    <g id=\"xtick_5\">\r\n     <g id=\"line2d_5\">\r\n      <path clip-path=\"url(#pe261b53b6c)\" d=\"M 296.219689 224.64 \r\nL 296.219689 7.2 \r\n\" style=\"fill:none;stroke:#ffffff;stroke-linecap:round;\"/>\r\n     </g>\r\n     <g id=\"text_5\">\r\n      <!-- 80 -->\r\n      <g style=\"fill:#262626;\" transform=\"translate(290.102658 242.013594)scale(0.11 -0.11)\">\r\n       <defs>\r\n        <path d=\"M 17.671875 38.8125 \r\nQ 12.203125 40.828125 9.5625 44.53125 \r\nQ 6.9375 48.25 6.9375 53.421875 \r\nQ 6.9375 61.234375 12.546875 66.546875 \r\nQ 18.171875 71.875 27.484375 71.875 \r\nQ 36.859375 71.875 42.578125 66.421875 \r\nQ 48.296875 60.984375 48.296875 53.171875 \r\nQ 48.296875 48.1875 45.671875 44.5 \r\nQ 43.0625 40.828125 37.75 38.8125 \r\nQ 44.34375 36.671875 47.78125 31.875 \r\nQ 51.21875 27.09375 51.21875 20.453125 \r\nQ 51.21875 11.28125 44.71875 5.03125 \r\nQ 38.234375 -1.21875 27.640625 -1.21875 \r\nQ 17.046875 -1.21875 10.546875 5.046875 \r\nQ 4.046875 11.328125 4.046875 20.703125 \r\nQ 4.046875 27.6875 7.59375 32.390625 \r\nQ 11.140625 37.109375 17.671875 38.8125 \r\nz\r\nM 15.921875 53.71875 \r\nQ 15.921875 48.640625 19.1875 45.40625 \r\nQ 22.46875 42.1875 27.6875 42.1875 \r\nQ 32.765625 42.1875 36.015625 45.375 \r\nQ 39.265625 48.578125 39.265625 53.21875 \r\nQ 39.265625 58.0625 35.90625 61.359375 \r\nQ 32.5625 64.65625 27.59375 64.65625 \r\nQ 22.5625 64.65625 19.234375 61.421875 \r\nQ 15.921875 58.203125 15.921875 53.71875 \r\nz\r\nM 13.09375 20.65625 \r\nQ 13.09375 16.890625 14.875 13.375 \r\nQ 16.65625 9.859375 20.171875 7.921875 \r\nQ 23.6875 6 27.734375 6 \r\nQ 34.03125 6 38.125 10.046875 \r\nQ 42.234375 14.109375 42.234375 20.359375 \r\nQ 42.234375 26.703125 38.015625 30.859375 \r\nQ 33.796875 35.015625 27.4375 35.015625 \r\nQ 21.234375 35.015625 17.15625 30.90625 \r\nQ 13.09375 26.8125 13.09375 20.65625 \r\nz\r\n\" id=\"ArialMT-56\"/>\r\n       </defs>\r\n       <use xlink:href=\"#ArialMT-56\"/>\r\n       <use x=\"55.615234\" xlink:href=\"#ArialMT-48\"/>\r\n      </g>\r\n     </g>\r\n    </g>\r\n    <g id=\"xtick_6\">\r\n     <g id=\"line2d_6\">\r\n      <path clip-path=\"url(#pe261b53b6c)\" d=\"M 357.707292 224.64 \r\nL 357.707292 7.2 \r\n\" style=\"fill:none;stroke:#ffffff;stroke-linecap:round;\"/>\r\n     </g>\r\n     <g id=\"text_6\">\r\n      <!-- 100 -->\r\n      <g style=\"fill:#262626;\" transform=\"translate(348.531745 242.013594)scale(0.11 -0.11)\">\r\n       <defs>\r\n        <path d=\"M 37.25 0 \r\nL 28.46875 0 \r\nL 28.46875 56 \r\nQ 25.296875 52.984375 20.140625 49.953125 \r\nQ 14.984375 46.921875 10.890625 45.40625 \r\nL 10.890625 53.90625 \r\nQ 18.265625 57.375 23.78125 62.296875 \r\nQ 29.296875 67.234375 31.59375 71.875 \r\nL 37.25 71.875 \r\nz\r\n\" id=\"ArialMT-49\"/>\r\n       </defs>\r\n       <use xlink:href=\"#ArialMT-49\"/>\r\n       <use x=\"55.615234\" xlink:href=\"#ArialMT-48\"/>\r\n       <use x=\"111.230469\" xlink:href=\"#ArialMT-48\"/>\r\n      </g>\r\n     </g>\r\n    </g>\r\n   </g>\r\n   <g id=\"matplotlib.axis_2\">\r\n    <g id=\"ytick_1\">\r\n     <g id=\"line2d_7\">\r\n      <path clip-path=\"url(#pe261b53b6c)\" d=\"M 35.051094 214.756364 \r\nL 369.851094 214.756364 \r\n\" style=\"fill:none;stroke:#ffffff;stroke-linecap:round;\"/>\r\n     </g>\r\n     <g id=\"text_7\">\r\n      <!-- 0 -->\r\n      <g style=\"fill:#262626;\" transform=\"translate(19.434063 218.693161)scale(0.11 -0.11)\">\r\n       <use xlink:href=\"#ArialMT-48\"/>\r\n      </g>\r\n     </g>\r\n    </g>\r\n    <g id=\"ytick_2\">\r\n     <g id=\"line2d_8\">\r\n      <path clip-path=\"url(#pe261b53b6c)\" d=\"M 35.051094 171.407081 \r\nL 369.851094 171.407081 \r\n\" style=\"fill:none;stroke:#ffffff;stroke-linecap:round;\"/>\r\n     </g>\r\n     <g id=\"text_8\">\r\n      <!-- 50 -->\r\n      <g style=\"fill:#262626;\" transform=\"translate(13.317031 175.343878)scale(0.11 -0.11)\">\r\n       <defs>\r\n        <path d=\"M 4.15625 18.75 \r\nL 13.375 19.53125 \r\nQ 14.40625 12.796875 18.140625 9.390625 \r\nQ 21.875 6 27.15625 6 \r\nQ 33.5 6 37.890625 10.78125 \r\nQ 42.28125 15.578125 42.28125 23.484375 \r\nQ 42.28125 31 38.0625 35.34375 \r\nQ 33.84375 39.703125 27 39.703125 \r\nQ 22.75 39.703125 19.328125 37.765625 \r\nQ 15.921875 35.84375 13.96875 32.765625 \r\nL 5.71875 33.84375 \r\nL 12.640625 70.609375 \r\nL 48.25 70.609375 \r\nL 48.25 62.203125 \r\nL 19.671875 62.203125 \r\nL 15.828125 42.96875 \r\nQ 22.265625 47.46875 29.34375 47.46875 \r\nQ 38.71875 47.46875 45.15625 40.96875 \r\nQ 51.609375 34.46875 51.609375 24.265625 \r\nQ 51.609375 14.546875 45.953125 7.46875 \r\nQ 39.0625 -1.21875 27.15625 -1.21875 \r\nQ 17.390625 -1.21875 11.203125 4.25 \r\nQ 5.03125 9.71875 4.15625 18.75 \r\nz\r\n\" id=\"ArialMT-53\"/>\r\n       </defs>\r\n       <use xlink:href=\"#ArialMT-53\"/>\r\n       <use x=\"55.615234\" xlink:href=\"#ArialMT-48\"/>\r\n      </g>\r\n     </g>\r\n    </g>\r\n    <g id=\"ytick_3\">\r\n     <g id=\"line2d_9\">\r\n      <path clip-path=\"url(#pe261b53b6c)\" d=\"M 35.051094 128.057799 \r\nL 369.851094 128.057799 \r\n\" style=\"fill:none;stroke:#ffffff;stroke-linecap:round;\"/>\r\n     </g>\r\n     <g id=\"text_9\">\r\n      <!-- 100 -->\r\n      <g style=\"fill:#262626;\" transform=\"translate(7.2 131.994596)scale(0.11 -0.11)\">\r\n       <use xlink:href=\"#ArialMT-49\"/>\r\n       <use x=\"55.615234\" xlink:href=\"#ArialMT-48\"/>\r\n       <use x=\"111.230469\" xlink:href=\"#ArialMT-48\"/>\r\n      </g>\r\n     </g>\r\n    </g>\r\n    <g id=\"ytick_4\">\r\n     <g id=\"line2d_10\">\r\n      <path clip-path=\"url(#pe261b53b6c)\" d=\"M 35.051094 84.708517 \r\nL 369.851094 84.708517 \r\n\" style=\"fill:none;stroke:#ffffff;stroke-linecap:round;\"/>\r\n     </g>\r\n     <g id=\"text_10\">\r\n      <!-- 150 -->\r\n      <g style=\"fill:#262626;\" transform=\"translate(7.2 88.645314)scale(0.11 -0.11)\">\r\n       <use xlink:href=\"#ArialMT-49\"/>\r\n       <use x=\"55.615234\" xlink:href=\"#ArialMT-53\"/>\r\n       <use x=\"111.230469\" xlink:href=\"#ArialMT-48\"/>\r\n      </g>\r\n     </g>\r\n    </g>\r\n    <g id=\"ytick_5\">\r\n     <g id=\"line2d_11\">\r\n      <path clip-path=\"url(#pe261b53b6c)\" d=\"M 35.051094 41.359234 \r\nL 369.851094 41.359234 \r\n\" style=\"fill:none;stroke:#ffffff;stroke-linecap:round;\"/>\r\n     </g>\r\n     <g id=\"text_11\">\r\n      <!-- 200 -->\r\n      <g style=\"fill:#262626;\" transform=\"translate(7.2 45.296031)scale(0.11 -0.11)\">\r\n       <use xlink:href=\"#ArialMT-50\"/>\r\n       <use x=\"55.615234\" xlink:href=\"#ArialMT-48\"/>\r\n       <use x=\"111.230469\" xlink:href=\"#ArialMT-48\"/>\r\n      </g>\r\n     </g>\r\n    </g>\r\n   </g>\r\n   <g id=\"line2d_12\">\r\n    <path clip-path=\"url(#pe261b53b6c)\" d=\"M 50.269276 214.756364 \r\nL 53.343656 200.884593 \r\nL 56.418036 200.884593 \r\nL 59.492416 214.756364 \r\nL 62.566796 138.461627 \r\nL 65.641176 207.820478 \r\nL 68.715557 193.948708 \r\nL 71.789937 214.756364 \r\nL 74.864317 211.288421 \r\nL 77.938697 187.012823 \r\nL 81.013077 187.012823 \r\nL 84.087457 145.397512 \r\nL 87.161838 207.820478 \r\nL 90.236218 197.416651 \r\nL 93.310598 166.205167 \r\nL 96.384978 155.80134 \r\nL 99.459358 152.333397 \r\nL 102.533738 207.820478 \r\nL 105.608119 17.083636 \r\nL 108.682499 211.288421 \r\nL 111.756879 162.737225 \r\nL 114.831259 180.076938 \r\nL 117.905639 169.67311 \r\nL 120.980019 211.288421 \r\nL 124.0544 211.288421 \r\nL 127.12878 180.076938 \r\nL 130.20316 197.416651 \r\nL 133.27754 214.756364 \r\nL 136.35192 211.288421 \r\nL 139.4263 211.288421 \r\nL 142.500681 214.756364 \r\nL 145.575061 197.416651 \r\nL 148.649441 214.756364 \r\nL 151.723821 138.461627 \r\nL 154.798201 200.884593 \r\nL 157.872581 204.352536 \r\nL 160.946962 207.820478 \r\nL 164.021342 214.756364 \r\nL 167.095722 173.141053 \r\nL 170.170102 183.54488 \r\nL 173.244482 207.820478 \r\nL 176.318862 197.416651 \r\nL 179.393243 211.288421 \r\nL 182.467623 211.288421 \r\nL 185.542003 187.012823 \r\nL 188.616383 211.288421 \r\nL 191.690763 214.756364 \r\nL 194.765143 214.756364 \r\nL 197.839524 211.288421 \r\nL 200.913904 207.820478 \r\nL 203.988284 214.756364 \r\nL 207.062664 214.756364 \r\nL 210.137044 207.820478 \r\nL 213.211424 214.756364 \r\nL 216.285804 211.288421 \r\nL 219.360185 204.352536 \r\nL 222.434565 200.884593 \r\nL 225.508945 211.288421 \r\nL 228.583325 197.416651 \r\nL 231.657705 204.352536 \r\nL 234.732085 187.012823 \r\nL 237.806466 180.076938 \r\nL 240.880846 148.865455 \r\nL 243.955226 193.948708 \r\nL 247.029606 187.012823 \r\nL 250.103986 169.67311 \r\nL 253.178366 211.288421 \r\nL 256.252747 204.352536 \r\nL 259.327127 207.820478 \r\nL 262.401507 214.756364 \r\nL 265.475887 214.756364 \r\nL 268.550267 214.756364 \r\nL 271.624647 211.288421 \r\nL 274.699028 214.756364 \r\nL 277.773408 169.67311 \r\nL 280.847788 214.756364 \r\nL 283.922168 214.756364 \r\nL 286.996548 204.352536 \r\nL 290.070928 211.288421 \r\nL 293.145309 197.416651 \r\nL 296.219689 211.288421 \r\nL 299.294069 214.756364 \r\nL 302.368449 207.820478 \r\nL 305.442829 214.756364 \r\nL 308.517209 141.929569 \r\nL 311.59159 211.288421 \r\nL 314.66597 193.948708 \r\nL 317.74035 180.076938 \r\nL 320.81473 214.756364 \r\nL 323.88911 214.756364 \r\nL 326.96349 173.141053 \r\nL 330.037871 187.012823 \r\nL 333.112251 214.756364 \r\nL 336.186631 193.948708 \r\nL 339.261011 211.288421 \r\nL 342.335391 211.288421 \r\nL 345.409771 200.884593 \r\nL 348.484152 169.67311 \r\nL 351.558532 204.352536 \r\nL 354.632912 180.076938 \r\n\" style=\"fill:none;stroke:#4c72b0;stroke-linecap:round;stroke-width:1.5;\"/>\r\n   </g>\r\n   <g id=\"line2d_13\">\r\n    <path clip-path=\"url(#pe261b53b6c)\" d=\"M 50.269276 211.288421 \r\nL 53.343656 207.820478 \r\nL 56.418036 207.820478 \r\nL 59.492416 213.022392 \r\nL 62.566796 200.884593 \r\nL 65.641176 211.288421 \r\nL 68.715557 207.820478 \r\nL 71.789937 213.022392 \r\nL 74.864317 211.288421 \r\nL 77.938697 207.820478 \r\nL 81.013077 207.820478 \r\nL 84.087457 200.884593 \r\nL 87.161838 211.288421 \r\nL 90.236218 207.820478 \r\nL 93.310598 207.820478 \r\nL 96.384978 200.884593 \r\nL 99.459358 200.884593 \r\nL 102.533738 211.288421 \r\nL 105.608119 187.012823 \r\nL 108.682499 211.288421 \r\nL 111.756879 200.884593 \r\nL 114.831259 207.820478 \r\nL 117.905639 207.820478 \r\nL 120.980019 211.288421 \r\nL 124.0544 211.288421 \r\nL 127.12878 207.820478 \r\nL 130.20316 207.820478 \r\nL 133.27754 211.288421 \r\nL 136.35192 211.288421 \r\nL 139.4263 211.288421 \r\nL 142.500681 213.022392 \r\nL 145.575061 207.820478 \r\nL 148.649441 213.022392 \r\nL 151.723821 200.884593 \r\nL 154.798201 207.820478 \r\nL 157.872581 211.288421 \r\nL 160.946962 211.288421 \r\nL 164.021342 213.022392 \r\nL 167.095722 207.820478 \r\nL 170.170102 207.820478 \r\nL 173.244482 211.288421 \r\nL 176.318862 207.820478 \r\nL 179.393243 211.288421 \r\nL 182.467623 211.288421 \r\nL 185.542003 207.820478 \r\nL 188.616383 211.288421 \r\nL 191.690763 213.022392 \r\nL 194.765143 213.022392 \r\nL 197.839524 211.288421 \r\nL 200.913904 211.288421 \r\nL 203.988284 211.288421 \r\nL 207.062664 213.022392 \r\nL 210.137044 211.288421 \r\nL 213.211424 213.022392 \r\nL 216.285804 211.288421 \r\nL 219.360185 211.288421 \r\nL 222.434565 211.288421 \r\nL 225.508945 211.288421 \r\nL 228.583325 207.820478 \r\nL 231.657705 211.288421 \r\nL 234.732085 207.820478 \r\nL 237.806466 207.820478 \r\nL 240.880846 207.820478 \r\nL 243.955226 207.820478 \r\nL 247.029606 207.820478 \r\nL 250.103986 207.820478 \r\nL 253.178366 211.288421 \r\nL 256.252747 211.288421 \r\nL 259.327127 211.288421 \r\nL 262.401507 213.022392 \r\nL 265.475887 213.022392 \r\nL 268.550267 213.022392 \r\nL 271.624647 211.288421 \r\nL 274.699028 211.288421 \r\nL 277.773408 207.820478 \r\nL 280.847788 211.288421 \r\nL 283.922168 213.022392 \r\nL 286.996548 211.288421 \r\nL 290.070928 211.288421 \r\nL 293.145309 207.820478 \r\nL 296.219689 211.288421 \r\nL 299.294069 211.288421 \r\nL 302.368449 211.288421 \r\nL 305.442829 211.288421 \r\nL 308.517209 200.884593 \r\nL 311.59159 211.288421 \r\nL 314.66597 207.820478 \r\nL 317.74035 207.820478 \r\nL 320.81473 213.022392 \r\nL 323.88911 213.022392 \r\nL 326.96349 207.820478 \r\nL 330.037871 207.820478 \r\nL 333.112251 211.288421 \r\nL 336.186631 207.820478 \r\nL 339.261011 211.288421 \r\nL 342.335391 211.288421 \r\nL 345.409771 207.820478 \r\nL 348.484152 207.820478 \r\nL 351.558532 211.288421 \r\nL 354.632912 207.820478 \r\n\" style=\"fill:none;stroke:#dd8452;stroke-linecap:round;stroke-width:1.5;\"/>\r\n   </g>\r\n   <g id=\"patch_3\">\r\n    <path d=\"M 35.051094 224.64 \r\nL 35.051094 7.2 \r\n\" style=\"fill:none;stroke:#ffffff;stroke-linecap:square;stroke-linejoin:miter;stroke-width:1.25;\"/>\r\n   </g>\r\n   <g id=\"patch_4\">\r\n    <path d=\"M 369.851094 224.64 \r\nL 369.851094 7.2 \r\n\" style=\"fill:none;stroke:#ffffff;stroke-linecap:square;stroke-linejoin:miter;stroke-width:1.25;\"/>\r\n   </g>\r\n   <g id=\"patch_5\">\r\n    <path d=\"M 35.051094 224.64 \r\nL 369.851094 224.64 \r\n\" style=\"fill:none;stroke:#ffffff;stroke-linecap:square;stroke-linejoin:miter;stroke-width:1.25;\"/>\r\n   </g>\r\n   <g id=\"patch_6\">\r\n    <path d=\"M 35.051094 7.2 \r\nL 369.851094 7.2 \r\n\" style=\"fill:none;stroke:#ffffff;stroke-linecap:square;stroke-linejoin:miter;stroke-width:1.25;\"/>\r\n   </g>\r\n  </g>\r\n </g>\r\n <defs>\r\n  <clipPath id=\"pe261b53b6c\">\r\n   <rect height=\"217.44\" width=\"334.8\" x=\"35.051094\" y=\"7.2\"/>\r\n  </clipPath>\r\n </defs>\r\n</svg>\r\n",
      "image/png": "[encoded data removed]"
     },
     "metadata": {}
    }
   ],
   "source": [
    "plt.plot(trials, scores)\n",
    "plt.plot(trials, highest_tiles)"
   ]
  },
  {
   "cell_type": "code",
   "execution_count": null,
   "metadata": {},
   "outputs": [],
   "source": []
  }
 ]
}